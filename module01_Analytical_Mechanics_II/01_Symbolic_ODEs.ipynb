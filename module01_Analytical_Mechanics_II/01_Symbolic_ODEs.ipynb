{
 "metadata": {
  "name": "",
  "signature": "sha256:66a9d0fa6abcf5beaf13ba76297f179331e42851ba188ac477f76c14229ad0e0"
 },
 "nbformat": 3,
 "nbformat_minor": 0,
 "worksheets": [
  {
   "cells": [
    {
     "cell_type": "code",
     "collapsed": false,
     "input": [
      "from IPython.core.display import HTML\n",
      "def css_styling():\n",
      "    styles = open(\"../styles/custom.css\", \"r\").read()\n",
      "    return HTML(styles)\n",
      "css_styling()"
     ],
     "language": "python",
     "metadata": {},
     "outputs": [
      {
       "html": [
        "<link href='http://fonts.googleapis.com/css?family=Fenix' rel='stylesheet' type='text/css'>\n",
        "<link href='http://fonts.googleapis.com/css?family=Alegreya+Sans:100,300,400,500,700,800,900,100italic,300italic,400italic,500italic,700italic,800italic,900italic' rel='stylesheet' type='text/css'>\n",
        "<link href='http://fonts.googleapis.com/css?family=Source+Code+Pro:300,400' rel='stylesheet' type='text/css'>\n",
        "<style>\n",
        "    @font-face {\n",
        "        font-family: \"Computer Modern\";\n",
        "        src: url('http://mirrors.ctan.org/fonts/cm-unicode/fonts/otf/cmunss.otf');\n",
        "    }\n",
        "    div.cell{\n",
        "        width:800px;\n",
        "        margin-left:16% !important;\n",
        "        margin-right:auto;\n",
        "    }\n",
        "    h1 {\n",
        "        font-family: 'Alegreya Sans', sans-serif;\n",
        "    }\n",
        "    h2 {\n",
        "        font-family: 'Fenix', serif;\n",
        "    }\n",
        "    h3{\n",
        "\t\tfont-family: 'Fenix', serif;\n",
        "        margin-top:12px;\n",
        "        margin-bottom: 3px;\n",
        "       }\n",
        "\th4{\n",
        "\t\tfont-family: 'Fenix', serif;\n",
        "       }\n",
        "    h5 {\n",
        "        font-family: 'Alegreya Sans', sans-serif;\n",
        "    }\t   \n",
        "    div.text_cell_render{\n",
        "        font-family: 'Alegreya Sans',Computer Modern, \"Helvetica Neue\", Arial, Helvetica, Geneva, sans-serif;\n",
        "        line-height: 135%;\n",
        "        font-size: 120%;\n",
        "        width:600px;\n",
        "        margin-left:auto;\n",
        "        margin-right:auto;\n",
        "    }\n",
        "    .CodeMirror{\n",
        "            font-family: \"Source Code Pro\";\n",
        "\t\t\tfont-size: 90%;\n",
        "    }\n",
        "/*    .prompt{\n",
        "        display: None;\n",
        "    }*/\n",
        "    .text_cell_render h1 {\n",
        "        font-weight: 200;\n",
        "        font-size: 50pt;\n",
        "\t\tline-height: 100%;\n",
        "        color:#CD2305;\n",
        "        margin-bottom: 0.5em;\n",
        "        margin-top: 0.5em;\n",
        "        display: block;\n",
        "    }\t\n",
        "    .text_cell_render h5 {\n",
        "        font-weight: 300;\n",
        "        font-size: 16pt;\n",
        "        color: #CD2305;\n",
        "        font-style: italic;\n",
        "        margin-bottom: .5em;\n",
        "        margin-top: 0.5em;\n",
        "        display: block;\n",
        "    }\n",
        "    \n",
        "    .warning{\n",
        "        color: rgb( 240, 20, 20 )\n",
        "    }  \n",
        "</style>\n",
        "<script>\n",
        "    MathJax.Hub.Config({\n",
        "                        TeX: {\n",
        "                           extensions: [\"AMSmath.js\"]\n",
        "                           },\n",
        "                tex2jax: {\n",
        "                    inlineMath: [ ['$','$'], [\"\\\\(\",\"\\\\)\"] ],\n",
        "                    displayMath: [ ['$$','$$'], [\"\\\\[\",\"\\\\]\"] ]\n",
        "                },\n",
        "                displayAlign: 'center', // Change this to 'center' to center equations.\n",
        "                \"HTML-CSS\": {\n",
        "                    styles: {'.MathJax_Display': {\"margin\": 4}}\n",
        "                }\n",
        "        });\n",
        "</script>\n"
       ],
       "metadata": {},
       "output_type": "pyout",
       "prompt_number": 18,
       "text": [
        "<IPython.core.display.HTML at 0x7f6b21cb1310>"
       ]
      }
     ],
     "prompt_number": 18
    },
    {
     "cell_type": "markdown",
     "metadata": {},
     "source": [
      "#JITcode2, Lesson 1"
     ]
    },
    {
     "cell_type": "markdown",
     "metadata": {},
     "source": [
      "This is lesson 1 of the second Just-in-Time (JIT) module for teaching computing to engineers, in context. This second module is aimed at supporting the coursework in Analytical Mechanics II (ApSc 2113).  \n",
      "\n",
      "Lesson 1 builds competency on the following skills:\n",
      "*  entering symbolic equations in Python using SymPy\n",
      "*  solving ordinary differential equations (ODEs) using SymPy\n",
      "*  solving for integration constants using initial conditions\n",
      "*  visualizing the results plotting tools"
     ]
    },
    {
     "cell_type": "markdown",
     "metadata": {},
     "source": [
      "##Context -- calculating projectile motion\n",
      "\n",
      "From calculating the path of artillery shells to showing how much easier it is to hit a home run in Denver, figuring out the path of an object when you shoot/throw/hit it is a fundamental problem in dynamics.  \n",
      "\n",
      "In this first lesson, we're going to use Newton's laws to calculate the trajectory of a projectile.  While we familiarize ourselves with some of the symbolic algebra functionality in Python, we'll go ahead and neglect drag to simplify things, but drag will make an appearance in the next lessons!\n",
      "\n",
      "###SymPy\n",
      "\n",
      "If you've worked with Python before for scientific computation (or if you've completed [Module 1](dummy)), then you'll be very familiar with the **NumPy** library for array operations.  NumPy will be making an encore appearance in these lessons, too, but the star of the show is going to be the **SymPy** library for symbolic mathematics.  \n",
      "\n",
      "SymPy aims to add high level [CAS (Computer Algebra System)](http://en.wikipedia.org/wiki/Computer_algebra_system) functionality to Python, which allows us to manipulate and evaluate mathematical expressions in much the same way we would on paper.  \n",
      "\n",
      "###Is this useful?\n",
      "\n",
      "SymPy isn't going to teach you how to do algebra, but it will save a lot of heavy lifting that might otherwise be pretty tedious.  (Who wants to expand $(x+y)^7$ by hand?).  Let's get started.  \n",
      "\n",
      "###The problem\n",
      "\n",
      "We're going to use SymPy to analytically solve the equations of motion of a small projectile neglecting drag; something like a baseball.\n",
      "\n",
      "Consider the free body diagram of a projectile in flight:\n",
      "\n",
      "![image](./resources/ball_fbd.png)"
     ]
    },
    {
     "cell_type": "markdown",
     "metadata": {},
     "source": [
      "That's all there is.  Without drag, the only force acting on our projectile is the force of gravity $F_g$.  Newton's second law states that\n",
      "\n",
      "$$\\textbf{F} = m\\textbf{a}$$\n",
      "\n",
      "and we can break it up into $x$ and $y$ components, giving us\n",
      "\n",
      "$$\\sum F_x = ma_x$$\n",
      "\n",
      "$$\\sum F_y = ma_y$$\n",
      "\n",
      "The sum of all forces in the $x$ direction is equal to the mass of the object times its acceleration in the $x$ direction.  *Mutatis mutandis*, the same applies for our $y$ equation.\n",
      "\n",
      "Examining the free body diagram above, we can see that the sum of the forces in the $x$ direction is zero, while the one force in the $y$ direction is $F_g$.  So let's rewrite our two equations in those terms.\n",
      "\n",
      "$$0 = ma_x$$\n",
      "$$F_g = ma_y$$\n",
      "\n",
      "Now, we know that $F_g = -mg$$ and also that acceleration is the second derivative of position with respect to time.  Incorporating those two facts, we can write out our differential equation of projectile motion without drag.\n",
      "\n",
      "$$m\\frac{d^2 x}{dt^2} = 0$$\n",
      "\n",
      "$$m\\frac{d^2y}{dt^2} = -mg$$\n",
      "\n",
      "We can also divide through by $m$ to simplify things further\n",
      "\n",
      "$$\\frac{d^2 x}{dt^2} = 0$$\n",
      "\n",
      "$$\\frac{d^2y}{dt^2} = -g$$"
     ]
    },
    {
     "cell_type": "markdown",
     "metadata": {},
     "source": [
      "##Representing equations in SymPy\n",
      "\n",
      "We need to enter our differential equation into SymPy so that we can begin to solve it.  First, let's import the SymPy library.  We're also going to run one quick command `sympy.init_printing()` which will render all of our SymPy output in LaTeX, which is our friend."
     ]
    },
    {
     "cell_type": "code",
     "collapsed": false,
     "input": [
      "import sympy\n",
      "sympy.init_printing()"
     ],
     "language": "python",
     "metadata": {},
     "outputs": [],
     "prompt_number": 3
    },
    {
     "cell_type": "markdown",
     "metadata": {},
     "source": [
      "Now we need to create a few `symbols`.  Defining a variable as a symbol allows us to use it in an equation without specifying its value.  If we just write **x** in Python, it doesn't know that that's our symbol $x$."
     ]
    },
    {
     "cell_type": "code",
     "collapsed": false,
     "input": [
      "x"
     ],
     "language": "python",
     "metadata": {},
     "outputs": [
      {
       "ename": "NameError",
       "evalue": "name 'x' is not defined",
       "output_type": "pyerr",
       "traceback": [
        "\u001b[1;31m---------------------------------------------------------------------------\u001b[0m\n\u001b[1;31mNameError\u001b[0m                                 Traceback (most recent call last)",
        "\u001b[1;32m<ipython-input-2-401b30e3b8b5>\u001b[0m in \u001b[0;36m<module>\u001b[1;34m()\u001b[0m\n\u001b[1;32m----> 1\u001b[1;33m \u001b[0mx\u001b[0m\u001b[1;33m\u001b[0m\u001b[0m\n\u001b[0m",
        "\u001b[1;31mNameError\u001b[0m: name 'x' is not defined"
       ]
      }
     ],
     "prompt_number": 2
    },
    {
     "cell_type": "markdown",
     "metadata": {},
     "source": [
      "So we need to specify that $x$ is a symbol, as follows:"
     ]
    },
    {
     "cell_type": "code",
     "collapsed": false,
     "input": [
      "x = sympy.Symbol('x')"
     ],
     "language": "python",
     "metadata": {},
     "outputs": [],
     "prompt_number": 5
    },
    {
     "cell_type": "markdown",
     "metadata": {},
     "source": [
      "Now if we type **x**, we should just get $x$ in return."
     ]
    },
    {
     "cell_type": "code",
     "collapsed": false,
     "input": [
      "x"
     ],
     "language": "python",
     "metadata": {},
     "outputs": [
      {
       "latex": [
        "$$x$$"
       ],
       "metadata": {},
       "output_type": "pyout",
       "png": "[encoded data removed]",
       "prompt_number": 6,
       "text": [
        "x"
       ]
      }
     ],
     "prompt_number": 6
    },
    {
     "cell_type": "markdown",
     "metadata": {},
     "source": [
      "Great!  But it can be a bit tedious to do that for every symbol we need, one line at a time, so let's go ahead and do a bunch at one time, using the very similar command `symbols`."
     ]
    },
    {
     "cell_type": "code",
     "collapsed": false,
     "input": [
      "y, g, t = sympy.symbols(['y','g','t'])"
     ],
     "language": "python",
     "metadata": {},
     "outputs": [],
     "prompt_number": 8
    },
    {
     "cell_type": "markdown",
     "metadata": {},
     "source": [
      "`Symbol` and `symbols` do exactly the same thing, but `symbols` can take more than one input, so it's the option we use most.  \n",
      "\n",
      "Now we need to use our symbols to create an equation for SymPy to solve.  So let's ask what is maybe a simple question:  \n",
      "\n",
      "What is $\\frac{d^2x}{dt^2}$?\n",
      "\n",
      "Formally, it's the 2nd derivative, with respect to time, of a function $x(t)$.  Let's try that in SymPy."
     ]
    },
    {
     "cell_type": "code",
     "collapsed": false,
     "input": [
      "sympy.Derivative(x(t),t,2)"
     ],
     "language": "python",
     "metadata": {},
     "outputs": [
      {
       "latex": [
        "$$\\frac{d^{2}}{d t^{2}}  x{\\left (t \\right )}$$"
       ],
       "metadata": {},
       "output_type": "pyout",
       "png": "[encoded data removed]",
       "prompt_number": 13,
       "text": [
        "  2      \n",
        " d       \n",
        "\u2500\u2500\u2500(x(t))\n",
        "  2      \n",
        "dt       "
       ]
      }
     ],
     "prompt_number": 13
    },
    {
     "cell_type": "markdown",
     "metadata": {},
     "source": [
      "Pretty neat, huh?  We used `sympy.Derivative` to take a derivative of $x(t)$, with respect to $t$, and we asked for the 2nd derivative.  There's also a handy shortcut for typing that out faster, called `diff`.  "
     ]
    },
    {
     "cell_type": "code",
     "collapsed": false,
     "input": [
      "x(t).diff(t,2)"
     ],
     "language": "python",
     "metadata": {},
     "outputs": [
      {
       "latex": [
        "$$\\frac{d^{2}}{d t^{2}}  x{\\left (t \\right )}$$"
       ],
       "metadata": {},
       "output_type": "pyout",
       "png": "[encoded data removed]",
       "prompt_number": 14,
       "text": [
        "  2      \n",
        " d       \n",
        "\u2500\u2500\u2500(x(t))\n",
        "  2      \n",
        "dt       "
       ]
      }
     ],
     "prompt_number": 14
    },
    {
     "cell_type": "markdown",
     "metadata": {},
     "source": [
      "Again, there's no difference between these two methods except convenience.  Use whichever you feel more comfortable with.  \n",
      "\n",
      "Now, we have the left hand side of our $x$ equation, but how do we create the full equation?  We can't just type \n",
      "```Python\n",
      "x(t).diff(t,2) = 0\n",
      "```\n",
      "You can try it, but Python will give you an error message.  Because it interprets that statement as creating a kind of weird looking variable that is equal to zero, instead of viewing it as an equation.  \n",
      "\n",
      "To create an equation, we need to use the `sympy.Eq` command.  If we want an equation that says $x=y$, then we can type"
     ]
    },
    {
     "cell_type": "code",
     "collapsed": false,
     "input": [
      "sympy.Eq(x,y)"
     ],
     "language": "python",
     "metadata": {},
     "outputs": [
      {
       "latex": [
        "$$x = y$$"
       ],
       "metadata": {},
       "output_type": "pyout",
       "png": "[encoded data removed]",
       "prompt_number": 15,
       "text": [
        "x = y"
       ]
      }
     ],
     "prompt_number": 15
    },
    {
     "cell_type": "markdown",
     "metadata": {},
     "source": [
      "So the left-hand and right-hand of the equation just get separated by a comma.  Now let's try putting together our full $x$ equation:"
     ]
    },
    {
     "cell_type": "code",
     "collapsed": false,
     "input": [
      "sympy.Eq(x(t).diff(t,2),0)"
     ],
     "language": "python",
     "metadata": {},
     "outputs": [
      {
       "latex": [
        "$$\\frac{d^{2}}{d t^{2}}  x{\\left (t \\right )} = 0$$"
       ],
       "metadata": {},
       "output_type": "pyout",
       "png": "[encoded data removed]",
       "prompt_number": 16,
       "text": [
        "  2          \n",
        " d           \n",
        "\u2500\u2500\u2500(x(t)) = 0\n",
        "  2          \n",
        "dt           "
       ]
      }
     ],
     "prompt_number": 16
    },
    {
     "cell_type": "markdown",
     "metadata": {},
     "source": [
      "That might look a little confusing, but it's just a combination of the componenets we've looked at so far.  We have an equation, where the left-hand side is the 2nd derivative of $x$ w.r.t. $t$ and the right-hand side is zero.  \n",
      "\n",
      "Even so, if it's a bit hard to parse visually, we can break it up into simpler pieces by first assigning our LHS to a variable called `left`.  (Or whatever you like)"
     ]
    },
    {
     "cell_type": "code",
     "collapsed": false,
     "input": [
      "left = x(t).diff(t,2)\n",
      "sympy.Eq(left,0)"
     ],
     "language": "python",
     "metadata": {},
     "outputs": [
      {
       "latex": [
        "$$\\frac{d^{2}}{d t^{2}}  x{\\left (t \\right )} = 0$$"
       ],
       "metadata": {},
       "output_type": "pyout",
       "png": "[encoded data removed]",
       "prompt_number": 42,
       "text": [
        "  2          \n",
        " d           \n",
        "\u2500\u2500\u2500(x(t)) = 0\n",
        "  2          \n",
        "dt           "
       ]
      }
     ],
     "prompt_number": 42
    },
    {
     "cell_type": "markdown",
     "metadata": {},
     "source": [
      "That seems easier to read.  One last thing we have to do is to give our SymPy equation a name, so we can easily send it to a solver.  Let's just try something short and sweet."
     ]
    },
    {
     "cell_type": "code",
     "collapsed": false,
     "input": [
      "xeq = sympy.Eq(left,0)"
     ],
     "language": "python",
     "metadata": {},
     "outputs": [],
     "prompt_number": 43
    },
    {
     "cell_type": "markdown",
     "metadata": {},
     "source": [
      "One short note on display options: the `init_printing()` command we ran above only works if we *don't* use the print command.  So if we type:"
     ]
    },
    {
     "cell_type": "code",
     "collapsed": false,
     "input": [
      "print xeq"
     ],
     "language": "python",
     "metadata": {},
     "outputs": [
      {
       "output_type": "stream",
       "stream": "stdout",
       "text": [
        "Derivative(x(t), t, t) == 0\n"
       ]
      }
     ],
     "prompt_number": 20
    },
    {
     "cell_type": "markdown",
     "metadata": {},
     "source": [
      "We get a correct answer, but that's not the way we usually think about equations.  We can get our nicely rendered version just by writing out the name we assigned to our equation."
     ]
    },
    {
     "cell_type": "code",
     "collapsed": false,
     "input": [
      "xeq"
     ],
     "language": "python",
     "metadata": {},
     "outputs": [
      {
       "latex": [
        "$$\\frac{d^{2}}{d t^{2}}  x{\\left (t \\right )} = 0$$"
       ],
       "metadata": {},
       "output_type": "pyout",
       "png": "[encoded data removed]",
       "prompt_number": 21,
       "text": [
        "  2          \n",
        " d           \n",
        "\u2500\u2500\u2500(x(t)) = 0\n",
        "  2          \n",
        "dt           "
       ]
      }
     ],
     "prompt_number": 21
    },
    {
     "cell_type": "markdown",
     "metadata": {},
     "source": [
      "Ok, now let's also set up our $y$ equation in Sympy.  "
     ]
    },
    {
     "cell_type": "code",
     "collapsed": false,
     "input": [
      "left = y(t).diff(t,2)\n",
      "right = -g\n",
      "yeq = sympy.Eq(left,right)\n",
      "yeq"
     ],
     "language": "python",
     "metadata": {},
     "outputs": [
      {
       "latex": [
        "$$\\frac{d^{2}}{d t^{2}}  y{\\left (t \\right )} = - g$$"
       ],
       "metadata": {},
       "output_type": "pyout",
       "png": "[encoded data removed]",
       "prompt_number": 44,
       "text": [
        "  2           \n",
        " d            \n",
        "\u2500\u2500\u2500(y(t)) = -g\n",
        "  2           \n",
        "dt            "
       ]
      }
     ],
     "prompt_number": 44
    },
    {
     "cell_type": "markdown",
     "metadata": {},
     "source": [
      "Now that we have our equations set up, it's time to solve them.  Do you remember how to solve an ODE in this form?  If not, then you should review because you can't use SymPy on your exams.  But right now, we can use SymPy.  So we'll pass our equations to the function `sympy.dsolve`"
     ]
    },
    {
     "cell_type": "code",
     "collapsed": false,
     "input": [
      "xsol = sympy.dsolve(xeq)\n",
      "xsol"
     ],
     "language": "python",
     "metadata": {},
     "outputs": [
      {
       "latex": [
        "$$x{\\left (t \\right )} = C_{1} + C_{2} t$$"
       ],
       "metadata": {},
       "output_type": "pyout",
       "png": "[encoded data removed]",
       "prompt_number": 47,
       "text": [
        "x(t) = C\u2081 + C\u2082\u22c5t"
       ]
      }
     ],
     "prompt_number": 47
    },
    {
     "cell_type": "code",
     "collapsed": false,
     "input": [
      "ysol = sympy.dsolve(yeq)\n",
      "ysol"
     ],
     "language": "python",
     "metadata": {},
     "outputs": [
      {
       "latex": [
        "$$y{\\left (t \\right )} = C_{1} + C_{2} t - \\frac{g t^{2}}{2}$$"
       ],
       "metadata": {},
       "output_type": "pyout",
       "png": "[encoded data removed]",
       "prompt_number": 39,
       "text": [
        "                      2\n",
        "                   g\u22c5t \n",
        "y(t) = C\u2081 + C\u2082\u22c5t - \u2500\u2500\u2500\u2500\n",
        "                    2  "
       ]
      }
     ],
     "prompt_number": 39
    },
    {
     "cell_type": "markdown",
     "metadata": {},
     "source": [
      "Cool!  We've solved our equations!  Sort of... As you can see, we still have a few constants that we need to solve for.  How?  Initial conditions!  \n",
      "\n",
      "Let's work with the following sets of conditions:\n",
      "*  $x(0) = x_0 = 0$\n",
      "*  $y(0) = y_0 = 0$\n",
      "*  $x'(0) = v_x = |v|cos \\theta$\n",
      "*  $y'(0) = v_y = |v|sin \\theta$\n",
      "\n",
      "So we're launching from point $(0,0)$ with an initial velocity $v$ at a launch angle $\\theta$\n",
      "\n",
      "![ball conditions](./resources/ball_IC.png)"
     ]
    },
    {
     "cell_type": "markdown",
     "metadata": {},
     "source": [
      "##Tiny bit of bookkeeping\n",
      "\n",
      "When we solve for our unknown constants, we want to be able to *substitute* the values we find in to our equations.  In order to do this, SymPy needs to recognize that we want to treat the constants $C_1$ and $C_2$ as *symbols*.  So let's get that done and over with."
     ]
    },
    {
     "cell_type": "code",
     "collapsed": false,
     "input": [
      "C1, C2 = sympy.symbols(['C1','C2'])"
     ],
     "language": "python",
     "metadata": {},
     "outputs": [],
     "prompt_number": 45
    },
    {
     "cell_type": "markdown",
     "metadata": {},
     "source": [
      "##Solving the $x$ equation"
     ]
    },
    {
     "cell_type": "markdown",
     "metadata": {},
     "source": [
      "As we said above, in order to solve for our constants, we need to substitute in the values we have from our initial conditions.  Again, SymPy has us covered.  We can take any SymPy equation and append the command `subs()` using the syntax\n",
      "```\n",
      "xsol.subs(old value,new value)\n",
      "```\n",
      "\n",
      "It's just like doing a Find & Replace in a document.  From our initial conditions, we know that we want to look at time $t = 0$, so let's try making that substitution.  "
     ]
    },
    {
     "cell_type": "code",
     "collapsed": false,
     "input": [
      "xsol.subs(t,0)"
     ],
     "language": "python",
     "metadata": {},
     "outputs": [
      {
       "latex": [
        "$$x{\\left (0 \\right )} = C_{1}$$"
       ],
       "metadata": {},
       "output_type": "pyout",
       "png": "[encoded data removed]",
       "prompt_number": 50,
       "text": [
        "x(0) = C\u2081"
       ]
      }
     ],
     "prompt_number": 50
    },
    {
     "cell_type": "markdown",
     "metadata": {},
     "source": [
      "Now we didn't reassign the name `xsol` to our solution, because we don't want to overwrite that solution.  We could just name it something like `xsol2`, but that usually leads to confusion and mistakes down the line.  I like to call temporary variables `scratch`, since I would usually work them on scratch paper.  You can use anything you like, but stay way from `xsol2` or similar ideas."
     ]
    },
    {
     "cell_type": "code",
     "collapsed": false,
     "input": [
      "scratch = xsol.subs(t,0)\n",
      "scratch"
     ],
     "language": "python",
     "metadata": {},
     "outputs": [
      {
       "latex": [
        "$$x{\\left (0 \\right )} = C_{1}$$"
       ],
       "metadata": {},
       "output_type": "pyout",
       "png": "[encoded data removed]",
       "prompt_number": 51,
       "text": [
        "x(0) = C\u2081"
       ]
      }
     ],
     "prompt_number": 51
    },
    {
     "cell_type": "markdown",
     "metadata": {},
     "source": [
      "Ok, we also know from our initial conditions that $x(0)=0$, so we can make that substitution as well."
     ]
    },
    {
     "cell_type": "code",
     "collapsed": false,
     "input": [
      "scratch = scratch.subs(x(0),0)\n",
      "scratch"
     ],
     "language": "python",
     "metadata": {},
     "outputs": [
      {
       "latex": [
        "$$0 = C_{1}$$"
       ],
       "metadata": {},
       "output_type": "pyout",
       "png": "[encoded data removed]",
       "prompt_number": 53,
       "text": [
        "0 = C\u2081"
       ]
      }
     ],
     "prompt_number": 53
    },
    {
     "cell_type": "markdown",
     "metadata": {},
     "source": [
      "So $C_1 = 0$ in our $x$ equation!  You probably already knew that, but this works just as well when you can't work out the answer in your head.  \n",
      "\n",
      "Also, we don't have to type out the various substitutions on separate lines.  We can either chain them together, like this:"
     ]
    },
    {
     "cell_type": "code",
     "collapsed": false,
     "input": [
      "xsol.subs(t,0).subs(x(0),0)"
     ],
     "language": "python",
     "metadata": {},
     "outputs": [
      {
       "latex": [
        "$$0 = C_{1}$$"
       ],
       "metadata": {},
       "output_type": "pyout",
       "png": "[encoded data removed]",
       "prompt_number": 54,
       "text": [
        "0 = C\u2081"
       ]
      }
     ],
     "prompt_number": 54
    },
    {
     "cell_type": "markdown",
     "metadata": {},
     "source": [
      "Or we can pass a *list* of our substitutions to the `subs` function, which will execute the substitutions in the order that they appear."
     ]
    },
    {
     "cell_type": "code",
     "collapsed": false,
     "input": [
      "xsol.subs([(t,0),(x(0),0)])"
     ],
     "language": "python",
     "metadata": {},
     "outputs": [
      {
       "latex": [
        "$$0 = C_{1}$$"
       ],
       "metadata": {},
       "output_type": "pyout",
       "png": "[encoded data removed]",
       "prompt_number": 58,
       "text": [
        "0 = C\u2081"
       ]
      }
     ],
     "prompt_number": 58
    },
    {
     "cell_type": "markdown",
     "metadata": {},
     "source": [
      "Let's substitute $0$ for $C_1$ in `xsol` and see where we stand."
     ]
    },
    {
     "cell_type": "code",
     "collapsed": false,
     "input": [
      "xsol = xsol.subs(C1,0)\n",
      "xsol"
     ],
     "language": "python",
     "metadata": {},
     "outputs": [
      {
       "latex": [
        "$$x{\\left (t \\right )} = C_{2} t$$"
       ],
       "metadata": {},
       "output_type": "pyout",
       "png": "[encoded data removed]",
       "prompt_number": 60,
       "text": [
        "x(t) = C\u2082\u22c5t"
       ]
      }
     ],
     "prompt_number": 60
    },
    {
     "cell_type": "code",
     "collapsed": false,
     "input": [
      "dx = xsol.rhs.diff(t)"
     ],
     "language": "python",
     "metadata": {},
     "outputs": [],
     "prompt_number": 73
    },
    {
     "cell_type": "code",
     "collapsed": false,
     "input": [],
     "language": "python",
     "metadata": {},
     "outputs": []
    },
    {
     "cell_type": "code",
     "collapsed": false,
     "input": [],
     "language": "python",
     "metadata": {},
     "outputs": []
    },
    {
     "cell_type": "code",
     "collapsed": false,
     "input": [
      "from sympy import Function, solve, dsolve, Eq, Derivative, sin, cos\n",
      "from sympy import Symbol\n",
      "from sympy import classify_ode, symbols, lambdify\n",
      "from sympy import init_printing\n",
      "init_printing()"
     ],
     "language": "python",
     "metadata": {},
     "outputs": [],
     "prompt_number": 1
    },
    {
     "cell_type": "markdown",
     "metadata": {},
     "source": [
      "*  Function (like Symbol)\n",
      "*  dsolve solves ode\n",
      "*  Eq(x,y) returns x = y equation (that can be passed to dsolve)\n",
      "*  Derivative (use .diff(x,2))  (w.r.t. which variable and which order diff?)"
     ]
    },
    {
     "cell_type": "markdown",
     "metadata": {},
     "source": [
      "$$\\frac{d^2 x}{dt^2} = 0$$\n",
      "\n",
      "$$\\frac{d^2y}{dt^2} = -g$$"
     ]
    },
    {
     "cell_type": "markdown",
     "metadata": {},
     "source": [
      "Define symbols for g and t (all variables except functions)"
     ]
    },
    {
     "cell_type": "code",
     "collapsed": false,
     "input": [
      "g, t, C1, C2 = symbols('g,t,C1,C2')"
     ],
     "language": "python",
     "metadata": {},
     "outputs": [],
     "prompt_number": 2
    },
    {
     "cell_type": "markdown",
     "metadata": {},
     "source": [
      "Define functions for however many equations"
     ]
    },
    {
     "cell_type": "code",
     "collapsed": false,
     "input": [
      "#x = Function('x')\n",
      "#y = Function('y')\n",
      "x, y = symbols('x,y')"
     ],
     "language": "python",
     "metadata": {},
     "outputs": [],
     "prompt_number": 3
    },
    {
     "cell_type": "markdown",
     "metadata": {},
     "source": [
      "Set up equations as sympy objects\n",
      "\n",
      "Syntax is `Eq(x**2,3)` yields $x^2=3$"
     ]
    },
    {
     "cell_type": "code",
     "collapsed": false,
     "input": [
      "xeq = Eq(x(t).diff(t,2),0)\n",
      "xeq"
     ],
     "language": "python",
     "metadata": {},
     "outputs": [
      {
       "latex": [
        "$$\\frac{d^{2}}{d t^{2}}  x{\\left (t \\right )} = 0$$"
       ],
       "metadata": {},
       "output_type": "pyout",
       "png": "[encoded data removed]",
       "prompt_number": 11,
       "text": [
        "  2          \n",
        " d           \n",
        "\u2500\u2500\u2500(x(t)) = 0\n",
        "  2          \n",
        "dt           "
       ]
      }
     ],
     "prompt_number": 11
    },
    {
     "cell_type": "code",
     "collapsed": false,
     "input": [
      "yeq = Eq(y(t).diff(t,2),-g)\n",
      "yeq"
     ],
     "language": "python",
     "metadata": {},
     "outputs": [
      {
       "latex": [
        "$$\\frac{d^{2}}{d t^{2}}  y{\\left (t \\right )} = - g$$"
       ],
       "metadata": {},
       "output_type": "pyout",
       "png": "[encoded data removed]",
       "prompt_number": 12,
       "text": [
        "  2           \n",
        " d            \n",
        "\u2500\u2500\u2500(y(t)) = -g\n",
        "  2           \n",
        "dt            "
       ]
      }
     ],
     "prompt_number": 12
    },
    {
     "cell_type": "markdown",
     "metadata": {},
     "source": [
      "Use dsolve on sympy equation (output shortcut is handy)"
     ]
    },
    {
     "cell_type": "code",
     "collapsed": false,
     "input": [
      "xsol = dsolve(xeq)\n",
      "xsol"
     ],
     "language": "python",
     "metadata": {},
     "outputs": [
      {
       "latex": [
        "$$x{\\left (t \\right )} = C_{1} + C_{2} t$$"
       ],
       "metadata": {},
       "output_type": "pyout",
       "png": "[encoded data removed]",
       "prompt_number": 15,
       "text": [
        "x(t) = C\u2081 + C\u2082\u22c5t"
       ]
      }
     ],
     "prompt_number": 15
    },
    {
     "cell_type": "code",
     "collapsed": false,
     "input": [
      "ysol = dsolve(yeq)\n",
      "ysol"
     ],
     "language": "python",
     "metadata": {},
     "outputs": [
      {
       "latex": [
        "$$y{\\left (t \\right )} = C_{1} + C_{2} t - \\frac{g t^{2}}{2}$$"
       ],
       "metadata": {},
       "output_type": "pyout",
       "png": "[encoded data removed]",
       "prompt_number": 17,
       "text": [
        "                      2\n",
        "                   g\u22c5t \n",
        "y(t) = C\u2081 + C\u2082\u22c5t - \u2500\u2500\u2500\u2500\n",
        "                    2  "
       ]
      }
     ],
     "prompt_number": 17
    },
    {
     "cell_type": "markdown",
     "metadata": {},
     "source": [
      "Ungainly, but works:\n",
      "\n",
      "*  use .subs to sub in t = 0, which will yield $x(0)$ as a remaining value, so also sub x(0) for $x_0$ IC\n",
      "*  solve resulting substitution for C1"
     ]
    },
    {
     "cell_type": "code",
     "collapsed": false,
     "input": [
      "ans = solve(xsol.subs([(t,0),(x(0),0)]),C1)\n",
      "print ans"
     ],
     "language": "python",
     "metadata": {},
     "outputs": [
      {
       "output_type": "stream",
       "stream": "stdout",
       "text": [
        "[0]\n"
       ]
      }
     ],
     "prompt_number": 16
    },
    {
     "cell_type": "markdown",
     "metadata": {},
     "source": [
      "replace $C_1$ with value from `solve`"
     ]
    },
    {
     "cell_type": "code",
     "collapsed": false,
     "input": [
      "xsol2 = xsol.subs(C1,ans[0])"
     ],
     "language": "python",
     "metadata": {},
     "outputs": [],
     "prompt_number": 17
    },
    {
     "cell_type": "markdown",
     "metadata": {},
     "source": [
      "Repeat for $C_2$  below subs\n",
      "*  $t = 10$\n",
      "*  $x(10) = 20$"
     ]
    },
    {
     "cell_type": "code",
     "collapsed": false,
     "input": [
      "ans = solve(xsol2.subs([(t,10),(x(10),20)]), C2)\n",
      "print ans"
     ],
     "language": "python",
     "metadata": {},
     "outputs": [
      {
       "output_type": "stream",
       "stream": "stdout",
       "text": [
        "[2]\n"
       ]
      }
     ],
     "prompt_number": 18
    },
    {
     "cell_type": "code",
     "collapsed": false,
     "input": [
      "xsol2 = xsol2.subs(C2,ans[0])"
     ],
     "language": "python",
     "metadata": {},
     "outputs": [],
     "prompt_number": 19
    },
    {
     "cell_type": "code",
     "collapsed": true,
     "input": [
      "xsol2"
     ],
     "language": "python",
     "metadata": {},
     "outputs": [
      {
       "latex": [
        "$$x{\\left (t \\right )} = 2 t$$"
       ],
       "metadata": {},
       "output_type": "pyout",
       "png": "[encoded data removed]",
       "prompt_number": 20,
       "text": [
        "x(t) = 2\u22c5t"
       ]
      }
     ],
     "prompt_number": 20
    },
    {
     "cell_type": "markdown",
     "metadata": {},
     "source": [
      "Repeat same process to solve for y equation ICs"
     ]
    },
    {
     "cell_type": "code",
     "collapsed": false,
     "input": [
      "ans = solve(ysol.subs([(t,0),(y(0),0)]),C1)\n",
      "print ans"
     ],
     "language": "python",
     "metadata": {},
     "outputs": [
      {
       "output_type": "stream",
       "stream": "stdout",
       "text": [
        "[0]\n"
       ]
      }
     ],
     "prompt_number": 21
    },
    {
     "cell_type": "code",
     "collapsed": false,
     "input": [
      "ysol2 = ysol.subs(C1,ans[0])"
     ],
     "language": "python",
     "metadata": {},
     "outputs": [],
     "prompt_number": 22
    },
    {
     "cell_type": "code",
     "collapsed": false,
     "input": [
      "ans = solve(ysol2.subs([(t,10),(y(10),0)]),C2)\n",
      "print ans"
     ],
     "language": "python",
     "metadata": {},
     "outputs": [
      {
       "output_type": "stream",
       "stream": "stdout",
       "text": [
        "[5*g]\n"
       ]
      }
     ],
     "prompt_number": 23
    },
    {
     "cell_type": "code",
     "collapsed": false,
     "input": [
      "ysol2 = ysol2.subs(C2,ans[0])"
     ],
     "language": "python",
     "metadata": {},
     "outputs": [],
     "prompt_number": 24
    },
    {
     "cell_type": "markdown",
     "metadata": {},
     "source": [
      "Also sub in $g=9.81$"
     ]
    },
    {
     "cell_type": "code",
     "collapsed": false,
     "input": [
      "ysol2 = ysol2.subs(g,9.81)"
     ],
     "language": "python",
     "metadata": {},
     "outputs": [],
     "prompt_number": 25
    },
    {
     "cell_type": "code",
     "collapsed": false,
     "input": [
      "ysol2"
     ],
     "language": "python",
     "metadata": {},
     "outputs": [
      {
       "latex": [
        "$$y{\\left (t \\right )} = - 4.905 t^{2} + 49.05 t$$"
       ],
       "metadata": {},
       "output_type": "pyout",
       "png": "[encoded data removed]",
       "prompt_number": 26,
       "text": [
        "                2          \n",
        "y(t) = - 4.905\u22c5t  + 49.05\u22c5t"
       ]
      }
     ],
     "prompt_number": 26
    },
    {
     "cell_type": "markdown",
     "metadata": {},
     "source": [
      "Now use lambdify to create lambda function that will evaluate $y(t)$ and $x(t)$ -- note that we lambdify only the RHS of the equation, assumption is that equation is in form where LHS is just $y(t)$ or equiv"
     ]
    },
    {
     "cell_type": "code",
     "collapsed": false,
     "input": [
      "ynum = lambdify(t,ysol2.rhs)"
     ],
     "language": "python",
     "metadata": {},
     "outputs": [],
     "prompt_number": 29
    },
    {
     "cell_type": "code",
     "collapsed": false,
     "input": [
      "xnum = lambdify(t,xsol2.rhs)"
     ],
     "language": "python",
     "metadata": {},
     "outputs": [],
     "prompt_number": 30
    },
    {
     "cell_type": "code",
     "collapsed": false,
     "input": [
      "import matplotlib.pyplot as plt\n",
      "%matplotlib inline"
     ],
     "language": "python",
     "metadata": {},
     "outputs": [],
     "prompt_number": 31
    },
    {
     "cell_type": "code",
     "collapsed": false,
     "input": [
      "import numpy"
     ],
     "language": "python",
     "metadata": {},
     "outputs": [],
     "prompt_number": 32
    },
    {
     "cell_type": "code",
     "collapsed": false,
     "input": [
      "p = numpy.linspace(0,20,50)"
     ],
     "language": "python",
     "metadata": {},
     "outputs": [],
     "prompt_number": 33
    },
    {
     "cell_type": "code",
     "collapsed": false,
     "input": [
      "plt.plot(xnum(p),ynum(p))\n",
      "plt.xlim(0,20), plt.ylim(0,130);"
     ],
     "language": "python",
     "metadata": {},
     "outputs": [
      {
       "metadata": {},
       "output_type": "display_data",
       "png": "[encoded data removed]",
       "text": [
        "<matplotlib.figure.Figure at 0x7fc3b9c6d590>"
       ]
      }
     ],
     "prompt_number": 34
    }
   ],
   "metadata": {}
  }
 ]
}