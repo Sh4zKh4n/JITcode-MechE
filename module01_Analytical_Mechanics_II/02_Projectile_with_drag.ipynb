{
 "metadata": {
  "name": "",
  "signature": "sha256:36a9d84341a141dca57d100a9660978b3e6a881d8069669d8a9f2ba61e230746"
 },
 "nbformat": 3,
 "nbformat_minor": 0,
 "worksheets": [
  {
   "cells": [
    {
     "cell_type": "markdown",
     "metadata": {},
     "source": [
      "$$F_{drag} = \\frac{1}{2} C_w Av^2\\rho$$\n",
      "\n",
      "$$F_{total} = F_{gravity} + F_{drag}$$\n",
      "\n",
      "$$\\newcommand{\\bv}{\\textbf v}$$\n",
      "$$\\newcommand{\\bg}{\\textbf g}$$\n",
      "\n",
      "$$m\\frac{d\\bv}{dt} = -m \\bg - \\frac{1}{2}C_wA \\bv|\\bv| \\rho$$\n",
      "\n",
      "where\n",
      "\n",
      "$\\bv = (v_x,v_y)$ and $\\bg = (0, g)$"
     ]
    },
    {
     "cell_type": "markdown",
     "metadata": {},
     "source": [
      "$$m \\frac{d^2x}{dt^2} = -b v_x \\sqrt{v_x^2+v_y^2}$$\n",
      "\n",
      "$$m \\frac{d^2y}{dt^2} = -mg - b v_y \\sqrt{v_x^2+v_y^2}$$"
     ]
    },
    {
     "cell_type": "markdown",
     "metadata": {},
     "source": [
      "taking $k = \\frac{b}{m}$ we get\n",
      "\n",
      "$$x'' = -kv_x \\sqrt{v_x^2+v_y^2}$$\n",
      "$$y'' = -g -kv_y \\sqrt{v_x^2+v_y^2}$$"
     ]
    },
    {
     "cell_type": "markdown",
     "metadata": {},
     "source": [
      "$$a_x = -(D/m)vv_x$$\n",
      "$$a_y = -g - (d/m)vv_y$$"
     ]
    },
    {
     "cell_type": "code",
     "collapsed": false,
     "input": [],
     "language": "python",
     "metadata": {},
     "outputs": []
    },
    {
     "cell_type": "code",
     "collapsed": false,
     "input": [],
     "language": "python",
     "metadata": {},
     "outputs": []
    },
    {
     "cell_type": "code",
     "collapsed": false,
     "input": [],
     "language": "python",
     "metadata": {},
     "outputs": []
    },
    {
     "cell_type": "code",
     "collapsed": false,
     "input": [
      "def rk4_pos(vx,dt):\n",
      "    '''returns final position after time dt has passed\n",
      "        1d runge kutta 4\n",
      "        '''\n",
      "    K1 = dt * (vx)\n",
      "    K2 = dt * (vx + K1/2.0)\n",
      "    K3 = dt * (vx + K2/2.0)\n",
      "    K4 = dt * (vx + K3)\n",
      "    xnew = (K1 + 2.0*K2 + 2.0*K3 + K4)/6.0\n",
      "    return xnew"
     ],
     "language": "python",
     "metadata": {},
     "outputs": [],
     "prompt_number": 1
    },
    {
     "cell_type": "code",
     "collapsed": false,
     "input": [
      "def vx_dot(k, vx, vy):\n",
      "    return -k*vx*(vx**2+vy**2)**.5"
     ],
     "language": "python",
     "metadata": {},
     "outputs": [],
     "prompt_number": 7
    },
    {
     "cell_type": "code",
     "collapsed": false,
     "input": [
      "def vy_dot(k, vx, vy):\n",
      "    return -k*vy*(vx**2+vy**2)**.5-9.81"
     ],
     "language": "python",
     "metadata": {},
     "outputs": [],
     "prompt_number": 6
    },
    {
     "cell_type": "code",
     "collapsed": false,
     "input": [
      "def rk4_vel(vx, vy, dt, ax, ay, k):\n",
      "    \n",
      "    K1 = dt * ax(k, vx, vy)\n",
      "    L1 = dt * ay(k, vx, vy)\n",
      "    \n",
      "    K2 = dt * ax(k, vx + K1/2., vy + L1/2.)\n",
      "    L2 = dt * ay(k, vx + K1/2., vy + L1/2.)\n",
      "    \n",
      "    K3 = dt * ax(k, vx + K2/2., vy + L2/2.)\n",
      "    L3 = dt * ay(k, vx + K2/2., vy + L2/2.)\n",
      "    \n",
      "    K4 = dt * ax(k, vx + K3, vy + L3)\n",
      "    L4 = dt * ay(k, vx + K3, vy + L3)\n",
      "    \n",
      "    vx_new = vx + (K1 + 2.*K2 + 2.*K3 + K4)/6.\n",
      "    vy_new = vy + (L1 + 2.*L2 + 2.*L3 + L4)/6.\n",
      "    \n",
      "    return vx_new, vy_new"
     ],
     "language": "python",
     "metadata": {},
     "outputs": [],
     "prompt_number": 59
    },
    {
     "cell_type": "code",
     "collapsed": false,
     "input": [
      "import numpy"
     ],
     "language": "python",
     "metadata": {},
     "outputs": [],
     "prompt_number": 60
    },
    {
     "cell_type": "code",
     "collapsed": false,
     "input": [],
     "language": "python",
     "metadata": {},
     "outputs": [],
     "prompt_number": 61
    },
    {
     "cell_type": "code",
     "collapsed": false,
     "input": [
      "print vx0, vy0"
     ],
     "language": "python",
     "metadata": {},
     "outputs": [
      {
       "output_type": "stream",
       "stream": "stdout",
       "text": [
        "35.3553390593 35.3553390593\n"
       ]
      }
     ],
     "prompt_number": 62
    },
    {
     "cell_type": "code",
     "collapsed": false,
     "input": [
      "v0 = 100\n",
      "theta = numpy.pi/3\n",
      "\n",
      "vx0 = v0*numpy.cos(theta)\n",
      "vy0 = v0*numpy.sin(theta)\n",
      "steps = 100\n",
      "time = 4. #seconds\n",
      "dt = time/steps\n",
      "x = numpy.zeros(steps)\n",
      "y = numpy.zeros(steps)\n",
      "k = .2\n",
      "n = 0\n",
      "\n",
      "while y[n] >= 0:\n",
      "    x[n+1] = x[n] + rk4_pos(vx0, dt)\n",
      "    y[n+1] = y[n] + rk4_pos(vy0, dt)\n",
      "    vx0, vy0 = rk4_vel(vx0, vy0, dt, vx_dot, vy_dot, k)\n",
      "    \n",
      "    n += 1"
     ],
     "language": "python",
     "metadata": {},
     "outputs": [],
     "prompt_number": 156
    },
    {
     "cell_type": "code",
     "collapsed": false,
     "input": [
      "plt.plot(x[:n],y[:n])"
     ],
     "language": "python",
     "metadata": {},
     "outputs": [
      {
       "metadata": {},
       "output_type": "pyout",
       "prompt_number": 159,
       "text": [
        "[<matplotlib.lines.Line2D at 0x7fb97fab71d0>]"
       ]
      },
      {
       "metadata": {},
       "output_type": "display_data",
       "png": "[encoded data removed]",
       "text": [
        "<matplotlib.figure.Figure at 0x7fb97fba1a90>"
       ]
      }
     ],
     "prompt_number": 159
    },
    {
     "cell_type": "code",
     "collapsed": false,
     "input": [],
     "language": "python",
     "metadata": {},
     "outputs": []
    },
    {
     "cell_type": "code",
     "collapsed": false,
     "input": [],
     "language": "python",
     "metadata": {},
     "outputs": []
    },
    {
     "cell_type": "markdown",
     "metadata": {},
     "source": [
      "##Simplified model of air resistance\n",
      "\n",
      "magnitude of air resistance directly proportional to instantaneous velocity"
     ]
    },
    {
     "cell_type": "code",
     "collapsed": false,
     "input": [
      "from sympy import Function, solve, dsolve, Eq, Derivative, sin, cos\n",
      "from sympy import Symbol\n",
      "from sympy import classify_ode, symbols, lambdify\n",
      "from sympy import init_printing\n",
      "init_printing()"
     ],
     "language": "python",
     "metadata": {},
     "outputs": [],
     "prompt_number": 1
    },
    {
     "cell_type": "code",
     "collapsed": false,
     "input": [
      "from sympy.abc import theta"
     ],
     "language": "python",
     "metadata": {},
     "outputs": [],
     "prompt_number": 2
    },
    {
     "cell_type": "code",
     "collapsed": false,
     "input": [
      "v, x, v0, vt, t, g, m, c = symbols(['v','x','v0','vt','t','g','m','c'])\n",
      "C1, C2 = symbols(['C1','C2'])"
     ],
     "language": "python",
     "metadata": {},
     "outputs": [],
     "prompt_number": 3
    },
    {
     "cell_type": "markdown",
     "metadata": {},
     "source": [
      "$$\\newcommand{\\bv}{\\mathbf v}$$\n",
      "$$\\newcommand{\\bg}{\\mathbf g}$$"
     ]
    },
    {
     "cell_type": "markdown",
     "metadata": {},
     "source": [
      "$$m \\frac{d \\bv}{dt} = m \\bg - c \\bv$$\n",
      "\n",
      "where $\\bv = (v_x, v_y)$ and $\\bg = (0, -g)$\n",
      "\n",
      "In component form, then:\n",
      "\n",
      "$$\\frac{dv_x}{dt} = -g \\frac{v_x}{mg/c}$$\n",
      "\n",
      "$$\\frac{dv_y}{dt} = -g \\left(1 + \\frac{v_y}{mg/c} \\right)$$\n",
      "\n",
      "$mg/c$ is the terminal velocity $v_t$, substituting yields \n",
      "\n",
      "\n",
      "$$\\frac{dv_x}{dt} = -g \\frac{v_x}{v_t}$$\n",
      "\n",
      "$$\\frac{dv_y}{dt} = -g \\left(1 + \\frac{v_y}{v_t} \\right)$$"
     ]
    },
    {
     "cell_type": "code",
     "collapsed": false,
     "input": [
      "vx, vy = symbols(['vx','vy'])"
     ],
     "language": "python",
     "metadata": {},
     "outputs": [],
     "prompt_number": 4
    },
    {
     "cell_type": "code",
     "collapsed": false,
     "input": [
      "xeq = Eq(vx(t).diff(t),-g*vx(t)/(vt))\n",
      "xeq"
     ],
     "language": "python",
     "metadata": {},
     "outputs": [
      {
       "latex": [
        "$$\\frac{d}{d t} \\operatorname{vx}{\\left (t \\right )} = - \\frac{g}{vt} \\operatorname{vx}{\\left (t \\right )}$$"
       ],
       "metadata": {},
       "output_type": "pyout",
       "png": "[encoded data removed]",
       "prompt_number": 11,
       "text": [
        "d           -g\u22c5vx(t) \n",
        "\u2500\u2500(vx(t)) = \u2500\u2500\u2500\u2500\u2500\u2500\u2500\u2500\u2500\n",
        "dt              vt   "
       ]
      }
     ],
     "prompt_number": 11
    },
    {
     "cell_type": "code",
     "collapsed": false,
     "input": [
      "yeq = Eq(vy(t).diff(t),-g*(1+vy(t)/(vt)))\n",
      "yeq"
     ],
     "language": "python",
     "metadata": {},
     "outputs": [
      {
       "latex": [
        "$$\\frac{d}{d t} \\operatorname{vy}{\\left (t \\right )} = - g \\left(1 + \\frac{1}{vt} \\operatorname{vy}{\\left (t \\right )}\\right)$$"
       ],
       "metadata": {},
       "output_type": "pyout",
       "png": "[encoded data removed]",
       "prompt_number": 12,
       "text": [
        "d              \u239b    vy(t)\u239e\n",
        "\u2500\u2500(vy(t)) = -g\u22c5\u239c1 + \u2500\u2500\u2500\u2500\u2500\u239f\n",
        "dt             \u239d      vt \u23a0"
       ]
      }
     ],
     "prompt_number": 12
    },
    {
     "cell_type": "code",
     "collapsed": false,
     "input": [
      "xeq = dsolve(xeq)\n",
      "xeq"
     ],
     "language": "python",
     "metadata": {},
     "outputs": [
      {
       "latex": [
        "$$\\operatorname{vx}{\\left (t \\right )} = C_{1} e^{- \\frac{g t}{vt}}$$"
       ],
       "metadata": {},
       "output_type": "pyout",
       "png": "[encoded data removed]",
       "prompt_number": 13,
       "text": [
        "            -g\u22c5t \n",
        "            \u2500\u2500\u2500\u2500\u2500\n",
        "              vt \n",
        "vx(t) = C\u2081\u22c5\u212f     "
       ]
      }
     ],
     "prompt_number": 13
    },
    {
     "cell_type": "code",
     "collapsed": false,
     "input": [
      "con1x = solve(xeq.subs([(t,0),(vx(0),v0*cos(theta))]),C1)\n",
      "print con1x"
     ],
     "language": "python",
     "metadata": {},
     "outputs": [
      {
       "output_type": "stream",
       "stream": "stdout",
       "text": [
        "[v0*cos(theta)]\n"
       ]
      }
     ],
     "prompt_number": 17
    },
    {
     "cell_type": "markdown",
     "metadata": {},
     "source": [
      "###$V_x$ equation"
     ]
    },
    {
     "cell_type": "code",
     "collapsed": false,
     "input": [
      "xeq = xeq.subs(C1,con1x[0])\n",
      "xeq"
     ],
     "language": "python",
     "metadata": {},
     "outputs": [
      {
       "latex": [
        "$$\\operatorname{vx}{\\left (t \\right )} = v_{0} e^{- \\frac{g t}{vt}} \\cos{\\left (\\theta \\right )}$$"
       ],
       "metadata": {},
       "output_type": "pyout",
       "png": "[encoded data removed]",
       "prompt_number": 24,
       "text": [
        "            -g\u22c5t        \n",
        "            \u2500\u2500\u2500\u2500\u2500       \n",
        "              vt        \n",
        "vx(t) = v\u2080\u22c5\u212f     \u22c5cos(\u03b8)"
       ]
      }
     ],
     "prompt_number": 24
    },
    {
     "cell_type": "code",
     "collapsed": false,
     "input": [
      "yeq = dsolve(yeq)\n",
      "yeq"
     ],
     "language": "python",
     "metadata": {},
     "outputs": [
      {
       "latex": [
        "$$\\operatorname{vy}{\\left (t \\right )} = C_{1} e^{- \\frac{g t}{vt}} - vt$$"
       ],
       "metadata": {},
       "output_type": "pyout",
       "png": "[encoded data removed]",
       "prompt_number": 16,
       "text": [
        "            -g\u22c5t      \n",
        "            \u2500\u2500\u2500\u2500\u2500     \n",
        "              vt      \n",
        "vy(t) = C\u2081\u22c5\u212f      - vt"
       ]
      }
     ],
     "prompt_number": 16
    },
    {
     "cell_type": "code",
     "collapsed": false,
     "input": [
      "con1y = solve(yeq.subs([(t,0),(vy(0),v0*sin(theta))]),C1)\n",
      "print con1y"
     ],
     "language": "python",
     "metadata": {},
     "outputs": [
      {
       "output_type": "stream",
       "stream": "stdout",
       "text": [
        "[v0*sin(theta) + vt]\n"
       ]
      }
     ],
     "prompt_number": 19
    },
    {
     "cell_type": "markdown",
     "metadata": {},
     "source": [
      "###$V_y$ equation"
     ]
    },
    {
     "cell_type": "code",
     "collapsed": false,
     "input": [
      "yeq = yeq.subs(C1,con1y[0])\n",
      "yeq"
     ],
     "language": "python",
     "metadata": {},
     "outputs": [
      {
       "latex": [
        "$$\\operatorname{vy}{\\left (t \\right )} = - vt + \\left(v_{0} \\sin{\\left (\\theta \\right )} + vt\\right) e^{- \\frac{g t}{vt}}$$"
       ],
       "metadata": {},
       "output_type": "pyout",
       "png": "[encoded data removed]",
       "prompt_number": 23,
       "text": [
        "                                -g\u22c5t \n",
        "                                \u2500\u2500\u2500\u2500\u2500\n",
        "                                  vt \n",
        "vy(t) = -vt + (v\u2080\u22c5sin(\u03b8) + vt)\u22c5\u212f     "
       ]
      }
     ],
     "prompt_number": 23
    },
    {
     "cell_type": "code",
     "collapsed": false,
     "input": [
      "from sympy import simplify, integrate"
     ],
     "language": "python",
     "metadata": {},
     "outputs": [],
     "prompt_number": 21
    },
    {
     "cell_type": "markdown",
     "metadata": {},
     "source": [
      "###Integrating $V_x$\n",
      "\n",
      "Note use of flag `conds='none'` -- this tells sympy to ignore convergence conditions (which we do here because the convergence condition is when $g \\rightarrow 0$ which is definitely not going to happen)"
     ]
    },
    {
     "cell_type": "code",
     "collapsed": false,
     "input": [
      "xpos = integrate(xeq,(t,0,t), conds='none').rhs\n",
      "xpos"
     ],
     "language": "python",
     "metadata": {},
     "outputs": [
      {
       "latex": [
        "$$\\frac{v_{0} vt}{g} \\cos{\\left (\\theta \\right )} - \\frac{v_{0} vt}{g} e^{- \\frac{g t}{vt}} \\cos{\\left (\\theta \\right )}$$"
       ],
       "metadata": {},
       "output_type": "pyout",
       "png": "[encoded data removed]",
       "prompt_number": 42,
       "text": [
        "                      -g\u22c5t        \n",
        "                      \u2500\u2500\u2500\u2500\u2500       \n",
        "                        vt        \n",
        "v\u2080\u22c5vt\u22c5cos(\u03b8)   v\u2080\u22c5vt\u22c5\u212f     \u22c5cos(\u03b8)\n",
        "\u2500\u2500\u2500\u2500\u2500\u2500\u2500\u2500\u2500\u2500\u2500\u2500 - \u2500\u2500\u2500\u2500\u2500\u2500\u2500\u2500\u2500\u2500\u2500\u2500\u2500\u2500\u2500\u2500\u2500\u2500\u2500\n",
        "     g                  g         "
       ]
      }
     ],
     "prompt_number": 42
    },
    {
     "cell_type": "markdown",
     "metadata": {},
     "source": [
      "###Integrating $V_y$"
     ]
    },
    {
     "cell_type": "code",
     "collapsed": false,
     "input": [
      "ypos = integrate(yeq,(t,0,t), conds='none').rhs\n",
      "ypos"
     ],
     "language": "python",
     "metadata": {},
     "outputs": [
      {
       "latex": [
        "$$- t vt - \\frac{1}{g} \\left(- v_{0} vt \\sin{\\left (\\theta \\right )} - vt^{2}\\right) + \\frac{1}{g} \\left(- v_{0} vt \\sin{\\left (\\theta \\right )} - vt^{2}\\right) e^{- \\frac{g t}{vt}}$$"
       ],
       "metadata": {},
       "output_type": "pyout",
       "png": "[encoded data removed]",
       "prompt_number": 43,
       "text": [
        "                                                     -g\u22c5t \n",
        "                                                     \u2500\u2500\u2500\u2500\u2500\n",
        "                          2   \u239b                  2\u239e    vt \n",
        "        -v\u2080\u22c5vt\u22c5sin(\u03b8) - vt    \u239d-v\u2080\u22c5vt\u22c5sin(\u03b8) - vt \u23a0\u22c5\u212f     \n",
        "-t\u22c5vt - \u2500\u2500\u2500\u2500\u2500\u2500\u2500\u2500\u2500\u2500\u2500\u2500\u2500\u2500\u2500\u2500\u2500\u2500\u2500 + \u2500\u2500\u2500\u2500\u2500\u2500\u2500\u2500\u2500\u2500\u2500\u2500\u2500\u2500\u2500\u2500\u2500\u2500\u2500\u2500\u2500\u2500\u2500\u2500\u2500\u2500\u2500\u2500\n",
        "                 g                         g              "
       ]
      }
     ],
     "prompt_number": 43
    },
    {
     "cell_type": "code",
     "collapsed": false,
     "input": [
      "xpos = lambdify((v0,vt,t,theta,g),xpos,numpy)"
     ],
     "language": "python",
     "metadata": {},
     "outputs": [],
     "prompt_number": 44
    },
    {
     "cell_type": "code",
     "collapsed": false,
     "input": [
      "ypos = lambdify((v0,vt,t,theta,g),ypos,numpy)"
     ],
     "language": "python",
     "metadata": {},
     "outputs": [],
     "prompt_number": 45
    },
    {
     "cell_type": "code",
     "collapsed": false,
     "input": [
      "time = numpy.linspace(0,5,50)"
     ],
     "language": "python",
     "metadata": {},
     "outputs": [],
     "prompt_number": 46
    },
    {
     "cell_type": "code",
     "collapsed": false,
     "input": [
      "import matplotlib.pyplot as plt\n",
      "%matplotlib inline"
     ],
     "language": "python",
     "metadata": {},
     "outputs": [],
     "prompt_number": 47
    },
    {
     "cell_type": "code",
     "collapsed": false,
     "input": [
      "plt.plot(xpos(41,31,time,1.09,9.81),ypos(41,31,time,1.09,9.81))"
     ],
     "language": "python",
     "metadata": {},
     "outputs": [
      {
       "metadata": {},
       "output_type": "pyout",
       "prompt_number": 48,
       "text": [
        "[<matplotlib.lines.Line2D at 0x7f022795cb50>]"
       ]
      },
      {
       "metadata": {},
       "output_type": "display_data",
       "png": "[encoded data removed]",
       "text": [
        "<matplotlib.figure.Figure at 0x7f0227984590>"
       ]
      }
     ],
     "prompt_number": 48
    }
   ],
   "metadata": {}
  }
 ]
}