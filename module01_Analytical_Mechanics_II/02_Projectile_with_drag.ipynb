{
 "metadata": {
  "name": "",
  "signature": "sha256:551488b5d6e12be62563ceb38674b49280a6143f9f94a245ca2d98316ad97141"
 },
 "nbformat": 3,
 "nbformat_minor": 0,
 "worksheets": [
  {
   "cells": [
    {
     "cell_type": "code",
     "collapsed": false,
     "input": [
      "from sympy import Function, solve, dsolve, Eq, Derivative, sin, cos\n",
      "from sympy import Symbol\n",
      "from sympy import classify_ode, symbols, lambdify\n",
      "from sympy import init_printing\n",
      "init_printing()"
     ],
     "language": "python",
     "metadata": {},
     "outputs": [],
     "prompt_number": 1
    },
    {
     "cell_type": "code",
     "collapsed": false,
     "input": [
      "v = Function('v')\n",
      "x = Symbol('x')\n",
      "v0 = Symbol('v0')"
     ],
     "language": "python",
     "metadata": {},
     "outputs": [],
     "prompt_number": 2
    },
    {
     "cell_type": "code",
     "collapsed": false,
     "input": [
      "from sympy.abc import theta"
     ],
     "language": "python",
     "metadata": {},
     "outputs": [],
     "prompt_number": 3
    },
    {
     "cell_type": "code",
     "collapsed": false,
     "input": [
      "vt = Symbol('vt')"
     ],
     "language": "python",
     "metadata": {},
     "outputs": [],
     "prompt_number": 4
    },
    {
     "cell_type": "code",
     "collapsed": false,
     "input": [
      "v, x, v0, vt, t, g = symbols(['v','x','v0','vt','t','g'])\n",
      "C1, C2 = symbols(['C1','C2'])"
     ],
     "language": "python",
     "metadata": {},
     "outputs": [],
     "prompt_number": 13
    },
    {
     "cell_type": "code",
     "collapsed": false,
     "input": [
      "Eq(v(t).diff(t),-g*v(t)/vt)"
     ],
     "language": "python",
     "metadata": {},
     "outputs": [
      {
       "latex": [
        "$$\\frac{d}{d t} v{\\left (t \\right )} = - \\frac{g}{vt} v{\\left (t \\right )}$$"
       ],
       "metadata": {},
       "output_type": "pyout",
       "png": "[encoded data removed]",
       "prompt_number": 14,
       "text": [
        "d          -g\u22c5v(t) \n",
        "\u2500\u2500(v(t)) = \u2500\u2500\u2500\u2500\u2500\u2500\u2500\u2500\n",
        "dt            vt   "
       ]
      }
     ],
     "prompt_number": 14
    },
    {
     "cell_type": "code",
     "collapsed": false,
     "input": [
      "dsolve(Out[10])"
     ],
     "language": "python",
     "metadata": {},
     "outputs": [
      {
       "latex": [
        "$$v{\\left (t \\right )} = C_{1} e^{- \\frac{g t}{vt}}$$"
       ],
       "metadata": {},
       "output_type": "pyout",
       "png": "[encoded data removed]",
       "prompt_number": 15,
       "text": [
        "           -g\u22c5t \n",
        "           \u2500\u2500\u2500\u2500\u2500\n",
        "             vt \n",
        "v(t) = C\u2081\u22c5\u212f     "
       ]
      }
     ],
     "prompt_number": 15
    },
    {
     "cell_type": "code",
     "collapsed": false,
     "input": [
      "ans = solve(Out[11].subs([(t,0),(v(0),v0*cos(theta))]),C1)\n",
      "print ans"
     ],
     "language": "python",
     "metadata": {},
     "outputs": [
      {
       "output_type": "stream",
       "stream": "stdout",
       "text": [
        "[v0*cos(theta)]\n"
       ]
      }
     ],
     "prompt_number": 16
    },
    {
     "cell_type": "code",
     "collapsed": false,
     "input": [
      "Out[15].subs(C1,ans[0])"
     ],
     "language": "python",
     "metadata": {},
     "outputs": [
      {
       "latex": [
        "$$v{\\left (t \\right )} = v_{0} e^{- \\frac{g t}{vt}} \\cos{\\left (\\theta \\right )}$$"
       ],
       "metadata": {},
       "output_type": "pyout",
       "png": "[encoded data removed]",
       "prompt_number": 18,
       "text": [
        "           -g\u22c5t        \n",
        "           \u2500\u2500\u2500\u2500\u2500       \n",
        "             vt        \n",
        "v(t) = v\u2080\u22c5\u212f     \u22c5cos(\u03b8)"
       ]
      }
     ],
     "prompt_number": 18
    },
    {
     "cell_type": "code",
     "collapsed": false,
     "input": [],
     "language": "python",
     "metadata": {},
     "outputs": []
    }
   ],
   "metadata": {}
  }
 ]
}