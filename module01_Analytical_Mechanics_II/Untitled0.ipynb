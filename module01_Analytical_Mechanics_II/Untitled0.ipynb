{
 "metadata": {
  "name": "",
  "signature": "sha256:8282bfb161534ef768762fd916319339966aefa5c31e97158641eaa436eda2fc"
 },
 "nbformat": 3,
 "nbformat_minor": 0,
 "worksheets": []
}