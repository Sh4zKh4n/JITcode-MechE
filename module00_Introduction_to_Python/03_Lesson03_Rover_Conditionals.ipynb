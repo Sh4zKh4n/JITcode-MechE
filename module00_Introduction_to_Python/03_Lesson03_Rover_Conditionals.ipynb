{
 "metadata": {
  "name": "",
  "signature": "sha256:84d4cff9e3d796c7f883425bb4ab089f424b84f1780904016e5b64da95dd31c3"
 },
 "nbformat": 3,
 "nbformat_minor": 0,
 "worksheets": [
  {
   "cells": [
    {
     "cell_type": "heading",
     "level": 1,
     "metadata": {},
     "source": [
      "JIT Module 1, Lesson 3"
     ]
    },
    {
     "cell_type": "raw",
     "metadata": {},
     "source": [
      "Comments -- Have we taught them subscripting yet? I assumed we had but I'm not sure."
     ]
    },
    {
     "cell_type": "code",
     "collapsed": false,
     "input": [
      "import numpy as np\n",
      "\n",
      "import matplotlib.pyplot as plt\n",
      "%matplotlib inline"
     ],
     "language": "python",
     "metadata": {},
     "outputs": [],
     "prompt_number": 1
    },
    {
     "cell_type": "markdown",
     "metadata": {},
     "source": [
      "In the previous lesson we discussed using functions (denoted by `def`) for performing complex operations multiple times. In this lesson, we will look at functions more deeply, as well as introduce conditional logic. Conditional logic allows programs to make descisions based on the current state of the program. "
     ]
    },
    {
     "cell_type": "heading",
     "level": 2,
     "metadata": {},
     "source": [
      "Context - Mars Rover Navigation"
     ]
    },
    {
     "cell_type": "markdown",
     "metadata": {},
     "source": [
      "NASA has decided to send another rover to Mars following the success of Curiosity. However, the transmission time from Earth to Mars can be anywhere from 3 to 21 minutes, making it infeasable for a human to control the rover. Instead, they have hired you to program it. The first task of the rover, as soon as it has landed on Mars, will be to find the docking station that NASA set up. The following code will load a map of Mars' surface."
     ]
    },
    {
     "cell_type": "code",
     "collapsed": false,
     "input": [
      "maze      = np.loadtxt(fname=\"maze1.csv\",delimiter=\",\")\n",
      "location  = np.array([7,7])\n",
      "direction = 1               # 0-North, 1-West, 2-South, 3-East\n",
      "\n",
      "print maze"
     ],
     "language": "python",
     "metadata": {},
     "outputs": [
      {
       "output_type": "stream",
       "stream": "stdout",
       "text": [
        "[[ 5.  5.  5.  5.  5.  5.  5.  5.  5.  5.]\n",
        " [ 5.  0.  0.  0.  4.  0.  3.  0.  0.  5.]\n",
        " [ 5.  0.  0.  3.  3.  3.  3.  3.  3.  5.]\n",
        " [ 5.  0.  0.  3.  0.  0.  3.  0.  3.  5.]\n",
        " [ 5.  3.  0.  3.  0.  0.  3.  3.  0.  5.]\n",
        " [ 5.  0.  0.  3.  0.  0.  3.  0.  0.  5.]\n",
        " [ 5.  0.  0.  0.  0.  0.  3.  3.  0.  5.]\n",
        " [ 5.  0.  0.  3.  0.  0.  0.  1.  3.  5.]\n",
        " [ 5.  3.  0.  0.  0.  0.  3.  0.  0.  5.]\n",
        " [ 5.  5.  5.  5.  5.  5.  5.  5.  5.  5.]]\n"
       ]
      }
     ],
     "prompt_number": 2
    },
    {
     "cell_type": "markdown",
     "metadata": {},
     "source": [
      "In the above map,\n",
      "\n",
      "* `0.` represents passable space\n",
      "* `1.` represents the location of the rover\n",
      "* `3.` represents hazardous locations\n",
      "* `4.` represents the station\n",
      "* `5.` represents impassable walls"
     ]
    },
    {
     "cell_type": "markdown",
     "metadata": {},
     "source": [
      "Before we go any further, this array is useful, but hard to visualize. Let's use matplotlib's imshow to display it as an image"
     ]
    },
    {
     "cell_type": "code",
     "collapsed": false,
     "input": [
      "def showMaze(maze):   \n",
      "    plt.figure(figsize=(10, 5))\n",
      "    plt.imshow(maze, cmap=plt.cm.gist_ncar, interpolation='none')\n",
      "    plt.xticks([]), plt.yticks([])\n",
      "    plt.show()\n",
      "    \n",
      "showMaze(maze)"
     ],
     "language": "python",
     "metadata": {},
     "outputs": [
      {
       "metadata": {},
       "output_type": "display_data",
       "png": "[encoded data removed]",
       "text": [
        "<matplotlib.figure.Figure at 0x1109b1b90>"
       ]
      }
     ],
     "prompt_number": 3
    },
    {
     "cell_type": "heading",
     "level": 3,
     "metadata": {},
     "source": [
      "Moving Forward"
     ]
    },
    {
     "cell_type": "markdown",
     "metadata": {},
     "source": [
      "Let's take a look at what we have so far. We've established the `maze` variable as a 2D array (or an array of arrays) that represents the topography of Mars. We have a `location` variable as a numpy array representing [x_coordinate, y_coordinate]. According to `maze`, the rover is currently at `[7,7]`. Finally we have the direction. In this case, direction is 1, which means the rover is pointing \"west\". \n",
      "\n",
      "However, having a direction of 0,1,2, or 3 isn't very useful for us. Instead, let's make a function that takes the direction and returns an array we can add to `location` to find our new position (i.e. if direction is 1, we want the array [-1,0] because [-1,0]+[7,7] = [6,7], or 1 position to the left of `location`)."
     ]
    },
    {
     "cell_type": "code",
     "collapsed": false,
     "input": [
      "def direction_to_array(direction):\n",
      "    if direction == 0:\n",
      "        return np.array([0,-1])\n",
      "    elif direction == 1:\n",
      "        return np.array([-1,0])\n",
      "    elif direction == 2:\n",
      "        return np.array([0,1])\n",
      "    else:\n",
      "        return np.array([1,0])\n",
      "    \n",
      "    \n",
      "    #return np.array([[0,-1], [-1,0], [0,1], [1,0]])[direction]\n",
      "    "
     ],
     "language": "python",
     "metadata": {},
     "outputs": [],
     "prompt_number": 4
    },
    {
     "cell_type": "markdown",
     "metadata": {},
     "source": [
      "This function is our first introduction to **boolean logic**. Boolean logic has two states, **True** and **False**. The `if` is used to test the boolean state of the argument `direction == 0`. If `direction == 0` returns true (i.e. if the value of direction is equal to the value of 0), the the indented code gets run. In this case, the function will return the array [0,-1].\n",
      "\n",
      "Underneath the `if` block is `elif` (a portmanteau of `else` and `if`). `elif` blocks **must** follow `if` blocks, and only have their condition checked if the previous test returned `False`.\n",
      "\n",
      "Finally, at the end is an `else` block, which is executed only if all of the preceding blocks (the `if` and the 2 `elif`s) are all false. It is essentially the catch-all statement."
     ]
    },
    {
     "cell_type": "heading",
     "level": 3,
     "metadata": {},
     "source": [
      "Movement"
     ]
    },
    {
     "cell_type": "markdown",
     "metadata": {},
     "source": [
      "Now that we can map a direction to an array, let's write ourselves a function to move forward. Before we start, we should list the things it needs to do\n",
      "\n",
      "* Find the position of the rover after moving in `direction`\n",
      "* Check to make sure that there are neither hazards nor walls at that location\n",
      "* Return the location of the rover after moving (either the new location, or the same one if it can't move)"
     ]
    },
    {
     "cell_type": "code",
     "collapsed": false,
     "input": [
      "def move_forward(location, direction, maze):\n",
      "    old_x, old_y = location\n",
      "    new_x, new_y = location + direction_to_array(direction)\n",
      "    \n",
      "    if maze[new_y][new_x] != 3 and maze[new_y][new_x] != 5:\n",
      "        maze[new_y][new_x] = 1.\n",
      "        return np.array([new_x,new_y])\n",
      "    else:\n",
      "        return location\n",
      "    "
     ],
     "language": "python",
     "metadata": {},
     "outputs": [],
     "prompt_number": 5
    },
    {
     "cell_type": "markdown",
     "metadata": {},
     "source": [
      "Since there is a lot going on in this, let's break it down a bit. Take a look at the first line.\n",
      "```Python\n",
      "old_x, old_y = location\n",
      "```\n",
      "In python, arrays can be split into multiple variables by using this syntax. It is the same as saying \n",
      "```Python\n",
      "old_x = location[0]\n",
      "old_y = location[1]\n",
      "```\n",
      "Woah! Look at that `if` statement, it has a lot going on. Remember, regardless of how big it may look, everything following the word `if` on that line must evaluate to either `True` or `False`. In this case, we have two statements (`maze[new_y][new_x] != 3`, `maze[new_y][new_x] != 5`) joined by by an `and`. The `and` will  evaluate to `True` only if both of the statements also evaluate to `True`. Also notice that we are no longer using `==`, but rather `!=`, which tests to make sure that the two are not equal. Reading it out in english, this line asks\n",
      "\n",
      ">if the value of maze at (new_x, new_y) is not equal to 3, and the value of maze at (new_x, new_y) is not equal to 5, then do...\n",
      "\n",
      "Simple enough! All this `if-else` block is doing is checking the value of the new location, and if it is not a hazard or a wall, it returns the new location (after marking on the maze that it has already been there). If it is a hazard or a wall, it returns the original location since it is not allowed to move."
     ]
    },
    {
     "cell_type": "markdown",
     "metadata": {},
     "source": [
      "###Testing\n",
      "Before we move on, let's test to make sure we can move forward without problem"
     ]
    },
    {
     "cell_type": "code",
     "collapsed": false,
     "input": [
      "location = move_forward(location, direction, maze)\n",
      "print location\n",
      "print maze\n",
      "showMaze(maze)"
     ],
     "language": "python",
     "metadata": {},
     "outputs": [
      {
       "output_type": "stream",
       "stream": "stdout",
       "text": [
        "[6 7]\n",
        "[[ 5.  5.  5.  5.  5.  5.  5.  5.  5.  5.]\n",
        " [ 5.  0.  0.  0.  4.  0.  3.  0.  0.  5.]\n",
        " [ 5.  0.  0.  3.  3.  3.  3.  3.  3.  5.]\n",
        " [ 5.  0.  0.  3.  0.  0.  3.  0.  3.  5.]\n",
        " [ 5.  3.  0.  3.  0.  0.  3.  3.  0.  5.]\n",
        " [ 5.  0.  0.  3.  0.  0.  3.  0.  0.  5.]\n",
        " [ 5.  0.  0.  0.  0.  0.  3.  3.  0.  5.]\n",
        " [ 5.  0.  0.  3.  0.  0.  1.  1.  3.  5.]\n",
        " [ 5.  3.  0.  0.  0.  0.  3.  0.  0.  5.]\n",
        " [ 5.  5.  5.  5.  5.  5.  5.  5.  5.  5.]]\n"
       ]
      },
      {
       "metadata": {},
       "output_type": "display_data",
       "png": "[encoded data removed]",
       "text": [
        "<matplotlib.figure.Figure at 0x1069a5ad0>"
       ]
      }
     ],
     "prompt_number": 6
    },
    {
     "cell_type": "markdown",
     "metadata": {},
     "source": [
      "Great! As we can see, moving forward moved the `1` to the left, which is correct since we were facing west. "
     ]
    },
    {
     "cell_type": "markdown",
     "metadata": {},
     "source": [
      "##Turning\n",
      "Moving forward is great, but if we want to be able to get to the base, we're going to need to be able to turn. It should be easy enough, all we need to do is add or subtract 1 to the direction. Let's take a look"
     ]
    },
    {
     "cell_type": "code",
     "collapsed": false,
     "input": [
      "def turn_right(direction):   #seems a bit too early to introduce modulo, better I think to do it conditionally\n",
      "    direction -= 1\n",
      "    if direction < 0:\n",
      "        direction = 3\n",
      "    return direction"
     ],
     "language": "python",
     "metadata": {},
     "outputs": [],
     "prompt_number": 7
    },
    {
     "cell_type": "markdown",
     "metadata": {},
     "source": [
      "Hold up! `direction -= 1`? What kind of witchcraft is this. Well, `-=` is a special type of **assignment operator** that instead of simply setting `direction` to `1`, takes the value of `direction` and decrements it by `1`. So if `direction` is 3, after `direction -= 1`, direction will equal 2.\n",
      "\n",
      "Also notice that in the `if` statement, we use neither `==` nor `!=`, but `<`, the **less than** operator. `<` evaulates to `True` only if the first value is completely less than the second one. \n",
      "\n",
      "Putting this together, turn_right works by decreasing the direction by 1, and then wrapping around back to 3 if `direction` falls below 0. Now for turn_left:"
     ]
    },
    {
     "cell_type": "code",
     "collapsed": false,
     "input": [
      "def turn_left(direction):\n",
      "    direction += 1\n",
      "    if direction >= 4:\n",
      "        direction = 0\n",
      "    return direction"
     ],
     "language": "python",
     "metadata": {},
     "outputs": [],
     "prompt_number": 8
    },
    {
     "cell_type": "markdown",
     "metadata": {},
     "source": [
      "Our turn_left function works almost the same way, but instead of subtracting one from direction, it adds 1. Also notice that instead of using `<` or `>`, we use `>=` which checks to see if the first number is **greater than or equal to** the second one. "
     ]
    },
    {
     "cell_type": "markdown",
     "metadata": {},
     "source": [
      "##Putting it all Together\n",
      "Now that we can turn_left, turn_right, and move_forward, it's time to test out our roving skills and navigate to the base. The code below should map out our rover's path to the station. To do this, we need to\n",
      "```\n",
      "* Move 3 times\n",
      "* Turn right\n",
      "* Move 1 time\n",
      "* Turn left\n",
      "* Move 2 times\n",
      "* Turn right\n",
      "* Move 5 times\n",
      "* Turn right\n",
      "* Move 2 times\n",
      "```\n",
      "And voila! We're there. Let's give it a shot"
     ]
    },
    {
     "cell_type": "code",
     "collapsed": false,
     "input": [
      "maze      = np.loadtxt(fname=\"maze1.csv\",delimiter=\",\")\n",
      "location  = np.array([7,7])\n",
      "direction = 1\n",
      "\n",
      "location  = move_forward(location, direction, maze)\n",
      "location  = move_forward(location, direction, maze)\n",
      "location  = move_forward(location, direction, maze)\n",
      "\n",
      "direction = turn_right(direction);\n",
      "\n",
      "location  = move_forward(location, direction, maze)\n",
      "\n",
      "direction = turn_left(direction)\n",
      "\n",
      "location  = move_forward(location, direction, maze)\n",
      "location  = move_forward(location, direction, maze)\n",
      "\n",
      "direction = turn_right(direction);\n",
      "\n",
      "location  = move_forward(location, direction, maze)\n",
      "location  = move_forward(location, direction, maze)\n",
      "location  = move_forward(location, direction, maze)\n",
      "location  = move_forward(location, direction, maze)\n",
      "location  = move_forward(location, direction, maze)\n",
      "\n",
      "direction = turn_right(direction);\n",
      "\n",
      "location  = move_forward(location, direction, maze)\n",
      "location  = move_forward(location, direction, maze)\n",
      "\n",
      "print maze\n",
      "showMaze(maze)"
     ],
     "language": "python",
     "metadata": {},
     "outputs": [
      {
       "output_type": "stream",
       "stream": "stdout",
       "text": [
        "[[ 5.  5.  5.  5.  5.  5.  5.  5.  5.  5.]\n",
        " [ 5.  0.  1.  1.  1.  0.  3.  0.  0.  5.]\n",
        " [ 5.  0.  1.  3.  3.  3.  3.  3.  3.  5.]\n",
        " [ 5.  0.  1.  3.  0.  0.  3.  0.  3.  5.]\n",
        " [ 5.  3.  1.  3.  0.  0.  3.  3.  0.  5.]\n",
        " [ 5.  0.  1.  3.  0.  0.  3.  0.  0.  5.]\n",
        " [ 5.  0.  1.  1.  1.  0.  3.  3.  0.  5.]\n",
        " [ 5.  0.  0.  3.  1.  1.  1.  1.  3.  5.]\n",
        " [ 5.  3.  0.  0.  0.  0.  3.  0.  0.  5.]\n",
        " [ 5.  5.  5.  5.  5.  5.  5.  5.  5.  5.]]\n"
       ]
      },
      {
       "metadata": {},
       "output_type": "display_data",
       "png": "[encoded data removed]",
       "text": [
        "<matplotlib.figure.Figure at 0x1108478d0>"
       ]
      }
     ],
     "prompt_number": 9
    },
    {
     "cell_type": "markdown",
     "metadata": {},
     "source": [
      "Congratulations! You've done NASA proud and gotten the rover safely to the docking station.\n",
      "Conditionals are really useful, and as you get better at programming, they will become your best friends. \n",
      "\n",
      "Below is a helpful table listing the most common boolean operators and what they do."
     ]
    },
    {
     "cell_type": "markdown",
     "metadata": {},
     "source": [
      "<table>\n",
      "<tr>\n",
      "<td><b>Operator</b></td><td><b>Name</b></td><td><b>Function</b></td>\n",
      "</tr>\n",
      "<tr>\n",
      "<td>`a == b`</td><td>Equals</td><td>True if `a` is equal to `b`</td>\n",
      "</tr>\n",
      "<tr>\n",
      "<td>`a != b`</td><td>Not Equals</td><td>True if `a` is not equal to `b`</td>\n",
      "</tr>\n",
      "<tr>\n",
      "<td>`a < b`</td><td>Less than</td><td>True if `a` is less than `b`</td>\n",
      "</tr>\n",
      "<tr>\n",
      "<td>`a > b`</td><td>Greater than</td><td>True if `a` is greater than `b`</td>\n",
      "</tr>\n",
      "<tr>\n",
      "<td>`a <= b`</td><td>Less than or equal</td><td>True if `a` is less than or equal to `b`</td>\n",
      "</tr>\n",
      "<tr>\n",
      "<td>`a >= b`</td><td>Greater than or equal</td><td>True if `a` is greater than or equal to `b`</td>\n",
      "</tr>\n",
      "<tr>\n",
      "<td>`not a`</td><td>Not</td><td>True if `a` is False</td>\n",
      "</tr>\n",
      "<tr>\n",
      "<td>`a and b`</td><td>And</td><td>True if both `a` and `b` are true</td>\n",
      "</tr>\n",
      "<tr>\n",
      "<td>`a or b`</td><td>Or</td><td>True if either `a` or `b` are true</td>\n",
      "</tr>\n",
      "</table>"
     ]
    },
    {
     "cell_type": "code",
     "collapsed": false,
     "input": [
      "from IPython.core.display import HTML\n",
      "def css_styling():\n",
      "    styles = open(\"../styles/custom.css\", \"r\").read()\n",
      "    return HTML(styles)\n",
      "css_styling()"
     ],
     "language": "python",
     "metadata": {},
     "outputs": [
      {
       "html": [
        "<link href='http://fonts.googleapis.com/css?family=Fenix' rel='stylesheet' type='text/css'>\n",
        "<link href='http://fonts.googleapis.com/css?family=Alegreya+Sans:100,300,400,500,700,800,900,100italic,300italic,400italic,500italic,700italic,800italic,900italic' rel='stylesheet' type='text/css'>\n",
        "<link href='http://fonts.googleapis.com/css?family=Source+Code+Pro:300,400' rel='stylesheet' type='text/css'>\n",
        "<style>\n",
        "    @font-face {\n",
        "        font-family: \"Computer Modern\";\n",
        "        src: url('http://mirrors.ctan.org/fonts/cm-unicode/fonts/otf/cmunss.otf');\n",
        "    }\n",
        "    div.cell{\n",
        "        width:800px;\n",
        "        margin-left:16% !important;\n",
        "        margin-right:auto;\n",
        "    }\n",
        "    h1 {\n",
        "        font-family: 'Alegreya Sans', sans-serif;\n",
        "    }\n",
        "    h2 {\n",
        "        font-family: 'Fenix', serif;\n",
        "    }\n",
        "    h3{\n",
        "\t\tfont-family: 'Fenix', serif;\n",
        "        margin-top:12px;\n",
        "        margin-bottom: 3px;\n",
        "       }\n",
        "\th4{\n",
        "\t\tfont-family: 'Fenix', serif;\n",
        "       }\n",
        "    h5 {\n",
        "        font-family: 'Alegreya Sans', sans-serif;\n",
        "    }\t   \n",
        "    div.text_cell_render{\n",
        "        font-family: 'Alegreya Sans',Computer Modern, \"Helvetica Neue\", Arial, Helvetica, Geneva, sans-serif;\n",
        "        line-height: 135%;\n",
        "        font-size: 120%;\n",
        "        width:600px;\n",
        "        margin-left:auto;\n",
        "        margin-right:auto;\n",
        "    }\n",
        "    .CodeMirror{\n",
        "            font-family: \"Source Code Pro\";\n",
        "\t\t\tfont-size: 90%;\n",
        "    }\n",
        "/*    .prompt{\n",
        "        display: None;\n",
        "    }*/\n",
        "    .text_cell_render h1 {\n",
        "        font-weight: 200;\n",
        "        font-size: 50pt;\n",
        "\t\tline-height: 100%;\n",
        "        color:#CD2305;\n",
        "        margin-bottom: 0.5em;\n",
        "        margin-top: 0.5em;\n",
        "        display: block;\n",
        "    }\t\n",
        "    .text_cell_render h5 {\n",
        "        font-weight: 300;\n",
        "        font-size: 16pt;\n",
        "        color: #CD2305;\n",
        "        font-style: italic;\n",
        "        margin-bottom: .5em;\n",
        "        margin-top: 0.5em;\n",
        "        display: block;\n",
        "    }\n",
        "    \n",
        "    .warning{\n",
        "        color: rgb( 240, 20, 20 )\n",
        "    }  \n",
        "</style>\n",
        "<script>\n",
        "    MathJax.Hub.Config({\n",
        "                        TeX: {\n",
        "                           extensions: [\"AMSmath.js\"]\n",
        "                           },\n",
        "                tex2jax: {\n",
        "                    inlineMath: [ ['$','$'], [\"\\\\(\",\"\\\\)\"] ],\n",
        "                    displayMath: [ ['$$','$$'], [\"\\\\[\",\"\\\\]\"] ]\n",
        "                },\n",
        "                displayAlign: 'center', // Change this to 'center' to center equations.\n",
        "                \"HTML-CSS\": {\n",
        "                    styles: {'.MathJax_Display': {\"margin\": 4}}\n",
        "                }\n",
        "        });\n",
        "</script>\n"
       ],
       "metadata": {},
       "output_type": "pyout",
       "prompt_number": 10,
       "text": [
        "<IPython.core.display.HTML at 0x106dc6190>"
       ]
      }
     ],
     "prompt_number": 10
    }
   ],
   "metadata": {}
  }
 ]
}
