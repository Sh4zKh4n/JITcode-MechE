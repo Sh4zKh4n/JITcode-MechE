{
 "metadata": {
  "name": ""
 },
 "nbformat": 3,
 "nbformat_minor": 0,
 "worksheets": [
  {
   "cells": [
    {
     "cell_type": "raw",
     "metadata": {},
     "source": [
      "Content provided under a Creative Commons Attribution license, CC-BY 4.0. (c) Lorena A. Barba, 2014. Thanks: A. Ahmadia, G. Forsyth, and NSF for support via CAREER award #1149784."
     ]
    },
    {
     "cell_type": "heading",
     "level": 5,
     "metadata": {},
     "source": [
      "Version 0.3 -- March 2014"
     ]
    },
    {
     "cell_type": "heading",
     "level": 1,
     "metadata": {},
     "source": [
      "JIT module 1, lesson 5"
     ]
    },
    {
     "cell_type": "markdown",
     "metadata": {},
     "source": [
      "This is Lesson 4 of the first *Just-in-Time (JIT) module* for teaching computing to engineers, in context. The first module lays the foundations for building computational skills. It is not meant to support a particular engineering course, so it can be used by freshman students. The context problems should be interesting to any science-minded student.\n",
      "\n",
      "Lesson 4 builds competency in these basic skills:\n",
      "\n",
      "* Array Operations\n",
      "* Data analysis techniques\n"
     ]
    },
    {
     "cell_type": "heading",
     "level": 1,
     "metadata": {},
     "source": [
      "Context \u2014 Mars Base Location"
     ]
    },
    {
     "cell_type": "markdown",
     "metadata": {},
     "source": [
      "The last few lessons taught us about looping operations, and ended with a simple way to explore a bounded region.  In this lesson, we're going to say that during the exploration, Rover gathered some information.  We'll then do some data analysis on the information that we gather, like removing outliers and finding regions of interest.\n",
      "\n",
      "Lets say, for example, that we've got a large array of data describing whether or not Rover found any water in a region. Just like before, we'll import the data from a .csv file. The array looks like this:\n"
     ]
    },
    {
     "cell_type": "code",
     "collapsed": false,
     "input": [
      "import numpy as np\n",
      "import matplotlib.pyplot as plt\n",
      "%matplotlib inline"
     ],
     "language": "python",
     "metadata": {},
     "outputs": [],
     "prompt_number": 2
    },
    {
     "cell_type": "code",
     "collapsed": false,
     "input": [
      "water = np.loadtxt(fname='../resources/water.csv', delimiter=',')\n",
      "print(water)"
     ],
     "language": "python",
     "metadata": {},
     "outputs": [
      {
       "output_type": "stream",
       "stream": "stdout",
       "text": [
        "[[ 0.          1.75367147  0.          0.          0.          2.99541766\n",
        "   0.          0.          0.          0.          0.          0.          0.\n",
        "   2.46454631  0.        ]\n",
        " [ 0.          0.          0.          0.          0.          0.          0.\n",
        "   1.50484654  0.32208014  0.          0.          0.          0.          0.954595\n",
        "   0.        ]\n",
        " [ 0.          0.          0.          0.16319702  1.81738962  0.\n",
        "   0.69003006  0.          0.99271591  0.          0.          0.          0.\n",
        "   1.07391362  0.        ]\n",
        " [ 0.          2.48723194  0.          0.          0.          0.          0.\n",
        "   0.          0.          0.          0.          0.          1.55345355\n",
        "   0.          0.        ]\n",
        " [ 0.          0.          0.          0.          0.          2.785681\n",
        "   1.87378732  0.          0.          2.1423647   0.          2.97696771\n",
        "   0.          0.          0.        ]\n",
        " [ 0.          0.          0.          0.          2.49810436  0.\n",
        "   1.45535054  0.          0.          0.          0.          0.          0.\n",
        "   0.          0.        ]\n",
        " [ 0.          0.          0.          0.          0.          0.          0.\n",
        "   0.          1.47766923  0.          0.          0.05463953  1.78124675\n",
        "   0.          0.        ]\n",
        " [ 0.          0.19686487  0.          0.97400389  0.          0.          0.\n",
        "   0.          0.          0.          0.          0.          0.          0.\n",
        "   0.        ]\n",
        " [ 0.          0.          0.27270854  0.          0.          0.          0.\n",
        "   0.          1.49013063  1.33984463  2.81624277  2.44342944  0.          0.\n",
        "   0.        ]\n",
        " [ 0.          0.          0.          0.          0.87909697  0.          0.\n",
        "   1.27466839  0.          0.          0.          0.          0.          0.\n",
        "   0.        ]\n",
        " [ 0.69692826  0.          0.33578893  0.          0.          0.          0.\n",
        "   0.          0.          0.          0.          1.17012666  0.00891911\n",
        "   0.          0.        ]\n",
        " [ 0.          0.          0.          1.09882569  0.          0.          0.\n",
        "   0.          0.          0.12564685  0.          0.          0.          0.\n",
        "   0.        ]\n",
        " [ 1.30039908  1.72463841  1.96326302  2.96118727  2.9604311   0.          0.\n",
        "   0.          0.          0.          0.87920468  1.25986414  0.          0.\n",
        "   0.        ]\n",
        " [ 2.73213059  0.          0.          0.          2.7486682   0.          0.\n",
        "   0.          0.          2.96676679  0.46249902  0.          0.\n",
        "   0.25007238  0.        ]\n",
        " [ 0.          2.8424677   0.89057131  0.          2.54682565  2.39831142\n",
        "   0.          0.          0.          0.          0.          0.          0.\n",
        "   1.29580196  0.        ]]\n"
       ]
      }
     ],
     "prompt_number": 7
    },
    {
     "cell_type": "markdown",
     "metadata": {},
     "source": [
      "Not the prettiest set of data, is it?  Let's do some basic statistics on it, like finding the average and range of the data. "
     ]
    },
    {
     "cell_type": "code",
     "collapsed": false,
     "input": [
      "mean = np.mean(water)\n",
      "min = np.min(water)\n",
      "max = np.max(water)\n",
      "std = np.std(water)\n",
      "median = np.median(water)\n"
     ],
     "language": "python",
     "metadata": {},
     "outputs": [],
     "prompt_number": 8
    },
    {
     "cell_type": "markdown",
     "metadata": {},
     "source": [
      "To make our data look nice, lets format it so we can read it easily.  By using the str() fucntion, we can make a number a string so that we can print it out with some text."
     ]
    },
    {
     "cell_type": "code",
     "collapsed": false,
     "input": [
      "print(\"mean =\" + str(mean))\n",
      "print(\"range =\" + str(max-min))\n",
      "print(\"standard deviation =\" + str(std))\n",
      "print(\"median =\" +str(median))"
     ],
     "language": "python",
     "metadata": {},
     "outputs": [
      {
       "output_type": "stream",
       "stream": "stdout",
       "text": [
        "mean =0.36944545923\n",
        "range =2.99541766146\n",
        "standard deviation =0.798734050488\n",
        "median =0.0\n"
       ]
      }
     ],
     "prompt_number": 9
    },
    {
     "cell_type": "markdown",
     "metadata": {},
     "source": [
      "That's pretty crazy; our range is almost 5 standard deviations, and our mean is really low compared to the data. And our median is zero! Maybe we should consider the places we did find water.  One of the better ways to do this(looping through the array is *not* a good way to do it) is to *mask* the array and only look at the data of interest.\n",
      "\n",
      "Using a conditional operation on an array is a really nifty trick.  Below, we're using the greater than operator.  What this does is apply the condition (in this example, >0) to every value in the array.  It returns an array of the same size filled with the results for each value in the array.  So each location in the array that satisfies the condition will be true, and everything else will be false.  Here's the response, below."
     ]
    },
    {
     "cell_type": "code",
     "collapsed": false,
     "input": [
      "mask = (water > 0)\n",
      "print(mask)"
     ],
     "language": "python",
     "metadata": {},
     "outputs": [
      {
       "output_type": "stream",
       "stream": "stdout",
       "text": [
        "[[False  True False False False  True False False False False False False\n",
        "  False  True False]\n",
        " [False False False False False False False  True  True False False False\n",
        "  False  True False]\n",
        " [False False False  True  True False  True False  True False False False\n",
        "  False  True False]\n",
        " [False  True False False False False False False False False False False\n",
        "   True False False]\n",
        " [False False False False False  True  True False False  True False  True\n",
        "  False False False]\n",
        " [False False False False  True False  True False False False False False\n",
        "  False False False]\n",
        " [False False False False False False False False  True False False  True\n",
        "   True False False]\n",
        " [False  True False  True False False False False False False False False\n",
        "  False False False]\n",
        " [False False  True False False False False False  True  True  True  True\n",
        "  False False False]\n",
        " [False False False False  True False False  True False False False False\n",
        "  False False False]\n",
        " [ True False  True False False False False False False False False  True\n",
        "   True False False]\n",
        " [False False False  True False False False False False  True False False\n",
        "  False False False]\n",
        " [ True  True  True  True  True False False False False False  True  True\n",
        "  False False False]\n",
        " [ True False False False  True False False False False  True  True False\n",
        "  False  True False]\n",
        " [False  True  True False  True  True False False False False False False\n",
        "  False  True False]]\n"
       ]
      }
     ],
     "prompt_number": 10
    },
    {
     "cell_type": "markdown",
     "metadata": {},
     "source": [
      "What we can do, by then using the *mask* that we made as an index of the array, is to pull out only the information that satisfies our condition.  If we do this, then, we can select all the data which is greater than zero."
     ]
    },
    {
     "cell_type": "code",
     "collapsed": false,
     "input": [
      "iswater = water[mask]\n",
      "print(iswater)"
     ],
     "language": "python",
     "metadata": {},
     "outputs": [
      {
       "output_type": "stream",
       "stream": "stdout",
       "text": [
        "[ 1.75367147  2.99541766  2.46454631  1.50484654  0.32208014  0.954595\n",
        "  0.16319702  1.81738962  0.69003006  0.99271591  1.07391362  2.48723194\n",
        "  1.55345355  2.785681    1.87378732  2.1423647   2.97696771  2.49810436\n",
        "  1.45535054  1.47766923  0.05463953  1.78124675  0.19686487  0.97400389\n",
        "  0.27270854  1.49013063  1.33984463  2.81624277  2.44342944  0.87909697\n",
        "  1.27466839  0.69692826  0.33578893  1.17012666  0.00891911  1.09882569\n",
        "  0.12564685  1.30039908  1.72463841  1.96326302  2.96118727  2.9604311\n",
        "  0.87920468  1.25986414  2.73213059  2.7486682   2.96676679  0.46249902\n",
        "  0.25007238  2.8424677   0.89057131  2.54682565  2.39831142  1.29580196]\n"
       ]
      }
     ],
     "prompt_number": 11
    },
    {
     "cell_type": "markdown",
     "metadata": {},
     "source": [
      "How about that? We pulled out all the non-zero data. We could do it with some other conditions too.  First, lets re-do our statistics on this data like before, and have a nice printout so we can examine it easily."
     ]
    },
    {
     "cell_type": "code",
     "collapsed": false,
     "input": [
      "mean = np.mean(iswater)\n",
      "min = np.min(iswater)\n",
      "max = np.max(iswater)\n",
      "std = np.std(iswater)\n",
      "median = np.median(iswater)\n",
      "print(\"mean =\" + str(mean))\n",
      "print(\"range =\" + str(max-min))\n",
      "print(\"standard deviation =\" + str(std))\n",
      "print(\"median =\" +str(median))"
     ],
     "language": "python",
     "metadata": {},
     "outputs": [
      {
       "output_type": "stream",
       "stream": "stdout",
       "text": [
        "mean =1.53935608013\n",
        "range =2.98649854874\n",
        "standard deviation =0.925918275763\n",
        "median =1.4665098824\n"
       ]
      }
     ],
     "prompt_number": 50
    },
    {
     "cell_type": "markdown",
     "metadata": {},
     "source": [
      "Well. That looks a lot better, doesn't it.  Next, let's go back and do a *mask* of our original data to remove any values not within a standard deviation of the mean.\n",
      "\n",
      "If we want to satisfy multiple conditions, an easy way to do it is to multiply each condition together.  While this isn't intuitive right away, it works because of the operations of boolean mathematics.  Multiplication basically amounts to an *and* statement."
     ]
    },
    {
     "cell_type": "code",
     "collapsed": false,
     "input": [
      "mask = (water > 0)*(water<mean+std)*(water>mean-std)\n",
      "print(mask)"
     ],
     "language": "python",
     "metadata": {},
     "outputs": [
      {
       "output_type": "stream",
       "stream": "stdout",
       "text": [
        "[[False False False False False False False False False False False False\n",
        "  False False False]\n",
        " [False False False False False False False False  True False False False\n",
        "  False  True False]\n",
        " [False False False  True False False  True False  True False False False\n",
        "  False  True False]\n",
        " [False False False False False False False False False False False False\n",
        "  False False False]\n",
        " [False False False False False False False False False False False False\n",
        "  False False False]\n",
        " [False False False False False False False False False False False False\n",
        "  False False False]\n",
        " [False False False False False False False False False False False  True\n",
        "  False False False]\n",
        " [False  True False  True False False False False False False False False\n",
        "  False False False]\n",
        " [False False  True False False False False False False False False False\n",
        "  False False False]\n",
        " [False False False False  True False False False False False False False\n",
        "  False False False]\n",
        " [ True False  True False False False False False False False False False\n",
        "   True False False]\n",
        " [False False False  True False False False False False  True False False\n",
        "  False False False]\n",
        " [False False False False False False False False False False  True False\n",
        "  False False False]\n",
        " [False False False False False False False False False False  True False\n",
        "  False  True False]\n",
        " [False False  True False False False False False False False False False\n",
        "  False False False]]\n"
       ]
      }
     ],
     "prompt_number": 12
    },
    {
     "cell_type": "markdown",
     "metadata": {},
     "source": [
      "Let's have a look at the further reduced data."
     ]
    },
    {
     "cell_type": "code",
     "collapsed": false,
     "input": [
      "maskeddata = water[mask]\n",
      "print maskeddata"
     ],
     "language": "python",
     "metadata": {},
     "outputs": [
      {
       "output_type": "stream",
       "stream": "stdout",
       "text": [
        "[ 1.75367147  2.46454631  1.50484654  0.954595    1.81738962  0.69003006\n",
        "  0.99271591  1.07391362  1.55345355  1.87378732  2.1423647   1.45535054\n",
        "  1.47766923  1.78124675  0.97400389  1.49013063  1.33984463  2.44342944\n",
        "  0.87909697  1.27466839  0.69692826  1.17012666  1.09882569  1.30039908\n",
        "  1.72463841  1.96326302  0.87920468  1.25986414  0.89057131  2.39831142\n",
        "  1.29580196]\n"
       ]
      }
     ],
     "prompt_number": 52
    },
    {
     "cell_type": "markdown",
     "metadata": {},
     "source": [
      "Let's consider these locations as viable to sustain life on Mars, so long as they are in contact with at least two other such places.  Can we find a location for a new Mars settlement? Let's have a look at this subset of data plotted on the full-size grid.  First, we can get an index array from our mask, like this.\n",
      "\n",
      "The where function uses the mask and returns all of the indices, or locations, in which the value of the array is true.  While the where function will work on non-boolean(true vs. false) arrays, it's best to be careful and run it just on true-false data types.  In Python, anything that isn't zero is considered true, so using the where function on the wrong array can make some pretty unexpected results!"
     ]
    },
    {
     "cell_type": "code",
     "collapsed": false,
     "input": [
      "indices = np.where(mask)\n",
      "print(indices)"
     ],
     "language": "python",
     "metadata": {},
     "outputs": [
      {
       "output_type": "stream",
       "stream": "stdout",
       "text": [
        "(array([ 1,  1,  2,  2,  2,  2,  6,  7,  7,  8,  9, 10, 10, 10, 11, 11, 12,\n",
        "       13, 13, 14], dtype=int64), array([ 8, 13,  3,  6,  8, 13, 11,  1,  3,  2,  4,  0,  2, 12,  3,  9, 10,\n",
        "       10, 13,  2], dtype=int64))\n"
       ]
      }
     ],
     "prompt_number": 20
    },
    {
     "cell_type": "markdown",
     "metadata": {},
     "source": [
      "Now that we've got the indices we care about, we can create a copy of our first array, \"water,\" and set all data values not of interest to zero."
     ]
    },
    {
     "cell_type": "code",
     "collapsed": false,
     "input": [
      "ofinterest = np.zeros((len(water),len(water)))\n",
      "ofinterest[indexes]=water[indexes]\n",
      "print(ofinterest)"
     ],
     "language": "python",
     "metadata": {},
     "outputs": [
      {
       "output_type": "stream",
       "stream": "stdout",
       "text": [
        "[[ 0.          0.          0.          0.          0.          0.          0.\n",
        "   0.          0.          0.          0.          0.          0.          0.\n",
        "   0.        ]\n",
        " [ 0.          0.          0.          0.          0.          0.          0.\n",
        "   0.          0.32208014  0.          0.          0.          0.          0.954595\n",
        "   0.        ]\n",
        " [ 0.          0.          0.          0.16319702  0.          0.\n",
        "   0.69003006  0.          0.99271591  0.          0.          0.          0.\n",
        "   1.07391362  0.        ]\n",
        " [ 0.          0.          0.          0.          0.          0.          0.\n",
        "   0.          0.          0.          0.          0.          0.          0.\n",
        "   0.        ]\n",
        " [ 0.          0.          0.          0.          0.          0.          0.\n",
        "   0.          0.          0.          0.          0.          0.          0.\n",
        "   0.        ]\n",
        " [ 0.          0.          0.          0.          0.          0.          0.\n",
        "   0.          0.          0.          0.          0.          0.          0.\n",
        "   0.        ]\n",
        " [ 0.          0.          0.          0.          0.          0.          0.\n",
        "   0.          0.          0.          0.          0.05463953  0.          0.\n",
        "   0.        ]\n",
        " [ 0.          0.19686487  0.          0.97400389  0.          0.          0.\n",
        "   0.          0.          0.          0.          0.          0.          0.\n",
        "   0.        ]\n",
        " [ 0.          0.          0.27270854  0.          0.          0.          0.\n",
        "   0.          0.          0.          0.          0.          0.          0.\n",
        "   0.        ]\n",
        " [ 0.          0.          0.          0.          0.87909697  0.          0.\n",
        "   0.          0.          0.          0.          0.          0.          0.\n",
        "   0.        ]\n",
        " [ 0.69692826  0.          0.33578893  0.          0.          0.          0.\n",
        "   0.          0.          0.          0.          0.          0.00891911\n",
        "   0.          0.        ]\n",
        " [ 0.          0.          0.          1.09882569  0.          0.          0.\n",
        "   0.          0.          0.12564685  0.          0.          0.          0.\n",
        "   0.        ]\n",
        " [ 0.          0.          0.          0.          0.          0.          0.\n",
        "   0.          0.          0.          0.87920468  0.          0.          0.\n",
        "   0.        ]\n",
        " [ 0.          0.          0.          0.          0.          0.          0.\n",
        "   0.          0.          0.          0.46249902  0.          0.\n",
        "   0.25007238  0.        ]\n",
        " [ 0.          0.          0.89057131  0.          0.          0.          0.\n",
        "   0.          0.          0.          0.          0.          0.          0.\n",
        "   0.        ]]\n"
       ]
      }
     ],
     "prompt_number": 17
    },
    {
     "cell_type": "markdown",
     "metadata": {},
     "source": [
      "Ok. That narrows down the number of places to look at, for sure.  Let's create a plot that will let us look at the data at a glance to select an area.  "
     ]
    },
    {
     "cell_type": "code",
     "collapsed": false,
     "input": [
      "plt.imshow(ofinterest, aspect = 'auto', interpolation = 'nearest')"
     ],
     "language": "python",
     "metadata": {},
     "outputs": [
      {
       "metadata": {},
       "output_type": "pyout",
       "prompt_number": 18,
       "text": [
        "<matplotlib.image.AxesImage at 0xace6160>"
       ]
      },
      {
       "metadata": {},
       "output_type": "display_data",
       "png": "[encoded data removed]",
       "text": [
        "<matplotlib.figure.Figure at 0xac774e0>"
       ]
      }
     ],
     "prompt_number": 18
    },
    {
     "cell_type": "markdown",
     "metadata": {},
     "source": [
      "The only location to satisfy our previous definition of a livable location on Mars is found at row twelve, column 1. See if you can do similar steps to find somewhere with two locations adjacent to it, all of which are in the top 10% of amounts of water detected by our rover."
     ]
    },
    {
     "cell_type": "code",
     "collapsed": true,
     "input": [
      "mask = \n",
      "indices = \n",
      "ofinterest = np.zeros((len(water),len(water)))\n",
      "#you need to modify ofinterest to include the masked portions(top 90%) from the array \"water\"\n",
      "plt.imshow(ofinterest, aspect = 'auto', interpolation = 'nearest')"
     ],
     "language": "python",
     "metadata": {},
     "outputs": [
      {
       "metadata": {},
       "output_type": "pyout",
       "prompt_number": 76,
       "text": [
        "<matplotlib.image.AxesImage at 0x8d47518>"
       ]
      },
      {
       "metadata": {},
       "output_type": "display_data",
       "png": "[encoded data removed]",
       "text": [
        "<matplotlib.figure.Figure at 0x83fc5c0>"
       ]
      }
     ],
     "prompt_number": 76
    },
    {
     "cell_type": "markdown",
     "metadata": {},
     "source": [
      "Did you find it? it should be at Row 12, Column 4.  If you're having trouble, look at the example above and think about how you best might select the top 10% of water-bearing locations.  \n",
      "\n",
      "Looking at a plot to find it is nice, but it would be even better if we could find it programmatically, and have any and all viable locations returned and printed out for us, right?\n",
      "\n",
      "Why don't you try to create some code that will do just that"
     ]
    },
    {
     "cell_type": "code",
     "collapsed": true,
     "input": [],
     "language": "python",
     "metadata": {},
     "outputs": [
      {
       "ename": "TypeError",
       "evalue": "unsupported operand type(s) for -: 'tuple' and 'int'",
       "output_type": "pyerr",
       "traceback": [
        "\u001b[1;31m---------------------------------------------------------------------------\u001b[0m\n\u001b[1;31mTypeError\u001b[0m                                 Traceback (most recent call last)",
        "\u001b[1;32m<ipython-input-21-5b1abfa05f1d>\u001b[0m in \u001b[0;36m<module>\u001b[1;34m()\u001b[0m\n\u001b[1;32m----> 1\u001b[1;33m \u001b[0mmask2\u001b[0m \u001b[1;33m=\u001b[0m \u001b[1;33m(\u001b[0m\u001b[0mindices\u001b[0m \u001b[1;33m==\u001b[0m \u001b[0mindices\u001b[0m\u001b[1;33m-\u001b[0m\u001b[1;36m1\u001b[0m\u001b[1;33m)\u001b[0m\u001b[1;33m\u001b[0m\u001b[0m\n\u001b[0m",
        "\u001b[1;31mTypeError\u001b[0m: unsupported operand type(s) for -: 'tuple' and 'int'"
       ]
      }
     ],
     "prompt_number": 21
    },
    {
     "cell_type": "code",
     "collapsed": false,
     "input": [
      "from IPython.core.display import HTML\n",
      "def css_styling():\n",
      "    styles = open(\"../styles/custom.css\", \"r\").read()\n",
      "    return HTML(styles)\n",
      "css_styling()"
     ],
     "language": "python",
     "metadata": {},
     "outputs": [
      {
       "html": [
        "<link href='http://fonts.googleapis.com/css?family=Fenix' rel='stylesheet' type='text/css'>\n",
        "<link href='http://fonts.googleapis.com/css?family=Alegreya+Sans:100,300,400,500,700,800,900,100italic,300italic,400italic,500italic,700italic,800italic,900italic' rel='stylesheet' type='text/css'>\n",
        "<link href='http://fonts.googleapis.com/css?family=Source+Code+Pro:300,400' rel='stylesheet' type='text/css'>\n",
        "<style>\n",
        "    @font-face {\n",
        "        font-family: \"Computer Modern\";\n",
        "        src: url('http://mirrors.ctan.org/fonts/cm-unicode/fonts/otf/cmunss.otf');\n",
        "    }\n",
        "    div.cell{\n",
        "        width:800px;\n",
        "        margin-left:16% !important;\n",
        "        margin-right:auto;\n",
        "    }\n",
        "    h1 {\n",
        "        font-family: 'Alegreya Sans', sans-serif;\n",
        "    }\n",
        "    h2 {\n",
        "        font-family: 'Fenix', serif;\n",
        "    }\n",
        "    h3{\n",
        "\t\tfont-family: 'Fenix', serif;\n",
        "        margin-top:12px;\n",
        "        margin-bottom: 3px;\n",
        "       }\n",
        "\th4{\n",
        "\t\tfont-family: 'Fenix', serif;\n",
        "       }\n",
        "    h5 {\n",
        "        font-family: 'Alegreya Sans', sans-serif;\n",
        "    }\t   \n",
        "    div.text_cell_render{\n",
        "        font-family: 'Alegreya Sans',Computer Modern, \"Helvetica Neue\", Arial, Helvetica, Geneva, sans-serif;\n",
        "        line-height: 135%;\n",
        "        font-size: 120%;\n",
        "        width:600px;\n",
        "        margin-left:auto;\n",
        "        margin-right:auto;\n",
        "    }\n",
        "    .CodeMirror{\n",
        "            font-family: \"Source Code Pro\";\n",
        "\t\t\tfont-size: 90%;\n",
        "    }\n",
        "/*    .prompt{\n",
        "        display: None;\n",
        "    }*/\n",
        "    .text_cell_render h1 {\n",
        "        font-weight: 200;\n",
        "        font-size: 50pt;\n",
        "\t\tline-height: 100%;\n",
        "        color:#CD2305;\n",
        "        margin-bottom: 0.5em;\n",
        "        margin-top: 0.5em;\n",
        "        display: block;\n",
        "    }\t\n",
        "    .text_cell_render h5 {\n",
        "        font-weight: 300;\n",
        "        font-size: 16pt;\n",
        "        color: #CD2305;\n",
        "        font-style: italic;\n",
        "        margin-bottom: .5em;\n",
        "        margin-top: 0.5em;\n",
        "        display: block;\n",
        "    }\n",
        "    \n",
        "    .warning{\n",
        "        color: rgb( 240, 20, 20 )\n",
        "        }  \n",
        "</style>\n",
        "<script>\n",
        "    MathJax.Hub.Config({\n",
        "                        TeX: {\n",
        "                           extensions: [\"AMSmath.js\"]\n",
        "                           },\n",
        "                tex2jax: {\n",
        "                    inlineMath: [ ['$','$'], [\"\\\\(\",\"\\\\)\"] ],\n",
        "                    displayMath: [ ['$$','$$'], [\"\\\\[\",\"\\\\]\"] ]\n",
        "                },\n",
        "                displayAlign: 'center', // Change this to 'center' to center equations.\n",
        "                \"HTML-CSS\": {\n",
        "                    styles: {'.MathJax_Display': {\"margin\": 4}}\n",
        "                }\n",
        "        });\n",
        "</script>\n"
       ],
       "metadata": {},
       "output_type": "pyout",
       "prompt_number": 1,
       "text": [
        "<IPython.core.display.HTML at 0x516d6a0>"
       ]
      }
     ],
     "prompt_number": 1
    },
    {
     "cell_type": "code",
     "collapsed": false,
     "input": [],
     "language": "python",
     "metadata": {},
     "outputs": []
    }
   ],
   "metadata": {}
  }
 ]
}