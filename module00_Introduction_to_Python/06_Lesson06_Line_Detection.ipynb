{
 "metadata": {
  "name": "",
  "signature": "sha256:4c4e657fff949e3f35fe234addbe5299285e7f61c62ec2f300871060e6d83443"
 },
 "nbformat": 3,
 "nbformat_minor": 0,
 "worksheets": [
  {
   "cells": [
    {
     "cell_type": "code",
     "collapsed": false,
     "input": [
      "import Image\n",
      "import math\n",
      "import numpy as np\n",
      "\n",
      "import matplotlib.pyplot as plt\n",
      "%matplotlib inline"
     ],
     "language": "python",
     "metadata": {},
     "outputs": [],
     "prompt_number": 5
    },
    {
     "cell_type": "code",
     "collapsed": false,
     "input": [
      "def Draw_Image(img):\n",
      "    plt.figure(figsize=(len(img), 6))\n",
      "    plt.imshow(img, cmap=plt.cm.binary, interpolation='none')\n",
      "    plt.xticks([]), plt.yticks([])\n",
      "    plt.show()\n",
      "    \n",
      "def Draw_Line(m,b,image, val):\n",
      "    for x in range(len(image[0])):\n",
      "        y = int(m*x+b)\n",
      "        if 0 < y < len(image):\n",
      "            image[y][x] = val"
     ],
     "language": "python",
     "metadata": {},
     "outputs": [],
     "prompt_number": 21
    },
    {
     "cell_type": "code",
     "collapsed": false,
     "input": [
      "def Load_Image(image_name):\n",
      "    line = Image.open('resources/'+image_name)\n",
      "    return np.array(line)\n",
      "\n",
      "def Remove_Color(cArray):\n",
      "    Black_White = np.zeros((len(cArray),len(cArray[0])))\n",
      "    for y in range(len(cArray)):\n",
      "        for x in range(len(cArray[y])):\n",
      "            if not np.array_equal(cArray[y][x], [255,255,255,255]):\n",
      "                Black_White[y][x] = 255.\n",
      "    return Black_White\n"
     ],
     "language": "python",
     "metadata": {},
     "outputs": [],
     "prompt_number": 10
    },
    {
     "cell_type": "code",
     "collapsed": false,
     "input": [
      "def Fill_Accum(Black_White):\n",
      "    accum = np.zeros((int(math.sqrt(2)*len(Black_White)),629))\n",
      "    for y in range(len(Black_White)):\n",
      "        for x in range(len(Black_White[0])):\n",
      "          if (Black_White[y][x]==0): continue\n",
      "          for t in np.linspace(0,2*math.pi,100):\n",
      "            r = x*math.cos(t)+y*math.sin(t)\n",
      "            if r < 0:\n",
      "                continue\n",
      "            accum[int(r)][int(t*100)] += 2\n",
      "            \n",
      "    return accum\n"
     ],
     "language": "python",
     "metadata": {},
     "outputs": [],
     "prompt_number": 14
    },
    {
     "cell_type": "code",
     "collapsed": false,
     "input": [
      "def Find_Max(accum):\n",
      "    maximum = 0\n",
      "    r_top = 0\n",
      "    t_top = 0\n",
      "    for r in range(len(accum)):\n",
      "        for t in range(len(accum[0])):\n",
      "            if accum[r][t] > maximum:\n",
      "                maximum = accum[r][t]\n",
      "                r_top = r\n",
      "                t_top = t\n",
      "\n",
      "    r = r_top \n",
      "    t = t_top/100.\n",
      "    m = -1./math.tan(t)\n",
      "    b = r_top/math.sin(t)\n",
      "    \n",
      "    return (r,t,m,b)\n",
      "\n"
     ],
     "language": "python",
     "metadata": {},
     "outputs": [],
     "prompt_number": 12
    },
    {
     "cell_type": "code",
     "collapsed": false,
     "input": [
      "image   = Load_Image(\"line.png\")\n",
      "black   = Remove_Color(image)\n",
      "accum   = Fill_Accum(black)\n",
      "r,t,m,b = Find_Max(accum)\n",
      "\n",
      "Draw_Line(m,b, black, 128)\n",
      "\n",
      "Draw_Image(black)\n"
     ],
     "language": "python",
     "metadata": {},
     "outputs": [
      {
       "metadata": {},
       "output_type": "display_data",
       "png": "[encoded data removed]",
       "text": [
        "<matplotlib.figure.Figure at 0x10676f8d0>"
       ]
      }
     ],
     "prompt_number": 22
    },
    {
     "cell_type": "code",
     "collapsed": false,
     "input": [],
     "language": "python",
     "metadata": {},
     "outputs": []
    }
   ],
   "metadata": {}
  }
 ]
}