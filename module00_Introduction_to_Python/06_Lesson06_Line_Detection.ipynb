{
 "metadata": {
  "name": "",
  "signature": "sha256:373d8ce772115c32a221f25d28a7770afeddfc0c559ccc2841c36ce81c459416"
 },
 "nbformat": 3,
 "nbformat_minor": 0,
 "worksheets": [
  {
   "cells": [
    {
     "cell_type": "heading",
     "level": 1,
     "metadata": {},
     "source": [
      "JITCode Module 1, Lesson 6"
     ]
    },
    {
     "cell_type": "code",
     "collapsed": false,
     "input": [
      "import Image\n",
      "import math\n",
      "import numpy as np\n",
      "\n",
      "import matplotlib.pyplot as plt\n",
      "%matplotlib inline"
     ],
     "language": "python",
     "metadata": {},
     "outputs": [],
     "prompt_number": 3
    },
    {
     "cell_type": "markdown",
     "metadata": {},
     "source": [
      "Now that you have a good understanding of several programming basics such as functions, loops, and conditionals, lets take a moment to cement all of our skills and try our hand at a real-world problem:\n",
      "###Machine Vision\n",
      "Computers can do a lot of things better and faster than humans. However, our brains are much better suited to certain tasks, such as vision and comprehension. However, the question remains, how do we get a computer to recognise objects such as lines. Popularized by Richard Duda and Peter Hart, the **Hough Transform** allows us to get an equation for likely lines in an image.\n",
      "###The Hough Transform\n",
      "While we commonly express lines using the cartesian equation, $y=mx+b$, we can also express it as a polar ordered pair, $(r,\\theta)$. \n"
     ]
    },
    {
     "cell_type": "code",
     "collapsed": false,
     "input": [
      "from IPython.core.display import Image as img\n",
      "img('resources/polarline.png',width=300)"
     ],
     "language": "python",
     "metadata": {},
     "outputs": [
      {
       "metadata": {
        "png": {
         "width": 300
        }
       },
       "output_type": "pyout",
       "png": "[encoded data removed]",
       "prompt_number": 4,
       "text": [
        "<IPython.core.display.Image at 0x103d36f50>"
       ]
      }
     ],
     "prompt_number": 4
    },
    {
     "cell_type": "markdown",
     "metadata": {},
     "source": [
      "As you can see from the image above, $r$ represents the normal distance from the origin to the line, and $\\theta$ represents the angle between $r$ and the x-axis. Before we delve into the Hough method, let's look at some phenomena of polar lines."
     ]
    },
    {
     "cell_type": "markdown",
     "metadata": {},
     "source": [
      "Let's take a single point in cartesian space $(x,y)$. Now imagine drawing 100 lines through it, at various angles. It would look something like this:\n",
      "<img src=\"https://dl.dropboxusercontent.com/u/3889893/polar_line.gif\"></img>\n",
      "Now, an important thing to notice is the behavior of the radius (the blue line). Notice how it extends and then comes back in depending on the angle $\\theta$? If you thought \"sinusoid\", you would be absolutely correct. Graphing $r$ with respect to $\\theta$ produces a sinusoidal graph whose phase, amplitude and period are dependent on the coordinates of the point, $(x,y)$. Let's take a look at the sine graphs of multiple points on the same line, such as in this case:\n",
      "<img src=\"https://dl.dropboxusercontent.com/u/3889893/threeLines.gif\"></img>"
     ]
    },
    {
     "cell_type": "code",
     "collapsed": false,
     "input": [
      "img('resources/threesines.png',width=350)"
     ],
     "language": "python",
     "metadata": {},
     "outputs": [
      {
       "metadata": {
        "png": {
         "width": 350
        }
       },
       "output_type": "pyout",
       "png": "[encoded data removed]",
       "prompt_number": 5,
       "text": [
        "<IPython.core.display.Image at 0x103d36f10>"
       ]
      }
     ],
     "prompt_number": 5
    },
    {
     "cell_type": "markdown",
     "metadata": {},
     "source": [
      "Notice how they all intersect at $\\theta=45^\\circ$? That is the angle of the line on which all three points fall. If you look at the above animation, you can see that all three do in fact lie on that line. \n",
      "\n",
      "\\*\\*Side note about the second intersection - Since the other intersection is at $\\theta=235^\\circ$, but the radius is negative, it ends up being the exact same line as positive $r$ and $\\theta=45^\\circ$"
     ]
    },
    {
     "cell_type": "markdown",
     "metadata": {},
     "source": [
      "------\n",
      "Now that we have a general understanding of how the Hough Transform works, let's think about how to implement this in code. The Hough Transform requires a black and white image (note: Black and White, **not** grayscale) with presumably some sort of line present (additional noise will not hinder the algorithm). Then we make a two-dimensional array called an *accumulator* to store the sine waves of every point. Because it is storing polar values of $r$ and $\\theta$, the dimensions of the array will be $\\theta\\in[0,2\\pi]$ and $r\\in[0,\\sqrt{\\text{width}^2+\\text{height}^2}]$ (the maximum length of $r$ is the length of the image's diagonal). For every black point on the image, we draw 100 lines through it, and increase the value of `accum[r][`$\\theta$ `]` by 1. This will produce a sine wave, like the one seen above, for that point in the accumulator matrix. Once we have done this for every point on the image, the accumulator will represent a heat map of possible lines. For every index `accum[r][`$\\theta$ `]`, the value at that location indicates how many points lie on that line. So for instance, if `accum[20][1.57]=5`, that means that 5 points lie on the line $r=20 $, $\\theta=1.57$. To find a single line in an image, we need only figure out which index of `accum` is greatest. That will be our line."
     ]
    },
    {
     "cell_type": "markdown",
     "metadata": {},
     "source": [
      "------\n",
      "Before we go any further, let's take the method we used in the rover lessons to draw the map of mars, and use it to draw our images to the screen. We'll call this method `Draw_Image`"
     ]
    },
    {
     "cell_type": "code",
     "collapsed": false,
     "input": [
      "def Draw_Image(img):\n",
      "    plt.figure(figsize=(len(img), 6))\n",
      "    plt.imshow(img, cmap=plt.cm.binary, interpolation='none')\n",
      "    plt.xticks([]), plt.yticks([])\n",
      "    plt.show()"
     ],
     "language": "python",
     "metadata": {},
     "outputs": [],
     "prompt_number": 6
    },
    {
     "cell_type": "code",
     "collapsed": false,
     "input": [
      "def Load_Image(image_name):\n",
      "    line = Image.open('resources/'+image_name)\n",
      "    return np.array(line)\n",
      "\n",
      "def Remove_Color(cArray):\n",
      "    Black_White = np.zeros((len(cArray),len(cArray[0])))\n",
      "    for y in range(len(cArray)):\n",
      "        for x in range(len(cArray[y])):\n",
      "            if not np.array_equal(cArray[y][x], [255,255,255,255]):\n",
      "                Black_White[y][x] = 255.\n",
      "    return Black_White\n"
     ],
     "language": "python",
     "metadata": {},
     "outputs": [],
     "prompt_number": 7
    },
    {
     "cell_type": "code",
     "collapsed": false,
     "input": [
      "def Fill_Accum(Black_White):\n",
      "    accum = np.zeros((int(math.sqrt(2)*len(Black_White)),629))\n",
      "    for y in range(len(Black_White)):\n",
      "        for x in range(len(Black_White[0])):\n",
      "          if (Black_White[y][x]==0): continue\n",
      "          for t in np.linspace(0,2*math.pi,100):\n",
      "            r = x*math.cos(t)+y*math.sin(t)\n",
      "            if r < 0:\n",
      "                continue\n",
      "            accum[int(r)][int(t*100)] += 2\n",
      "            \n",
      "    return accum\n"
     ],
     "language": "python",
     "metadata": {},
     "outputs": [],
     "prompt_number": 8
    },
    {
     "cell_type": "code",
     "collapsed": false,
     "input": [
      "def Find_Max(accum):\n",
      "    maximum = 0\n",
      "    r_top = 0\n",
      "    t_top = 0\n",
      "    for r in range(len(accum)):\n",
      "        for t in range(len(accum[0])):\n",
      "            if accum[r][t] > maximum:\n",
      "                maximum = accum[r][t]\n",
      "                r_top = r\n",
      "                t_top = t\n",
      "\n",
      "    r = r_top \n",
      "    t = t_top/100.\n",
      "    m = -1./math.tan(t)\n",
      "    b = r_top/math.sin(t)\n",
      "    \n",
      "    return (r,t,m,b)\n",
      "\n"
     ],
     "language": "python",
     "metadata": {},
     "outputs": [],
     "prompt_number": 9
    },
    {
     "cell_type": "code",
     "collapsed": false,
     "input": [
      "def Draw_Line(m,b,image, val):\n",
      "    for x in range(len(image[0])):\n",
      "        y = int(m*x+b)\n",
      "        if 0 < y < len(image):\n",
      "            image[y][x] = val"
     ],
     "language": "python",
     "metadata": {},
     "outputs": [],
     "prompt_number": 10
    },
    {
     "cell_type": "code",
     "collapsed": false,
     "input": [
      "image   = Load_Image(\"line2.png\")\n",
      "black   = Remove_Color(image)\n",
      "accum   = Fill_Accum(black)\n",
      "r,t,m,b = Find_Max(accum)\n",
      "\n",
      "Draw_Line(m,b, black, 128)\n",
      "\n",
      "Draw_Image(black)\n"
     ],
     "language": "python",
     "metadata": {},
     "outputs": [
      {
       "metadata": {},
       "output_type": "display_data",
       "png": "[encoded data removed]",
       "text": [
        "<matplotlib.figure.Figure at 0x107358d50>"
       ]
      }
     ],
     "prompt_number": 11
    },
    {
     "cell_type": "code",
     "collapsed": false,
     "input": [
      "from IPython.core.display import HTML\n",
      "def css_styling():\n",
      "    styles = open(\"../styles/custom.css\", \"r\").read()\n",
      "    return HTML(styles)\n",
      "css_styling()"
     ],
     "language": "python",
     "metadata": {},
     "outputs": [
      {
       "html": [
        "<link href='http://fonts.googleapis.com/css?family=Fenix' rel='stylesheet' type='text/css'>\n",
        "<link href='http://fonts.googleapis.com/css?family=Alegreya+Sans:100,300,400,500,700,800,900,100italic,300italic,400italic,500italic,700italic,800italic,900italic' rel='stylesheet' type='text/css'>\n",
        "<link href='http://fonts.googleapis.com/css?family=Source+Code+Pro:300,400' rel='stylesheet' type='text/css'>\n",
        "<style>\n",
        "    @font-face {\n",
        "        font-family: \"Computer Modern\";\n",
        "        src: url('http://mirrors.ctan.org/fonts/cm-unicode/fonts/otf/cmunss.otf');\n",
        "    }\n",
        "    div.cell{\n",
        "        width:800px;\n",
        "        margin-left:16% !important;\n",
        "        margin-right:auto;\n",
        "    }\n",
        "    h1 {\n",
        "        font-family: 'Alegreya Sans', sans-serif;\n",
        "    }\n",
        "    h2 {\n",
        "        font-family: 'Fenix', serif;\n",
        "    }\n",
        "    h3{\n",
        "\t\tfont-family: 'Fenix', serif;\n",
        "        margin-top:12px;\n",
        "        margin-bottom: 3px;\n",
        "       }\n",
        "\th4{\n",
        "\t\tfont-family: 'Fenix', serif;\n",
        "       }\n",
        "    h5 {\n",
        "        font-family: 'Alegreya Sans', sans-serif;\n",
        "    }\t   \n",
        "    div.text_cell_render{\n",
        "        font-family: 'Alegreya Sans',Computer Modern, \"Helvetica Neue\", Arial, Helvetica, Geneva, sans-serif;\n",
        "        line-height: 135%;\n",
        "        font-size: 120%;\n",
        "        width:600px;\n",
        "        margin-left:auto;\n",
        "        margin-right:auto;\n",
        "    }\n",
        "    .CodeMirror{\n",
        "            font-family: \"Source Code Pro\";\n",
        "\t\t\tfont-size: 90%;\n",
        "    }\n",
        "/*    .prompt{\n",
        "        display: None;\n",
        "    }*/\n",
        "    .text_cell_render h1 {\n",
        "        font-weight: 200;\n",
        "        font-size: 50pt;\n",
        "\t\tline-height: 100%;\n",
        "        color:#CD2305;\n",
        "        margin-bottom: 0.5em;\n",
        "        margin-top: 0.5em;\n",
        "        display: block;\n",
        "    }\t\n",
        "    .text_cell_render h5 {\n",
        "        font-weight: 300;\n",
        "        font-size: 16pt;\n",
        "        color: #CD2305;\n",
        "        font-style: italic;\n",
        "        margin-bottom: .5em;\n",
        "        margin-top: 0.5em;\n",
        "        display: block;\n",
        "    }\n",
        "    \n",
        "    .warning{\n",
        "        color: rgb( 240, 20, 20 )\n",
        "    }  \n",
        "</style>\n",
        "<script>\n",
        "    MathJax.Hub.Config({\n",
        "                        TeX: {\n",
        "                           extensions: [\"AMSmath.js\"]\n",
        "                           },\n",
        "                tex2jax: {\n",
        "                    inlineMath: [ ['$','$'], [\"\\\\(\",\"\\\\)\"] ],\n",
        "                    displayMath: [ ['$$','$$'], [\"\\\\[\",\"\\\\]\"] ]\n",
        "                },\n",
        "                displayAlign: 'center', // Change this to 'center' to center equations.\n",
        "                \"HTML-CSS\": {\n",
        "                    styles: {'.MathJax_Display': {\"margin\": 4}}\n",
        "                }\n",
        "        });\n",
        "</script>\n"
       ],
       "metadata": {},
       "output_type": "pyout",
       "prompt_number": 12,
       "text": [
        "<IPython.core.display.HTML at 0x103d65950>"
       ]
      }
     ],
     "prompt_number": 12
    },
    {
     "cell_type": "code",
     "collapsed": false,
     "input": [],
     "language": "python",
     "metadata": {},
     "outputs": [],
     "prompt_number": 12
    }
   ],
   "metadata": {}
  }
 ]
}