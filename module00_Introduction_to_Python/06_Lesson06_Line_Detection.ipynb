{
 "metadata": {
  "name": "",
  "signature": "sha256:2e6f670c9dfa8e7a486bc585486d213820be98b4bd9bbd7fb9742bab6c014cf8"
 },
 "nbformat": 3,
 "nbformat_minor": 0,
 "worksheets": [
  {
   "cells": [
    {
     "cell_type": "heading",
     "level": 1,
     "metadata": {},
     "source": [
      "JITCode Module 1, Lesson 6"
     ]
    },
    {
     "cell_type": "code",
     "collapsed": false,
     "input": [
      "import Image\n",
      "import math\n",
      "import numpy as np\n",
      "\n",
      "import matplotlib.pyplot as plt\n",
      "%matplotlib inline"
     ],
     "language": "python",
     "metadata": {},
     "outputs": [],
     "prompt_number": 1
    },
    {
     "cell_type": "markdown",
     "metadata": {},
     "source": [
      "Now that you have a good understanding of several programming basics such as functions, loops, and conditionals, let's take a moment to cement all of our skills and try our hand at a real-world problem:\n",
      "###Machine Vision\n",
      "Computers can do a lot of things faster and more efficiently than humans. However, our brains are much better suited to certain tasks, such as vision and comprehension. However, sometimes we do want computers to be able to do things like recognize objects such as lines. To do this we use a method, popularized by Richard Duda and Peter Hart, called the **Hough Transform**. It allows us to get an equation for likely lines in an image.\n",
      "###The Hough Transform\n",
      "While we commonly express lines using the cartesian equation, $y=mx+b$, we can also express them as a polar ordered pair, $(r,\\theta)$. \n"
     ]
    },
    {
     "cell_type": "code",
     "collapsed": false,
     "input": [
      "from IPython.core.display import Image as img\n",
      "img('resources/polarline.png',width=300)"
     ],
     "language": "python",
     "metadata": {},
     "outputs": [
      {
       "metadata": {
        "png": {
         "width": 300
        }
       },
       "output_type": "pyout",
       "png": "[encoded data removed]",
       "prompt_number": 2,
       "text": [
        "<IPython.core.display.Image at 0x107358590>"
       ]
      }
     ],
     "prompt_number": 2
    },
    {
     "cell_type": "markdown",
     "metadata": {},
     "source": [
      "As you can see from the image above, $r$ represents the normal distance from the origin to the line, and $\\theta$ represents the angle between $r$ and the x-axis. Before we delve into the Hough method, let's look at some phenomena of polar lines."
     ]
    },
    {
     "cell_type": "markdown",
     "metadata": {},
     "source": [
      "Take a single point in cartesian space $(x,y)$. Now imagine drawing 100 lines through it, at various angles. It would look something like this:\n",
      "<img src=\"https://dl.dropboxusercontent.com/u/3889893/polar_line.gif\"></img>\n",
      "Now, an important thing to notice is the behavior of the radius (the blue line). Notice how it extends and then comes back in depending on the angle $\\theta$? If you thought \"sinusoid\", you would be absolutely correct. Graphing $r$ with respect to $\\theta$ produces a sinusoidal graph whose phase, amplitude and period are dependent on the coordinates of the point, $(x,y)$. Let's take a look at the sine graphs of multiple points on the same line, such as in this case:\n",
      "<img src=\"https://dl.dropboxusercontent.com/u/3889893/threeLines.gif\"></img>"
     ]
    },
    {
     "cell_type": "code",
     "collapsed": false,
     "input": [
      "img('resources/threesines.png',width=350)"
     ],
     "language": "python",
     "metadata": {},
     "outputs": [
      {
       "metadata": {
        "png": {
         "width": 350
        }
       },
       "output_type": "pyout",
       "png": "[encoded data removed]",
       "prompt_number": 3,
       "text": [
        "<IPython.core.display.Image at 0x107358fd0>"
       ]
      }
     ],
     "prompt_number": 3
    },
    {
     "cell_type": "markdown",
     "metadata": {},
     "source": [
      "Notice how they all intersect at $\\theta=45^\\circ$? That is the angle of the line on which all three points fall. If you look at the above animation, you can see that all three do in fact lie on that line. \n",
      "\n",
      "\\*\\*Side note about the second intersection - Since the other intersection is at $\\theta=235^\\circ$, but the radius is negative, it ends up being the exact same line as positive $r$ and $\\theta=45^\\circ$"
     ]
    },
    {
     "cell_type": "markdown",
     "metadata": {},
     "source": [
      "The Hough Transform works on this general property, the fact that all points on a line will produce sinusoids that intersect at a single $(r,\\theta)$. To find the line, we need only find that intersection.\n",
      "###Implementation\n",
      "Now that we have a general understanding of how the Hough Transform works, let's think about how to implement this in code. The Hough Transform requires a black and white image (note: Black and White, **not** grayscale) with presumably some sort of line present (additional noise will not hinder the algorithm). Then we make a two-dimensional array called an *accumulator* to store the sine waves of every point. Because it is storing polar values of $r$ and $\\theta$, the dimensions of the array will be $\\theta\\in[0,2\\pi]$ and $r\\in[0,\\sqrt{\\text{width}^2+\\text{height}^2}]$ (the maximum length of $r$ is the length of the image's diagonal). For every \"on\" point on the image, we draw 100 lines through it, and increase the value of `accum[r][`$\\theta$ `]` by 1. This will produce a sine wave, like the one seen above, for that point in the accumulator matrix. Once we have done this for every point on the image, the accumulator will represent a heat map of possible lines. For every index `accum[r][`$\\theta$ `]`, the value at that location indicates how many points lie on that line. So for instance, if `accum[20][1.57]=5`, that means that 5 points lie on the line $r=20 $, $\\theta=1.57$. To find a single line in an image, we need only figure out which index of `accum` is greatest. That will be our line."
     ]
    },
    {
     "cell_type": "markdown",
     "metadata": {},
     "source": [
      "------\n",
      "Before we go any further, let's take the method we used in the rover lessons to draw the map of mars, and use it to draw our images to the screen. We'll call this method `Draw_Image`"
     ]
    },
    {
     "cell_type": "code",
     "collapsed": false,
     "input": [
      "def Draw_Image(img):\n",
      "    plt.figure(figsize=(len(img), 6))\n",
      "    plt.imshow(img, cmap=plt.cm.binary, interpolation='none')\n",
      "    plt.xticks([]), plt.yticks([])\n",
      "    plt.show()"
     ],
     "language": "python",
     "metadata": {},
     "outputs": [],
     "prompt_number": 4
    },
    {
     "cell_type": "markdown",
     "metadata": {},
     "source": [
      "The first thing we need to get started is a way to pull in an image file as data. All of our images will be 32-bit pngs. A 32-bit png means that for every pixel, it stores in 4 bytes of data, 1 byte for **red**, 1 byte for **green**, 1 byte for **blue**, and 1 byte for **alpha transparency**. So a 256x256 pixel png can really be viewed as a 3 dimensional matrix with 262,144 numbers in it. The first dimension is height, the second is width, and the third is color. \n",
      "\n",
      "Fortunately for us, numpy has a method that will turn an image (returned from the python builtin: `Image`) into a 3D array. Let's write a function that will take an image file name and return the 3D array."
     ]
    },
    {
     "cell_type": "code",
     "collapsed": false,
     "input": [
      "def Load_Image(image_name):\n",
      "    line = Image.open('resources/'+image_name)\n",
      "    return np.array(line)"
     ],
     "language": "python",
     "metadata": {},
     "outputs": [],
     "prompt_number": 5
    },
    {
     "cell_type": "markdown",
     "metadata": {},
     "source": [
      "One of the most important tenets of debugging is that you **test your code frequently**. So before we do anything with it, let's take a look at what we have:"
     ]
    },
    {
     "cell_type": "code",
     "collapsed": false,
     "input": [
      "tmp_line = Load_Image(\"line.png\")\n",
      "print tmp_line\n",
      "Draw_Image(tmp_line)"
     ],
     "language": "python",
     "metadata": {},
     "outputs": [
      {
       "output_type": "stream",
       "stream": "stdout",
       "text": [
        "[[[255 255 255 255]\n",
        "  [255 255 255 255]\n",
        "  [255 255 255 255]\n",
        "  ..., \n",
        "  [255 255 255 255]\n",
        "  [255 255 255 255]\n",
        "  [255 255 255 255]]\n",
        "\n",
        " [[255 255 255 255]\n",
        "  [255 255 255 255]\n",
        "  [255 255 255 255]\n",
        "  ..., \n",
        "  [255 255 255 255]\n",
        "  [255 255 255 255]\n",
        "  [255 255 255 255]]\n",
        "\n",
        " [[255 255 255 255]\n",
        "  [255 255 255 255]\n",
        "  [255 255 255 255]\n",
        "  ..., \n",
        "  [255 255 255 255]\n",
        "  [255 255 255 255]\n",
        "  [255 255 255 255]]\n",
        "\n",
        " ..., \n",
        " [[255 255 255 255]\n",
        "  [255 255 255 255]\n",
        "  [255 255 255 255]\n",
        "  ..., \n",
        "  [255 255 255 255]\n",
        "  [255 255 255 255]\n",
        "  [255 255 255 255]]\n",
        "\n",
        " [[255 255 255 255]\n",
        "  [255 255 255 255]\n",
        "  [255 255 255 255]\n",
        "  ..., \n",
        "  [255 255 255 255]\n",
        "  [255 255 255 255]\n",
        "  [255 255 255 255]]\n",
        "\n",
        " [[255 255 255 255]\n",
        "  [255 255 255 255]\n",
        "  [255 255 255 255]\n",
        "  ..., \n",
        "  [255 255 255 255]\n",
        "  [255 255 255 255]\n",
        "  [255 255 255 255]]]\n"
       ]
      },
      {
       "metadata": {},
       "output_type": "display_data",
       "png": "[encoded data removed]",
       "text": [
        "<matplotlib.figure.Figure at 0x107381d10>"
       ]
      }
     ],
     "prompt_number": 6
    },
    {
     "cell_type": "markdown",
     "metadata": {},
     "source": [
      "Perfect! As we can see, not only do we have a 3 dimensional array with 4 values in every cell, but those values visually represent a line. However, although the image itself is black and white, we are actually storing it in full color. Let's write a method `Remove_Color` that takes a full color image, and returns a black and white one. "
     ]
    },
    {
     "cell_type": "code",
     "collapsed": false,
     "input": [
      "def Remove_Color(cArray):\n",
      "    Black_White = np.zeros((len(cArray),len(cArray[0])))\n",
      "    for y in range(len(cArray)):\n",
      "        for x in range(len(cArray[y])):\n",
      "            if not np.array_equal(cArray[y][x][:3], [255,255,255]):\n",
      "                Black_White[y][x] = 1\n",
      "    return Black_White"
     ],
     "language": "python",
     "metadata": {},
     "outputs": [],
     "prompt_number": 7
    },
    {
     "cell_type": "markdown",
     "metadata": {},
     "source": [
      "The first thing we do in this function is create a second matrix that, while only two dimensional, is otherwise the same size as the original image. We use `np.zeros` to do this, a numpy method that creates an empty matrix of size (x,y,z,...) and fills it with zeros. Then, we loop through both the `y` and `x` indicies of the array, and if the color is not equal to white \\[255, 255, 255\\], it changes the value of Black_White at that index to 1, instead of 0. Now notice that when we use `np.array_equal`, although we said that each cell was 4 numbers, we are comparing it to a matrix that only has three. That's because we end up **splicing** `cArray[y][x]`. That is what the `[:3]` means. \n",
      "###Splicing\n",
      "Splicing an array means you only take a certain part of the array. In Python you splice an array from one index to another, separated by a colon. So,  \n",
      "```Python\n",
      "[0,1,2,3,4,5][2:4]\n",
      "```\n",
      "Would return\n",
      "```Python\n",
      "[2,3]\n",
      "```\n",
      "Which are all of the values from index 2, up to but not including index 4. Also, if you do not include one \u2013or both\u2013 of the numbers, it will assume you mean \"start at the beginning\", and \"go til the end\", respectively. So, `array[:]` will copy an entire array.\n",
      "\n",
      "-------\n",
      "So now we have a two dimensional array, with 1s representing a point that is (possibly) on our line, and 0s representing empty space. Now comes the most crucial part of the process, creating and filling an accumulator with the data from each point. But before we do:"
     ]
    },
    {
     "cell_type": "code",
     "collapsed": false,
     "input": [
      "tmp_bnw = Remove_Color(tmp_line)\n",
      "Draw_Image(tmp_bnw)"
     ],
     "language": "python",
     "metadata": {},
     "outputs": [
      {
       "metadata": {},
       "output_type": "display_data",
       "png": "[encoded data removed]",
       "text": [
        "<matplotlib.figure.Figure at 0x10742ba10>"
       ]
      }
     ],
     "prompt_number": 8
    },
    {
     "cell_type": "markdown",
     "metadata": {},
     "source": [
      "Good! It looks the same as the one above, only this one isn't storing any color data. Now for a method `Fill_Accum` to create an accumulator with data about our points. "
     ]
    },
    {
     "cell_type": "code",
     "collapsed": false,
     "input": [
      "def Fill_Accum(Black_White):\n",
      "    accum = np.zeros((int(math.sqrt(2)*len(Black_White)),629))\n",
      "    for y in range(len(Black_White)):\n",
      "        for x in range(len(Black_White[0])):\n",
      "          if (Black_White[y][x]==0): continue\n",
      "          for t in np.linspace(0,2*math.pi,100):\n",
      "            r = x*math.cos(t)+y*math.sin(t)\n",
      "            if r < 0:\n",
      "                continue\n",
      "            accum[int(r)][int(t*100)] += 1\n",
      "            \n",
      "    return accum\n"
     ],
     "language": "python",
     "metadata": {},
     "outputs": [],
     "prompt_number": 9
    },
    {
     "cell_type": "markdown",
     "metadata": {},
     "source": [
      "The code for Fill_Accum should look very similar to `Remove_Color`, except that for every point $(x,y)$, we also loop through `np.linspace(0,2*math.pi,100)` for every point. If you remember back to module 1, `np.linspace(beginning, end, interval)` will create an array that starts at `beginning`, ends at `end`, and has `interval` indices. So `t` (short for theta), will represent the angles of 100 lines passing through that point. Then, once we have that angle, we can calculate the radius with a little bit of trig:"
     ]
    },
    {
     "cell_type": "code",
     "collapsed": false,
     "input": [
      "img('resources/houghtrig.png',width=450)"
     ],
     "language": "python",
     "metadata": {},
     "outputs": [
      {
       "metadata": {
        "png": {
         "width": 450
        }
       },
       "output_type": "pyout",
       "png": "[encoded data removed]",
       "prompt_number": 10,
       "text": [
        "<IPython.core.display.Image at 0x107381210>"
       ]
      }
     ],
     "prompt_number": 10
    },
    {
     "cell_type": "markdown",
     "metadata": {},
     "source": [
      "For this, we will need to solve for $r$ as a function $f(\\theta,x,y)$. Before we start the proof, lets establish a few givens\n",
      "* $\\phi=90-\\theta$\n",
      "* $y=mx+b$\n",
      "* $m=\\dfrac{\\Delta y}{\\Delta x}$\n",
      "* $tan(\\theta)=\\dfrac{\\Delta y}{\\Delta x}$\n",
      "\n",
      "All of those should make sense (although, I did take a few liberties with the expression of $tan(\\theta)$). Without further ado, the proof:\n",
      "\n",
      "----\n",
      "$m=-tan(\\phi)^*$<br>\n",
      "$b=y-mx$<br>\n",
      "$b=y-x*(-tan(\\phi)))$<br>\n",
      "$b=y+x*tan(\\phi)$<br>\n",
      "$r=b*cos(\\phi)$<br>\n",
      "$r=(y+x*tan(\\phi)) *cos(\\phi)$<br>\n",
      "$r=y *cos(\\phi)+x *sin(\\phi)$<br>\n",
      "$r=y *sin(\\theta)+x *cos(\\theta)$<br>\n",
      "\n",
      "$^*$The negative sign is there because we are counting $\\theta$ as the angle **below** the horizontal\n",
      "\n",
      "----\n",
      "As you can see, this equation is the one we used in `Fill_Accum`, and unsurprisingly, is also the equation for the radius of a point in polar. \n",
      "\n",
      "The only other thing to note in `Fill_Accum` is the fact that, since we cannot use floats as indices for an array, we have to round them to the nearest integer (using `int`), and in the case of $\\theta$, multiply it by 100 so that we don't lose any sigfigs during rounding. \n",
      "\n",
      "----\n",
      "Now that we have our accumulator, let's see what it looks like. If it is working, we should see one sine wave for every point on the image. "
     ]
    },
    {
     "cell_type": "code",
     "collapsed": false,
     "input": [
      "tmp_accum = Fill_Accum(tmp_bnw)\n",
      "Draw_Image(tmp_accum)"
     ],
     "language": "python",
     "metadata": {},
     "outputs": [
      {
       "metadata": {},
       "output_type": "display_data",
       "png": "[encoded data removed]",
       "text": [
        "<matplotlib.figure.Figure at 0x1073819d0>"
       ]
      }
     ],
     "prompt_number": 11
    },
    {
     "cell_type": "markdown",
     "metadata": {},
     "source": [
      "While it is definitely faint, you can certainly see how all of the waves fit together to create the shape we see in the accumulator matrix. Now all we have to do is find the point where all of the sinusoids intersect. It should be the darkest point on the accumulator matrix, or, the index with the highest value. Let's write a function `Find_Max` to locate this point. "
     ]
    },
    {
     "cell_type": "code",
     "collapsed": false,
     "input": [
      "def Find_Max(accum):\n",
      "    maximum = 0\n",
      "    r_top = 0\n",
      "    t_top = 0\n",
      "    for r in range(len(accum)):\n",
      "        for t in range(len(accum[0])):\n",
      "            if accum[r][t] > maximum:\n",
      "                maximum = accum[r][t]\n",
      "                r_top = r\n",
      "                t_top = t\n",
      "\n",
      "    r = r_top \n",
      "    t = t_top/100.\n",
      "    m = -1./math.tan(t)\n",
      "    b = r_top/math.sin(t)\n",
      "    \n",
      "    return (r,t,m,b)\n",
      "\n"
     ],
     "language": "python",
     "metadata": {},
     "outputs": [],
     "prompt_number": 12
    },
    {
     "cell_type": "markdown",
     "metadata": {},
     "source": [
      "As you can see, this code is not too complicated. We employ three variables to keep track of the maximum value, the highest $r$ value, and the highest $\\theta$ value in the accumulator. Then, once we've checked every value in it, we calculate $m$ and $b$ from the $r$ and $\\theta$. Finally, we return all four values in a single **tuple**. \n",
      "\n",
      "Let's see what we get from it:"
     ]
    },
    {
     "cell_type": "code",
     "collapsed": false,
     "input": [
      "tmp_vals = Find_Max(tmp_accum)\n",
      "print tmp_vals"
     ],
     "language": "python",
     "metadata": {},
     "outputs": [
      {
       "output_type": "stream",
       "stream": "stdout",
       "text": [
        "(206, 0.82, -0.933085001035215, 281.7495383608315)\n"
       ]
      }
     ],
     "prompt_number": 13
    },
    {
     "cell_type": "markdown",
     "metadata": {},
     "source": [
      "Hmmm, a slope of -0.933 and a y-intercept of 282. It sounds like it could be correct, but it would be great if we had a way to easily check it. Let's write one more function, `Draw_Line`, to take our original image, and draw the calculated line on top of it. "
     ]
    },
    {
     "cell_type": "code",
     "collapsed": false,
     "input": [
      "def Draw_Line(m,b,image, val):\n",
      "    for x in range(len(image[0])):\n",
      "        y = int(m*x+b)\n",
      "        if 0 < y < len(image):\n",
      "            image[y][x] = val + [200]\n",
      "    return image"
     ],
     "language": "python",
     "metadata": {},
     "outputs": [],
     "prompt_number": 14
    },
    {
     "cell_type": "markdown",
     "metadata": {},
     "source": [
      "Our draw line works much like a calculator's graphing program. It loops through all of the possible x values, and for each one calculates the corresponding y value, and then marks `image` with the color of `val`. (Note, we make it slightly transparent so that you can see the underlying line). Let's try it out, and make sure that all of our math was correct."
     ]
    },
    {
     "cell_type": "code",
     "collapsed": false,
     "input": [
      "tmp_finis = Draw_Line(tmp_vals[2], tmp_vals[3], tmp_line, [255,0,0])\n",
      "\n",
      "Draw_Image(tmp_finis)"
     ],
     "language": "python",
     "metadata": {},
     "outputs": [
      {
       "metadata": {},
       "output_type": "display_data",
       "png": "[encoded data removed]",
       "text": [
        "<matplotlib.figure.Figure at 0x10742b810>"
       ]
      }
     ],
     "prompt_number": 15
    },
    {
     "cell_type": "markdown",
     "metadata": {},
     "source": [
      "It worked! Our hough transform was able to detect the line from among all of the possible ones, and we were even able to draw it on top of the original image. The most impressive part, we were able to do it in only 50 lines of code. Hopefully this module illustrated how useful code can be, and how easy it is to solve complex problems with only a few lines of code. \n",
      "\n",
      "----\n",
      "\n",
      "Here are all of the calls required to find the line. Try it out with different images to make sure it works!"
     ]
    },
    {
     "cell_type": "code",
     "collapsed": false,
     "input": [
      "image   = Load_Image(\"line2.png\") #line.png, line2.png, line3.png, linenoise.png\n",
      "black   = Remove_Color(image)\n",
      "accum   = Fill_Accum(black)\n",
      "r,t,m,b = Find_Max(accum)\n",
      "\n",
      "final   = Draw_Line(m,b, image, [0,128,255])\n",
      "\n",
      "Draw_Image(final)\n"
     ],
     "language": "python",
     "metadata": {},
     "outputs": [
      {
       "metadata": {},
       "output_type": "display_data",
       "png": "[encoded data removed]",
       "text": [
        "<matplotlib.figure.Figure at 0x1073e4e10>"
       ]
      }
     ],
     "prompt_number": 16
    },
    {
     "cell_type": "code",
     "collapsed": false,
     "input": [
      "from IPython.core.display import HTML\n",
      "def css_styling():\n",
      "    styles = open(\"../styles/custom.css\", \"r\").read()\n",
      "    return HTML(styles)\n",
      "css_styling()"
     ],
     "language": "python",
     "metadata": {},
     "outputs": [
      {
       "html": [
        "<link href='http://fonts.googleapis.com/css?family=Fenix' rel='stylesheet' type='text/css'>\n",
        "<link href='http://fonts.googleapis.com/css?family=Alegreya+Sans:100,300,400,500,700,800,900,100italic,300italic,400italic,500italic,700italic,800italic,900italic' rel='stylesheet' type='text/css'>\n",
        "<link href='http://fonts.googleapis.com/css?family=Source+Code+Pro:300,400' rel='stylesheet' type='text/css'>\n",
        "<style>\n",
        "    @font-face {\n",
        "        font-family: \"Computer Modern\";\n",
        "        src: url('http://mirrors.ctan.org/fonts/cm-unicode/fonts/otf/cmunss.otf');\n",
        "    }\n",
        "    div.cell{\n",
        "        width:800px;\n",
        "        margin-left:16% !important;\n",
        "        margin-right:auto;\n",
        "    }\n",
        "    h1 {\n",
        "        font-family: 'Alegreya Sans', sans-serif;\n",
        "    }\n",
        "    h2 {\n",
        "        font-family: 'Fenix', serif;\n",
        "    }\n",
        "    h3{\n",
        "\t\tfont-family: 'Fenix', serif;\n",
        "        margin-top:12px;\n",
        "        margin-bottom: 3px;\n",
        "       }\n",
        "\th4{\n",
        "\t\tfont-family: 'Fenix', serif;\n",
        "       }\n",
        "    h5 {\n",
        "        font-family: 'Alegreya Sans', sans-serif;\n",
        "    }\t   \n",
        "    div.text_cell_render{\n",
        "        font-family: 'Alegreya Sans',Computer Modern, \"Helvetica Neue\", Arial, Helvetica, Geneva, sans-serif;\n",
        "        line-height: 135%;\n",
        "        font-size: 120%;\n",
        "        width:600px;\n",
        "        margin-left:auto;\n",
        "        margin-right:auto;\n",
        "    }\n",
        "    .CodeMirror{\n",
        "            font-family: \"Source Code Pro\";\n",
        "\t\t\tfont-size: 90%;\n",
        "    }\n",
        "/*    .prompt{\n",
        "        display: None;\n",
        "    }*/\n",
        "    .text_cell_render h1 {\n",
        "        font-weight: 200;\n",
        "        font-size: 50pt;\n",
        "\t\tline-height: 100%;\n",
        "        color:#CD2305;\n",
        "        margin-bottom: 0.5em;\n",
        "        margin-top: 0.5em;\n",
        "        display: block;\n",
        "    }\t\n",
        "    .text_cell_render h5 {\n",
        "        font-weight: 300;\n",
        "        font-size: 16pt;\n",
        "        color: #CD2305;\n",
        "        font-style: italic;\n",
        "        margin-bottom: .5em;\n",
        "        margin-top: 0.5em;\n",
        "        display: block;\n",
        "    }\n",
        "    \n",
        "    .warning{\n",
        "        color: rgb( 240, 20, 20 )\n",
        "    }  \n",
        "</style>\n",
        "<script>\n",
        "    MathJax.Hub.Config({\n",
        "                        TeX: {\n",
        "                           extensions: [\"AMSmath.js\"]\n",
        "                           },\n",
        "                tex2jax: {\n",
        "                    inlineMath: [ ['$','$'], [\"\\\\(\",\"\\\\)\"] ],\n",
        "                    displayMath: [ ['$$','$$'], [\"\\\\[\",\"\\\\]\"] ]\n",
        "                },\n",
        "                displayAlign: 'center', // Change this to 'center' to center equations.\n",
        "                \"HTML-CSS\": {\n",
        "                    styles: {'.MathJax_Display': {\"margin\": 4}}\n",
        "                }\n",
        "        });\n",
        "</script>\n"
       ],
       "metadata": {},
       "output_type": "pyout",
       "prompt_number": 17,
       "text": [
        "<IPython.core.display.HTML at 0x107358990>"
       ]
      }
     ],
     "prompt_number": 17
    }
   ],
   "metadata": {}
  }
 ]
}
