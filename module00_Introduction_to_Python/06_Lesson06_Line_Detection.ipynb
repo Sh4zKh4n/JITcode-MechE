{
 "metadata": {
  "name": "",
  "signature": "sha256:0d28fe4fc223db9d2f55deb9ba93730d928f30b2351f1a1afe852bc2e1d5882e"
 },
 "nbformat": 3,
 "nbformat_minor": 0,
 "worksheets": [
  {
   "cells": [
    {
     "cell_type": "code",
     "collapsed": false,
     "input": [
      "import Image\n",
      "import math\n",
      "import numpy as np\n",
      "\n",
      "import matplotlib.pyplot as plt\n",
      "%matplotlib inline"
     ],
     "language": "python",
     "metadata": {},
     "outputs": [],
     "prompt_number": 99
    },
    {
     "cell_type": "code",
     "collapsed": false,
     "input": [
      "def drawImage(img):\n",
      "    plt.figure(figsize=(len(img), 6))\n",
      "    plt.imshow(img, cmap=plt.cm.binary, interpolation='none')\n",
      "    plt.xticks([]), plt.yticks([])\n",
      "    plt.show()\n",
      "    \n",
      "def drawLine(m,b,image, val):\n",
      "    for x in range(len(image[0])):\n",
      "        y = int(m*x+b)\n",
      "        if 0 < y < len(image):\n",
      "            image[y][x] = val"
     ],
     "language": "python",
     "metadata": {},
     "outputs": [],
     "prompt_number": 100
    },
    {
     "cell_type": "code",
     "collapsed": false,
     "input": [
      "line = Image.open('resources/line3.png')\n",
      "cArray = np.array(line)\n",
      "Black_White = np.zeros((len(cArray),len(cArray[0])))\n",
      "for y in range(len(cArray)):\n",
      "    for x in range(len(cArray[y])):\n",
      "        if not np.array_equal(cArray[y][x], [255,255,255,255]):\n",
      "            Black_White[y][x] = 255.\n",
      "\n",
      "drawImage(Black_White)"
     ],
     "language": "python",
     "metadata": {},
     "outputs": [
      {
       "metadata": {},
       "output_type": "display_data",
       "png": "[encoded data removed]",
       "text": [
        "<matplotlib.figure.Figure at 0x10f7b24d0>"
       ]
      }
     ],
     "prompt_number": 101
    },
    {
     "cell_type": "code",
     "collapsed": false,
     "input": [
      "accum = np.zeros((int(math.sqrt(2)*len(Black_White)),629))\n",
      "for y in range(len(Black_White)):\n",
      "    for x in range(len(Black_White[0])):\n",
      "      if (Black_White[y][x]==0): continue\n",
      "      for t in np.linspace(0,2*math.pi,100):\n",
      "        r = x*math.cos(t)+y*math.sin(t)\n",
      "        if r < 0:\n",
      "            continue\n",
      "        accum[int(r)][int(t*100)] += 2\n",
      "\n",
      "        \n",
      "drawImage(accum)"
     ],
     "language": "python",
     "metadata": {},
     "outputs": [
      {
       "metadata": {},
       "output_type": "display_data",
       "png": "[encoded data removed]",
       "text": [
        "<matplotlib.figure.Figure at 0x10f6c1e90>"
       ]
      }
     ],
     "prompt_number": 102
    },
    {
     "cell_type": "code",
     "collapsed": false,
     "input": [
      "maximum = 0\n",
      "r_top = 0\n",
      "t_top = 0\n",
      "for r in range(len(accum)):\n",
      "    for t in range(len(accum[0])):\n",
      "        if accum[r][t] > maximum:\n",
      "            maximum = accum[r][t]\n",
      "            r_top = r\n",
      "            t_top = t\n",
      "\n",
      "     \n",
      "t = t_top/100.\n",
      "m = -1./math.tan(t)\n",
      "b = r_top/math.sin(t)\n",
      "\n",
      "print r_top\n",
      "print t\n",
      "print m\n",
      "print b\n",
      "\n",
      "drawLine(m,b,Black_White, 128)\n",
      "drawImage(Black_White)\n"
     ],
     "language": "python",
     "metadata": {},
     "outputs": [
      {
       "output_type": "stream",
       "stream": "stdout",
       "text": [
        "121\n",
        "1.9\n",
        "0.341635355497\n",
        "127.866415289\n"
       ]
      },
      {
       "metadata": {},
       "output_type": "display_data",
       "png": "[encoded data removed]",
       "text": [
        "<matplotlib.figure.Figure at 0x105e018d0>"
       ]
      }
     ],
     "prompt_number": 103
    },
    {
     "cell_type": "code",
     "collapsed": false,
     "input": [],
     "language": "python",
     "metadata": {},
     "outputs": [],
     "prompt_number": 103
    }
   ],
   "metadata": {}
  }
 ]
}