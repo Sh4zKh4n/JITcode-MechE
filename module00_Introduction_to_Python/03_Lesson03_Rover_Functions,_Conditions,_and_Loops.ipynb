{
 "metadata": {
  "name": "",
  "signature": "sha256:d42f0ed25d3c024c897cce3088dbc39aa23d2341e23f7e22b79d3e32232b72cb"
 },
 "nbformat": 3,
 "nbformat_minor": 0,
 "worksheets": [
  {
   "cells": [
    {
     "cell_type": "heading",
     "level": 1,
     "metadata": {},
     "source": [
      "JIT Module 1, Lesson 3"
     ]
    },
    {
     "cell_type": "code",
     "collapsed": false,
     "input": [
      "import numpy as np"
     ],
     "language": "python",
     "metadata": {},
     "outputs": [],
     "prompt_number": 1
    },
    {
     "cell_type": "markdown",
     "metadata": {},
     "source": [
      "In the previous lesson we discussed using functions (denoted by `def`) for performing complex operations multiple times. In this lesson, we will look at functions more deeply, as well as introducing conditional logic. Conditional logic allows programs to make descisions based on the current state of the program. "
     ]
    },
    {
     "cell_type": "heading",
     "level": 2,
     "metadata": {},
     "source": [
      "Context - Mars Rover Navigation"
     ]
    },
    {
     "cell_type": "markdown",
     "metadata": {},
     "source": [
      "NASA has decided to send another rover to Mars following the success of Curiosity. However, the transmission time from Earth to Mars can be anywhere from 3 to 21 minutes, making it infeasable for a human to control the rover. Instead, they have hired you to program the new rover. The first task of the rover, as soon as it has landed on Mars, will be to find the docking station that NASA set up. The following code will load a map Mars' surface."
     ]
    },
    {
     "cell_type": "code",
     "collapsed": false,
     "input": [
      "maze      = np.loadtxt(fname=\"maze1.csv\",delimiter=\",\")\n",
      "location  = np.array([7,7])\n",
      "direction = 1               # 0-North, 1-West, 2-South, 3-East\n",
      "\n",
      "print maze"
     ],
     "language": "python",
     "metadata": {},
     "outputs": [
      {
       "output_type": "stream",
       "stream": "stdout",
       "text": [
        "[[ 5.  5.  5.  5.  5.  5.  5.  5.  5.  5.]\n",
        " [ 5.  0.  0.  0.  4.  0.  3.  0.  0.  5.]\n",
        " [ 5.  0.  0.  3.  3.  3.  3.  3.  3.  5.]\n",
        " [ 5.  0.  0.  3.  0.  0.  3.  0.  3.  5.]\n",
        " [ 5.  3.  0.  3.  0.  0.  3.  3.  0.  5.]\n",
        " [ 5.  0.  0.  3.  0.  0.  3.  0.  0.  5.]\n",
        " [ 5.  0.  0.  0.  0.  0.  3.  3.  0.  5.]\n",
        " [ 5.  0.  0.  3.  0.  0.  0.  1.  3.  5.]\n",
        " [ 5.  3.  0.  0.  0.  0.  3.  0.  0.  5.]\n",
        " [ 5.  5.  5.  5.  5.  5.  5.  5.  5.  5.]]\n"
       ]
      }
     ],
     "prompt_number": 2
    },
    {
     "cell_type": "markdown",
     "metadata": {},
     "source": [
      "In the above map,\n",
      "\n",
      "* `1.` represents the location of the rover\n",
      "* `3.` represents hazardous locations\n",
      "* `4.` represents the station\n",
      "* `5.` represents impassible walls"
     ]
    },
    {
     "cell_type": "heading",
     "level": 3,
     "metadata": {},
     "source": [
      "Moving Forward"
     ]
    },
    {
     "cell_type": "markdown",
     "metadata": {},
     "source": [
      "Let's take a look at what we have so far. We've established the `maze` variable which is a 2D array (or an array of arrays) that represents the topography of Mars. We have a `location` variable which is a numpy array representing [x_coordinate, y_coordinate]. According to `maze`, the rover is currently at `[7,7]`. Finally we have the direction. In this case, direction is 1, which means the rover is pointing \"west\". However, having a direction of 0,1,2, or 3 isn't very useful for us. Instead, lets make a function that takes that direction and turns it into an array we can add to `location` to find our new position\n",
      "\n",
      "(i.e. if direction is 1, we want the array [-1,0] because [-1,0]+[7,7] = [6,7], or 1 position to the left of `location`)"
     ]
    },
    {
     "cell_type": "code",
     "collapsed": false,
     "input": [
      "def direction_to_array(direction):\n",
      "    if direction == 0:\n",
      "        return np.array([0,-1])\n",
      "    elif direction == 1:\n",
      "        return np.array([-1,0])\n",
      "    elif direction == 2:\n",
      "        return np.array([0,1])\n",
      "    else:\n",
      "        return np.array([1,0])\n",
      "    \n",
      "    \n",
      "    #return np.array([[0,-1], [-1,0], [0,1], [1,0]])[direction]\n",
      "    "
     ],
     "language": "python",
     "metadata": {},
     "outputs": [],
     "prompt_number": 4
    },
    {
     "cell_type": "markdown",
     "metadata": {},
     "source": [
      "This function is our first introduction to **boolean logic**. Boolean logic has two states, **True** and **False**. The `if` is used to test the boolean state of the argument `direction == 0`. If `direction == 0` returns true (i.e. if the value of direction is equal to the value of 0), the the indented code gets run. In this case, the function will return the array [0,-1].\n",
      "\n",
      "Underneath the `if` block is `elif` (a portmanteau of `else` and `if`). `elif` blocks **must** follow `if` blocks, and only have their condition checked if the above test returned `False`.\n",
      "\n",
      "Finally, at the end is an `else` block, which is executed only if all of the preceding blocks (the `if` and the 2 `elif`s) are all false. It is essentially the catch-all statement."
     ]
    },
    {
     "cell_type": "code",
     "collapsed": false,
     "input": [
      "def move_forward(location, direction, maze):\n",
      "    old_x, old_y = location\n",
      "    new_x, new_y = location + direction_to_array(direction)\n",
      "    \n",
      "    if maze[new_y][new_x] != 3 and maze[new_y][new_x] != 5:\n",
      "        maze[new_y][new_x] = 1.\n",
      "        return np.array([new_x,new_y])\n",
      "    else:\n",
      "        return location\n",
      "    "
     ],
     "language": "python",
     "metadata": {},
     "outputs": [],
     "prompt_number": 5
    },
    {
     "cell_type": "code",
     "collapsed": false,
     "input": [
      "location = move_forward(location, direction, maze)\n",
      "print location\n",
      "print maze"
     ],
     "language": "python",
     "metadata": {},
     "outputs": [
      {
       "output_type": "stream",
       "stream": "stdout",
       "text": [
        "[6 7]\n",
        "[[ 5.  5.  5.  5.  5.  5.  5.  5.  5.  5.]\n",
        " [ 5.  0.  0.  0.  4.  0.  3.  0.  0.  5.]\n",
        " [ 5.  0.  0.  3.  3.  3.  3.  3.  3.  5.]\n",
        " [ 5.  0.  0.  3.  0.  0.  3.  0.  3.  5.]\n",
        " [ 5.  3.  0.  3.  0.  0.  3.  3.  0.  5.]\n",
        " [ 5.  0.  0.  3.  0.  0.  3.  0.  0.  5.]\n",
        " [ 5.  0.  0.  0.  0.  0.  3.  3.  0.  5.]\n",
        " [ 5.  0.  0.  3.  0.  0.  1.  1.  3.  5.]\n",
        " [ 5.  3.  0.  0.  0.  0.  3.  0.  0.  5.]\n",
        " [ 5.  5.  5.  5.  5.  5.  5.  5.  5.  5.]]\n"
       ]
      }
     ],
     "prompt_number": 5
    },
    {
     "cell_type": "code",
     "collapsed": false,
     "input": [
      "def turn_left(direction):   #seems a bit too early to introduce modulo, better I think to do it conditionally\n",
      "    direction += 1\n",
      "    if (direction > 3):\n",
      "        direction = 0\n",
      "    return direction"
     ],
     "language": "python",
     "metadata": {},
     "outputs": [],
     "prompt_number": 6
    },
    {
     "cell_type": "code",
     "collapsed": false,
     "input": [
      "def turn_right(direction):\n",
      "    direction -= 1\n",
      "    if (direction < 0):\n",
      "        direction = 3\n",
      "    return direction"
     ],
     "language": "python",
     "metadata": {},
     "outputs": [],
     "prompt_number": 7
    },
    {
     "cell_type": "code",
     "collapsed": false,
     "input": [
      "maze      = np.loadtxt(fname=\"maze1.csv\",delimiter=\",\")\n",
      "location  = np.array([7,7])\n",
      "direction = 1\n",
      "\n",
      "location  = move_forward(location, direction, maze)\n",
      "location  = move_forward(location, direction, maze)\n",
      "location  = move_forward(location, direction, maze)\n",
      "\n",
      "direction = turn_right(direction);\n",
      "\n",
      "location  = move_forward(location, direction, maze)\n",
      "\n",
      "direction = turn_left(direction)\n",
      "\n",
      "location  = move_forward(location, direction, maze)\n",
      "location  = move_forward(location, direction, maze)\n",
      "\n",
      "direction = turn_right(direction);\n",
      "\n",
      "location  = move_forward(location, direction, maze)\n",
      "location  = move_forward(location, direction, maze)\n",
      "location  = move_forward(location, direction, maze)\n",
      "location  = move_forward(location, direction, maze)\n",
      "location  = move_forward(location, direction, maze)\n",
      "\n",
      "direction = turn_right(direction);\n",
      "\n",
      "location  = move_forward(location, direction, maze)\n",
      "location  = move_forward(location, direction, maze)\n",
      "\n",
      "print maze"
     ],
     "language": "python",
     "metadata": {},
     "outputs": [
      {
       "output_type": "stream",
       "stream": "stdout",
       "text": [
        "[[ 5.  5.  5.  5.  5.  5.  5.  5.  5.  5.]\n",
        " [ 5.  0.  1.  1.  1.  0.  3.  0.  0.  5.]\n",
        " [ 5.  0.  1.  3.  3.  3.  3.  3.  3.  5.]\n",
        " [ 5.  0.  1.  3.  0.  0.  3.  0.  3.  5.]\n",
        " [ 5.  3.  1.  3.  0.  0.  3.  3.  0.  5.]\n",
        " [ 5.  0.  1.  3.  0.  0.  3.  0.  0.  5.]\n",
        " [ 5.  0.  1.  1.  1.  0.  3.  3.  0.  5.]\n",
        " [ 5.  0.  0.  3.  1.  1.  1.  1.  3.  5.]\n",
        " [ 5.  3.  0.  0.  0.  0.  3.  0.  0.  5.]\n",
        " [ 5.  5.  5.  5.  5.  5.  5.  5.  5.  5.]]\n"
       ]
      }
     ],
     "prompt_number": 8
    },
    {
     "cell_type": "code",
     "collapsed": false,
     "input": [
      "maze      = np.loadtxt(fname=\"maze1.csv\",delimiter=\",\")\n",
      "location  = np.array([7,7])\n",
      "direction = 1\n",
      "\n",
      "for i in range(31):\n",
      "    new_loc = move_forward(location, direction, maze)\n",
      "    if new_loc[0] != location[0] or new_loc[1] != location[1]:\n",
      "        location = new_loc\n",
      "    else:\n",
      "        direction = turn_right(direction)\n",
      "        \n",
      "print maze"
     ],
     "language": "python",
     "metadata": {},
     "outputs": [
      {
       "output_type": "stream",
       "stream": "stdout",
       "text": [
        "[[ 5.  5.  5.  5.  5.  5.  5.  5.  5.  5.]\n",
        " [ 5.  0.  1.  1.  1.  0.  3.  0.  0.  5.]\n",
        " [ 5.  0.  1.  3.  3.  3.  3.  3.  3.  5.]\n",
        " [ 5.  0.  1.  3.  1.  1.  3.  0.  3.  5.]\n",
        " [ 5.  3.  1.  3.  1.  1.  3.  3.  0.  5.]\n",
        " [ 5.  0.  1.  3.  1.  1.  3.  0.  0.  5.]\n",
        " [ 5.  0.  1.  0.  1.  1.  3.  3.  0.  5.]\n",
        " [ 5.  0.  1.  3.  1.  1.  1.  1.  3.  5.]\n",
        " [ 5.  3.  1.  1.  1.  1.  3.  0.  0.  5.]\n",
        " [ 5.  5.  5.  5.  5.  5.  5.  5.  5.  5.]]\n"
       ]
      }
     ],
     "prompt_number": 9
    },
    {
     "cell_type": "code",
     "collapsed": false,
     "input": [
      "from IPython.core.display import HTML\n",
      "def css_styling():\n",
      "    styles = open(\"../styles/custom.css\", \"r\").read()\n",
      "    return HTML(styles)\n",
      "css_styling()"
     ],
     "language": "python",
     "metadata": {},
     "outputs": [
      {
       "html": [
        "<link href='http://fonts.googleapis.com/css?family=Fenix' rel='stylesheet' type='text/css'>\n",
        "<link href='http://fonts.googleapis.com/css?family=Alegreya+Sans:100,300,400,500,700,800,900,100italic,300italic,400italic,500italic,700italic,800italic,900italic' rel='stylesheet' type='text/css'>\n",
        "<link href='http://fonts.googleapis.com/css?family=Source+Code+Pro:300,400' rel='stylesheet' type='text/css'>\n",
        "<style>\n",
        "    @font-face {\n",
        "        font-family: \"Computer Modern\";\n",
        "        src: url('http://mirrors.ctan.org/fonts/cm-unicode/fonts/otf/cmunss.otf');\n",
        "    }\n",
        "    div.cell{\n",
        "        width:800px;\n",
        "        margin-left:16% !important;\n",
        "        margin-right:auto;\n",
        "    }\n",
        "    h1 {\n",
        "        font-family: 'Alegreya Sans', sans-serif;\n",
        "    }\n",
        "    h2 {\n",
        "        font-family: 'Fenix', serif;\n",
        "    }\n",
        "    h3{\n",
        "\t\tfont-family: 'Fenix', serif;\n",
        "        margin-top:12px;\n",
        "        margin-bottom: 3px;\n",
        "       }\n",
        "\th4{\n",
        "\t\tfont-family: 'Fenix', serif;\n",
        "       }\n",
        "    h5 {\n",
        "        font-family: 'Alegreya Sans', sans-serif;\n",
        "    }\t   \n",
        "    div.text_cell_render{\n",
        "        font-family: 'Alegreya Sans',Computer Modern, \"Helvetica Neue\", Arial, Helvetica, Geneva, sans-serif;\n",
        "        line-height: 135%;\n",
        "        font-size: 120%;\n",
        "        width:600px;\n",
        "        margin-left:auto;\n",
        "        margin-right:auto;\n",
        "    }\n",
        "    .CodeMirror{\n",
        "            font-family: \"Source Code Pro\";\n",
        "\t\t\tfont-size: 90%;\n",
        "    }\n",
        "/*    .prompt{\n",
        "        display: None;\n",
        "    }*/\n",
        "    .text_cell_render h1 {\n",
        "        font-weight: 200;\n",
        "        font-size: 50pt;\n",
        "\t\tline-height: 100%;\n",
        "        color:#CD2305;\n",
        "        margin-bottom: 0.5em;\n",
        "        margin-top: 0.5em;\n",
        "        display: block;\n",
        "    }\t\n",
        "    .text_cell_render h5 {\n",
        "        font-weight: 300;\n",
        "        font-size: 16pt;\n",
        "        color: #CD2305;\n",
        "        font-style: italic;\n",
        "        margin-bottom: .5em;\n",
        "        margin-top: 0.5em;\n",
        "        display: block;\n",
        "    }\n",
        "    \n",
        "    .warning{\n",
        "        color: rgb( 240, 20, 20 )\n",
        "        }  \n",
        "</style>\n",
        "<script>\n",
        "    MathJax.Hub.Config({\n",
        "                        TeX: {\n",
        "                           extensions: [\"AMSmath.js\"]\n",
        "                           },\n",
        "                tex2jax: {\n",
        "                    inlineMath: [ ['$','$'], [\"\\\\(\",\"\\\\)\"] ],\n",
        "                    displayMath: [ ['$$','$$'], [\"\\\\[\",\"\\\\]\"] ]\n",
        "                },\n",
        "                displayAlign: 'center', // Change this to 'center' to center equations.\n",
        "                \"HTML-CSS\": {\n",
        "                    styles: {'.MathJax_Display': {\"margin\": 4}}\n",
        "                }\n",
        "        });\n",
        "</script>\n"
       ],
       "metadata": {},
       "output_type": "pyout",
       "prompt_number": 2,
       "text": [
        "<IPython.core.display.HTML at 0x10451f210>"
       ]
      }
     ],
     "prompt_number": 2
    },
    {
     "cell_type": "code",
     "collapsed": false,
     "input": [],
     "language": "python",
     "metadata": {},
     "outputs": []
    }
   ],
   "metadata": {}
  }
 ]
}