{
 "metadata": {
  "name": "",
  "signature": "sha256:448fb39e9d0e1fa9555e0b5548f15f86e63c811abd4ac3a2a5578df232c88aa4"
 },
 "nbformat": 3,
 "nbformat_minor": 0,
 "worksheets": [
  {
   "cells": [
    {
     "cell_type": "heading",
     "level": 1,
     "metadata": {},
     "source": [
      "JIT Code Module 1, Lesson 4"
     ]
    },
    {
     "cell_type": "code",
     "collapsed": false,
     "input": [
      "import numpy as np\n",
      "\n",
      "import matplotlib.pyplot as plt\n",
      "%matplotlib inline"
     ],
     "language": "python",
     "metadata": {},
     "outputs": [],
     "prompt_number": 1
    },
    {
     "cell_type": "markdown",
     "metadata": {},
     "source": [
      "Last lesson we discussed navigating a rover through a maze and to its final destination. We learned how to use conditionals like `<`, `>`, and `==` to make decisions within our functions, and how to use `if`, `else`, and `elif` statements. In this unit, we will learn how to use loops to make our code more efficient and powerful. \n",
      "\n",
      "Before we start, we should import all of the functions we made last unit. "
     ]
    },
    {
     "cell_type": "code",
     "collapsed": false,
     "input": [
      "def showMaze(maze):   \n",
      "    plt.figure(figsize=(10, 5))\n",
      "    plt.imshow(maze, cmap=plt.cm.gist_ncar, interpolation='none')\n",
      "    plt.xticks([]), plt.yticks([])\n",
      "    plt.show()\n",
      "    \n",
      "def direction_to_array(direction):\n",
      "    if direction == 0:\n",
      "        return np.array([0,-1])\n",
      "    elif direction == 1:\n",
      "        return np.array([-1,0])\n",
      "    elif direction == 2:\n",
      "        return np.array([0,1])\n",
      "    else:\n",
      "        return np.array([1,0])\n",
      "    \n",
      "def move_forward(location, direction, maze):\n",
      "    old_x, old_y = location\n",
      "    new_x, new_y = location + direction_to_array(direction)\n",
      "    \n",
      "    if maze[new_y][new_x] != 3 and maze[new_y][new_x] != 5:\n",
      "        maze[new_y][new_x] = 1.\n",
      "        return np.array([new_x,new_y])\n",
      "    else:\n",
      "        return location\n",
      "    \n",
      "def turn_right(direction):\n",
      "    direction -= 1\n",
      "    if direction < 0:\n",
      "        direction = 3\n",
      "    return direction\n",
      "\n",
      "def turn_left(direction):\n",
      "    direction += 1\n",
      "    if direction >= 4:\n",
      "        direction = 0\n",
      "    return direction"
     ],
     "language": "python",
     "metadata": {},
     "outputs": [],
     "prompt_number": 2
    },
    {
     "cell_type": "markdown",
     "metadata": {},
     "source": [
      "And reset all of our variables"
     ]
    },
    {
     "cell_type": "code",
     "collapsed": false,
     "input": [
      "maze      = np.loadtxt(fname=\"maze1.csv\",delimiter=\",\")\n",
      "location  = np.array([7,7])\n",
      "direction = 1               # 0-North, 1-West, 2-South, 3-East\n",
      "\n",
      "print maze\n",
      "showMaze(maze)"
     ],
     "language": "python",
     "metadata": {},
     "outputs": [
      {
       "output_type": "stream",
       "stream": "stdout",
       "text": [
        "[[ 5.  5.  5.  5.  5.  5.  5.  5.  5.  5.]\n",
        " [ 5.  0.  0.  0.  4.  0.  3.  0.  0.  5.]\n",
        " [ 5.  0.  0.  3.  3.  3.  3.  3.  3.  5.]\n",
        " [ 5.  0.  0.  3.  0.  0.  3.  0.  3.  5.]\n",
        " [ 5.  3.  0.  3.  0.  0.  3.  3.  0.  5.]\n",
        " [ 5.  0.  0.  3.  0.  0.  3.  0.  0.  5.]\n",
        " [ 5.  0.  0.  0.  0.  0.  3.  3.  0.  5.]\n",
        " [ 5.  0.  0.  3.  0.  0.  0.  1.  3.  5.]\n",
        " [ 5.  3.  0.  0.  0.  0.  3.  0.  0.  5.]\n",
        " [ 5.  5.  5.  5.  5.  5.  5.  5.  5.  5.]]\n"
       ]
      },
      {
       "metadata": {},
       "output_type": "display_data",
       "png": "[encoded data removed]",
       "text": [
        "<matplotlib.figure.Figure at 0x103f8e190>"
       ]
      }
     ],
     "prompt_number": 3
    },
    {
     "cell_type": "markdown",
     "metadata": {},
     "source": [
      "Last time we were able to get to the goal by **hardcoding** the path of our rover, meaning we gave it an explicit path that we knew would avoid the obstacles. However, we want our rover to have some autonomy, it needs to make decisions for itself. To do this, we are going to use a structure called a *for loop*. Here is an example of a simple loop."
     ]
    },
    {
     "cell_type": "code",
     "collapsed": false,
     "input": [
      "for i in [0,1,2,3,4]:\n",
      "    print i"
     ],
     "language": "python",
     "metadata": {},
     "outputs": [
      {
       "output_type": "stream",
       "stream": "stdout",
       "text": [
        "0\n",
        "1\n",
        "2\n",
        "3\n",
        "4\n"
       ]
      }
     ],
     "prompt_number": 4
    },
    {
     "cell_type": "markdown",
     "metadata": {},
     "source": [
      "Let's take a look at what is going on here. First, we use the keyword `for`. This tells python that we are using a for loop. Next is our variable `i`. `i` can be any variable, and will **iterate** through all the values of the array following the `in`. In other words, the indented code will be called once for every value in the array, where `i` is equal to the value at that index. \n",
      "\n",
      "However, writing out an array every time we want to loop can become tedious, so python defines a function `range(len)` to make this easier. `range(len)` will create an array of integers starting at 0 and ending at `len-1`. For example,"
     ]
    },
    {
     "cell_type": "code",
     "collapsed": false,
     "input": [
      "for i in range(5):\n",
      "    print i"
     ],
     "language": "python",
     "metadata": {},
     "outputs": [
      {
       "output_type": "stream",
       "stream": "stdout",
       "text": [
        "0\n",
        "1\n",
        "2\n",
        "3\n",
        "4\n"
       ]
      }
     ],
     "prompt_number": 5
    },
    {
     "cell_type": "markdown",
     "metadata": {},
     "source": [
      "returns the same as above.\n",
      "\n",
      "Now that we understand loops, we need to figure out how to use them for our rover. Let's say that our rover always moves forward if it can, and otherwise, turns right. How do we know if it can move forward? Well if you remember back to the previous lesson, we defined move_forward to return its current coordinates if it couldn't move, so we will use an `if` statement to see if the new coordinates are different from the old ones."
     ]
    },
    {
     "cell_type": "code",
     "collapsed": false,
     "input": [
      "maze      = np.loadtxt(fname=\"maze1.csv\",delimiter=\",\")\n",
      "location  = np.array([7,7])\n",
      "direction = 1  \n",
      "\n",
      "for i in range(31):\n",
      "    new_location = move_forward(location, direction, maze)\n",
      "    if np.array_equal(new_location, location): \n",
      "        direction = turn_right(direction)\n",
      "    else:\n",
      "        location = new_location\n",
      "        \n",
      "print maze\n",
      "showMaze(maze)"
     ],
     "language": "python",
     "metadata": {},
     "outputs": [
      {
       "output_type": "stream",
       "stream": "stdout",
       "text": [
        "[[ 5.  5.  5.  5.  5.  5.  5.  5.  5.  5.]\n",
        " [ 5.  0.  1.  1.  1.  0.  3.  0.  0.  5.]\n",
        " [ 5.  0.  1.  3.  3.  3.  3.  3.  3.  5.]\n",
        " [ 5.  0.  1.  3.  1.  1.  3.  0.  3.  5.]\n",
        " [ 5.  3.  1.  3.  1.  1.  3.  3.  0.  5.]\n",
        " [ 5.  0.  1.  3.  1.  1.  3.  0.  0.  5.]\n",
        " [ 5.  0.  1.  0.  1.  1.  3.  3.  0.  5.]\n",
        " [ 5.  0.  1.  3.  1.  1.  1.  1.  3.  5.]\n",
        " [ 5.  3.  1.  1.  1.  1.  3.  0.  0.  5.]\n",
        " [ 5.  5.  5.  5.  5.  5.  5.  5.  5.  5.]]\n"
       ]
      },
      {
       "metadata": {},
       "output_type": "display_data",
       "png": "[encoded data removed]",
       "text": [
        "<matplotlib.figure.Figure at 0x103f8e090>"
       ]
      }
     ],
     "prompt_number": 6
    },
    {
     "cell_type": "markdown",
     "metadata": {},
     "source": [
      "Great! We made it through the maze. Our code is pretty simple, we take 31 steps either moving forward if we can, or turning right if we can't. But once again, we **hardcoded** the length of the maze into the loop. Wouldn't it be great if we could keep looping until we found what we were looking for? Fortunately for us, python has another kind of loop, called a `while` loop. Unlike the `for` loop, instead of iterating through an array, the while loop is passed a condition, and keeps running until that condition is met. Here is an example"
     ]
    },
    {
     "cell_type": "code",
     "collapsed": false,
     "input": [
      "i = 0\n",
      "while i < 5:\n",
      "    print i\n",
      "    i += 1"
     ],
     "language": "python",
     "metadata": {},
     "outputs": [
      {
       "output_type": "stream",
       "stream": "stdout",
       "text": [
        "0\n",
        "1\n",
        "2\n",
        "3\n",
        "4\n"
       ]
      }
     ],
     "prompt_number": 7
    },
    {
     "cell_type": "markdown",
     "metadata": {},
     "source": [
      "Note that a `while` loop has no index, in order to keep track of which iteration we were on, we had to make our own, `i`, and increment it every loop. Once `i` is greater than `4`, `i < 5` returns false and the loop breaks. Now let's try to rewrite our rover code using a while loop."
     ]
    },
    {
     "cell_type": "code",
     "collapsed": false,
     "input": [
      "maze      = np.loadtxt(fname=\"maze1.csv\",delimiter=\",\")\n",
      "location  = np.array([7,7])\n",
      "direction = 1  \n",
      "\n",
      "while not np.array_equal(location, [4,1]):\n",
      "    new_location = move_forward(location, direction, maze)\n",
      "    if np.array_equal(new_location, location): \n",
      "        direction = turn_right(direction)\n",
      "    else:\n",
      "        location = new_location\n",
      "        \n",
      "print maze\n",
      "showMaze(maze)"
     ],
     "language": "python",
     "metadata": {},
     "outputs": [
      {
       "output_type": "stream",
       "stream": "stdout",
       "text": [
        "[[ 5.  5.  5.  5.  5.  5.  5.  5.  5.  5.]\n",
        " [ 5.  0.  1.  1.  1.  0.  3.  0.  0.  5.]\n",
        " [ 5.  0.  1.  3.  3.  3.  3.  3.  3.  5.]\n",
        " [ 5.  0.  1.  3.  1.  1.  3.  0.  3.  5.]\n",
        " [ 5.  3.  1.  3.  1.  1.  3.  3.  0.  5.]\n",
        " [ 5.  0.  1.  3.  1.  1.  3.  0.  0.  5.]\n",
        " [ 5.  0.  1.  0.  1.  1.  3.  3.  0.  5.]\n",
        " [ 5.  0.  1.  3.  1.  1.  1.  1.  3.  5.]\n",
        " [ 5.  3.  1.  1.  1.  1.  3.  0.  0.  5.]\n",
        " [ 5.  5.  5.  5.  5.  5.  5.  5.  5.  5.]]\n"
       ]
      },
      {
       "metadata": {},
       "output_type": "display_data",
       "png": "[encoded data removed]",
       "text": [
        "<matplotlib.figure.Figure at 0x110734d10>"
       ]
      }
     ],
     "prompt_number": 8
    },
    {
     "cell_type": "code",
     "collapsed": false,
     "input": [
      "from IPython.core.display import HTML\n",
      "def css_styling():\n",
      "    styles = open(\"../styles/custom.css\", \"r\").read()\n",
      "    return HTML(styles)\n",
      "css_styling()"
     ],
     "language": "python",
     "metadata": {},
     "outputs": [
      {
       "html": [
        "<link href='http://fonts.googleapis.com/css?family=Fenix' rel='stylesheet' type='text/css'>\n",
        "<link href='http://fonts.googleapis.com/css?family=Alegreya+Sans:100,300,400,500,700,800,900,100italic,300italic,400italic,500italic,700italic,800italic,900italic' rel='stylesheet' type='text/css'>\n",
        "<link href='http://fonts.googleapis.com/css?family=Source+Code+Pro:300,400' rel='stylesheet' type='text/css'>\n",
        "<style>\n",
        "    @font-face {\n",
        "        font-family: \"Computer Modern\";\n",
        "        src: url('http://mirrors.ctan.org/fonts/cm-unicode/fonts/otf/cmunss.otf');\n",
        "    }\n",
        "    div.cell{\n",
        "        width:800px;\n",
        "        margin-left:16% !important;\n",
        "        margin-right:auto;\n",
        "    }\n",
        "    h1 {\n",
        "        font-family: 'Alegreya Sans', sans-serif;\n",
        "    }\n",
        "    h2 {\n",
        "        font-family: 'Fenix', serif;\n",
        "    }\n",
        "    h3{\n",
        "\t\tfont-family: 'Fenix', serif;\n",
        "        margin-top:12px;\n",
        "        margin-bottom: 3px;\n",
        "       }\n",
        "\th4{\n",
        "\t\tfont-family: 'Fenix', serif;\n",
        "       }\n",
        "    h5 {\n",
        "        font-family: 'Alegreya Sans', sans-serif;\n",
        "    }\t   \n",
        "    div.text_cell_render{\n",
        "        font-family: 'Alegreya Sans',Computer Modern, \"Helvetica Neue\", Arial, Helvetica, Geneva, sans-serif;\n",
        "        line-height: 135%;\n",
        "        font-size: 120%;\n",
        "        width:600px;\n",
        "        margin-left:auto;\n",
        "        margin-right:auto;\n",
        "    }\n",
        "    .CodeMirror{\n",
        "            font-family: \"Source Code Pro\";\n",
        "\t\t\tfont-size: 90%;\n",
        "    }\n",
        "/*    .prompt{\n",
        "        display: None;\n",
        "    }*/\n",
        "    .text_cell_render h1 {\n",
        "        font-weight: 200;\n",
        "        font-size: 50pt;\n",
        "\t\tline-height: 100%;\n",
        "        color:#CD2305;\n",
        "        margin-bottom: 0.5em;\n",
        "        margin-top: 0.5em;\n",
        "        display: block;\n",
        "    }\t\n",
        "    .text_cell_render h5 {\n",
        "        font-weight: 300;\n",
        "        font-size: 16pt;\n",
        "        color: #CD2305;\n",
        "        font-style: italic;\n",
        "        margin-bottom: .5em;\n",
        "        margin-top: 0.5em;\n",
        "        display: block;\n",
        "    }\n",
        "    \n",
        "    .warning{\n",
        "        color: rgb( 240, 20, 20 )\n",
        "    }  \n",
        "</style>\n",
        "<script>\n",
        "    MathJax.Hub.Config({\n",
        "                        TeX: {\n",
        "                           extensions: [\"AMSmath.js\"]\n",
        "                           },\n",
        "                tex2jax: {\n",
        "                    inlineMath: [ ['$','$'], [\"\\\\(\",\"\\\\)\"] ],\n",
        "                    displayMath: [ ['$$','$$'], [\"\\\\[\",\"\\\\]\"] ]\n",
        "                },\n",
        "                displayAlign: 'center', // Change this to 'center' to center equations.\n",
        "                \"HTML-CSS\": {\n",
        "                    styles: {'.MathJax_Display': {\"margin\": 4}}\n",
        "                }\n",
        "        });\n",
        "</script>\n"
       ],
       "metadata": {},
       "output_type": "pyout",
       "prompt_number": 9,
       "text": [
        "<IPython.core.display.HTML at 0x1108b65d0>"
       ]
      }
     ],
     "prompt_number": 9
    },
    {
     "cell_type": "code",
     "collapsed": false,
     "input": [],
     "language": "python",
     "metadata": {},
     "outputs": [],
     "prompt_number": 9
    }
   ],
   "metadata": {}
  }
 ]
}