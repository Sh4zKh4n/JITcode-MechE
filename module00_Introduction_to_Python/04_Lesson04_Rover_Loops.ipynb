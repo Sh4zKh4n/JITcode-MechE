{
 "metadata": {
  "name": "",
  "signature": "sha256:ccac8de540936dc4a51d839b1f57a9173ac0ed08f973cebe968699659b97ff25"
 },
 "nbformat": 3,
 "nbformat_minor": 0,
 "worksheets": [
  {
   "cells": [
    {
     "cell_type": "heading",
     "level": 1,
     "metadata": {},
     "source": [
      "JIT Code Module 1, Lesson 4"
     ]
    },
    {
     "cell_type": "code",
     "collapsed": false,
     "input": [
      "import numpy \n",
      "import matplotlib.pyplot as plt\n",
      "%matplotlib inline"
     ],
     "language": "python",
     "metadata": {},
     "outputs": [],
     "prompt_number": 4
    },
    {
     "cell_type": "code",
     "collapsed": false,
     "input": [
      "def show_map(terrain):\n",
      "    '''\n",
      "    show_map takes a 2D Numpy array representing a simplified terrain map and prints\n",
      "    out a colorful version using numpy.imshow\n",
      "    '''\n",
      "    plt.figure(figsize=(10, 5))\n",
      "    plt.imshow(terrain, interpolation='none')\n",
      "    plt.xticks([]), plt.yticks([])\n",
      "    plt.show()"
     ],
     "language": "python",
     "metadata": {},
     "outputs": [],
     "prompt_number": 5
    },
    {
     "cell_type": "code",
     "collapsed": false,
     "input": [
      "def move_rover(direction):\n",
      "    '''\n",
      "    move_rover takes a movement direction as a string, either 'up', 'down', 'left'\n",
      "    or 'right' and then returns an appropriate 2-element numpy array which will adjust\n",
      "    a location coordinate array accordingly\n",
      "    '''\n",
      "    if direction == 'up':\n",
      "        return numpy.array([-1,0])\n",
      "    elif direction == 'right':\n",
      "        return numpy.array([0,1])\n",
      "    elif direction == 'down':\n",
      "        return numpy.array([1,0])\n",
      "    else:\n",
      "        return numpy.array([0,-1])"
     ],
     "language": "python",
     "metadata": {},
     "outputs": [],
     "prompt_number": 6
    },
    {
     "cell_type": "markdown",
     "metadata": {},
     "source": [
      "#####Small change\n",
      "\n",
      "Note that in `crash_check_and_move` we've made a small change, so that now we can send  either 'up', 'down', 'left', or 'right' directly, instead of first querying our `move_rover` function.  Instead, the call to `move_rover` is the first line of `crash_check_and_move` so we can change the rover's position with a single command.  "
     ]
    },
    {
     "cell_type": "code",
     "collapsed": false,
     "input": [
      "def crash_check_and_move(location, movement, terrain):\n",
      "    '''\n",
      "    crash_check_and_move takes 3 variables: the current position, the desired movement\n",
      "    to make and the current terrain map (with rover position included).  It checks\n",
      "    that the desired movement is 'allowed' and if it is, performs the movement, \n",
      "    updating both position and the terrain map.  \n",
      "    If the movement is 'illegal', it simply returns the position and terrain map \n",
      "    unchanged.\n",
      "    If the movement will bring rover to the 'destination' it prints out a \n",
      "    congratulatory message.\n",
      "    '''\n",
      "    movement = move_rover(movement)\n",
      "    old_y, old_x = location\n",
      "    new_y, new_x = location + movement\n",
      "    \n",
      "    if terrain[new_y][new_x] != 3 and terrain[new_y][new_x] != 5:\n",
      "        terrain[new_y][new_x] = 1.\n",
      "        terrain[old_y][old_x] = 0\n",
      "        return numpy.array([new_y,new_x])\n",
      "    \n",
      "    elif terrain[new_y][new_x] == 4:\n",
      "        terrain[new_y][new_x] = 1.\n",
      "        terrain[old_y][old_x] = 0\n",
      "        print \"You've reached your destination!\"\n",
      "        return numpy.array([new_y,new_x])\n",
      "    \n",
      "    else:\n",
      "        return location"
     ],
     "language": "python",
     "metadata": {},
     "outputs": [],
     "prompt_number": 8
    },
    {
     "cell_type": "markdown",
     "metadata": {},
     "source": [
      "Now that we have our functions from the previous module loaded, let's go ahead and load up our terrain map again.  We also need to initialize our location coordinates to $[7,7]$."
     ]
    },
    {
     "cell_type": "code",
     "collapsed": false,
     "input": [
      "terrain   = numpy.loadtxt(\"./resources/terraindata/terrain1.csv\",delimiter=\",\")\n",
      "location  = numpy.array([7,7])\n",
      "show_map(terrain)"
     ],
     "language": "python",
     "metadata": {},
     "outputs": [
      {
       "metadata": {},
       "output_type": "display_data",
       "png": "[encoded data removed]",
       "text": [
        "<matplotlib.figure.Figure at 0x7fd7fab112d0>"
       ]
      }
     ],
     "prompt_number": 20
    },
    {
     "cell_type": "markdown",
     "metadata": {},
     "source": [
      "##Automating repetitive tasks\n",
      "\n",
      "You'll recall that in the last lesson, we determined that one route for the rover to take to reach its destination was given by the follow set of movements:\n",
      "\n",
      "*  Move left three times\n",
      "*  Move up once\n",
      "*  Move left two times\n",
      "*  Move up five times\n",
      "*  Move right two times\n",
      "\n",
      "With our movement functions, we've already automated things like obstacle checks, but we still had to call `crash_check_and_move` for every direction and that was kind of a pain.  So now we're going to explore using **loops** to help us further automate the rover motion.  "
     ]
    },
    {
     "cell_type": "markdown",
     "metadata": {},
     "source": [
      "##Loops\n",
      "\n",
      "Loops are a way of running one or more lines of code repeatedly.  Like `if` statements and function definitions, the first line of a loop command ends with a colon, then any lines that are indented underneath are part of the loop.  \n",
      "\n",
      "One of the simplest examples of a loop is the following:"
     ]
    },
    {
     "cell_type": "code",
     "collapsed": false,
     "input": [
      "for i in [1,2,3,4,5]:\n",
      "    print i"
     ],
     "language": "python",
     "metadata": {},
     "outputs": [
      {
       "output_type": "stream",
       "stream": "stdout",
       "text": [
        "1\n",
        "2\n",
        "3\n",
        "4\n",
        "5\n"
       ]
      }
     ],
     "prompt_number": 21
    },
    {
     "cell_type": "markdown",
     "metadata": {},
     "source": [
      "Let's break down what's happening here.  We've asked Python to *iterate* through a set of values, in this case, the numbers one through 5.  It does that by setting the variable `i` equal to the first value in the set, then it executes all of the code below it using that specific value of `i`.  Then, it comes back to the top, sets `i` equal to the second value in the set and goes through all of the code again.  This continues until the loop has run for all of the values in the set we've defined.  \n",
      "\n",
      "Loops don't have to just deal with numbers, either.  Strings can be looped over in exactly the same way:"
     ]
    },
    {
     "cell_type": "code",
     "collapsed": false,
     "input": [
      "for ingredient in ['bacon','lettuce','tomato']:\n",
      "    print ingredient"
     ],
     "language": "python",
     "metadata": {},
     "outputs": [
      {
       "output_type": "stream",
       "stream": "stdout",
       "text": [
        "bacon\n",
        "lettuce\n",
        "tomato\n"
       ]
      }
     ],
     "prompt_number": 22
    },
    {
     "cell_type": "markdown",
     "metadata": {},
     "source": [
      "These are called `for` loops, because they loop over code once for every element in a set that we've defined.  \n",
      "\n",
      "##Looping our rover directions\n",
      "\n",
      "In the last lesson, we had to call `crash_check_and_move` for each individual movement.  Now we're going to do the same thing, but instead of typing them all out ourselves, we'll let the `for` loop handle it instead.  \n",
      "\n",
      "First, we need a list of the individual directions in order.  Consulting our bullet points above leaves us with the following."
     ]
    },
    {
     "cell_type": "code",
     "collapsed": false,
     "input": [
      "direction_list = ['left','left','left','up','left','left','up','up','up','up','up','right','right']"
     ],
     "language": "python",
     "metadata": {},
     "outputs": [],
     "prompt_number": 18
    },
    {
     "cell_type": "code",
     "collapsed": false,
     "input": [
      "print direction_list"
     ],
     "language": "python",
     "metadata": {},
     "outputs": [
      {
       "output_type": "stream",
       "stream": "stdout",
       "text": [
        "['left', 'left', 'left', 'up', 'left', 'left', 'up', 'up', 'up', 'up', 'up', 'right', 'right']\n"
       ]
      }
     ],
     "prompt_number": 23
    },
    {
     "cell_type": "markdown",
     "metadata": {},
     "source": [
      "Ok, now that we've got our direction list ready to go, we want to create a `for` loop that will send those commands one at a time to our `crash_check_and_move` function.  "
     ]
    },
    {
     "cell_type": "code",
     "collapsed": false,
     "input": [
      "for i in direction_list:\n",
      "    location = crash_check_and_move(location,i,terrain)"
     ],
     "language": "python",
     "metadata": {},
     "outputs": [],
     "prompt_number": 24
    },
    {
     "cell_type": "markdown",
     "metadata": {},
     "source": [
      "Ok, if that worked, then we should be able to print out our terrain map and our blue rover square should be at the destination."
     ]
    },
    {
     "cell_type": "code",
     "collapsed": false,
     "input": [
      "show_map(terrain)"
     ],
     "language": "python",
     "metadata": {},
     "outputs": [
      {
       "metadata": {},
       "output_type": "display_data",
       "png": "[encoded data removed]",
       "text": [
        "<matplotlib.figure.Figure at 0x7fd7fae2df90>"
       ]
      }
     ],
     "prompt_number": 25
    },
    {
     "cell_type": "markdown",
     "metadata": {},
     "source": [
      "It worked!  It's important to recognize that our 2-line loop above is no different than typing out all of those movement commands manually, it's just a lot easier.  "
     ]
    },
    {
     "cell_type": "code",
     "collapsed": false,
     "input": [],
     "language": "python",
     "metadata": {},
     "outputs": []
    },
    {
     "cell_type": "code",
     "collapsed": false,
     "input": [],
     "language": "python",
     "metadata": {},
     "outputs": []
    },
    {
     "cell_type": "code",
     "collapsed": false,
     "input": [],
     "language": "python",
     "metadata": {},
     "outputs": []
    },
    {
     "cell_type": "code",
     "collapsed": false,
     "input": [],
     "language": "python",
     "metadata": {},
     "outputs": []
    },
    {
     "cell_type": "code",
     "collapsed": false,
     "input": [],
     "language": "python",
     "metadata": {},
     "outputs": []
    },
    {
     "cell_type": "code",
     "collapsed": false,
     "input": [
      "for i in [0,1,2,3,4]:\n",
      "    print i"
     ],
     "language": "python",
     "metadata": {},
     "outputs": [
      {
       "output_type": "stream",
       "stream": "stdout",
       "text": [
        "0\n",
        "1\n",
        "2\n",
        "3\n",
        "4\n"
       ]
      }
     ],
     "prompt_number": 4
    },
    {
     "cell_type": "markdown",
     "metadata": {},
     "source": [
      "Let's take a look at what is going on here. First, we use the keyword `for`. This tells python that we are using a for loop. Next is our variable `i`. `i` can be any variable, and will **iterate** through all the values of the array following the `in`. In other words, the indented code will be called once for every value in the array, where `i` is equal to the value at that index. \n",
      "\n",
      "However, writing out an array every time we want to loop can become tedious, so python defines a function `range(len)` to make this easier. `range(len)` will create an array of integers starting at 0 and ending at `len-1`. For example,"
     ]
    },
    {
     "cell_type": "code",
     "collapsed": false,
     "input": [
      "for i in range(5):\n",
      "    print i"
     ],
     "language": "python",
     "metadata": {},
     "outputs": [
      {
       "output_type": "stream",
       "stream": "stdout",
       "text": [
        "0\n",
        "1\n",
        "2\n",
        "3\n",
        "4\n"
       ]
      }
     ],
     "prompt_number": 5
    },
    {
     "cell_type": "markdown",
     "metadata": {},
     "source": [
      "returns the same as above.\n",
      "\n",
      "Now that we understand loops, we need to figure out how to use them for our rover. Let's say that our rover always moves forward if it can, and otherwise, turns right. How do we know if it can move forward? Well if you remember back to the previous lesson, we defined move_forward to return its current coordinates if it couldn't move, so we will use an `if` statement to see if the new coordinates are different from the old ones. We can use `np.array_equal(arr1, arr2)` to check equivalence of two arrays."
     ]
    },
    {
     "cell_type": "code",
     "collapsed": false,
     "input": [
      "maze      = np.loadtxt(fname=\"maze1.csv\",delimiter=\",\")\n",
      "location  = np.array([7,7])\n",
      "direction = 1  \n",
      "\n",
      "for i in range(31):\n",
      "    new_location = move_forward(location, direction, maze)\n",
      "    if np.array_equal(new_location, location): \n",
      "        direction = turn_right(direction)\n",
      "    else:\n",
      "        location = new_location\n",
      "        \n",
      "print maze\n",
      "showMaze(maze)"
     ],
     "language": "python",
     "metadata": {},
     "outputs": [
      {
       "output_type": "stream",
       "stream": "stdout",
       "text": [
        "[[ 5.  5.  5.  5.  5.  5.  5.  5.  5.  5.]\n",
        " [ 5.  0.  1.  1.  1.  0.  3.  0.  0.  5.]\n",
        " [ 5.  0.  1.  3.  3.  3.  3.  3.  3.  5.]\n",
        " [ 5.  0.  1.  3.  1.  1.  3.  0.  3.  5.]\n",
        " [ 5.  3.  1.  3.  1.  1.  3.  3.  0.  5.]\n",
        " [ 5.  0.  1.  3.  1.  1.  3.  0.  0.  5.]\n",
        " [ 5.  0.  1.  0.  1.  1.  3.  3.  0.  5.]\n",
        " [ 5.  0.  1.  3.  1.  1.  1.  1.  3.  5.]\n",
        " [ 5.  3.  1.  1.  1.  1.  3.  0.  0.  5.]\n",
        " [ 5.  5.  5.  5.  5.  5.  5.  5.  5.  5.]]\n"
       ]
      },
      {
       "metadata": {},
       "output_type": "display_data",
       "png": "[encoded data removed]",
       "text": [
        "<matplotlib.figure.Figure at 0x104e7aed0>"
       ]
      }
     ],
     "prompt_number": 6
    },
    {
     "cell_type": "markdown",
     "metadata": {},
     "source": [
      "Great! We made it through the maze. Our code is pretty simple, we take 31 steps either moving forward if we can, or turning right if we can't. But once again, we **hardcoded** the length of the maze into the loop. Wouldn't it be great if we could keep looping until we found what we were looking for? Fortunately for us, python has another kind of loop, called a `while` loop. Unlike the `for` loop, instead of iterating through an array, the while loop is passed a condition, and keeps running until that condition is no longer met. Here is an example"
     ]
    },
    {
     "cell_type": "code",
     "collapsed": false,
     "input": [
      "i = 0\n",
      "while i < 5:\n",
      "    print i\n",
      "    i += 1"
     ],
     "language": "python",
     "metadata": {},
     "outputs": [
      {
       "output_type": "stream",
       "stream": "stdout",
       "text": [
        "0\n",
        "1\n",
        "2\n",
        "3\n",
        "4\n"
       ]
      }
     ],
     "prompt_number": 7
    },
    {
     "cell_type": "markdown",
     "metadata": {},
     "source": [
      "Note that a `while` loop has no index, so in order for us to keep track of which iteration we were on, we had to make our own, `i`, and increment it every loop. Once `i` is greater than `4`, `i < 5` returns false and the loop breaks. Now let's try to rewrite our rover code using a while loop."
     ]
    },
    {
     "cell_type": "code",
     "collapsed": false,
     "input": [
      "maze      = np.loadtxt(fname=\"maze1.csv\",delimiter=\",\")\n",
      "location  = np.array([7,7])\n",
      "direction = 1  \n",
      "\n",
      "while not np.array_equal(location, [4,1]):\n",
      "    new_location = move_forward(location, direction, maze)\n",
      "    if np.array_equal(new_location, location): \n",
      "        direction = turn_right(direction)\n",
      "    else:\n",
      "        location = new_location\n",
      "        \n",
      "print maze\n",
      "showMaze(maze)"
     ],
     "language": "python",
     "metadata": {},
     "outputs": [
      {
       "output_type": "stream",
       "stream": "stdout",
       "text": [
        "[[ 5.  5.  5.  5.  5.  5.  5.  5.  5.  5.]\n",
        " [ 5.  0.  1.  1.  1.  0.  3.  0.  0.  5.]\n",
        " [ 5.  0.  1.  3.  3.  3.  3.  3.  3.  5.]\n",
        " [ 5.  0.  1.  3.  1.  1.  3.  0.  3.  5.]\n",
        " [ 5.  3.  1.  3.  1.  1.  3.  3.  0.  5.]\n",
        " [ 5.  0.  1.  3.  1.  1.  3.  0.  0.  5.]\n",
        " [ 5.  0.  1.  0.  1.  1.  3.  3.  0.  5.]\n",
        " [ 5.  0.  1.  3.  1.  1.  1.  1.  3.  5.]\n",
        " [ 5.  3.  1.  1.  1.  1.  3.  0.  0.  5.]\n",
        " [ 5.  5.  5.  5.  5.  5.  5.  5.  5.  5.]]\n"
       ]
      },
      {
       "metadata": {},
       "output_type": "display_data",
       "png": "[encoded data removed]",
       "text": [
        "<matplotlib.figure.Figure at 0x104e7af90>"
       ]
      }
     ],
     "prompt_number": 8
    },
    {
     "cell_type": "markdown",
     "metadata": {},
     "source": [
      "Great! Now our code will work even if the goal is moved slightly. However, what happens if an asteroid crashes in and knocks down a hill in our map? "
     ]
    },
    {
     "cell_type": "code",
     "collapsed": false,
     "input": [
      "maze      = np.loadtxt(fname=\"maze2.csv\",delimiter=\",\") #Note maze2 not maze1\n",
      "location  = np.array([7,7])\n",
      "direction = 1  \n",
      "\n",
      "for i in range(31):\n",
      "    new_location = move_forward(location, direction, maze)\n",
      "    if np.array_equal(new_location, location): \n",
      "        direction = turn_right(direction)\n",
      "    else:\n",
      "        location = new_location\n",
      "        \n",
      "print maze\n",
      "showMaze(maze)"
     ],
     "language": "python",
     "metadata": {},
     "outputs": [
      {
       "output_type": "stream",
       "stream": "stdout",
       "text": [
        "[[ 5.  5.  5.  5.  5.  5.  5.  5.  5.  5.]\n",
        " [ 5.  0.  0.  0.  4.  0.  0.  0.  0.  5.]\n",
        " [ 5.  0.  0.  3.  3.  3.  3.  3.  3.  5.]\n",
        " [ 5.  0.  0.  3.  1.  1.  3.  0.  3.  5.]\n",
        " [ 5.  3.  0.  3.  1.  1.  3.  0.  0.  5.]\n",
        " [ 5.  1.  1.  3.  1.  1.  3.  0.  0.  5.]\n",
        " [ 5.  1.  1.  0.  1.  1.  3.  3.  0.  5.]\n",
        " [ 5.  1.  1.  3.  1.  1.  1.  1.  0.  5.]\n",
        " [ 5.  1.  1.  1.  1.  1.  3.  3.  0.  5.]\n",
        " [ 5.  5.  5.  5.  5.  5.  5.  5.  5.  5.]]\n"
       ]
      },
      {
       "metadata": {},
       "output_type": "display_data",
       "png": "[encoded data removed]",
       "text": [
        "<matplotlib.figure.Figure at 0x1052ac790>"
       ]
      }
     ],
     "prompt_number": 9
    },
    {
     "cell_type": "markdown",
     "metadata": {},
     "source": [
      "Oh no! We get stuck in a loop at the very end! (If you can't see this, trace the path with your finger, I promise no one is watching). What we need is a left (or right) wall follower. The rover should follow the wall until it reaches the goal. To help you out, we'll define some functions to test if it can move in a given direction.\n",
      "\n",
      "These functions will work the same way we tested if the rover could move_forward. For left_clear and right_clear, we will compose the functions `direction_to_array` and `turn_left` (or `turn_right`), to check if the left or right is clear."
     ]
    },
    {
     "cell_type": "code",
     "collapsed": false,
     "input": [
      "def front_clear(location, direction, maze):\n",
      "    old_x, old_y = location\n",
      "    new_x, new_y = location + direction_to_array(direction)\n",
      "    \n",
      "    return maze[new_y][new_x] != 3 and maze[new_y][new_x] != 5\n",
      "\n",
      "def left_clear(location, direction, maze):\n",
      "    old_x, old_y = location\n",
      "    new_x, new_y = location + direction_to_array(turn_left(direction))\n",
      "    \n",
      "    return maze[new_y][new_x] != 3 and maze[new_y][new_x] != 5\n",
      "\n",
      "def right_clear(location, direction, maze):\n",
      "    old_x, old_y = location\n",
      "    new_x, new_y = location + direction_to_array(turn_right(direction))\n",
      "    \n",
      "    return maze[new_y][new_x] != 3 and maze[new_y][new_x] != 5"
     ],
     "language": "python",
     "metadata": {},
     "outputs": [],
     "prompt_number": 10
    },
    {
     "cell_type": "markdown",
     "metadata": {},
     "source": [
      "You should take a moment to look these methods over, but they ought to make sense after the previous unit.\n",
      "\n",
      "Now take a few minutes to write a write a wall-crawler method. Remember, the rover should stick to the wall at all times. If you are viewing this document online, you can get a copy of it running locally (or on wakari) by running the following code in a terminal.\n",
      "\n",
      "```bash\n",
      "git clone https://github.com/barbagroup/JITcode-MechE.git\n",
      "cd JITcode-MechE\n",
      "ipython notebook\n",
      "```\n",
      "\n",
      "Fill in the boilerplate code below to get started"
     ]
    },
    {
     "cell_type": "code",
     "collapsed": false,
     "input": [
      "maze      = np.loadtxt(fname=\"maze2.csv\",delimiter=\",\")\n",
      "location  = np.array([7,7])\n",
      "direction = 1  \n",
      "\n",
      "def wall_crawl(location, direction, maze):\n",
      "    \n",
      "    #Insert wall-crawler code here\n",
      "    \n",
      "    return (location, direction, maze)\n",
      "    \n",
      "location, direction, maze = wall_crawl(location, direction, maze)\n",
      "\n",
      "print maze\n",
      "showMaze(maze)"
     ],
     "language": "python",
     "metadata": {},
     "outputs": [
      {
       "output_type": "stream",
       "stream": "stdout",
       "text": [
        "[[ 5.  5.  5.  5.  5.  5.  5.  5.  5.  5.]\n",
        " [ 5.  0.  0.  0.  4.  0.  0.  0.  0.  5.]\n",
        " [ 5.  0.  0.  3.  3.  3.  3.  3.  3.  5.]\n",
        " [ 5.  0.  0.  3.  0.  0.  3.  0.  3.  5.]\n",
        " [ 5.  3.  0.  3.  0.  0.  3.  0.  0.  5.]\n",
        " [ 5.  0.  0.  3.  0.  0.  3.  0.  0.  5.]\n",
        " [ 5.  0.  0.  0.  0.  0.  3.  3.  0.  5.]\n",
        " [ 5.  0.  0.  3.  0.  0.  0.  1.  0.  5.]\n",
        " [ 5.  0.  0.  0.  0.  0.  3.  3.  0.  5.]\n",
        " [ 5.  5.  5.  5.  5.  5.  5.  5.  5.  5.]]\n"
       ]
      },
      {
       "metadata": {},
       "output_type": "display_data",
       "png": "[encoded data removed]",
       "text": [
        "<matplotlib.figure.Figure at 0x10ef35f50>"
       ]
      }
     ],
     "prompt_number": 11
    },
    {
     "cell_type": "markdown",
     "metadata": {},
     "source": [
      "Did you get it? If so, good job. If not, keep working at it, and if you really can't get it, you can find an example of it here [https://gist.github.com/zwade/1b4a1fcfc4935bc4ad56](https://gist.github.com/zwade/1b4a1fcfc4935bc4ad56). \n",
      "\n",
      "Loops are a very important part of programming. As you use them more, you'll become confortable with them and understand just how versatile they are. "
     ]
    },
    {
     "cell_type": "code",
     "collapsed": false,
     "input": [
      "from IPython.core.display import HTML\n",
      "def css_styling():\n",
      "    styles = open(\"../styles/custom.css\", \"r\").read()\n",
      "    return HTML(styles)\n",
      "css_styling()"
     ],
     "language": "python",
     "metadata": {},
     "outputs": [
      {
       "html": [
        "<link href='http://fonts.googleapis.com/css?family=Fenix' rel='stylesheet' type='text/css'>\n",
        "<link href='http://fonts.googleapis.com/css?family=Alegreya+Sans:100,300,400,500,700,800,900,100italic,300italic,400italic,500italic,700italic,800italic,900italic' rel='stylesheet' type='text/css'>\n",
        "<link href='http://fonts.googleapis.com/css?family=Source+Code+Pro:300,400' rel='stylesheet' type='text/css'>\n",
        "<style>\n",
        "    @font-face {\n",
        "        font-family: \"Computer Modern\";\n",
        "        src: url('http://mirrors.ctan.org/fonts/cm-unicode/fonts/otf/cmunss.otf');\n",
        "    }\n",
        "    div.cell{\n",
        "        width:800px;\n",
        "        margin-left:16% !important;\n",
        "        margin-right:auto;\n",
        "    }\n",
        "    h1 {\n",
        "        font-family: 'Alegreya Sans', sans-serif;\n",
        "    }\n",
        "    h2 {\n",
        "        font-family: 'Fenix', serif;\n",
        "    }\n",
        "    h3{\n",
        "\t\tfont-family: 'Fenix', serif;\n",
        "        margin-top:12px;\n",
        "        margin-bottom: 3px;\n",
        "       }\n",
        "\th4{\n",
        "\t\tfont-family: 'Fenix', serif;\n",
        "       }\n",
        "    h5 {\n",
        "        font-family: 'Alegreya Sans', sans-serif;\n",
        "    }\t   \n",
        "    div.text_cell_render{\n",
        "        font-family: 'Alegreya Sans',Computer Modern, \"Helvetica Neue\", Arial, Helvetica, Geneva, sans-serif;\n",
        "        line-height: 135%;\n",
        "        font-size: 120%;\n",
        "        width:600px;\n",
        "        margin-left:auto;\n",
        "        margin-right:auto;\n",
        "    }\n",
        "    .CodeMirror{\n",
        "            font-family: \"Source Code Pro\";\n",
        "\t\t\tfont-size: 90%;\n",
        "    }\n",
        "/*    .prompt{\n",
        "        display: None;\n",
        "    }*/\n",
        "    .text_cell_render h1 {\n",
        "        font-weight: 200;\n",
        "        font-size: 50pt;\n",
        "\t\tline-height: 100%;\n",
        "        color:#CD2305;\n",
        "        margin-bottom: 0.5em;\n",
        "        margin-top: 0.5em;\n",
        "        display: block;\n",
        "    }\t\n",
        "    .text_cell_render h5 {\n",
        "        font-weight: 300;\n",
        "        font-size: 16pt;\n",
        "        color: #CD2305;\n",
        "        font-style: italic;\n",
        "        margin-bottom: .5em;\n",
        "        margin-top: 0.5em;\n",
        "        display: block;\n",
        "    }\n",
        "    \n",
        "    .warning{\n",
        "        color: rgb( 240, 20, 20 )\n",
        "        }  \n",
        "</style>\n",
        "<script>\n",
        "    MathJax.Hub.Config({\n",
        "                        TeX: {\n",
        "                           extensions: [\"AMSmath.js\"]\n",
        "                           },\n",
        "                tex2jax: {\n",
        "                    inlineMath: [ ['$','$'], [\"\\\\(\",\"\\\\)\"] ],\n",
        "                    displayMath: [ ['$$','$$'], [\"\\\\[\",\"\\\\]\"] ]\n",
        "                },\n",
        "                displayAlign: 'center', // Change this to 'center' to center equations.\n",
        "                \"HTML-CSS\": {\n",
        "                    styles: {'.MathJax_Display': {\"margin\": 4}}\n",
        "                }\n",
        "        });\n",
        "</script>\n"
       ],
       "metadata": {},
       "output_type": "pyout",
       "prompt_number": 1,
       "text": [
        "<IPython.core.display.HTML at 0x7fd818ff3d90>"
       ]
      }
     ],
     "prompt_number": 1
    },
    {
     "cell_type": "code",
     "collapsed": false,
     "input": [],
     "language": "python",
     "metadata": {},
     "outputs": []
    }
   ],
   "metadata": {}
  }
 ]
}