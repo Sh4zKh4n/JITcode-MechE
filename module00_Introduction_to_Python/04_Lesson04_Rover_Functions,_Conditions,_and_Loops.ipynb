{
 "metadata": {
  "name": "",
  "signature": "sha256:bc05cc5ae4d3c96bd55dc5f214e0ff3681543961a7de5cbf83bcc54dcf07d76e"
 },
 "nbformat": 3,
 "nbformat_minor": 0,
 "worksheets": [
  {
   "cells": [
    {
     "cell_type": "code",
     "collapsed": false,
     "input": [
      "import numpy as np"
     ],
     "language": "python",
     "metadata": {},
     "outputs": [],
     "prompt_number": 1
    },
    {
     "cell_type": "code",
     "collapsed": false,
     "input": [
      "maze      = np.loadtxt(fname=\"maze1.csv\",delimiter=\",\")\n",
      "location  = np.array([7,7])\n",
      "direction = 1\n",
      "\n",
      "print maze"
     ],
     "language": "python",
     "metadata": {},
     "outputs": [
      {
       "output_type": "stream",
       "stream": "stdout",
       "text": [
        "[[ 5.  5.  5.  5.  5.  5.  5.  5.  5.  5.]\n",
        " [ 5.  0.  0.  0.  4.  0.  3.  0.  0.  5.]\n",
        " [ 5.  0.  0.  3.  3.  3.  3.  3.  3.  5.]\n",
        " [ 5.  0.  0.  3.  0.  0.  3.  0.  3.  5.]\n",
        " [ 5.  3.  0.  3.  0.  0.  3.  3.  0.  5.]\n",
        " [ 5.  0.  0.  3.  0.  0.  3.  0.  0.  5.]\n",
        " [ 5.  0.  0.  0.  0.  0.  3.  3.  0.  5.]\n",
        " [ 5.  0.  0.  3.  0.  0.  0.  1.  3.  5.]\n",
        " [ 5.  3.  0.  0.  0.  0.  3.  0.  0.  5.]\n",
        " [ 5.  5.  5.  5.  5.  5.  5.  5.  5.  5.]]\n"
       ]
      }
     ],
     "prompt_number": 2
    },
    {
     "cell_type": "code",
     "collapsed": false,
     "input": [
      "def direction_to_array(direction):                        #this is \n",
      "           #         North    West   South   East\n",
      "    return np.array([[0,-1], [-1,0], [0,1], [1,0]])[direction]\n",
      "    "
     ],
     "language": "python",
     "metadata": {},
     "outputs": [],
     "prompt_number": 3
    },
    {
     "cell_type": "code",
     "collapsed": false,
     "input": [
      "def move_forward(location, direction, maze):\n",
      "    old_x, old_y = location\n",
      "    new_x, new_y = location + direction_to_array(direction)\n",
      "    \n",
      "    if (maze[new_y][new_x] != 3 and maze[new_y][new_x] != 5):\n",
      "        maze[new_y][new_x] = 1.\n",
      "        return np.array([new_x,new_y])\n",
      "    else:\n",
      "        return location\n",
      "    "
     ],
     "language": "python",
     "metadata": {},
     "outputs": [],
     "prompt_number": 4
    },
    {
     "cell_type": "code",
     "collapsed": false,
     "input": [
      "location = move_forward(location, direction, maze)\n",
      "print location\n",
      "print maze"
     ],
     "language": "python",
     "metadata": {},
     "outputs": [
      {
       "output_type": "stream",
       "stream": "stdout",
       "text": [
        "[6 7]\n",
        "[[ 5.  5.  5.  5.  5.  5.  5.  5.  5.  5.]\n",
        " [ 5.  0.  0.  0.  4.  0.  3.  0.  0.  5.]\n",
        " [ 5.  0.  0.  3.  3.  3.  3.  3.  3.  5.]\n",
        " [ 5.  0.  0.  3.  0.  0.  3.  0.  3.  5.]\n",
        " [ 5.  3.  0.  3.  0.  0.  3.  3.  0.  5.]\n",
        " [ 5.  0.  0.  3.  0.  0.  3.  0.  0.  5.]\n",
        " [ 5.  0.  0.  0.  0.  0.  3.  3.  0.  5.]\n",
        " [ 5.  0.  0.  3.  0.  0.  1.  1.  3.  5.]\n",
        " [ 5.  3.  0.  0.  0.  0.  3.  0.  0.  5.]\n",
        " [ 5.  5.  5.  5.  5.  5.  5.  5.  5.  5.]]\n"
       ]
      }
     ],
     "prompt_number": 5
    },
    {
     "cell_type": "code",
     "collapsed": false,
     "input": [
      "def turn_left(direction):   #seems a bit too early to introduce modulo, better I think to do it conditionally\n",
      "    direction += 1\n",
      "    if (direction > 3):\n",
      "        direction = 0\n",
      "    return direction"
     ],
     "language": "python",
     "metadata": {},
     "outputs": [],
     "prompt_number": 6
    },
    {
     "cell_type": "code",
     "collapsed": false,
     "input": [
      "def turn_right(direction):\n",
      "    direction -= 1\n",
      "    if (direction < 0):\n",
      "        direction = 3\n",
      "    return direction"
     ],
     "language": "python",
     "metadata": {},
     "outputs": [],
     "prompt_number": 7
    },
    {
     "cell_type": "code",
     "collapsed": false,
     "input": [
      "maze      = np.loadtxt(fname=\"maze1.csv\",delimiter=\",\")\n",
      "location  = np.array([7,7])\n",
      "direction = 1\n",
      "\n",
      "location  = move_forward(location, direction, maze)\n",
      "location  = move_forward(location, direction, maze)\n",
      "location  = move_forward(location, direction, maze)\n",
      "\n",
      "direction = turn_right(direction);\n",
      "\n",
      "location  = move_forward(location, direction, maze)\n",
      "\n",
      "direction = turn_left(direction)\n",
      "\n",
      "location  = move_forward(location, direction, maze)\n",
      "location  = move_forward(location, direction, maze)\n",
      "\n",
      "direction = turn_right(direction);\n",
      "\n",
      "location  = move_forward(location, direction, maze)\n",
      "location  = move_forward(location, direction, maze)\n",
      "location  = move_forward(location, direction, maze)\n",
      "location  = move_forward(location, direction, maze)\n",
      "location  = move_forward(location, direction, maze)\n",
      "\n",
      "direction = turn_right(direction);\n",
      "\n",
      "location  = move_forward(location, direction, maze)\n",
      "location  = move_forward(location, direction, maze)\n",
      "\n",
      "print maze"
     ],
     "language": "python",
     "metadata": {},
     "outputs": [
      {
       "output_type": "stream",
       "stream": "stdout",
       "text": [
        "[[ 5.  5.  5.  5.  5.  5.  5.  5.  5.  5.]\n",
        " [ 5.  0.  1.  1.  1.  0.  3.  0.  0.  5.]\n",
        " [ 5.  0.  1.  3.  3.  3.  3.  3.  3.  5.]\n",
        " [ 5.  0.  1.  3.  0.  0.  3.  0.  3.  5.]\n",
        " [ 5.  3.  1.  3.  0.  0.  3.  3.  0.  5.]\n",
        " [ 5.  0.  1.  3.  0.  0.  3.  0.  0.  5.]\n",
        " [ 5.  0.  1.  1.  1.  0.  3.  3.  0.  5.]\n",
        " [ 5.  0.  0.  3.  1.  1.  1.  1.  3.  5.]\n",
        " [ 5.  3.  0.  0.  0.  0.  3.  0.  0.  5.]\n",
        " [ 5.  5.  5.  5.  5.  5.  5.  5.  5.  5.]]\n"
       ]
      }
     ],
     "prompt_number": 8
    },
    {
     "cell_type": "code",
     "collapsed": false,
     "input": [
      "maze      = np.loadtxt(fname=\"maze1.csv\",delimiter=\",\")\n",
      "location  = np.array([7,7])\n",
      "direction = 1\n",
      "\n",
      "for i in range(31):\n",
      "    new_loc = move_forward(location, direction, maze)\n",
      "    if new_loc[0] != location[0] or new_loc[1] != location[1]:\n",
      "        location = new_loc\n",
      "    else:\n",
      "        direction = turn_right(direction)\n",
      "        \n",
      "print maze"
     ],
     "language": "python",
     "metadata": {},
     "outputs": [
      {
       "output_type": "stream",
       "stream": "stdout",
       "text": [
        "[[ 5.  5.  5.  5.  5.  5.  5.  5.  5.  5.]\n",
        " [ 5.  0.  1.  1.  1.  0.  3.  0.  0.  5.]\n",
        " [ 5.  0.  1.  3.  3.  3.  3.  3.  3.  5.]\n",
        " [ 5.  0.  1.  3.  1.  1.  3.  0.  3.  5.]\n",
        " [ 5.  3.  1.  3.  1.  1.  3.  3.  0.  5.]\n",
        " [ 5.  0.  1.  3.  1.  1.  3.  0.  0.  5.]\n",
        " [ 5.  0.  1.  0.  1.  1.  3.  3.  0.  5.]\n",
        " [ 5.  0.  1.  3.  1.  1.  1.  1.  3.  5.]\n",
        " [ 5.  3.  1.  1.  1.  1.  3.  0.  0.  5.]\n",
        " [ 5.  5.  5.  5.  5.  5.  5.  5.  5.  5.]]\n"
       ]
      }
     ],
     "prompt_number": 9
    },
    {
     "cell_type": "code",
     "collapsed": false,
     "input": [],
     "language": "python",
     "metadata": {},
     "outputs": []
    }
   ],
   "metadata": {}
  }
 ]
}