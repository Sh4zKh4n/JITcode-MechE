{
 "cells": [
  {
   "cell_type": "code",
   "execution_count": 1,
   "metadata": {
    "collapsed": false
   },
   "outputs": [],
   "source": [
    "import cantera"
   ]
  },
  {
   "cell_type": "markdown",
   "metadata": {},
   "source": [
    "Steam enters a turbine at 10 bar and 240° C and exhausts at 1.5 bar. The work output of the turbine drives a water pump. Water enters the pump at 1 bar and 15° C and exits at 60 bar.  Both the turbine and the pump are adiabatic with efficiencies of 85% and 75%, respectively."
   ]
  },
  {
   "cell_type": "markdown",
   "metadata": {},
   "source": [
    "Steam entering turbine: \n",
    "\n",
    "$T_1 = 240 ^\\circ C$\n",
    "\n",
    "$P_1 = 10 \\text{ bar} = 1e6 \\text{ Pa}$"
   ]
  },
  {
   "cell_type": "code",
   "execution_count": 33,
   "metadata": {
    "collapsed": true
   },
   "outputs": [],
   "source": [
    "T1 = 240 + 273\n",
    "P1 = 1e6\n",
    "\n",
    "H2O = cantera.Water()\n",
    "H2O.TP = T1, P1  # set temp and pressure\n",
    "h1 = H2O.enthalpy_mass\n",
    "s1 = H2O.entropy_mass"
   ]
  },
  {
   "cell_type": "code",
   "execution_count": 40,
   "metadata": {
    "collapsed": false
   },
   "outputs": [
    {
     "name": "stdout",
     "output_type": "stream",
     "text": [
      "Temperature: 513.00 K, Pressure: 1000000.00 Pa, Vapor Ratio: 1.00\n"
     ]
    }
   ],
   "source": [
    "print('Temperature: {:.2f} K, Pressure: {:.2f} Pa, Vapor Ratio: {:.2f}'.format(*H2O.TPX))"
   ]
  },
  {
   "cell_type": "markdown",
   "metadata": {},
   "source": [
    "Steam exiting turbine:\n",
    "\n",
    "$P_2 = 1.5 \\text{ bar} = 1.5 e5 \\text{ Pa}$\n",
    "\n",
    "and $S_2 = S_1$ for internally reversible turbine\n"
   ]
  },
  {
   "cell_type": "code",
   "execution_count": 4,
   "metadata": {
    "collapsed": true
   },
   "outputs": [],
   "source": [
    "P2 = 1.5e5\n",
    "\n",
    "H2O_2 = cantera.Water()\n",
    "H2O_2.SP = s1, P2\n",
    "h2s = H2O_2.enthalpy_mass"
   ]
  },
  {
   "cell_type": "code",
   "execution_count": 41,
   "metadata": {
    "collapsed": false
   },
   "outputs": [
    {
     "name": "stdout",
     "output_type": "stream",
     "text": [
      "Temperature: 384.55 K, Pressure: 150000.00 Pa, Vapor Ratio: 0.94\n"
     ]
    }
   ],
   "source": [
    "print('Temperature: {:.2f} K, Pressure: {:.2f} Pa, Vapor Ratio: {:.2f}'.format(*H2O_2.TPX))"
   ]
  },
  {
   "cell_type": "markdown",
   "metadata": {},
   "source": [
    "Water entering pump:\n",
    "\n",
    "$P_3 = 1 \\text{ bar} = 1e5 \\text{ Pa}$\n",
    "\n",
    "$T_3 = 15 ^\\circ C$"
   ]
  },
  {
   "cell_type": "code",
   "execution_count": 6,
   "metadata": {
    "collapsed": false
   },
   "outputs": [],
   "source": [
    "T3 = 15 + 273\n",
    "P3 = 1e5\n",
    "\n",
    "H2O_3 = cantera.Water()\n",
    "H2O_3.TP = T3, P3\n",
    "h3 = H2O_3.enthalpy_mass\n",
    "s3 = H2O_3.entropy_mass"
   ]
  },
  {
   "cell_type": "code",
   "execution_count": 42,
   "metadata": {
    "collapsed": false
   },
   "outputs": [
    {
     "name": "stdout",
     "output_type": "stream",
     "text": [
      "Temperature: 288.00 K, Pressure: 100000.00 Pa, Vapor Ratio: 0.00\n"
     ]
    }
   ],
   "source": [
    "print('Temperature: {:.2f} K, Pressure: {:.2f} Pa, Vapor Ratio: {:.2f}'.format(*H2O_3.TPX))"
   ]
  },
  {
   "cell_type": "markdown",
   "metadata": {},
   "source": [
    "Water exiting pump:\n",
    "\n",
    "$P_4 = 60 \\text{ bar} = 6e6 \\text{ Pa}$\n",
    "\n",
    "and $S_4 = S_3$ for internally reversible pump"
   ]
  },
  {
   "cell_type": "code",
   "execution_count": 8,
   "metadata": {
    "collapsed": true
   },
   "outputs": [],
   "source": [
    "P4 = 6e6\n",
    "\n",
    "H2O_4 = cantera.Water()\n",
    "H2O_4.SP = s3, P4\n",
    "h4s = H2O_4.enthalpy_mass"
   ]
  },
  {
   "cell_type": "code",
   "execution_count": 43,
   "metadata": {
    "collapsed": false
   },
   "outputs": [
    {
     "name": "stdout",
     "output_type": "stream",
     "text": [
      "Temperature: 288.06 K, Pressure: 6000000.13 Pa, Vapor Ratio: 0.00\n"
     ]
    }
   ],
   "source": [
    "print('Temperature: {:.2f} K, Pressure: {:.2f} Pa, Vapor Ratio: {:.2f}'.format(*H2O_4.TPX))"
   ]
  },
  {
   "cell_type": "markdown",
   "metadata": {},
   "source": [
    "Ideal turbine work and isentropic pump work:"
   ]
  },
  {
   "cell_type": "code",
   "execution_count": 44,
   "metadata": {
    "collapsed": false
   },
   "outputs": [],
   "source": [
    "w_ts = h1 - h2s\n",
    "w_ps = h4s - h3\n",
    "\n",
    "mratio_ideal = w_ts / w_ps"
   ]
  },
  {
   "cell_type": "code",
   "execution_count": 45,
   "metadata": {
    "collapsed": false
   },
   "outputs": [
    {
     "name": "stdout",
     "output_type": "stream",
     "text": [
      "Ideal mass ratio: 60.72\n"
     ]
    }
   ],
   "source": [
    "print('Ideal mass ratio: {:.2f}'.format(mratio_ideal))"
   ]
  },
  {
   "cell_type": "markdown",
   "metadata": {
    "collapsed": true
   },
   "source": [
    "Efficiency of turbine and pump are given as:\n",
    "\n",
    "$\\eta_{turbine} = 85\\%$\n",
    "\n",
    "$\\eta_{pump} = 75\\%$\n",
    "\n",
    "Real work is $\\eta \\times ideal$"
   ]
  },
  {
   "cell_type": "code",
   "execution_count": 46,
   "metadata": {
    "collapsed": true
   },
   "outputs": [],
   "source": [
    "η_t = .85\n",
    "η_p = .75"
   ]
  },
  {
   "cell_type": "markdown",
   "metadata": {},
   "source": [
    "$$ \\eta_T = \\frac{w_T}{w_{Ts}}$$\n",
    "$$ w_T = w_{Ts} \\eta_T$$"
   ]
  },
  {
   "cell_type": "markdown",
   "metadata": {},
   "source": [
    "$$ \\eta_p = \\frac{w_{ps}}{w_p}$$\n",
    "$$ w_p = \\frac{w_{ps}}{\\eta_p}$$"
   ]
  },
  {
   "cell_type": "code",
   "execution_count": 47,
   "metadata": {
    "collapsed": true
   },
   "outputs": [],
   "source": [
    "w_t = w_ts * η_t\n",
    "w_p = w_ps / η_p"
   ]
  },
  {
   "cell_type": "markdown",
   "metadata": {},
   "source": [
    "Update enthalpies for non-ideal case"
   ]
  },
  {
   "cell_type": "code",
   "execution_count": 48,
   "metadata": {
    "collapsed": false
   },
   "outputs": [],
   "source": [
    "h2 = h1 - w_t\n",
    "h4 = w_p + h3"
   ]
  },
  {
   "cell_type": "markdown",
   "metadata": {},
   "source": [
    "Update mass flow rate:"
   ]
  },
  {
   "cell_type": "code",
   "execution_count": 21,
   "metadata": {
    "collapsed": false
   },
   "outputs": [
    {
     "name": "stdout",
     "output_type": "stream",
     "text": [
      "38.71097316829981\n"
     ]
    }
   ],
   "source": [
    "mratio = (h1 - h2) / (h4 - h3)"
   ]
  },
  {
   "cell_type": "code",
   "execution_count": 49,
   "metadata": {
    "collapsed": false
   },
   "outputs": [
    {
     "name": "stdout",
     "output_type": "stream",
     "text": [
      "Mass flow rate with pump and turbine efficiencies: 38.71\n"
     ]
    }
   ],
   "source": [
    "print('Mass flow rate with pump and turbine efficiencies: {:.2f}'.format(mratio))"
   ]
  },
  {
   "cell_type": "markdown",
   "metadata": {},
   "source": [
    "Percent decrease in pumping ratio:"
   ]
  },
  {
   "cell_type": "code",
   "execution_count": 22,
   "metadata": {
    "collapsed": true
   },
   "outputs": [],
   "source": [
    "pdec = (mratio_ideal - mratio) / mratio_ideal"
   ]
  },
  {
   "cell_type": "code",
   "execution_count": 52,
   "metadata": {
    "collapsed": false
   },
   "outputs": [
    {
     "name": "stdout",
     "output_type": "stream",
     "text": [
      "Percent decrease: 36.25% \n"
     ]
    }
   ],
   "source": [
    "print(\"Percent decrease: {:.2%} \".format(pdec))"
   ]
  }
 ],
 "metadata": {
  "kernelspec": {
   "display_name": "Python 3",
   "language": "python",
   "name": "python3"
  },
  "language_info": {
   "codemirror_mode": {
    "name": "ipython",
    "version": 3
   },
   "file_extension": ".py",
   "mimetype": "text/x-python",
   "name": "python",
   "nbconvert_exporter": "python",
   "pygments_lexer": "ipython3",
   "version": "3.5.2"
  }
 },
 "nbformat": 4,
 "nbformat_minor": 0
}
