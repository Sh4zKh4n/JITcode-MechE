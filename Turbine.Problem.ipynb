{
 "cells": [
  {
   "cell_type": "code",
   "execution_count": 1,
   "metadata": {
    "collapsed": false
   },
   "outputs": [],
   "source": [
    "import cantera"
   ]
  },
  {
   "cell_type": "markdown",
   "metadata": {},
   "source": [
    "Set up different water/steam values (inputs and outputs)"
   ]
  },
  {
   "cell_type": "markdown",
   "metadata": {},
   "source": [
    "Initial conditions\n",
    "\n",
    "$T_1 = 240 ^\\circ C$\n",
    "\n",
    "$P_1 = 10 \\text{ bar} = 1\\tt{E}$$ 6 \\text{ Pa}$"
   ]
  },
  {
   "cell_type": "code",
   "execution_count": 2,
   "metadata": {
    "collapsed": true
   },
   "outputs": [],
   "source": [
    "T1 = 240+273\n",
    "P1 = 1e6\n",
    "\n",
    "H2O = cantera.Water()\n",
    "H2O.TP = T1, P1\n",
    "h1 = H2O.enthalpy_mass\n",
    "s1 = H2O.entropy_mass"
   ]
  },
  {
   "cell_type": "markdown",
   "metadata": {},
   "source": [
    "Steam output has given pressure\n",
    "\n",
    "$P_2 = 1.5 \\text{ bar} = 1.5 \\tt{E}$$5 \\text{ Pa}$\n",
    "\n",
    "and $S_2 = S_1$ b.c. adiabatic\n"
   ]
  },
  {
   "cell_type": "code",
   "execution_count": 3,
   "metadata": {
    "collapsed": true
   },
   "outputs": [],
   "source": [
    "P2 = 1.5e5\n",
    "\n",
    "H2O_2 = cantera.Water()\n",
    "H2O_2.SP = s1, P2\n",
    "h2 = H2O_2.enthalpy_mass"
   ]
  },
  {
   "cell_type": "markdown",
   "metadata": {},
   "source": [
    "Water enters the pump with\n",
    "\n",
    "$P_3 = 1 \\text{ bar} = 1e5 \\text{ Pa}$ and\n",
    "\n",
    "$T_3 = 15 ^\\circ C$"
   ]
  },
  {
   "cell_type": "code",
   "execution_count": 4,
   "metadata": {
    "collapsed": false
   },
   "outputs": [],
   "source": [
    "T3 = 15+273\n",
    "P3 = 1e5\n",
    "\n",
    "H2O_3 = cantera.Water()\n",
    "H2O_3.TP = T3, P3\n",
    "h3 = H2O_3.enthalpy_mass\n",
    "s3 = H2O_3.entropy_mass"
   ]
  },
  {
   "cell_type": "markdown",
   "metadata": {},
   "source": [
    "Water exits pump with\n",
    "\n",
    "$P_4 = 60 \\text{ bar} = 6e6 \\text{ Pa}$\n",
    "\n",
    "and $S_4 = S_3$"
   ]
  },
  {
   "cell_type": "code",
   "execution_count": 5,
   "metadata": {
    "collapsed": true
   },
   "outputs": [],
   "source": [
    "P4 = 6e6\n",
    "\n",
    "H2O_4 = cantera.Water()\n",
    "H2O_4.SP = s3, P4\n",
    "h4 = H2O_4.enthalpy_mass"
   ]
  },
  {
   "cell_type": "markdown",
   "metadata": {},
   "source": [
    "Ideal turbine work and isentropic pump work:"
   ]
  },
  {
   "cell_type": "code",
   "execution_count": 6,
   "metadata": {
    "collapsed": false
   },
   "outputs": [
    {
     "name": "stdout",
     "output_type": "stream",
     "text": [
      "60.72309516596035\n"
     ]
    }
   ],
   "source": [
    "w_ts = h1 - h2\n",
    "w_ps = h4 - h3\n",
    "\n",
    "mratio_ideal = w_ts / w_ps\n",
    "print(mratio_ideal)"
   ]
  },
  {
   "cell_type": "markdown",
   "metadata": {
    "collapsed": true
   },
   "source": [
    "Efficiency of turbine and pump are given as:\n",
    "\n",
    "$\\eta_{turbine} = 85\\%$\n",
    "\n",
    "$\\eta_{pump} = 75\\%$\n",
    "\n",
    "Real work is $\\eta \\times ideal$"
   ]
  },
  {
   "cell_type": "code",
   "execution_count": 7,
   "metadata": {
    "collapsed": true
   },
   "outputs": [],
   "source": [
    "η_t = .85\n",
    "η_p = .75"
   ]
  },
  {
   "cell_type": "code",
   "execution_count": 8,
   "metadata": {
    "collapsed": true
   },
   "outputs": [],
   "source": [
    "work_t = w_ts * η_t\n",
    "work_p = w_ps * η_p"
   ]
  },
  {
   "cell_type": "markdown",
   "metadata": {},
   "source": [
    "Update enthalpies for non-ideal case"
   ]
  },
  {
   "cell_type": "code",
   "execution_count": 9,
   "metadata": {
    "collapsed": true
   },
   "outputs": [],
   "source": [
    "h2 = h1 - work_t\n",
    "h4 = work_p + h3"
   ]
  },
  {
   "cell_type": "markdown",
   "metadata": {},
   "source": [
    "Update mass flow rate:"
   ]
  },
  {
   "cell_type": "code",
   "execution_count": 10,
   "metadata": {
    "collapsed": false
   },
   "outputs": [
    {
     "name": "stdout",
     "output_type": "stream",
     "text": [
      "68.81950785476246\n"
     ]
    }
   ],
   "source": [
    "mratio = (h1 - h2) / (h4 - h3)\n",
    "print(mratio)"
   ]
  },
  {
   "cell_type": "markdown",
   "metadata": {},
   "source": [
    "Percent decrease in pumping ratio:"
   ]
  },
  {
   "cell_type": "code",
   "execution_count": 11,
   "metadata": {
    "collapsed": true
   },
   "outputs": [],
   "source": [
    "pdec = (mratio_ideal - mratio) / mratio_ideal"
   ]
  },
  {
   "cell_type": "code",
   "execution_count": 12,
   "metadata": {
    "collapsed": false
   },
   "outputs": [
    {
     "data": {
      "text/plain": [
       "-0.13333333333345515"
      ]
     },
     "execution_count": 12,
     "metadata": {},
     "output_type": "execute_result"
    }
   ],
   "source": [
    "pdec"
   ]
  },
  {
   "cell_type": "markdown",
   "metadata": {},
   "source": [
    "## P-T graph for turbine"
   ]
  },
  {
   "cell_type": "code",
   "execution_count": 13,
   "metadata": {
    "collapsed": true
   },
   "outputs": [],
   "source": [
    "import numpy\n",
    "from matplotlib import pyplot\n",
    "%matplotlib inline"
   ]
  },
  {
   "cell_type": "code",
   "execution_count": 14,
   "metadata": {
    "collapsed": true
   },
   "outputs": [],
   "source": [
    "p_vec = numpy.linspace(P1, P2, 100)\n",
    "temp_vec = numpy.zeros(100)"
   ]
  },
  {
   "cell_type": "code",
   "execution_count": 15,
   "metadata": {
    "collapsed": true
   },
   "outputs": [],
   "source": [
    "for i, p in enumerate(p_vec):\n",
    "    H2O.SP = s1, p\n",
    "    temp_vec[i] = H2O.T"
   ]
  },
  {
   "cell_type": "code",
   "execution_count": 16,
   "metadata": {
    "collapsed": false
   },
   "outputs": [
    {
     "data": {
      "text/plain": [
       "[<matplotlib.lines.Line2D at 0x7f8e683ab9e8>]"
      ]
     },
     "execution_count": 16,
     "metadata": {},
     "output_type": "execute_result"
    },
    {
     "data": {
      "image/png": "[encoded data removed]",
      "text/plain": [
       "<matplotlib.figure.Figure at 0x7f8e6a9fc748>"
      ]
     },
     "metadata": {},
     "output_type": "display_data"
    }
   ],
   "source": [
    "pyplot.plot(temp_vec, p_vec)"
   ]
  },
  {
   "cell_type": "markdown",
   "metadata": {},
   "source": [
    "## P-T graph for pump"
   ]
  },
  {
   "cell_type": "code",
   "execution_count": 17,
   "metadata": {
    "collapsed": true
   },
   "outputs": [],
   "source": [
    "p_vec = numpy.linspace(P3, P4, 100)\n",
    "temp_vec = numpy.zeros(100)"
   ]
  },
  {
   "cell_type": "code",
   "execution_count": 18,
   "metadata": {
    "collapsed": false
   },
   "outputs": [],
   "source": [
    "for i, p in enumerate(p_vec):\n",
    "    H2O.SP = s3, p\n",
    "    temp_vec[i] = H2O.T"
   ]
  },
  {
   "cell_type": "code",
   "execution_count": 19,
   "metadata": {
    "collapsed": false
   },
   "outputs": [
    {
     "data": {
      "text/plain": [
       "[<matplotlib.lines.Line2D at 0x7f8e67fa5780>]"
      ]
     },
     "execution_count": 19,
     "metadata": {},
     "output_type": "execute_result"
    },
    {
     "data": {
      "image/png": "[encoded data removed]",
      "text/plain": [
       "<matplotlib.figure.Figure at 0x7f8e6a9fc400>"
      ]
     },
     "metadata": {},
     "output_type": "display_data"
    }
   ],
   "source": [
    "pyplot.plot(temp_vec, p_vec)"
   ]
  },
  {
   "cell_type": "code",
   "execution_count": 20,
   "metadata": {
    "collapsed": false
   },
   "outputs": [
    {
     "data": {
      "text/plain": [
       "2.8799"
      ]
     },
     "execution_count": 20,
     "metadata": {},
     "output_type": "execute_result"
    }
   ],
   "source": [
    ".01 * 2.8799e2"
   ]
  },
  {
   "cell_type": "code",
   "execution_count": null,
   "metadata": {
    "collapsed": true
   },
   "outputs": [],
   "source": []
  }
 ],
 "metadata": {
  "kernelspec": {
   "display_name": "Python 3",
   "language": "python",
   "name": "python3"
  },
  "language_info": {
   "codemirror_mode": {
    "name": "ipython",
    "version": 3
   },
   "file_extension": ".py",
   "mimetype": "text/x-python",
   "name": "python",
   "nbconvert_exporter": "python",
   "pygments_lexer": "ipython3",
   "version": "3.5.2"
  }
 },
 "nbformat": 4,
 "nbformat_minor": 0
}
