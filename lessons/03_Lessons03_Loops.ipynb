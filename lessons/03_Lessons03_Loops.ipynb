{
 "metadata": {
  "name": ""
 },
 "nbformat": 3,
 "nbformat_minor": 0,
 "worksheets": [
  {
   "cells": [
    {
     "cell_type": "raw",
     "metadata": {},
     "source": [
      "Content provided under a Creative Commons Attribution license, CC-BY 4.0. (c) Lorena A. Barba, 2014. Thanks: A. Ahmadia, G. Forsyth, and NSF for support via CAREER award #1149784."
     ]
    },
    {
     "cell_type": "heading",
     "level": 5,
     "metadata": {},
     "source": [
      "Version 0.3 -- February 2014"
     ]
    },
    {
     "cell_type": "heading",
     "level": 1,
     "metadata": {},
     "source": [
      "JIT module 1, lesson 3"
     ]
    },
    {
     "cell_type": "markdown",
     "metadata": {},
     "source": [
      "This is Lesson 3 of the first *Just-in-Time (JIT) module* for teaching computing to engineers, in context. The first module lays the foundations for building computational skills. It is not meant to support a particular engineering course, so it can be used by freshman students. The context problems should be interesting to any science-minded student.\n",
      "\n",
      "Lesson 3 builds competency in these basic skills:\n",
      "\n",
      "* loops(for and while)\n",
      "* use of more advanced conditionals (elif, ternary, greater, less, etc..) \n",
      "* critical thinking: what will this case actually _do_"
     ]
    },
    {
     "cell_type": "heading",
     "level": 1,
     "metadata": {},
     "source": [
      "Context \u2014 Mars rover navigation"
     ]
    },
    {
     "cell_type": "markdown",
     "metadata": {},
     "source": [
      "In the last lesson, we talked about making decisions based on the situation you're in. Well, now we've got a new situation.  The bit of software that was making Rover run your function multiple times as he navigated the surface of Mars has encountered an issue.  We'll have to implement that part of the coding now, too.  OK: time to learn about loops!  "
     ]
    },
    {
     "cell_type": "code",
     "collapsed": true,
     "input": [
      "#type your name here, then run this block of code\n",
      "name = 'Alex'\n",
      "out = ''\n",
      "for char in name:\n",
      "    out = out+char\n",
      "    print(out)"
     ],
     "language": "python",
     "metadata": {},
     "outputs": [
      {
       "output_type": "stream",
       "stream": "stdout",
       "text": [
        "A\n",
        "Al\n",
        "Ale\n",
        "Alex\n"
       ]
      }
     ],
     "prompt_number": 3
    },
    {
     "cell_type": "markdown",
     "metadata": {},
     "source": [
      "The above is a pretty traditional use of loops in python.  It's really good at looking at a string (like your name), or an array (like the data we looked at in lesson one), and pulling off each element to do some action with it. This loop is a little silly; it basically just makes another copy of the string \"name.\"  But we could easily do something a little more useful, like filtering. Let's pull out all the vowels in a name.  This will need some conditional reasoning, too"
     ]
    },
    {
     "cell_type": "code",
     "collapsed": true,
     "input": [
      "name = 'Alex'\n",
      "out = ''\n",
      "vowels = 'aeiouAEIOU'\n",
      "for char in name:\n",
      "    if char in vowels:\n",
      "        out = out + char\n",
      "out\n"
     ],
     "language": "python",
     "metadata": {},
     "outputs": [
      {
       "metadata": {},
       "output_type": "pyout",
       "prompt_number": 4,
       "text": [
        "'Ae'"
       ]
      }
     ],
     "prompt_number": 4
    },
    {
     "cell_type": "markdown",
     "metadata": {},
     "source": [
      "Well.  That's pretty cool. It will work with all kinds of strings, too.  Try changing the loop to count the number of vowels, consonants, and special characters.  It isn't really very helpful for helping Rover get around, though.  Let's have a look at that, now.  We'll consider the previous case where right turns will work.  First of all, here's our function from before, as well as the maze we'll need to navigate."
     ]
    },
    {
     "cell_type": "code",
     "collapsed": false,
     "input": [
      "def student_func(front_sensor):\n",
      "    if front_sensor == 'hazard':\n",
      "        return 'turn right'\n",
      "    else:\n",
      "        return 'go forward'\n",
      "    \n",
      "%matplotlib inline\n",
      "%run \"mazegen1.py\""
     ],
     "language": "python",
     "metadata": {},
     "outputs": [
      {
       "metadata": {},
       "output_type": "display_data",
       "png": "[encoded data removed]",
       "text": [
        "<matplotlib.figure.Figure at 0xa7a6ac8>"
       ]
      }
     ],
     "prompt_number": 2
    },
    {
     "cell_type": "markdown",
     "metadata": {},
     "source": [
      "Ok. Now that we've got that worked out, we need to get Rover actually moving.  Let's consider that we need to know what is in front of rover and which way he is pointing.  Let's make some functions that will help us with this."
     ]
    },
    {
     "cell_type": "code",
     "collapsed": false,
     "input": [
      "# this function will take the arguments of where rover is and which way he is facing and tell us the location in front of him.\n",
      "#Remember that this means that down(South) and to the right(east) are positive changes in index.\n",
      "def front(Rover, Pointing):\n",
      "    #We need to set front equal to a copy Rover, because in Python, lists are \"pointers\". Try removing the list() around 'Rover'.\n",
      "    #You'll get some odd results further on!  This is something to be careful of when working in Python.\n",
      "    front = list(Rover)\n",
      "    if Pointing == 'West':\n",
      "        front[1] = front[1] - 1\n",
      "        return front\n",
      "    if Pointing == 'North':\n",
      "        front[0] = front[0] - 1\n",
      "        return front\n",
      "    if Pointing == 'East':\n",
      "        front[1] = front[1]+1\n",
      "        return front\n",
      "    if Pointing == 'South':\n",
      "        front[0] = front[0] + 1\n",
      "        return front\n",
      "#this function turns Rover right without changing his position\n",
      "def turn_right(Pointing):\n",
      "    if Pointing == 'West':\n",
      "        Pointing = 'North'\n",
      "        return Pointing\n",
      "    if Pointing == 'North':\n",
      "        Pointing = 'East'\n",
      "        return Pointing\n",
      "    if Pointing == 'East':\n",
      "        Pointing = 'South'\n",
      "        return Pointing\n",
      "    if Pointing == 'South':\n",
      "        Pointing = 'West'\n",
      "        return Pointing\n",
      "#this function turns Rover left without changing his position\n",
      "def turn_left(Pointing):\n",
      "    if Pointing == 'West':\n",
      "        Pointing = 'South'\n",
      "        return Pointing\n",
      "    if Pointing == 'North':\n",
      "        Pointing = 'West'\n",
      "        return Pointing\n",
      "    if Pointing == 'East':\n",
      "        Pointing = 'North'\n",
      "        return Pointing\n",
      "    if Pointing == 'South':\n",
      "        Pointing = 'East'\n",
      "        return Pointing"
     ],
     "language": "python",
     "metadata": {},
     "outputs": [],
     "prompt_number": 3
    },
    {
     "cell_type": "markdown",
     "metadata": {},
     "source": [
      "Let's check some of the functions above.  First, let's make sure we can figure out what's in front of us.  "
     ]
    },
    {
     "cell_type": "code",
     "collapsed": false,
     "input": [
      "Rover = [7,7] # We need to know where Rover is.  We'll consider the grid above following Python's locating convention.  \n",
      "Pointing = 'West' #we need to know which way he is facing when we tell him to drive forward or turn left and right.\n",
      "\n",
      "#what's in front of us with these settings?\n",
      "print('front =')\n",
      "print(front(Rover,Pointing))\n",
      "print('If we turn left, we face:')\n",
      "print(turn_left(Pointing))\n",
      "print('If we turn left, then right again, we face:')\n",
      "print(turn_left(turn_right(Pointing)))\n",
      "#the line above should return West, which makes sure that turning right and turning left are opposite functions\n",
      "#note that we can \"nest\" our functions, which can be very useful, but sometimes a little difficult to read.  Be careful about doing \n",
      "#this sort of thing excessively. \n",
      "#Nested functions are evaluated from the inside out.  This means that the innermost set of parentheses happens first.  Otherwise,\n",
      "#the outside functions wouldn't know what they were supposed to work on!"
     ],
     "language": "python",
     "metadata": {},
     "outputs": [
      {
       "output_type": "stream",
       "stream": "stdout",
       "text": [
        "front =\n",
        "[7, 6]\n",
        "[7, 7]\n",
        "If we turn left, we face:\n",
        "South\n",
        "If we turn left, then right again, we face:\n",
        "West\n"
       ]
      }
     ],
     "prompt_number": 89
    },
    {
     "cell_type": "markdown",
     "metadata": {},
     "source": [
      "Well, that looks good; our functions work well.  Now, let's get Rover moving. "
     ]
    },
    {
     "cell_type": "code",
     "collapsed": false,
     "input": [
      "from JSAnimation.IPython_display import display_animation\n",
      "#this will let us use your browser's JavaScript Capability to make a nice little movie of Rover moving around.\n",
      "from rover_planning_1 import hazard\n",
      "#you'll use the hazard function to check if things are safe; an example use will be below."
     ],
     "language": "python",
     "metadata": {},
     "outputs": [],
     "prompt_number": 4
    },
    {
     "cell_type": "code",
     "collapsed": false,
     "input": [
      "Rover = [7,7] # We need to know where Rover is.  We'll consider the grid above following Python's locating convention.  \n",
      "Pointing = 'West' #we need to know which way he is facing when we tell him to drive forward or turn left and right.\n",
      "whats_in_front = front(Rover,Pointing)\n",
      "is_safe = hazard(whats_in_front,maze)\n",
      "#We'll need to reference our maze when we use the hazard function.  Think of it as your sensors examining the environment.\n",
      "#If it's dangerous, the function returns the word 'hazard'. Otherwise, it returns 'safe'\n",
      "if is_safe == 'hazard':\n",
      "    turn_right(Pointing)\n",
      "    #we want to turn right if it's dangerous\n",
      "elif is_safe =='safe':\n",
      "    Rover = front(Rover,Pointing)\n",
      "    #and drive straight if it's safe.\n",
      "    maze[Rover[0],Rover[1]] = 1\n",
      "print('Rover is at: and facing:')\n",
      "print(Rover,Pointing)\n",
      "\n",
      "\n"
     ],
     "language": "python",
     "metadata": {},
     "outputs": [
      {
       "output_type": "stream",
       "stream": "stdout",
       "text": [
        "Rover is at: and facing:\n",
        "([7, 6], 'West')\n"
       ]
      }
     ],
     "prompt_number": 94
    },
    {
     "cell_type": "markdown",
     "metadata": {},
     "source": [
      "That's one small step for a rover, and one small(but important) step for a new programmer.  This is sort of the \"meat\" of the loop we'll need to make.  Let's wrap it up in a loop that will run for ten steps."
     ]
    },
    {
     "cell_type": "code",
     "collapsed": false,
     "input": [
      "Rover = [7,7] # We need to know where Rover is.  We'll consider the grid above following Python's locating convention.  \n",
      "Pointing = 'West' #we need to know which way he is facing when we tell him to drive forward or turn left and right.\n",
      "\n",
      "for x in range(0,9):\n",
      "    whats_in_front = front(Rover,Pointing)\n",
      "    is_safe = hazard(whats_in_front,maze)\n",
      "    #We'll need to reference our maze when we use the hazard function.  Think of it as your sensors examining the environment.\n",
      "    #If it's dangerous, the function returns the word 'hazard'. Otherwise, it returns 'safe'\n",
      "    if is_safe == 'hazard':\n",
      "        Pointing = turn_right(Pointing)\n",
      "        #we want to turn right if it's dangerous\n",
      "    elif is_safe =='safe':\n",
      "        Rover = front(Rover,Pointing)\n",
      "        #and drive straight if it's safe.\n",
      "        maze[Rover[0],Rover[1]] = 1\n",
      "    print('Rover is at: and facing:')\n",
      "    print(Rover,Pointing)\n"
     ],
     "language": "python",
     "metadata": {},
     "outputs": [
      {
       "output_type": "stream",
       "stream": "stdout",
       "text": [
        "Rover is at: and facing:\n",
        "([7, 6], 'West')\n",
        "Rover is at: and facing:\n",
        "([7, 5], 'West')\n",
        "Rover is at: and facing:\n",
        "([7, 4], 'West')\n",
        "Rover is at: and facing:\n",
        "([7, 4], 'North')\n",
        "Rover is at: and facing:\n",
        "([6, 4], 'North')\n",
        "Rover is at: and facing:\n",
        "([5, 4], 'North')\n",
        "Rover is at: and facing:\n",
        "([4, 4], 'North')\n",
        "Rover is at: and facing:\n",
        "([3, 4], 'North')\n",
        "Rover is at: and facing:\n",
        "([3, 4], 'East')\n"
       ]
      }
     ],
     "prompt_number": 97
    },
    {
     "cell_type": "markdown",
     "metadata": {},
     "source": [
      "How about that!  Now he's moving.  There is the problem, however, of not knowing (without counting) how many steps it will take rover to get to the goal.  Let's use a *While loop* to remedy the situation.  A while loop will continue to do something until a condition is no longer true.  We use it all the time in real life; we do homework until it is done, we cook food until it is ready. Think of a while loop as considering the state of something instead of how many times we'd like to do something.  This makes it perfect for our maze; we want to navigate *while* we aren't at our destination."
     ]
    },
    {
     "cell_type": "code",
     "collapsed": true,
     "input": [
      "destination = [1,4]\n",
      "Rover = [7,7] # We need to know where Rover is.  We'll consider the grid above following Python's locating convention.  \n",
      "Pointing = 'West' #we need to know which way he is facing when we tell him to drive forward or turn left and right.\n",
      "\n",
      "while Rover != destination:\n",
      "    whats_in_front = front(Rover,Pointing)\n",
      "    is_safe = hazard(whats_in_front,maze)\n",
      "    #We'll need to reference our maze when we use the hazard function.  Think of it as your sensors examining the environment.\n",
      "    #If it's dangerous, the function returns the word 'hazard'. Otherwise, it returns 'safe'\n",
      "    if is_safe == 'hazard':\n",
      "        Pointing = turn_right(Pointing)\n",
      "        #we want to turn right if it's dangerous\n",
      "    elif is_safe =='safe':\n",
      "        Rover = front(Rover,Pointing)\n",
      "        #and drive straight if it's safe.\n",
      "        maze[Rover[0],Rover[1]] = 1\n",
      "        #This line updates our maze so we know where we are.\n",
      "    print('Rover is at: and facing:')\n",
      "    print(Rover,Pointing)"
     ],
     "language": "python",
     "metadata": {},
     "outputs": [
      {
       "output_type": "stream",
       "stream": "stdout",
       "text": [
        "Rover is at: and facing:\n",
        "([7, 6], 'West')\n",
        "Rover is at: and facing:\n",
        "([7, 5], 'West')\n",
        "Rover is at: and facing:\n",
        "([7, 4], 'West')\n",
        "Rover is at: and facing:\n",
        "([7, 4], 'North')\n",
        "Rover is at: and facing:\n",
        "([6, 4], 'North')\n",
        "Rover is at: and facing:\n",
        "([5, 4], 'North')\n",
        "Rover is at: and facing:\n",
        "([4, 4], 'North')\n",
        "Rover is at: and facing:\n",
        "([3, 4], 'North')\n",
        "Rover is at: and facing:\n",
        "([3, 4], 'East')\n",
        "Rover is at: and facing:\n",
        "([3, 5], 'East')\n",
        "Rover is at: and facing:\n",
        "([3, 5], 'South')\n",
        "Rover is at: and facing:\n",
        "([4, 5], 'South')\n",
        "Rover is at: and facing:\n",
        "([5, 5], 'South')\n",
        "Rover is at: and facing:\n",
        "([6, 5], 'South')\n",
        "Rover is at: and facing:\n",
        "([7, 5], 'South')\n",
        "Rover is at: and facing:\n",
        "([8, 5], 'South')\n",
        "Rover is at: and facing:\n",
        "([8, 5], 'West')\n",
        "Rover is at: and facing:\n",
        "([8, 4], 'West')\n",
        "Rover is at: and facing:\n",
        "([8, 3], 'West')\n",
        "Rover is at: and facing:\n",
        "([8, 2], 'West')\n",
        "Rover is at: and facing:\n",
        "([8, 2], 'North')\n",
        "Rover is at: and facing:\n",
        "([7, 2], 'North')\n",
        "Rover is at: and facing:\n",
        "([6, 2], 'North')\n",
        "Rover is at: and facing:\n",
        "([5, 2], 'North')\n",
        "Rover is at: and facing:\n",
        "([4, 2], 'North')\n",
        "Rover is at: and facing:\n",
        "([3, 2], 'North')\n",
        "Rover is at: and facing:\n",
        "([2, 2], 'North')\n",
        "Rover is at: and facing:\n",
        "([1, 2], 'North')\n",
        "Rover is at: and facing:\n",
        "([1, 2], 'East')\n",
        "Rover is at: and facing:\n",
        "([1, 3], 'East')\n",
        "Rover is at: and facing:\n",
        "([1, 4], 'East')\n"
       ]
      }
     ],
     "prompt_number": 10
    },
    {
     "cell_type": "markdown",
     "metadata": {},
     "source": [
      "Just like that, Rover navigates until he's reached the exit of the maze.  Not bad for just a few lines of code, huh?  Now, it's your turn.  We'll use the other maze, which we know requires edge following.  You'll need to make some nested if statements in your code for this. \n",
      "\n",
      "Hints:\n",
      "\n",
      "* it's best to figure out what's in front, then what's to the left\n",
      "* Because we can check our left sensor, when we turn left, we should turn then step forward.\n",
      "* you can use the hazard function and the front function to check out the left side.\n",
      "* Your loop should look very similar to the one above, with a few extra lines."
     ]
    },
    {
     "cell_type": "code",
     "collapsed": true,
     "input": [
      "%run \"mazegen2.py\"\n",
      "destination = [1,4]\n",
      "Rover = [7,7] # We need to know where Rover is.  We'll consider the grid above following Python's locating convention.  \n",
      "Pointing = 'West' #we need to know which way he is facing when we tell him to drive forward or turn left and right.\n",
      "\n",
      "while Rover != destination:\n",
      "    if:\n",
      "        if:\n",
      "        else:\n",
      "    elif:\n",
      "        if:\n",
      "        else:\n",
      "    print('Rover is at: and facing:')\n",
      "    print(Rover,Pointing)"
     ],
     "language": "python",
     "metadata": {},
     "outputs": [
      {
       "ename": "SyntaxError",
       "evalue": "invalid syntax (<ipython-input-1-69de6f59bb52>, line 7)",
       "output_type": "pyerr",
       "traceback": [
        "\u001b[1;36m  File \u001b[1;32m\"<ipython-input-1-69de6f59bb52>\"\u001b[1;36m, line \u001b[1;32m7\u001b[0m\n\u001b[1;33m    if:\u001b[0m\n\u001b[1;37m      ^\u001b[0m\n\u001b[1;31mSyntaxError\u001b[0m\u001b[1;31m:\u001b[0m invalid syntax\n"
       ]
      }
     ],
     "prompt_number": 1
    },
    {
     "cell_type": "markdown",
     "metadata": {},
     "source": [
      "Did you find your way out? Good Job!  The edge following is pretty nice.  One thing we might want to do, though, is explore an area. A simple way to do this would be to turn a different direction every time we enter a block.  Let's say, for example, that we want to try to go North on our first visit, East on the next, West on the third visit, and South on the fourth visit to a given block.  That's all fine and dandy, but right now, Rover has no way of knowing whether or not he's been somewhere before.  Let's give him some *memory*"
     ]
    },
    {
     "cell_type": "code",
     "collapsed": false,
     "input": [
      "memory = np.zeros(np.shape(maze))\n",
      "#we'll make an array of the same shape as our maze saying that we've never been in any of the squares talked about"
     ],
     "language": "python",
     "metadata": {},
     "outputs": [],
     "prompt_number": 54
    },
    {
     "cell_type": "markdown",
     "metadata": {},
     "source": [
      "Let's make a while loop that ensures we visit every square at least once.  We need to be careful here, though.  If we leave the hazards in the maze equal to zero, then we'll never satisfy our exploration condition.  Let's say that it's enough to \"see\" a wall.  We also won't be needing our left sensor here. So it's back to jsut having one in front.  "
     ]
    },
    {
     "cell_type": "code",
     "collapsed": true,
     "input": [
      "\n",
      "memory = np.zeros(np.shape(maze))\n",
      "memory[0,:] = -1\n",
      "memory[9,:] = -1\n",
      "memory[:,0] = -1\n",
      "memory[:,9] = -1\n",
      "#this resets the memory on each run, and sets the edges of the region as 'hazards'\n",
      "Rover = [7,7] # We need to know where Rover is.  We'll consider the grid above following Python's locating convention.\n",
      "count = 0\n",
      "Pointing = 'North'\n",
      "while not np.all(memory): #np.all returns false if any value in an array is zero.  we want to continue if any value is zero, so we\n",
      "    count = count+1\n",
      "    #use the not statem\n",
      "    if memory[Rover[0],Rover[1]] == 0:\n",
      "        memory[Rover[0],Rover[1]] =1\n",
      "    if memory[Rover[0],Rover[1]] == 1:\n",
      "              whats_in_front = front(Rover,'North')\n",
      "              is_safe = hazard(whats_in_front,maze)\n",
      "              memory[Rover[0],Rover[1]] = 2\n",
      "              if is_safe == 'safe':\n",
      "                  Rover = front(Rover,'North')\n",
      "                  Pointing = 'North'\n",
      "              if is_safe == 'hazard':\n",
      "                  memory[whats_in_front[0],whats_in_front[1]] = -1\n",
      "    elif memory[Rover[0],Rover[1]] == 2:\n",
      "              whats_in_front = front(Rover,'East')\n",
      "              is_safe = hazard(whats_in_front,maze)\n",
      "              memory[Rover[0],Rover[1]] = 3\n",
      "              if is_safe == 'safe':\n",
      "                  Rover = front(Rover,'East')\n",
      "                  Pointing = 'East'\n",
      "              if is_safe == 'hazard':\n",
      "                  memory[whats_in_front[0],whats_in_front[1]] = -1\n",
      "    elif memory[Rover[0],Rover[1]] == 3:\n",
      "              whats_in_front = front(Rover,'West')\n",
      "              is_safe = hazard(whats_in_front,maze)\n",
      "              memory[Rover[0],Rover[1]] = 4\n",
      "              if is_safe == 'safe':\n",
      "                  Rover = front(Rover,'West')\n",
      "                  Pointing = 'West'\n",
      "              if is_safe == 'hazard':\n",
      "                  memory[whats_in_front[0],whats_in_front[1]] = -1\n",
      "    elif memory[Rover[0],Rover[1]] == 4:\n",
      "              whats_in_front = front(Rover,'South')\n",
      "              is_safe = hazard(whats_in_front,maze)\n",
      "              memory[Rover[0],Rover[1]] = 1\n",
      "              if is_safe == 'safe':\n",
      "                  Rover = front(Rover,'South')\n",
      "                  Pointing = 'South'\n",
      "              if is_safe == 'hazard':\n",
      "                  memory[whats_in_front[0],whats_in_front[1]] = -1\n",
      "    #and drive straight if it's safe.\n",
      "    maze[Rover[0],Rover[1]] = 1\n",
      "    #This line updates our maze so we know where we are.\n",
      "    if count == 10000:\n",
      "        print(memory)\n",
      "        break\n",
      "    # the if statement above is used if we get caught in our maze and can't explore it completely.\n",
      "print('area explored')\n",
      "print('it took', count, 'steps')\n",
      "print(maze)\n",
      "        "
     ],
     "language": "python",
     "metadata": {},
     "outputs": [
      {
       "output_type": "stream",
       "stream": "stdout",
       "text": [
        "area explored\n",
        "('it took', 720, 'steps')\n",
        "[[5 5 5 5 5 5 5 5 5 5]\n",
        " [5 1 1 1 1 1 1 1 1 5]\n",
        " [5 1 1 3 3 3 3 3 3 5]\n",
        " [5 1 1 3 1 1 3 1 3 5]\n",
        " [5 3 1 3 1 1 3 1 1 5]\n",
        " [5 1 1 3 1 1 3 1 1 5]\n",
        " [5 1 1 1 1 1 3 3 1 5]\n",
        " [5 1 1 3 1 1 1 1 1 5]\n",
        " [5 1 1 1 1 1 3 1 1 5]\n",
        " [5 5 5 5 5 5 5 5 5 5]]\n"
       ]
      }
     ],
     "prompt_number": 16
    },
    {
     "cell_type": "markdown",
     "metadata": {},
     "source": [
      "As you can see, this isn't a very efficient search strategy, but it does work, and is relatively simple to implement.  We'll be using it, or something similar, if you think you can improve it, in our next lesson."
     ]
    }
   ],
   "metadata": {}
  }
 ]
}