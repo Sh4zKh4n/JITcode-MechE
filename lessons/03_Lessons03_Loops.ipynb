{
 "metadata": {
  "name": ""
 },
 "nbformat": 3,
 "nbformat_minor": 0,
 "worksheets": [
  {
   "cells": [
    {
     "cell_type": "raw",
     "metadata": {},
     "source": [
      "Content provided under a Creative Commons Attribution license, CC-BY 4.0. (c) Lorena A. Barba, 2014. Thanks: A. Ahmadia, G. Forsyth, and NSF for support via CAREER award #1149784."
     ]
    },
    {
     "cell_type": "heading",
     "level": 5,
     "metadata": {},
     "source": [
      "Version 0.3 -- February 2014"
     ]
    },
    {
     "cell_type": "heading",
     "level": 1,
     "metadata": {},
     "source": [
      "JIT module 1, lesson 3"
     ]
    },
    {
     "cell_type": "markdown",
     "metadata": {},
     "source": [
      "This is Lesson 3 of the first *Just-in-Time (JIT) module* for teaching computing to engineers, in context. The first module lays the foundations for building computational skills. It is not meant to support a particular engineering course, so it can be used by freshman students. The context problems should be interesting to any science-minded student.\n",
      "\n",
      "Lesson 3 builds competency in these basic skills:\n",
      "\n",
      "* loops(for and while)\n",
      "* use of more advanced conditionals (elif, ternary, greater, less, etc..) \n",
      "* critical thinking: what will this case actually _do_"
     ]
    },
    {
     "cell_type": "heading",
     "level": 1,
     "metadata": {},
     "source": [
      "Context \u2014 Mars rover navigation"
     ]
    },
    {
     "cell_type": "markdown",
     "metadata": {},
     "source": [
      "In the last lesson, we talked about making decisions based on the situation you're in. Well, now we've got a new situation.  The bit of software that was making Rover run your function multiple times as he navigated the surface of Mars has encountered an issue.  We'll have to implement that part of the coding now, too.  OK: time to learn about loops!  "
     ]
    },
    {
     "cell_type": "code",
     "collapsed": true,
     "input": [
      "#type your name here, then run this block of code\n",
      "name = 'Alex'\n",
      "out = ''\n",
      "for char in name:\n",
      "    out = out+char\n",
      "    print(out)"
     ],
     "language": "python",
     "metadata": {},
     "outputs": [
      {
       "output_type": "stream",
       "stream": "stdout",
       "text": [
        "A\n",
        "Al\n",
        "Ale\n",
        "Alex\n"
       ]
      }
     ],
     "prompt_number": 3
    },
    {
     "cell_type": "markdown",
     "metadata": {},
     "source": [
      "The above is a pretty traditional use of loops in python.  It's really good at looking at a string (like your name), or an array (like the data we looked at in lesson one), and pulling off each element to do some action with it. This loop is a little silly; it basically just makes another copy of the string \"name.\"  But we could easily do something a little more useful, like filtering."
     ]
    }
   ],
   "metadata": {}
  }
 ]
}