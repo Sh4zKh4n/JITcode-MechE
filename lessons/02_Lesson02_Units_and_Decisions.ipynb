{
 "metadata": {
  "name": "",
  "signature": "sha256:1e9c70c28f144a176c28f8b25bf10c51355ba9d49c967d4b1304ca3113e0e6b0"
 },
 "nbformat": 3,
 "nbformat_minor": 0,
 "worksheets": [
  {
   "cells": [
    {
     "cell_type": "markdown",
     "metadata": {},
     "source": [
      "###New idea\n",
      "\n",
      "wind speed data\n",
      "\n",
      "several data sets\n",
      "\n",
      "maybe filename gives indication of units used? (m/s vs knots vs mph)\n",
      "\n",
      "goal is to find best site for turbine (overall good wind speed, windy the most without exceeding maximum allowable wind speed)\n",
      "\n",
      "first, create functions to convert from mph -> m/s and knots -> m/s\n",
      "\n",
      "then... what?  \n",
      "\n",
      "using glob to find files in winddata directory\n",
      "send filename to function that contains:\n",
      "*  if statement to check if filename ends in kt, mph or ms?\n",
      "*  loads data file, \n",
      "*  converts to ms, \n",
      "*  saves new data to new file with appropriate suffix\n",
      "\n",
      "\n",
      "suggest that students compare two datasets in particular, plot both of them along with lines for max wind power (determined by turbine data sheet) as well as plotting the average windspeed for both datasets, so plot will have\n",
      "*  max wind speed line\n",
      "*  data set 1\n",
      "*  data set 1 avg\n",
      "*  data set 2\n",
      "*  data set 2 avg\n"
     ]
    },
    {
     "cell_type": "markdown",
     "metadata": {},
     "source": [
      "#JITcode 1, lesson 2"
     ]
    },
    {
     "cell_type": "markdown",
     "metadata": {},
     "source": [
      "The first *Just-in-Time (JIT) module* for teaching computing to engineers, in context, lays the foundations for building computational skills. \n",
      "\n",
      "Did you complete [lesson 1](http://nbviewer.ipython.org/github/barbagroup/JITcode-MechE/blob/master/lessons/01_Lesson01_ReadAndPlot.ipynb)? If so, you now know how to read a data file, make some plots to study the data, and do some basic data analysis. These are all very useful skills! You will likely soon have a lab report to do where you can apply them.\n",
      "\n",
      "What next? There are so many choices! Let's do something creative. In this lesson, you will learn to *create your own functions*!\n",
      "\n",
      "What can you do with functions that you create? Anything, really. Watch this funky video for an introducton to creating functions."
     ]
    },
    {
     "cell_type": "code",
     "collapsed": false,
     "input": [
      "from IPython.display import YouTubeVideo\n",
      "YouTubeVideo('gTwU8JPgu5E')"
     ],
     "language": "python",
     "metadata": {},
     "outputs": [
      {
       "html": [
        "\n",
        "        <iframe\n",
        "            width=\"400\"\n",
        "            height=300\"\n",
        "            src=\"https://www.youtube.com/embed/gTwU8JPgu5E\"\n",
        "            frameborder=\"0\"\n",
        "            allowfullscreen\n",
        "        ></iframe>\n",
        "        "
       ],
       "metadata": {},
       "output_type": "pyout",
       "prompt_number": 1,
       "text": [
        "<IPython.lib.display.YouTubeVideo at 0x7f98316a0290>"
       ]
      }
     ],
     "prompt_number": 1
    },
    {
     "cell_type": "markdown",
     "metadata": {},
     "source": [
      "##Context -- Turbine Placement\n",
      "\n",
      "###Multiple data sets\n",
      "\n",
      "In the first module, we investigated global surface temperature anomalies and discovered a pretty distinct upward trend in the data.  All of our data in that module was contained in one file, but it will very often be the case that we have multiple files to work with.  \n",
      "\n",
      "In the resources folder, there's a subdirectory called \"winddata\" that contains a number of files that record the average windspeed over the course of _ days in several locations.  Our goal is to determine which of these locations is the best candidate for our wind turbine.  "
     ]
    },
    {
     "cell_type": "markdown",
     "metadata": {},
     "source": [
      "##Placement criteria\n",
      "\n",
      "There are a lot of factors that go into choosing a good turbine site, even after a bunch of wind data has been collected.  Here are the factors we have to keep in mind:\n",
      "\n",
      "####  Average site wind speed  \n",
      "The higher the average wind speed, the more power we can extract.\n",
      "\n",
      "####Maximum wind speed  \n",
      "Turbine blades have certain limits and if the wind is too strong or too unpredictable, it can damage the whole turbine assembly.\n",
      "\n",
      "##Potential issues\n",
      "\n",
      "Our data was collected at several sites by a few different contractors and has, unfortunately, been delivered in several different unit systems.  Our data files are either in meters-per-second (which we want), in miles-per-hour (which we don't want) or in knots (which we also don't want).  \n",
      "\n",
      "To get all of our data in m/s, we're going to need the appropriate conversion factors.  \n",
      "\n",
      "$$1 \\rm{mph} = .447 \\rm{m/s}$$\n",
      "$$1 \\rm{knot} = .514 \\rm{m/s}$$\n",
      "\n",
      "if we want to convert things back into mph or knots, we can use\n",
      "\n",
      "$$1 \\rm{m/s} = 2.236 \\rm{mph}$$\n",
      "$$1 \\rm{m/s} = 1.943 \\rm{knots}$$\n",
      "\n"
     ]
    },
    {
     "cell_type": "markdown",
     "metadata": {},
     "source": [
      "## Create a function\n",
      "Can we create a function that will make the conversion from miles per hour to meters per second? Sure! First, decide what you will call it ... how about `MilesPerHourtoMetersPerSecond`?  That's a bit long.  `mph2ms`?  That's a little bit hard to parse -- maybe we can make it a little easier to read.  Let's try `mph_to_ms`.  \n",
      "\n",
      "Next, we decide what the input and output of our function will be, and we use the `def` command to create it. The input goes in parenthesis next to the function name, and the definition line has to end with a colon:"
     ]
    },
    {
     "cell_type": "code",
     "collapsed": false,
     "input": [
      "def mph_to_ms(speed):\n",
      "    return speed*.447"
     ],
     "language": "python",
     "metadata": {},
     "outputs": [],
     "prompt_number": 2
    },
    {
     "cell_type": "code",
     "collapsed": false,
     "input": [
      "def knot_to_ms(speed):\n",
      "    return speed*.514"
     ],
     "language": "python",
     "metadata": {},
     "outputs": [],
     "prompt_number": 3
    },
    {
     "cell_type": "markdown",
     "metadata": {},
     "source": [
      "##Working with multiple files\n",
      "\n"
     ]
    },
    {
     "cell_type": "markdown",
     "metadata": {},
     "source": [
      "In the first unit, we told you the name and location of the file to load, but many times engineers and scientists will be working with many different data files.  You could look at the contents of a folder on your computer and then manually type in the names of every data file you find, but why not let Python do some of the lifting for us?\n",
      "\n",
      "There's a directory with all of our wind data and we want to use Python to get a list of the files available to us.  To do this, we're going to import a library called `glob` that's purpose built for just this task.  "
     ]
    },
    {
     "cell_type": "code",
     "collapsed": false,
     "input": [
      "import glob"
     ],
     "language": "python",
     "metadata": {},
     "outputs": [],
     "prompt_number": 4
    },
    {
     "cell_type": "markdown",
     "metadata": {},
     "source": [
      "Now the data files are all CSV (Comma separated values) files, so we're going to ask glob for a list of all CSV files in the `/resources/winddata/` directory.  Note in the cell below that we start the directory path with a single `.`\n",
      "\n",
      "That's terminal shorthand for the current directory.  \n",
      "\n",
      "And we search for all files that match `*.csv` where the `*` is a wildcard symbol that will match anything, so the code below returns any file that ends in `.csv`"
     ]
    },
    {
     "cell_type": "code",
     "collapsed": false,
     "input": [
      "filenames = glob.glob('./resources/winddata/*.csv')\n",
      "print filenames"
     ],
     "language": "python",
     "metadata": {},
     "outputs": [
      {
       "output_type": "stream",
       "stream": "stdout",
       "text": [
        "['./resources/winddata/mph.csv', './resources/winddata/knots.csv', './resources/winddata/gardencity.csv', './resources/winddata/site2mph.csv', './resources/winddata/wichita.csv', './resources/winddata/site1ms.csv', './resources/winddata/site3knot.csv', './resources/winddata/hutchinson.csv', './resources/winddata/ms.csv']\n"
       ]
      }
     ],
     "prompt_number": 15
    },
    {
     "cell_type": "markdown",
     "metadata": {},
     "source": [
      "Explain if statements here\n",
      "\n",
      "going to use `if 'ms' in fname: do conversion'\n",
      "\n",
      "function checks filetype, the loads file and sends it to converter"
     ]
    },
    {
     "cell_type": "code",
     "collapsed": false,
     "input": [
      "def checkandconvert(fname):\n",
      "    if 'mph' in fname:\n",
      "        speeddata = numpy.loadtxt(fname,delimiter=',')\n",
      "        return mph_to_ms(speeddata)\n",
      "    \n",
      "    if 'knot' in fname:\n",
      "        speeddata = numpy.loadtxt(fname,delimiter=',')\n",
      "        return knot_to_ms(speeddata)\n",
      "    \n",
      "    if 'ms' in fname:\n",
      "        speeddata = numpy.loadtxt(fname,delimiter=',')\n",
      "        return speeddata\n"
     ],
     "language": "python",
     "metadata": {},
     "outputs": [],
     "prompt_number": 6
    },
    {
     "cell_type": "markdown",
     "metadata": {},
     "source": [
      "Ok it works.  Now let's try comparing two sites to see which is better suited to wind turbine placement.  Let's compare site 1 and site 3."
     ]
    },
    {
     "cell_type": "code",
     "collapsed": false,
     "input": [
      "%matplotlib inline\n",
      "import matplotlib.pyplot as plt"
     ],
     "language": "python",
     "metadata": {},
     "outputs": [],
     "prompt_number": 8
    },
    {
     "cell_type": "code",
     "collapsed": false,
     "input": [
      "site1 = numpy.genfromtxt('./resources/winddata/ms.csv', skip_header=1, delimiter=',')#, usecols=(2,3,4,5))\n",
      "site2 = numpy.genfromtxt('./resources/winddata/mph.csv', skip_header=1, delimiter=',')#, usecols=(2,3,4,5))\n",
      "site3 = numpy.genfromtxt('./resources/winddata/knots.csv', skip_header=1, delimiter=',')#, usecols=(2,3,4,5))"
     ],
     "language": "python",
     "metadata": {},
     "outputs": [],
     "prompt_number": 10
    },
    {
     "cell_type": "code",
     "collapsed": false,
     "input": [
      "site3 = numpy.clip(site3[:,1:],0,400)"
     ],
     "language": "python",
     "metadata": {},
     "outputs": []
    },
    {
     "cell_type": "code",
     "collapsed": false,
     "input": [
      "plt.plot(site1[:,0],site1[:,1]);\n",
      "plt.plot(site2[:,0],site2[:,1]);\n",
      "plt.plot(site3[:,0],site3[:,1]);"
     ],
     "language": "python",
     "metadata": {},
     "outputs": [
      {
       "metadata": {},
       "output_type": "display_data",
       "png": "[encoded data removed]",
       "text": [
        "<matplotlib.figure.Figure at 0x7f98172f6490>"
       ]
      }
     ],
     "prompt_number": 13
    },
    {
     "cell_type": "code",
     "collapsed": false,
     "input": [
      "print site1[:3,:]"
     ],
     "language": "python",
     "metadata": {},
     "outputs": []
    },
    {
     "cell_type": "code",
     "collapsed": false,
     "input": [],
     "language": "python",
     "metadata": {},
     "outputs": []
    },
    {
     "cell_type": "code",
     "collapsed": false,
     "input": [],
     "language": "python",
     "metadata": {},
     "outputs": []
    },
    {
     "cell_type": "code",
     "collapsed": false,
     "input": [],
     "language": "python",
     "metadata": {},
     "outputs": []
    },
    {
     "cell_type": "code",
     "collapsed": false,
     "input": [],
     "language": "python",
     "metadata": {},
     "outputs": []
    },
    {
     "cell_type": "code",
     "collapsed": false,
     "input": [
      "site1.shape"
     ],
     "language": "python",
     "metadata": {},
     "outputs": []
    },
    {
     "cell_type": "code",
     "collapsed": false,
     "input": [
      "numpy.max(wichita[:,2])"
     ],
     "language": "python",
     "metadata": {},
     "outputs": []
    },
    {
     "cell_type": "code",
     "collapsed": false,
     "input": [
      "plt.figure(figsize=(11,8))\n",
      "plt.plot(mph_to_ms(site2[:,1]));\n",
      "\n"
     ],
     "language": "python",
     "metadata": {},
     "outputs": []
    },
    {
     "cell_type": "code",
     "collapsed": false,
     "input": [
      "N = 12\n",
      "window = numpy.ones(N)/N\n",
      "site1smooth = numpy.convolve(wichita[:,2],window,'same')\n",
      "site2smooth = numpy.convolve(site2[:,2],window,'same')\n",
      "site3smooth = numpy.convolve(site3[:,2],window,'same')\n",
      "plt.figure(figsize=(11,8))\n",
      "plt.plot(site1smooth)\n",
      "plt.plot(site2smooth)\n",
      "plt.plot(site3smooth);"
     ],
     "language": "python",
     "metadata": {},
     "outputs": []
    },
    {
     "cell_type": "code",
     "collapsed": false,
     "input": [
      "maxwindspeed = 12*numpy.ones(1000)"
     ],
     "language": "python",
     "metadata": {},
     "outputs": []
    },
    {
     "cell_type": "code",
     "collapsed": false,
     "input": [
      "N = 12\n",
      "window = numpy.ones(N)/N\n",
      "site1smooth = numpy.convolve(site1,window,'same')\n",
      "site3smooth = numpy.convolve(site3,window,'same')\n",
      "plt.figure(figsize=(11,11))\n",
      "plt.plot(site1smooth)\n",
      "plt.plot(site3smooth)\n",
      "\n",
      "plt.plot(maxwindspeed)\n",
      "plt.plot(site1avg*numpy.ones(1000))\n",
      "plt.plot(site3avg*numpy.ones(1000))\n",
      "\n",
      "plt.ylabel('Wind Speed (m/s)')\n",
      "plt.xlabel('Days')\n",
      "plt.ylim(2,16)\n",
      "\n",
      "plt.legend(['Site 1','Site 3','Max Allowable Wind Speed','Site 1 Average','Site 3 Average']);"
     ],
     "language": "python",
     "metadata": {},
     "outputs": []
    },
    {
     "cell_type": "raw",
     "metadata": {},
     "source": [
      "Please ignore the code below. It just loads a style."
     ]
    },
    {
     "cell_type": "code",
     "collapsed": false,
     "input": [
      "from IPython.core.display import HTML\n",
      "def css_styling():\n",
      "    styles = open(\"../styles/custom.css\", \"r\").read()\n",
      "    return HTML(styles)\n",
      "css_styling()"
     ],
     "language": "python",
     "metadata": {},
     "outputs": [
      {
       "html": [
        "<link href='http://fonts.googleapis.com/css?family=Fenix' rel='stylesheet' type='text/css'>\n",
        "<link href='http://fonts.googleapis.com/css?family=Alegreya+Sans:100,300,400,500,700,800,900,100italic,300italic,400italic,500italic,700italic,800italic,900italic' rel='stylesheet' type='text/css'>\n",
        "<link href='http://fonts.googleapis.com/css?family=Source+Code+Pro:300,400' rel='stylesheet' type='text/css'>\n",
        "<style>\n",
        "    @font-face {\n",
        "        font-family: \"Computer Modern\";\n",
        "        src: url('http://mirrors.ctan.org/fonts/cm-unicode/fonts/otf/cmunss.otf');\n",
        "    }\n",
        "    div.cell{\n",
        "        width:800px;\n",
        "        margin-left:16% !important;\n",
        "        margin-right:auto;\n",
        "    }\n",
        "    h1 {\n",
        "        font-family: 'Alegreya Sans', sans-serif;\n",
        "    }\n",
        "    h2 {\n",
        "        font-family: 'Fenix', serif;\n",
        "    }\n",
        "    h3{\n",
        "\t\tfont-family: 'Fenix', serif;\n",
        "        margin-top:12px;\n",
        "        margin-bottom: 3px;\n",
        "       }\n",
        "\th4{\n",
        "\t\tfont-family: 'Fenix', serif;\n",
        "       }\n",
        "    h5 {\n",
        "        font-family: 'Alegreya Sans', sans-serif;\n",
        "    }\t   \n",
        "    div.text_cell_render{\n",
        "        font-family: 'Alegreya Sans',Computer Modern, \"Helvetica Neue\", Arial, Helvetica, Geneva, sans-serif;\n",
        "        line-height: 135%;\n",
        "        font-size: 120%;\n",
        "        width:600px;\n",
        "        margin-left:auto;\n",
        "        margin-right:auto;\n",
        "    }\n",
        "    .CodeMirror{\n",
        "            font-family: \"Source Code Pro\";\n",
        "\t\t\tfont-size: 90%;\n",
        "    }\n",
        "/*    .prompt{\n",
        "        display: None;\n",
        "    }*/\n",
        "    .text_cell_render h1 {\n",
        "        font-weight: 200;\n",
        "        font-size: 50pt;\n",
        "\t\tline-height: 100%;\n",
        "        color:#CD2305;\n",
        "        margin-bottom: 0.5em;\n",
        "        margin-top: 0.5em;\n",
        "        display: block;\n",
        "    }\t\n",
        "    .text_cell_render h5 {\n",
        "        font-weight: 300;\n",
        "        font-size: 16pt;\n",
        "        color: #CD2305;\n",
        "        font-style: italic;\n",
        "        margin-bottom: .5em;\n",
        "        margin-top: 0.5em;\n",
        "        display: block;\n",
        "    }\n",
        "    \n",
        "    .warning{\n",
        "        color: rgb( 240, 20, 20 )\n",
        "        }  \n",
        "</style>\n",
        "<script>\n",
        "    MathJax.Hub.Config({\n",
        "                        TeX: {\n",
        "                           extensions: [\"AMSmath.js\"]\n",
        "                           },\n",
        "                tex2jax: {\n",
        "                    inlineMath: [ ['$','$'], [\"\\\\(\",\"\\\\)\"] ],\n",
        "                    displayMath: [ ['$$','$$'], [\"\\\\[\",\"\\\\]\"] ]\n",
        "                },\n",
        "                displayAlign: 'center', // Change this to 'center' to center equations.\n",
        "                \"HTML-CSS\": {\n",
        "                    styles: {'.MathJax_Display': {\"margin\": 4}}\n",
        "                }\n",
        "        });\n",
        "</script>\n"
       ],
       "metadata": {},
       "output_type": "pyout",
       "prompt_number": 14,
       "text": [
        "<IPython.core.display.HTML at 0x7f9817056ed0>"
       ]
      }
     ],
     "prompt_number": 14
    },
    {
     "cell_type": "code",
     "collapsed": false,
     "input": [
      "wichita.shape"
     ],
     "language": "python",
     "metadata": {},
     "outputs": []
    },
    {
     "cell_type": "code",
     "collapsed": false,
     "input": [],
     "language": "python",
     "metadata": {},
     "outputs": []
    }
   ],
   "metadata": {}
  }
 ]
}