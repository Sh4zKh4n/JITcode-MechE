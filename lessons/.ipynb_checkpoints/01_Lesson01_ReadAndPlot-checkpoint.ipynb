{
 "metadata": {
  "name": ""
 },
 "nbformat": 3,
 "nbformat_minor": 0,
 "worksheets": [
  {
   "cells": [
    {
     "cell_type": "raw",
     "metadata": {},
     "source": [
      "Text and code provided under a Creative Commons Attribution license, CC-BY 4.0.\n",
      "(c) 2014 L.Barba, P.Bardet, A.Golding, A.Wickenheiser (The George Washington University)."
     ]
    },
    {
     "cell_type": "heading",
     "level": 5,
     "metadata": {},
     "source": [
      "Version 0.1 (February 2014)"
     ]
    },
    {
     "cell_type": "heading",
     "level": 1,
     "metadata": {},
     "source": [
      "JIT module 1, lesson 1"
     ]
    },
    {
     "cell_type": "markdown",
     "metadata": {},
     "source": [
      "This is lesson 1 of the first *Just-in-Time (JIT) module* for teaching computing to engineers, in context. The first module lays the foundations for building computational skills. It is not meant to support a particular engineering course, so it can be used by freshman students. The context problems should be interesting to any science-minded student.\n",
      "\n",
      "Lesson 1 builds competency on these basic skills:\n",
      "\n",
      "* reading data from a file in comma-separated format (CSV)\n",
      "* plotting data\n",
      "* analyzing data with statistics\n",
      "* writing an image of a plot to a file\n"
     ]
    },
    {
     "cell_type": "heading",
     "level": 2,
     "metadata": {},
     "source": [
      "Context: Earth temperature over time"
     ]
    },
    {
     "cell_type": "markdown",
     "metadata": {},
     "source": [
      "Is Global temperature rising? How much? This is a question of burning importance in today's world! According to the [University Corporation for Atmospheric Research](https://www2.ucar.edu/climate/faq/how-much-has-global-temperature-risen-last-100-years) (UCAR), there are global records of temperature available from several sources: NASA, the National Climatic Data Center (NCDC) and the University of East Anglia in the UK.\n",
      "\n",
      "How would we go about understanding the trends from the data on global temperature?\n",
      "\n",
      "The first step in analyzing unknown data is to generate some simple plots. We are going to look at the temperature anomalies history, contained in a file, and make our first plot to explore this data. \n",
      "\n",
      "Then, we are going to smooth the data and perform linear regression. We are going to investigate correlation in the residuals, then correct for autocorrelation, and in each step use plots to learn from our data.\n",
      "\n",
      "Let's get started!\n",
      "\n",
      "The first thing to do is to load our favorite library: the NumPy library for array operations."
     ]
    },
    {
     "cell_type": "code",
     "collapsed": false,
     "input": [
      "import numpy"
     ],
     "language": "python",
     "metadata": {},
     "outputs": [],
     "prompt_number": 2
    },
    {
     "cell_type": "heading",
     "level": 2,
     "metadata": {},
     "source": [
      "Step 1: Read a data file"
     ]
    },
    {
     "cell_type": "markdown",
     "metadata": {},
     "source": [
      "The data is contained in the file:\n",
      "\n",
      "`GlobalTemperatureAnomaly-1958-2008.csv`\n",
      "\n",
      "with the year on the first column and 12 monthly averages of temperature listed sequentially on the second column. We will read the file, then make an initial plot to see what it looks like.\n",
      "\n",
      "To load the file, we use a function from the NumPy library called `loadtxt()`. To tell Python where to look for this function, we precede the function name with the library name, and use a dot between the two names. This is how it works:"
     ]
    },
    {
     "cell_type": "code",
     "collapsed": false,
     "input": [
      "numpy.loadtxt(fname='../resources/GlobalTemperatureAnomaly-1958-2008.csv', delimiter=',')"
     ],
     "language": "python",
     "metadata": {},
     "outputs": [
      {
       "metadata": {},
       "output_type": "pyout",
       "prompt_number": 3,
       "text": [
        "array([[  1.95800000e+03,   2.67300000e-01],\n",
        "       [  1.95808000e+03,   7.92000000e-02],\n",
        "       [  1.95817000e+03,  -4.18000000e-02],\n",
        "       ..., \n",
        "       [  2.00875000e+03,   4.07400000e-01],\n",
        "       [  2.00883000e+03,   4.51300000e-01],\n",
        "       [  2.00892000e+03,   3.51900000e-01]])"
       ]
      }
     ],
     "prompt_number": 3
    },
    {
     "cell_type": "markdown",
     "metadata": {},
     "source": [
      "Note that we called the function with two parameters: the file name and path, and the delimiter that separates each value on a line. Both parameters are strings (made up of characters) and we put them in single quotes.\n",
      "\n",
      "As the output of the function, we get an array. Because it's rather big, Python shows only a few rows and columns of the array. \n",
      "\n",
      "So far, so good. Now, what if we want to manipulate this data? Or plot it? We need to refer to it with a name. We've only just read the file, but we did not assign the array any name! Let's try again."
     ]
    },
    {
     "cell_type": "code",
     "collapsed": false,
     "input": [
      "T=numpy.loadtxt(fname='../resources/GlobalTemperatureAnomaly-1958-2008.csv', delimiter=',')"
     ],
     "language": "python",
     "metadata": {},
     "outputs": [],
     "prompt_number": 4
    },
    {
     "cell_type": "markdown",
     "metadata": {},
     "source": [
      "That's interesting. Now, we don't see any output from the function call. Why? It's simply that the output was stored into the variable `T`, so to see it, we can do:"
     ]
    },
    {
     "cell_type": "code",
     "collapsed": false,
     "input": [
      "print T"
     ],
     "language": "python",
     "metadata": {},
     "outputs": [
      {
       "output_type": "stream",
       "stream": "stdout",
       "text": [
        "[[  1.95800000e+03   2.67300000e-01]\n",
        " [  1.95808000e+03   7.92000000e-02]\n",
        " [  1.95817000e+03  -4.18000000e-02]\n",
        " ..., \n",
        " [  2.00875000e+03   4.07400000e-01]\n",
        " [  2.00883000e+03   4.51300000e-01]\n",
        " [  2.00892000e+03   3.51900000e-01]]\n"
       ]
      }
     ],
     "prompt_number": 5
    },
    {
     "cell_type": "markdown",
     "metadata": {},
     "source": [
      "Ah, there it is! Let's find out how big the array is. For that, we use a cool NumPy function called `shape()`:"
     ]
    },
    {
     "cell_type": "code",
     "collapsed": false,
     "input": [
      "numpy.shape(T)"
     ],
     "language": "python",
     "metadata": {},
     "outputs": [
      {
       "metadata": {},
       "output_type": "pyout",
       "prompt_number": 6,
       "text": [
        "(612, 2)"
       ]
      }
     ],
     "prompt_number": 6
    },
    {
     "cell_type": "markdown",
     "metadata": {},
     "source": [
      "Again, we've told Python where to find the function `shape()` by attaching it to the library name with a dot. But since the shape is also a property of any NumPy array, we can get the same result another way: "
     ]
    },
    {
     "cell_type": "code",
     "collapsed": false,
     "input": [
      "T.shape"
     ],
     "language": "python",
     "metadata": {},
     "outputs": [
      {
       "metadata": {},
       "output_type": "pyout",
       "prompt_number": 7,
       "text": [
        "(612, 2)"
       ]
      }
     ],
     "prompt_number": 7
    },
    {
     "cell_type": "markdown",
     "metadata": {},
     "source": [
      "It's just shorter. The array `T` holding our temperature data has two columns and 612 rows. Since we said we had monthly data, how many years is that?"
     ]
    },
    {
     "cell_type": "code",
     "collapsed": false,
     "input": [
      "612/12"
     ],
     "language": "python",
     "metadata": {},
     "outputs": [
      {
       "metadata": {},
       "output_type": "pyout",
       "prompt_number": 8,
       "text": [
        "51"
       ]
      }
     ],
     "prompt_number": 8
    },
    {
     "cell_type": "markdown",
     "metadata": {},
     "source": [
      "That's right: from 1958 to 2008."
     ]
    },
    {
     "cell_type": "heading",
     "level": 2,
     "metadata": {},
     "source": [
      "Step 2: Plot the data"
     ]
    },
    {
     "cell_type": "markdown",
     "metadata": {},
     "source": [
      "We will display the data in two ways: as a time series of the monthly temperature anomalies versus time, and as a histogram. To be fancy, we'll put both plots in one figure. \n",
      "\n",
      "Let's first load our plotting library, called Matplotlib. To get the plots inside the notebook (rather than as popups), we use the line `%matplotlib inline` first:"
     ]
    },
    {
     "cell_type": "code",
     "collapsed": true,
     "input": [
      "%matplotlib inline\n",
      "import matplotlib.pyplot as plt"
     ],
     "language": "python",
     "metadata": {},
     "outputs": [],
     "prompt_number": 9
    },
    {
     "cell_type": "markdown",
     "metadata": {},
     "source": [
      "Now we've added something more to our `import` call to load the library. What's this? Well, we're actually loading `pyplot`, which is a component of Matplotlib, and we're telling Python that we want to rename it locally as `plt` ... we're just lazy and want to type less. \n",
      "\n",
      "Plotting the time series of temperature is as easy as calling the function [`plot()`](http://matplotlib.org/1.3.1/api/pyplot_api.html#matplotlib.pyplot.plot) from our library that we renamed `plt`. But remember the shape of `T`? It has two columns and the temperature values are in the second column. We extract the values of the second column by specifying 1 as the second index (the first column has index 0) and using the colon notation `:` to mean *all rows*. Check it out: "
     ]
    },
    {
     "cell_type": "code",
     "collapsed": false,
     "input": [
      "plt.plot(T[:,1])"
     ],
     "language": "python",
     "metadata": {},
     "outputs": [
      {
       "metadata": {},
       "output_type": "pyout",
       "prompt_number": 10,
       "text": [
        "[<matplotlib.lines.Line2D at 0x108196fd0>]"
       ]
      },
      {
       "metadata": {},
       "output_type": "display_data",
       "png": "[encoded data removed]",
       "text": [
        "<matplotlib.figure.Figure at 0x1080b2f10>"
       ]
      }
     ],
     "prompt_number": 10
    },
    {
     "cell_type": "markdown",
     "metadata": {},
     "source": [
      "You can add a semicolon at the end of the plotting command to avoid that stuff that appeared on top of the figure, that `Out[x]: [< ...>]` ugliness. Try it.\n",
      "\n",
      "*Do you see a trend in the data?*\n",
      "\n",
      "The temperature certainly seems to be increasing. But we're not going to stop there, of course. It's not that easy to convince people that the planet is warming, as you know.\n",
      "\n",
      "Plotting a histogram is as easy as calling the function `hist()`. Why should it be any harder?"
     ]
    },
    {
     "cell_type": "code",
     "collapsed": false,
     "input": [
      "plt.hist(T[:,1]);"
     ],
     "language": "python",
     "metadata": {},
     "outputs": [
      {
       "metadata": {},
       "output_type": "display_data",
       "png": "[encoded data removed]",
       "text": [
        "<matplotlib.figure.Figure at 0x1081a95d0>"
       ]
      }
     ],
     "prompt_number": 11
    },
    {
     "cell_type": "markdown",
     "metadata": {},
     "source": [
      "*What does this plot tell you about the data?* It's more interesting than just an increasing trend, that's for sure. You might want to look at more statistics now: mean, median, standard deviation.\n",
      "\n",
      "You can control several parameters of the [`hist()`](http://matplotlib.org/1.3.1/api/pyplot_api.html?highlight=hist#matplotlib.pyplot.hist) plot. Learn more by reading the manual page (yes, you have to read the manual sometimes!). The first option is the number of bins\u2014the default is 10\u2014but you can also change the appearance (color, transparency). Try some things out."
     ]
    },
    {
     "cell_type": "code",
     "collapsed": false,
     "input": [
      "plt.hist(T[:,1], 20, normed=1, facecolor='g', alpha=0.55);"
     ],
     "language": "python",
     "metadata": {},
     "outputs": [
      {
       "metadata": {},
       "output_type": "display_data",
       "png": "[encoded data removed]",
       "text": [
        "<matplotlib.figure.Figure at 0x108363910>"
       ]
      }
     ],
     "prompt_number": 12
    },
    {
     "cell_type": "markdown",
     "metadata": {},
     "source": [
      "This is fun. Finally, we'll put both plots on the same figure using the `subplot()` function, which creates a grid of plots. The argument should tell it where in the grid each plot will go."
     ]
    },
    {
     "cell_type": "code",
     "collapsed": false,
     "input": [
      "plt.figure(figsize=(10,4))\n",
      "plt.subplot(121) #creates a grid of 1 column, 2 rows and prepares for the first plot\n",
      "plt.plot(T[:,1],'g') #our time series, but now green\n",
      "plt.subplot(122) #prepares for the second plot\n",
      "plt.hist(T[:,1], 20, normed=1, facecolor='g', alpha=0.55);"
     ],
     "language": "python",
     "metadata": {},
     "outputs": [
      {
       "metadata": {},
       "output_type": "display_data",
       "png": "[encoded data removed]",
       "text": [
        "<matplotlib.figure.Figure at 0x108b89f50>"
       ]
      }
     ],
     "prompt_number": 19
    },
    {
     "cell_type": "heading",
     "level": 2,
     "metadata": {},
     "source": [
      "Step 3: Smooth the data and do regression"
     ]
    },
    {
     "cell_type": "markdown",
     "metadata": {},
     "source": [
      "You see a lot of scatter on the time series, so you might be asking yourself how to smooth it. No? Let's do it anyway.\n",
      "\n",
      "One possible approach to smooth the data (there are others) is using a *moving average*. This is defined as:\n",
      "\n",
      "$$\\hat{x}_{i,n} = \\frac{1}{n} \\sum_{j=1}^{n} x_{i-j}$$\n",
      "\n",
      "It means that we are taking the unweighted mean of the previous $n$ data points."
     ]
    },
    {
     "cell_type": "code",
     "collapsed": false,
     "input": [],
     "language": "python",
     "metadata": {},
     "outputs": []
    },
    {
     "cell_type": "heading",
     "level": 2,
     "metadata": {},
     "source": [
      "The Cochrane-Orcutt procedure to correct for autocorrelation"
     ]
    },
    {
     "cell_type": "markdown",
     "metadata": {},
     "source": [
      "We can estimate the trend for the global temperature anomalies, taking into account that the data points are not independent ..."
     ]
    },
    {
     "cell_type": "heading",
     "level": 5,
     "metadata": {},
     "source": [
      "Think"
     ]
    },
    {
     "cell_type": "markdown",
     "metadata": {},
     "source": [
      "1. How is the global temperature anomaly calculated?\n",
      "2. What does it mean and why is it employed instead of the global mean temperature to quantify global warming?\n",
      "3. Why is it important to check that the residuals are independent and random when performing linear regression?\n",
      "4. In this particular case, is it possible to still estimate a trend with confidence?\n",
      "5. What is your best estimate of the global temperature by the end of the 22nd century?"
     ]
    },
    {
     "cell_type": "heading",
     "level": 5,
     "metadata": {},
     "source": [
      "What did we learn?"
     ]
    },
    {
     "cell_type": "markdown",
     "metadata": {},
     "source": [
      "You should have played around with the embedded code in this notebook, and also written your own version of all the code in a separate Python script to learn:\n",
      "\n",
      "* how to read data from a comma-separated file\n",
      "* how to plot the data\n",
      "* how to do some basic analysis on the data\n",
      "* how to write to a file"
     ]
    },
    {
     "cell_type": "markdown",
     "metadata": {},
     "source": [
      "---"
     ]
    },
    {
     "cell_type": "markdown",
     "metadata": {},
     "source": [
      "(You can ignore the cell bellow. It simply loads a style to make this notebook look pretty.)"
     ]
    },
    {
     "cell_type": "code",
     "collapsed": false,
     "input": [
      "from IPython.core.display import HTML\n",
      "def css_styling():\n",
      "    styles = open(\"../styles/custom.css\", \"r\").read()\n",
      "    return HTML(styles)\n",
      "css_styling()"
     ],
     "language": "python",
     "metadata": {},
     "outputs": [
      {
       "html": [
        "<link href='http://fonts.googleapis.com/css?family=Fenix' rel='stylesheet' type='text/css'>\n",
        "<link href='http://fonts.googleapis.com/css?family=Alegreya+Sans:100,300,400,500,700,800,900,100italic,300italic,400italic,500italic,700italic,800italic,900italic' rel='stylesheet' type='text/css'>\n",
        "<link href='http://fonts.googleapis.com/css?family=Source+Code+Pro:300,400' rel='stylesheet' type='text/css'>\n",
        "<style>\n",
        "    @font-face {\n",
        "        font-family: \"Computer Modern\";\n",
        "        src: url('http://mirrors.ctan.org/fonts/cm-unicode/fonts/otf/cmunss.otf');\n",
        "    }\n",
        "    div.cell{\n",
        "        width:800px;\n",
        "        margin-left:16% !important;\n",
        "        margin-right:auto;\n",
        "    }\n",
        "    h1 {\n",
        "        font-family: 'Alegreya Sans', sans-serif;\n",
        "    }\n",
        "    h2 {\n",
        "        font-family: 'Fenix', serif;\n",
        "    }\n",
        "    h3{\n",
        "\t\tfont-family: 'Fenix', serif;\n",
        "        margin-top:12px;\n",
        "        margin-bottom: 3px;\n",
        "       }\n",
        "\th4{\n",
        "\t\tfont-family: 'Fenix', serif;\n",
        "       }\n",
        "    h5 {\n",
        "        font-family: 'Alegreya Sans', sans-serif;\n",
        "    }\t   \n",
        "    div.text_cell_render{\n",
        "        font-family: 'Alegreya Sans',Computer Modern, \"Helvetica Neue\", Arial, Helvetica, Geneva, sans-serif;\n",
        "        line-height: 135%;\n",
        "        font-size: 120%;\n",
        "        width:600px;\n",
        "        margin-left:auto;\n",
        "        margin-right:auto;\n",
        "    }\n",
        "    .CodeMirror{\n",
        "            font-family: \"Source Code Pro\";\n",
        "\t\t\tfont-size: 90%;\n",
        "    }\n",
        "/*    .prompt{\n",
        "        display: None;\n",
        "    }*/\n",
        "    .text_cell_render h1 {\n",
        "        font-weight: 200;\n",
        "        font-size: 50pt;\n",
        "\t\tline-height: 100%;\n",
        "        color:#CD2305;\n",
        "        margin-bottom: 0.5em;\n",
        "        margin-top: 0.5em;\n",
        "        display: block;\n",
        "    }\t\n",
        "    .text_cell_render h5 {\n",
        "        font-weight: 300;\n",
        "        font-size: 16pt;\n",
        "        color: #CD2305;\n",
        "        font-style: italic;\n",
        "        margin-bottom: .5em;\n",
        "        margin-top: 0.5em;\n",
        "        display: block;\n",
        "    }\n",
        "    \n",
        "    .warning{\n",
        "        color: rgb( 240, 20, 20 )\n",
        "        }  \n",
        "</style>\n",
        "<script>\n",
        "    MathJax.Hub.Config({\n",
        "                        TeX: {\n",
        "                           extensions: [\"AMSmath.js\"]\n",
        "                           },\n",
        "                tex2jax: {\n",
        "                    inlineMath: [ ['$','$'], [\"\\\\(\",\"\\\\)\"] ],\n",
        "                    displayMath: [ ['$$','$$'], [\"\\\\[\",\"\\\\]\"] ]\n",
        "                },\n",
        "                displayAlign: 'center', // Change this to 'center' to center equations.\n",
        "                \"HTML-CSS\": {\n",
        "                    styles: {'.MathJax_Display': {\"margin\": 4}}\n",
        "                }\n",
        "        });\n",
        "</script>\n"
       ],
       "metadata": {},
       "output_type": "pyout",
       "prompt_number": 15,
       "text": [
        "<IPython.core.display.HTML at 0x1086160d0>"
       ]
      }
     ],
     "prompt_number": 15
    }
   ],
   "metadata": {}
  }
 ]
}