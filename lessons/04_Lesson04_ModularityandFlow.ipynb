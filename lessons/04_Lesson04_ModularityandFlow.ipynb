{
 "metadata": {
  "name": ""
 },
 "nbformat": 3,
 "nbformat_minor": 0,
 "worksheets": [
  {
   "cells": [
    {
     "cell_type": "raw",
     "metadata": {},
     "source": [
      "Content provided under a Creative Commons Attribution license, CC-BY 4.0. (c) Lorena A. Barba, 2014. Thanks: A. Ahmadia, G. Forsyth, and NSF for support via CAREER award #1149784."
     ]
    },
    {
     "cell_type": "heading",
     "level": 5,
     "metadata": {},
     "source": [
      "Version 0.3 -- March 2014"
     ]
    },
    {
     "cell_type": "heading",
     "level": 1,
     "metadata": {},
     "source": [
      "JIT module 1, lesson 4"
     ]
    },
    {
     "cell_type": "markdown",
     "metadata": {},
     "source": [
      "This is Lesson 4 of the first *Just-in-Time (JIT) module* for teaching computing to engineers, in context. The first module lays the foundations for building computational skills. It is not meant to support a particular engineering course, so it can be used by freshman students. The context problems should be interesting to any science-minded student.\n",
      "\n",
      "Lesson 4 builds competency in these basic skills:\n",
      "\n",
      "* Improving readability and Modularity\n",
      "\n"
     ]
    },
    {
     "cell_type": "heading",
     "level": 1,
     "metadata": {},
     "source": [
      "Context \u2014 Mars Base Location"
     ]
    },
    {
     "cell_type": "markdown",
     "metadata": {},
     "source": [
      "The last lesson taught us about looping operations, and ended with a simple way to explore a bounded region.  In this lesson, we're going to try to take that mess of code and reconfigure it to be more readable. "
     ]
    },
    {
     "cell_type": "markdown",
     "metadata": {},
     "source": [
      "First, let's have a look at all the stuff we needed to write up before."
     ]
    },
    {
     "cell_type": "code",
     "collapsed": false,
     "input": [
      "# this function will take the arguments of where rover is and which way he is facing and tell us the location in front of him.\n",
      "#Remember that this means that down(South) and to the right(east) are positive changes in index.\n",
      "def front(Rover, Pointing):\n",
      "    #We need to set front equal to a copy Rover, because in Python, lists are \"pointers\". Try removing the list() around 'Rover'.\n",
      "    #You'll get some odd results further on!  This is something to be careful of when working in Python.\n",
      "    front = list(Rover)\n",
      "    if Pointing == 'West':\n",
      "        front[1] = front[1] - 1\n",
      "        return front\n",
      "    if Pointing == 'North':\n",
      "        front[0] = front[0] - 1\n",
      "        return front\n",
      "    if Pointing == 'East':\n",
      "        front[1] = front[1]+1\n",
      "        return front\n",
      "    if Pointing == 'South':\n",
      "        front[0] = front[0] + 1\n",
      "        return front\n",
      "#this function turns Rover right without changing his position\n",
      "def turn_right(Pointing):\n",
      "    if Pointing == 'West':\n",
      "        Pointing = 'North'\n",
      "        return Pointing\n",
      "    if Pointing == 'North':\n",
      "        Pointing = 'East'\n",
      "        return Pointing\n",
      "    if Pointing == 'East':\n",
      "        Pointing = 'South'\n",
      "        return Pointing\n",
      "    if Pointing == 'South':\n",
      "        Pointing = 'West'\n",
      "        return Pointing\n",
      "#this function turns Rover left without changing his position\n",
      "def turn_left(Pointing):\n",
      "    if Pointing == 'West':\n",
      "        Pointing = 'South'\n",
      "        return Pointing\n",
      "    if Pointing == 'North':\n",
      "        Pointing = 'West'\n",
      "        return Pointing\n",
      "    if Pointing == 'East':\n",
      "        Pointing = 'North'\n",
      "        return Pointing\n",
      "    if Pointing == 'South':\n",
      "        Pointing = 'East'\n",
      "        return Pointing"
     ],
     "language": "python",
     "metadata": {},
     "outputs": [],
     "prompt_number": 1
    },
    {
     "cell_type": "code",
     "collapsed": false,
     "input": [
      "from JSAnimation.IPython_display import display_animation\n",
      "import matplotlib.animation as animation\n",
      "#this will let us use your browser's JavaScript Capability to make a nice little movie of Rover moving around.\n",
      "from rover_planning_1 import hazard\n",
      "#you'll use the hazard function to check if things are safe; an example use will be below."
     ],
     "language": "python",
     "metadata": {},
     "outputs": [],
     "prompt_number": 2
    },
    {
     "cell_type": "code",
     "collapsed": false,
     "input": [
      "%run \"mazegen2.py\"\n",
      "memory = np.zeros(np.shape(maze))\n",
      "memory[0,:] = -1\n",
      "memory[9,:] = -1\n",
      "memory[:,0] = -1\n",
      "memory[:,9] = -1\n",
      "#this resets the memory on each run, and sets the edges of the region as 'hazards'\n",
      "Rover = [7,7] # We need to know where Rover is.  We'll consider the grid above following Python's locating convention.\n",
      "count = 0\n",
      "Pointing = 'North'\n",
      "while not np.all(memory): #np.all returns false if any value in an array is zero.  we want to continue if any value is zero, so we\n",
      "    count = count+1\n",
      "    #use the not statem\n",
      "    if memory[Rover[0],Rover[1]] == 0:\n",
      "        memory[Rover[0],Rover[1]] =1\n",
      "    if memory[Rover[0],Rover[1]] == 1:\n",
      "              whats_in_front = front(Rover,'North')\n",
      "              is_safe = hazard(whats_in_front,maze)\n",
      "              memory[Rover[0],Rover[1]] = 2\n",
      "              if is_safe == 'safe':\n",
      "                  Rover = front(Rover,'North')\n",
      "                  Pointing = 'North'\n",
      "              if is_safe == 'hazard':\n",
      "                  memory[whats_in_front[0],whats_in_front[1]] = -1\n",
      "    elif memory[Rover[0],Rover[1]] == 2:\n",
      "              whats_in_front = front(Rover,'East')\n",
      "              is_safe = hazard(whats_in_front,maze)\n",
      "              memory[Rover[0],Rover[1]] = 3\n",
      "              if is_safe == 'safe':\n",
      "                  Rover = front(Rover,'East')\n",
      "                  Pointing = 'East'\n",
      "              if is_safe == 'hazard':\n",
      "                  memory[whats_in_front[0],whats_in_front[1]] = -1\n",
      "    elif memory[Rover[0],Rover[1]] == 3:\n",
      "              whats_in_front = front(Rover,'West')\n",
      "              is_safe = hazard(whats_in_front,maze)\n",
      "              memory[Rover[0],Rover[1]] = 4\n",
      "              if is_safe == 'safe':\n",
      "                  Rover = front(Rover,'West')\n",
      "                  Pointing = 'West'\n",
      "              if is_safe == 'hazard':\n",
      "                  memory[whats_in_front[0],whats_in_front[1]] = -1\n",
      "    elif memory[Rover[0],Rover[1]] == 4:\n",
      "              whats_in_front = front(Rover,'South')\n",
      "              is_safe = hazard(whats_in_front,maze)\n",
      "              memory[Rover[0],Rover[1]] = 1\n",
      "              if is_safe == 'safe':\n",
      "                  Rover = front(Rover,'South')\n",
      "                  Pointing = 'South'\n",
      "              if is_safe == 'hazard':\n",
      "                  memory[whats_in_front[0],whats_in_front[1]] = -1\n",
      "    #and drive straight if it's safe.\n",
      "    maze[Rover[0],Rover[1]] = 1\n",
      "    #This line updates our maze so we know where we are.\n",
      "    if count == 10000:\n",
      "        print(memory)\n",
      "        break\n",
      "    # the if statement above is used if we get caught in our maze and can't explore it completely.\n",
      "    mazehist = np.dstack((mazehist,maze)) #this line build up frames for our animation\n",
      "    \n",
      "fig = plt.figure(figsize=(8,4)) #defining the size of our figure\n",
      "\n",
      "#this section builds our animation\n",
      "ims = []\n",
      "for i in range(mazehist.shape[2]-1):\n",
      "    im = plt.imshow(mazehist[:,:,i], cmap=plt.cm.Reds, interpolation='nearest')\n",
      "    ims.append([im])\n",
      "anim = animation.ArtistAnimation(fig, ims, interval=100)\n",
      "\n",
      "#this one displays it\n",
      "print('area explored')\n",
      "print('it took', count, 'steps')\n",
      "display_animation(anim, default_mode='once')        "
     ],
     "language": "python",
     "metadata": {},
     "outputs": [
      {
       "ename": "NameError",
       "evalue": "name 'mazehist' is not defined",
       "output_type": "pyerr",
       "traceback": [
        "\u001b[1;31m---------------------------------------------------------------------------\u001b[0m\n\u001b[1;31mNameError\u001b[0m                                 Traceback (most recent call last)",
        "\u001b[1;32m<ipython-input-3-9c24d673b4ac>\u001b[0m in \u001b[0;36m<module>\u001b[1;34m()\u001b[0m\n\u001b[0;32m     57\u001b[0m         \u001b[1;32mbreak\u001b[0m\u001b[1;33m\u001b[0m\u001b[0m\n\u001b[0;32m     58\u001b[0m     \u001b[1;31m# the if statement above is used if we get caught in our maze and can't explore it completely.\u001b[0m\u001b[1;33m\u001b[0m\u001b[1;33m\u001b[0m\u001b[0m\n\u001b[1;32m---> 59\u001b[1;33m     \u001b[0mmazehist\u001b[0m \u001b[1;33m=\u001b[0m \u001b[0mnp\u001b[0m\u001b[1;33m.\u001b[0m\u001b[0mdstack\u001b[0m\u001b[1;33m(\u001b[0m\u001b[1;33m(\u001b[0m\u001b[0mmazehist\u001b[0m\u001b[1;33m,\u001b[0m\u001b[0mmaze\u001b[0m\u001b[1;33m)\u001b[0m\u001b[1;33m)\u001b[0m \u001b[1;31m#this line build up frames for our animation\u001b[0m\u001b[1;33m\u001b[0m\u001b[0m\n\u001b[0m\u001b[0;32m     60\u001b[0m \u001b[1;33m\u001b[0m\u001b[0m\n\u001b[0;32m     61\u001b[0m \u001b[0mfig\u001b[0m \u001b[1;33m=\u001b[0m \u001b[0mplt\u001b[0m\u001b[1;33m.\u001b[0m\u001b[0mfigure\u001b[0m\u001b[1;33m(\u001b[0m\u001b[0mfigsize\u001b[0m\u001b[1;33m=\u001b[0m\u001b[1;33m(\u001b[0m\u001b[1;36m8\u001b[0m\u001b[1;33m,\u001b[0m\u001b[1;36m4\u001b[0m\u001b[1;33m)\u001b[0m\u001b[1;33m)\u001b[0m \u001b[1;31m#defining the size of our figure\u001b[0m\u001b[1;33m\u001b[0m\u001b[0m\n",
        "\u001b[1;31mNameError\u001b[0m: name 'mazehist' is not defined"
       ]
      }
     ],
     "prompt_number": 3
    },
    {
     "cell_type": "markdown",
     "metadata": {},
     "source": [
      "Wow.  That's a fair amount of code.  We could probably write some functions and save them into a .py file so that we could call them using the \"from _________ import _________\" structure, like we've done with the hazard function. Why don't you try to find some ways to reduce the code.  The easiest way to start is to create a .py file using the IDLE editor that comes with python.  Try opening that on your computer, then making a new document.  You can take the text from the first block of code and copy-paste it in.  It should work from there.  Then, you can put, in the block below, the import statements.  When you define your own statement, treat it just like a regular function definition, using the \"def ____________________ return __\" structure."
     ]
    },
    {
     "cell_type": "code",
     "collapsed": false,
     "input": [
      "from your_filename import front\n",
      "from your_filename import turn_right\n",
      "from your_filename import turn_left\n",
      "from your_filename import some other function you think would help #(you should rename this something else)\n",
      "# feel free to add more!"
     ],
     "language": "python",
     "metadata": {},
     "outputs": []
    },
    {
     "cell_type": "markdown",
     "metadata": {},
     "source": [
      "Once you've done that, let's put the new code(which should be shorter; your function can easily comprise the bulk of the loop's actions) in the block below"
     ]
    },
    {
     "cell_type": "code",
     "collapsed": false,
     "input": [
      "memory = np.zeros(np.shape(maze))\n",
      "memory[0,:] = -1\n",
      "memory[9,:] = -1\n",
      "memory[:,0] = -1\n",
      "memory[:,9] = -1\n",
      "#this resets the memory on each run, and sets the edges of the region as 'hazards'\n",
      "Rover = [7,7] # We need to know where Rover is.  We'll consider the grid above following Python's locating convention.\n",
      "count = 0\n",
      "Pointing = 'North'\n",
      "while not np.all(memory): #np.all returns false if any value in an array is zero.  we want to continue if any value is zero, so we\n",
      "    #some functions that you put in an external file to do most of the work in the loop.\n",
      "    if count == 10000:\n",
      "        print(memory)\n",
      "        break\n",
      "    # the if statement above is used if we get caught in our maze and can't explore it completely.\n",
      "    \n",
      "    mazehist = np.dstack((mazehist,maze)) #this line build up frames for our animation\n",
      "    \n",
      "fig = plt.figure(figsize=(8,4)) #defining the size of our figure\n",
      "\n",
      "#this section builds our animation\n",
      "ims = []\n",
      "for i in range(mazehist.shape[2]-1):\n",
      "    im = plt.imshow(mazehist[:,:,i], cmap=plt.cm.Reds, interpolation='nearest')\n",
      "    ims.append([im])\n",
      "anim = animation.ArtistAnimation(fig, ims, interval=100)\n",
      "\n",
      "#this one displays it\n",
      "print('area explored')\n",
      "print('it took', count, 'steps')\n",
      "display_animation(anim, default_mode='once')        "
     ],
     "language": "python",
     "metadata": {},
     "outputs": []
    },
    {
     "cell_type": "markdown",
     "metadata": {},
     "source": [
      "Wow! Doesn't that look a lot nicer?  Writing code this way can help to make it easier to read, especially if your functions have names that make sense and you comment well.  Most code becomes essentially unreadable as its length increases."
     ]
    },
    {
     "cell_type": "code",
     "collapsed": false,
     "input": [
      "from IPython.core.display import HTML\n",
      "def css_styling():\n",
      "    styles = open(\"../styles/custom.css\", \"r\").read()\n",
      "    return HTML(styles)\n",
      "css_styling()"
     ],
     "language": "python",
     "metadata": {},
     "outputs": [
      {
       "html": [
        "<link href='http://fonts.googleapis.com/css?family=Fenix' rel='stylesheet' type='text/css'>\n",
        "<link href='http://fonts.googleapis.com/css?family=Alegreya+Sans:100,300,400,500,700,800,900,100italic,300italic,400italic,500italic,700italic,800italic,900italic' rel='stylesheet' type='text/css'>\n",
        "<link href='http://fonts.googleapis.com/css?family=Source+Code+Pro:300,400' rel='stylesheet' type='text/css'>\n",
        "<style>\n",
        "    @font-face {\n",
        "        font-family: \"Computer Modern\";\n",
        "        src: url('http://mirrors.ctan.org/fonts/cm-unicode/fonts/otf/cmunss.otf');\n",
        "    }\n",
        "    div.cell{\n",
        "        width:800px;\n",
        "        margin-left:16% !important;\n",
        "        margin-right:auto;\n",
        "    }\n",
        "    h1 {\n",
        "        font-family: 'Alegreya Sans', sans-serif;\n",
        "    }\n",
        "    h2 {\n",
        "        font-family: 'Fenix', serif;\n",
        "    }\n",
        "    h3{\n",
        "\t\tfont-family: 'Fenix', serif;\n",
        "        margin-top:12px;\n",
        "        margin-bottom: 3px;\n",
        "       }\n",
        "\th4{\n",
        "\t\tfont-family: 'Fenix', serif;\n",
        "       }\n",
        "    h5 {\n",
        "        font-family: 'Alegreya Sans', sans-serif;\n",
        "    }\t   \n",
        "    div.text_cell_render{\n",
        "        font-family: 'Alegreya Sans',Computer Modern, \"Helvetica Neue\", Arial, Helvetica, Geneva, sans-serif;\n",
        "        line-height: 135%;\n",
        "        font-size: 120%;\n",
        "        width:600px;\n",
        "        margin-left:auto;\n",
        "        margin-right:auto;\n",
        "    }\n",
        "    .CodeMirror{\n",
        "            font-family: \"Source Code Pro\";\n",
        "\t\t\tfont-size: 90%;\n",
        "    }\n",
        "/*    .prompt{\n",
        "        display: None;\n",
        "    }*/\n",
        "    .text_cell_render h1 {\n",
        "        font-weight: 200;\n",
        "        font-size: 50pt;\n",
        "\t\tline-height: 100%;\n",
        "        color:#CD2305;\n",
        "        margin-bottom: 0.5em;\n",
        "        margin-top: 0.5em;\n",
        "        display: block;\n",
        "    }\t\n",
        "    .text_cell_render h5 {\n",
        "        font-weight: 300;\n",
        "        font-size: 16pt;\n",
        "        color: #CD2305;\n",
        "        font-style: italic;\n",
        "        margin-bottom: .5em;\n",
        "        margin-top: 0.5em;\n",
        "        display: block;\n",
        "    }\n",
        "    \n",
        "    .warning{\n",
        "        color: rgb( 240, 20, 20 )\n",
        "        }  \n",
        "</style>\n",
        "<script>\n",
        "    MathJax.Hub.Config({\n",
        "                        TeX: {\n",
        "                           extensions: [\"AMSmath.js\"]\n",
        "                           },\n",
        "                tex2jax: {\n",
        "                    inlineMath: [ ['$','$'], [\"\\\\(\",\"\\\\)\"] ],\n",
        "                    displayMath: [ ['$$','$$'], [\"\\\\[\",\"\\\\]\"] ]\n",
        "                },\n",
        "                displayAlign: 'center', // Change this to 'center' to center equations.\n",
        "                \"HTML-CSS\": {\n",
        "                    styles: {'.MathJax_Display': {\"margin\": 4}}\n",
        "                }\n",
        "        });\n",
        "</script>\n"
       ],
       "metadata": {},
       "output_type": "pyout",
       "prompt_number": 1,
       "text": [
        "<IPython.core.display.HTML at 0x53476a0>"
       ]
      }
     ],
     "prompt_number": 1
    },
    {
     "cell_type": "code",
     "collapsed": false,
     "input": [],
     "language": "python",
     "metadata": {},
     "outputs": []
    }
   ],
   "metadata": {}
  }
 ]
}