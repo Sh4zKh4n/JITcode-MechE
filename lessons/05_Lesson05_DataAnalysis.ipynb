{
 "metadata": {
  "name": ""
 },
 "nbformat": 3,
 "nbformat_minor": 0,
 "worksheets": [
  {
   "cells": [
    {
     "cell_type": "raw",
     "metadata": {},
     "source": [
      "Content provided under a Creative Commons Attribution license, CC-BY 4.0. (c) Lorena A. Barba, 2014. Thanks: A. Ahmadia, G. Forsyth, and NSF for support via CAREER award #1149784."
     ]
    },
    {
     "cell_type": "heading",
     "level": 5,
     "metadata": {},
     "source": [
      "Version 0.3 -- March 2014"
     ]
    },
    {
     "cell_type": "heading",
     "level": 1,
     "metadata": {},
     "source": [
      "JIT module 1, lesson 5"
     ]
    },
    {
     "cell_type": "markdown",
     "metadata": {},
     "source": [
      "This is Lesson 4 of the first *Just-in-Time (JIT) module* for teaching computing to engineers, in context. The first module lays the foundations for building computational skills. It is not meant to support a particular engineering course, so it can be used by freshman students. The context problems should be interesting to any science-minded student.\n",
      "\n",
      "Lesson 4 builds competency in these basic skills:\n",
      "\n",
      "* Array Operations\n",
      "* Data analysis techniques\n"
     ]
    },
    {
     "cell_type": "heading",
     "level": 1,
     "metadata": {},
     "source": [
      "Context \u2014 Mars Base Location"
     ]
    },
    {
     "cell_type": "markdown",
     "metadata": {},
     "source": [
      "The last few lessons taught us about looping operations, and ended with a simple way to explore a bounded region.  In this lesson, we're going to say that during the exploration, Rover gathered some information.  We'll then do some data analysis on the information that we gather, like removing outliers and finding regions of interest.\n",
      "\n",
      "Lets say, for example, that we've got a large array of data describing whether or not Rover found any water in a region. The array looks like this:\n"
     ]
    },
    {
     "cell_type": "code",
     "collapsed": false,
     "input": [
      "import numpy as np\n",
      "import matplotlib.pyplot as plt\n",
      "%matplotlib inline"
     ],
     "language": "python",
     "metadata": {},
     "outputs": [],
     "prompt_number": 71
    },
    {
     "cell_type": "code",
     "collapsed": false,
     "input": [
      "water = np.load('../resources/marswater.npy')\n",
      "print(water)"
     ],
     "language": "python",
     "metadata": {},
     "outputs": [
      {
       "output_type": "stream",
       "stream": "stdout",
       "text": [
        "[[ 0.          1.75367147  0.          0.          0.          2.99541766\n",
        "   0.          0.          0.          0.          0.          0.          0.\n",
        "   2.46454631  0.        ]\n",
        " [ 0.          0.          0.          0.          0.          0.          0.\n",
        "   1.50484654  0.32208014  0.          0.          0.          0.          0.954595\n",
        "   0.        ]\n",
        " [ 0.          0.          0.          0.16319702  1.81738962  0.\n",
        "   0.69003006  0.          0.99271591  0.          0.          0.          0.\n",
        "   1.07391362  0.        ]\n",
        " [ 0.          2.48723194  0.          0.          0.          0.          0.\n",
        "   0.          0.          0.          0.          0.          1.55345355\n",
        "   0.          0.        ]\n",
        " [ 0.          0.          0.          0.          0.          2.785681\n",
        "   1.87378732  0.          0.          2.1423647   0.          2.97696771\n",
        "   0.          0.          0.        ]\n",
        " [ 0.          0.          0.          0.          2.49810436  0.\n",
        "   1.45535054  0.          0.          0.          0.          0.          0.\n",
        "   0.          0.        ]\n",
        " [ 0.          0.          0.          0.          0.          0.          0.\n",
        "   0.          1.47766923  0.          0.          0.05463953  1.78124675\n",
        "   0.          0.        ]\n",
        " [ 0.          0.19686487  0.          0.97400389  0.          0.          0.\n",
        "   0.          0.          0.          0.          0.          0.          0.\n",
        "   0.        ]\n",
        " [ 0.          0.          0.27270854  0.          0.          0.          0.\n",
        "   0.          1.49013063  1.33984463  2.81624277  2.44342944  0.          0.\n",
        "   0.        ]\n",
        " [ 0.          0.          0.          0.          0.87909697  0.          0.\n",
        "   1.27466839  0.          0.          0.          0.          0.          0.\n",
        "   0.        ]\n",
        " [ 0.69692826  0.          0.33578893  0.          0.          0.          0.\n",
        "   0.          0.          0.          0.          1.17012666  0.00891911\n",
        "   0.          0.        ]\n",
        " [ 0.          0.          0.          1.09882569  0.          0.          0.\n",
        "   0.          0.          0.12564685  0.          0.          0.          0.\n",
        "   0.        ]\n",
        " [ 1.30039908  1.72463841  1.96326302  2.96118727  2.9604311   0.          0.\n",
        "   0.          0.          0.          0.87920468  1.25986414  0.          0.\n",
        "   0.        ]\n",
        " [ 2.73213059  0.          0.          0.          2.7486682   0.          0.\n",
        "   0.          0.          2.96676679  0.46249902  0.          0.\n",
        "   0.25007238  0.        ]\n",
        " [ 0.          2.8424677   0.89057131  0.          2.54682565  2.39831142\n",
        "   0.          0.          0.          0.          0.          0.          0.\n",
        "   1.29580196  0.        ]]\n"
       ]
      }
     ],
     "prompt_number": 46
    },
    {
     "cell_type": "markdown",
     "metadata": {},
     "source": [
      "Not the prettiest set of data, is it?  Let's do some basic statistics on it, like finding the average and range of the data."
     ]
    },
    {
     "cell_type": "code",
     "collapsed": false,
     "input": [
      "mean = np.mean(water)\n",
      "min = np.min(water)\n",
      "max = np.max(water)\n",
      "std = np.std(water)\n",
      "median = np.median(water)\n",
      "print(\"mean =\" + str(mean))\n",
      "print(\"range =\" + str(max-min))\n",
      "print(\"standard deviation =\" + str(std))\n",
      "print(\"median =\" +str(median))"
     ],
     "language": "python",
     "metadata": {},
     "outputs": [
      {
       "output_type": "stream",
       "stream": "stdout",
       "text": [
        "mean =0.36944545923\n",
        "range =2.99541766146\n",
        "standard deviation =0.798734050488\n",
        "median =0.0\n"
       ]
      }
     ],
     "prompt_number": 47
    },
    {
     "cell_type": "markdown",
     "metadata": {},
     "source": [
      "That's pretty crazy; our range is almost 5 standard deviations, and our mean is really low compared to the data. And our median is zero! Maybe we should consider the places we did find water.  One of the better ways to do this(looping through the array is *not* a good way to do it) is to *mask* the array and only look at the data of interest."
     ]
    },
    {
     "cell_type": "code",
     "collapsed": false,
     "input": [
      "mask = (water > 0)\n",
      "mask"
     ],
     "language": "python",
     "metadata": {},
     "outputs": [
      {
       "metadata": {},
       "output_type": "pyout",
       "prompt_number": 48,
       "text": [
        "array([[False,  True, False, False, False,  True, False, False, False,\n",
        "        False, False, False, False,  True, False],\n",
        "       [False, False, False, False, False, False, False,  True,  True,\n",
        "        False, False, False, False,  True, False],\n",
        "       [False, False, False,  True,  True, False,  True, False,  True,\n",
        "        False, False, False, False,  True, False],\n",
        "       [False,  True, False, False, False, False, False, False, False,\n",
        "        False, False, False,  True, False, False],\n",
        "       [False, False, False, False, False,  True,  True, False, False,\n",
        "         True, False,  True, False, False, False],\n",
        "       [False, False, False, False,  True, False,  True, False, False,\n",
        "        False, False, False, False, False, False],\n",
        "       [False, False, False, False, False, False, False, False,  True,\n",
        "        False, False,  True,  True, False, False],\n",
        "       [False,  True, False,  True, False, False, False, False, False,\n",
        "        False, False, False, False, False, False],\n",
        "       [False, False,  True, False, False, False, False, False,  True,\n",
        "         True,  True,  True, False, False, False],\n",
        "       [False, False, False, False,  True, False, False,  True, False,\n",
        "        False, False, False, False, False, False],\n",
        "       [ True, False,  True, False, False, False, False, False, False,\n",
        "        False, False,  True,  True, False, False],\n",
        "       [False, False, False,  True, False, False, False, False, False,\n",
        "         True, False, False, False, False, False],\n",
        "       [ True,  True,  True,  True,  True, False, False, False, False,\n",
        "        False,  True,  True, False, False, False],\n",
        "       [ True, False, False, False,  True, False, False, False, False,\n",
        "         True,  True, False, False,  True, False],\n",
        "       [False,  True,  True, False,  True,  True, False, False, False,\n",
        "        False, False, False, False,  True, False]], dtype=bool)"
       ]
      }
     ],
     "prompt_number": 48
    },
    {
     "cell_type": "code",
     "collapsed": false,
     "input": [
      "iswater = water[mask]\n",
      "print(iswater)"
     ],
     "language": "python",
     "metadata": {},
     "outputs": [
      {
       "output_type": "stream",
       "stream": "stdout",
       "text": [
        "[ 1.75367147  2.99541766  2.46454631  1.50484654  0.32208014  0.954595\n",
        "  0.16319702  1.81738962  0.69003006  0.99271591  1.07391362  2.48723194\n",
        "  1.55345355  2.785681    1.87378732  2.1423647   2.97696771  2.49810436\n",
        "  1.45535054  1.47766923  0.05463953  1.78124675  0.19686487  0.97400389\n",
        "  0.27270854  1.49013063  1.33984463  2.81624277  2.44342944  0.87909697\n",
        "  1.27466839  0.69692826  0.33578893  1.17012666  0.00891911  1.09882569\n",
        "  0.12564685  1.30039908  1.72463841  1.96326302  2.96118727  2.9604311\n",
        "  0.87920468  1.25986414  2.73213059  2.7486682   2.96676679  0.46249902\n",
        "  0.25007238  2.8424677   0.89057131  2.54682565  2.39831142  1.29580196]\n"
       ]
      }
     ],
     "prompt_number": 49
    },
    {
     "cell_type": "markdown",
     "metadata": {},
     "source": [
      "How about that? We pulled out all the non-zero data that way. We could do it with some other conditions too.  First, lets re-do our statistics on this data."
     ]
    },
    {
     "cell_type": "code",
     "collapsed": false,
     "input": [
      "mean = np.mean(iswater)\n",
      "min = np.min(iswater)\n",
      "max = np.max(iswater)\n",
      "std = np.std(iswater)\n",
      "median = np.median(iswater)\n",
      "print(\"mean =\" + str(mean))\n",
      "print(\"range =\" + str(max-min))\n",
      "print(\"standard deviation =\" + str(std))\n",
      "print(\"median =\" +str(median))"
     ],
     "language": "python",
     "metadata": {},
     "outputs": [
      {
       "output_type": "stream",
       "stream": "stdout",
       "text": [
        "mean =1.53935608013\n",
        "range =2.98649854874\n",
        "standard deviation =0.925918275763\n",
        "median =1.4665098824\n"
       ]
      }
     ],
     "prompt_number": 50
    },
    {
     "cell_type": "markdown",
     "metadata": {},
     "source": [
      "Well. That looks a lot better, doesn't it.  Next, let's go back and do a *mask* of our original data to remove any values not within a standard deviation of the mean."
     ]
    },
    {
     "cell_type": "code",
     "collapsed": false,
     "input": [
      "mask = (water > 0)*(water<mean+std)*(water>mean-std)\n",
      "mask"
     ],
     "language": "python",
     "metadata": {},
     "outputs": [
      {
       "metadata": {},
       "output_type": "pyout",
       "prompt_number": 51,
       "text": [
        "array([[False,  True, False, False, False, False, False, False, False,\n",
        "        False, False, False, False,  True, False],\n",
        "       [False, False, False, False, False, False, False,  True, False,\n",
        "        False, False, False, False,  True, False],\n",
        "       [False, False, False, False,  True, False,  True, False,  True,\n",
        "        False, False, False, False,  True, False],\n",
        "       [False, False, False, False, False, False, False, False, False,\n",
        "        False, False, False,  True, False, False],\n",
        "       [False, False, False, False, False, False,  True, False, False,\n",
        "         True, False, False, False, False, False],\n",
        "       [False, False, False, False, False, False,  True, False, False,\n",
        "        False, False, False, False, False, False],\n",
        "       [False, False, False, False, False, False, False, False,  True,\n",
        "        False, False, False,  True, False, False],\n",
        "       [False, False, False,  True, False, False, False, False, False,\n",
        "        False, False, False, False, False, False],\n",
        "       [False, False, False, False, False, False, False, False,  True,\n",
        "         True, False,  True, False, False, False],\n",
        "       [False, False, False, False,  True, False, False,  True, False,\n",
        "        False, False, False, False, False, False],\n",
        "       [ True, False, False, False, False, False, False, False, False,\n",
        "        False, False,  True, False, False, False],\n",
        "       [False, False, False,  True, False, False, False, False, False,\n",
        "        False, False, False, False, False, False],\n",
        "       [ True,  True,  True, False, False, False, False, False, False,\n",
        "        False,  True,  True, False, False, False],\n",
        "       [False, False, False, False, False, False, False, False, False,\n",
        "        False, False, False, False, False, False],\n",
        "       [False, False,  True, False, False,  True, False, False, False,\n",
        "        False, False, False, False,  True, False]], dtype=bool)"
       ]
      }
     ],
     "prompt_number": 51
    },
    {
     "cell_type": "code",
     "collapsed": false,
     "input": [
      "maskeddata = water[mask]\n",
      "print maskeddata"
     ],
     "language": "python",
     "metadata": {},
     "outputs": [
      {
       "output_type": "stream",
       "stream": "stdout",
       "text": [
        "[ 1.75367147  2.46454631  1.50484654  0.954595    1.81738962  0.69003006\n",
        "  0.99271591  1.07391362  1.55345355  1.87378732  2.1423647   1.45535054\n",
        "  1.47766923  1.78124675  0.97400389  1.49013063  1.33984463  2.44342944\n",
        "  0.87909697  1.27466839  0.69692826  1.17012666  1.09882569  1.30039908\n",
        "  1.72463841  1.96326302  0.87920468  1.25986414  0.89057131  2.39831142\n",
        "  1.29580196]\n"
       ]
      }
     ],
     "prompt_number": 52
    },
    {
     "cell_type": "markdown",
     "metadata": {},
     "source": [
      "Let's consider these locations as viable to sustain life on Mars, so long as they are in contact with at least two other such places.  Can we find a location for a new Mars settlement? Let's have a look at this subset of data plotted on the full-size grid.  First, we can get an index array from our mask, like this"
     ]
    },
    {
     "cell_type": "code",
     "collapsed": false,
     "input": [
      "indexes = np.where(mask)"
     ],
     "language": "python",
     "metadata": {},
     "outputs": [],
     "prompt_number": 53
    },
    {
     "cell_type": "markdown",
     "metadata": {},
     "source": [
      "Now that we've got the indices we care about, we can create a copy of our first array, \"water,\" and set all data values not of interest to zero."
     ]
    },
    {
     "cell_type": "code",
     "collapsed": false,
     "input": [
      "ofinterest = np.zeros((len(water),len(water)))\n",
      "ofinterest[indexes]=water[indexes]\n",
      "ofinterest\n",
      "                      "
     ],
     "language": "python",
     "metadata": {},
     "outputs": [
      {
       "metadata": {},
       "output_type": "pyout",
       "prompt_number": 55,
       "text": [
        "array([[ 0.        ,  1.75367147,  0.        ,  0.        ,  0.        ,\n",
        "         0.        ,  0.        ,  0.        ,  0.        ,  0.        ,\n",
        "         0.        ,  0.        ,  0.        ,  2.46454631,  0.        ],\n",
        "       [ 0.        ,  0.        ,  0.        ,  0.        ,  0.        ,\n",
        "         0.        ,  0.        ,  1.50484654,  0.        ,  0.        ,\n",
        "         0.        ,  0.        ,  0.        ,  0.954595  ,  0.        ],\n",
        "       [ 0.        ,  0.        ,  0.        ,  0.        ,  1.81738962,\n",
        "         0.        ,  0.69003006,  0.        ,  0.99271591,  0.        ,\n",
        "         0.        ,  0.        ,  0.        ,  1.07391362,  0.        ],\n",
        "       [ 0.        ,  0.        ,  0.        ,  0.        ,  0.        ,\n",
        "         0.        ,  0.        ,  0.        ,  0.        ,  0.        ,\n",
        "         0.        ,  0.        ,  1.55345355,  0.        ,  0.        ],\n",
        "       [ 0.        ,  0.        ,  0.        ,  0.        ,  0.        ,\n",
        "         0.        ,  1.87378732,  0.        ,  0.        ,  2.1423647 ,\n",
        "         0.        ,  0.        ,  0.        ,  0.        ,  0.        ],\n",
        "       [ 0.        ,  0.        ,  0.        ,  0.        ,  0.        ,\n",
        "         0.        ,  1.45535054,  0.        ,  0.        ,  0.        ,\n",
        "         0.        ,  0.        ,  0.        ,  0.        ,  0.        ],\n",
        "       [ 0.        ,  0.        ,  0.        ,  0.        ,  0.        ,\n",
        "         0.        ,  0.        ,  0.        ,  1.47766923,  0.        ,\n",
        "         0.        ,  0.        ,  1.78124675,  0.        ,  0.        ],\n",
        "       [ 0.        ,  0.        ,  0.        ,  0.97400389,  0.        ,\n",
        "         0.        ,  0.        ,  0.        ,  0.        ,  0.        ,\n",
        "         0.        ,  0.        ,  0.        ,  0.        ,  0.        ],\n",
        "       [ 0.        ,  0.        ,  0.        ,  0.        ,  0.        ,\n",
        "         0.        ,  0.        ,  0.        ,  1.49013063,  1.33984463,\n",
        "         0.        ,  2.44342944,  0.        ,  0.        ,  0.        ],\n",
        "       [ 0.        ,  0.        ,  0.        ,  0.        ,  0.87909697,\n",
        "         0.        ,  0.        ,  1.27466839,  0.        ,  0.        ,\n",
        "         0.        ,  0.        ,  0.        ,  0.        ,  0.        ],\n",
        "       [ 0.69692826,  0.        ,  0.        ,  0.        ,  0.        ,\n",
        "         0.        ,  0.        ,  0.        ,  0.        ,  0.        ,\n",
        "         0.        ,  1.17012666,  0.        ,  0.        ,  0.        ],\n",
        "       [ 0.        ,  0.        ,  0.        ,  1.09882569,  0.        ,\n",
        "         0.        ,  0.        ,  0.        ,  0.        ,  0.        ,\n",
        "         0.        ,  0.        ,  0.        ,  0.        ,  0.        ],\n",
        "       [ 1.30039908,  1.72463841,  1.96326302,  0.        ,  0.        ,\n",
        "         0.        ,  0.        ,  0.        ,  0.        ,  0.        ,\n",
        "         0.87920468,  1.25986414,  0.        ,  0.        ,  0.        ],\n",
        "       [ 0.        ,  0.        ,  0.        ,  0.        ,  0.        ,\n",
        "         0.        ,  0.        ,  0.        ,  0.        ,  0.        ,\n",
        "         0.        ,  0.        ,  0.        ,  0.        ,  0.        ],\n",
        "       [ 0.        ,  0.        ,  0.89057131,  0.        ,  0.        ,\n",
        "         2.39831142,  0.        ,  0.        ,  0.        ,  0.        ,\n",
        "         0.        ,  0.        ,  0.        ,  1.29580196,  0.        ]])"
       ]
      }
     ],
     "prompt_number": 55
    },
    {
     "cell_type": "markdown",
     "metadata": {},
     "source": [
      "Ok. That narrows down the number of places to look at, for sure.  Let's create a plot that will let us look at the data at a glance to select an area.  "
     ]
    },
    {
     "cell_type": "code",
     "collapsed": false,
     "input": [
      "plt.imshow(ofinterest, aspect = 'auto', interpolation = 'nearest')"
     ],
     "language": "python",
     "metadata": {},
     "outputs": [
      {
       "metadata": {},
       "output_type": "pyout",
       "prompt_number": 75,
       "text": [
        "<matplotlib.image.AxesImage at 0x83e9f60>"
       ]
      },
      {
       "metadata": {},
       "output_type": "display_data",
       "png": "[encoded data removed]",
       "text": [
        "<matplotlib.figure.Figure at 0x82ff780>"
       ]
      }
     ],
     "prompt_number": 75
    },
    {
     "cell_type": "markdown",
     "metadata": {},
     "source": [
      "The only location to satisfy our previous definition of a livable location on Mars is found at row twelve, column 1. See if you can do similar steps to find somewhere with two locations adjacent to it, all of which are in the top 10% of amounts of water detected by our rover."
     ]
    },
    {
     "cell_type": "code",
     "collapsed": true,
     "input": [
      "mask = \n",
      "indices = \n",
      "ofinterest = np.zeros((len(water),len(water)))\n",
      "#you need to modify ofinterest to include the masked portions(top 90%) from the array \"water\"\n",
      "plt.imshow(ofinterest, aspect = 'auto', interpolation = 'nearest')"
     ],
     "language": "python",
     "metadata": {},
     "outputs": [
      {
       "metadata": {},
       "output_type": "pyout",
       "prompt_number": 76,
       "text": [
        "<matplotlib.image.AxesImage at 0x8d47518>"
       ]
      },
      {
       "metadata": {},
       "output_type": "display_data",
       "png": "[encoded data removed]",
       "text": [
        "<matplotlib.figure.Figure at 0x83fc5c0>"
       ]
      }
     ],
     "prompt_number": 76
    },
    {
     "cell_type": "markdown",
     "metadata": {},
     "source": [
      "Did you find it? it should be at Row 12, Column 4.  If you're having trouble, look at the example above and think about how you best might select the top 10% of water-bearing locations."
     ]
    },
    {
     "cell_type": "code",
     "collapsed": false,
     "input": [
      "from IPython.core.display import HTML\n",
      "def css_styling():\n",
      "    styles = open(\"../styles/custom.css\", \"r\").read()\n",
      "    return HTML(styles)\n",
      "css_styling()"
     ],
     "language": "python",
     "metadata": {},
     "outputs": [
      {
       "html": [
        "<link href='http://fonts.googleapis.com/css?family=Fenix' rel='stylesheet' type='text/css'>\n",
        "<link href='http://fonts.googleapis.com/css?family=Alegreya+Sans:100,300,400,500,700,800,900,100italic,300italic,400italic,500italic,700italic,800italic,900italic' rel='stylesheet' type='text/css'>\n",
        "<link href='http://fonts.googleapis.com/css?family=Source+Code+Pro:300,400' rel='stylesheet' type='text/css'>\n",
        "<style>\n",
        "    @font-face {\n",
        "        font-family: \"Computer Modern\";\n",
        "        src: url('http://mirrors.ctan.org/fonts/cm-unicode/fonts/otf/cmunss.otf');\n",
        "    }\n",
        "    div.cell{\n",
        "        width:800px;\n",
        "        margin-left:16% !important;\n",
        "        margin-right:auto;\n",
        "    }\n",
        "    h1 {\n",
        "        font-family: 'Alegreya Sans', sans-serif;\n",
        "    }\n",
        "    h2 {\n",
        "        font-family: 'Fenix', serif;\n",
        "    }\n",
        "    h3{\n",
        "\t\tfont-family: 'Fenix', serif;\n",
        "        margin-top:12px;\n",
        "        margin-bottom: 3px;\n",
        "       }\n",
        "\th4{\n",
        "\t\tfont-family: 'Fenix', serif;\n",
        "       }\n",
        "    h5 {\n",
        "        font-family: 'Alegreya Sans', sans-serif;\n",
        "    }\t   \n",
        "    div.text_cell_render{\n",
        "        font-family: 'Alegreya Sans',Computer Modern, \"Helvetica Neue\", Arial, Helvetica, Geneva, sans-serif;\n",
        "        line-height: 135%;\n",
        "        font-size: 120%;\n",
        "        width:600px;\n",
        "        margin-left:auto;\n",
        "        margin-right:auto;\n",
        "    }\n",
        "    .CodeMirror{\n",
        "            font-family: \"Source Code Pro\";\n",
        "\t\t\tfont-size: 90%;\n",
        "    }\n",
        "/*    .prompt{\n",
        "        display: None;\n",
        "    }*/\n",
        "    .text_cell_render h1 {\n",
        "        font-weight: 200;\n",
        "        font-size: 50pt;\n",
        "\t\tline-height: 100%;\n",
        "        color:#CD2305;\n",
        "        margin-bottom: 0.5em;\n",
        "        margin-top: 0.5em;\n",
        "        display: block;\n",
        "    }\t\n",
        "    .text_cell_render h5 {\n",
        "        font-weight: 300;\n",
        "        font-size: 16pt;\n",
        "        color: #CD2305;\n",
        "        font-style: italic;\n",
        "        margin-bottom: .5em;\n",
        "        margin-top: 0.5em;\n",
        "        display: block;\n",
        "    }\n",
        "    \n",
        "    .warning{\n",
        "        color: rgb( 240, 20, 20 )\n",
        "        }  \n",
        "</style>\n",
        "<script>\n",
        "    MathJax.Hub.Config({\n",
        "                        TeX: {\n",
        "                           extensions: [\"AMSmath.js\"]\n",
        "                           },\n",
        "                tex2jax: {\n",
        "                    inlineMath: [ ['$','$'], [\"\\\\(\",\"\\\\)\"] ],\n",
        "                    displayMath: [ ['$$','$$'], [\"\\\\[\",\"\\\\]\"] ]\n",
        "                },\n",
        "                displayAlign: 'center', // Change this to 'center' to center equations.\n",
        "                \"HTML-CSS\": {\n",
        "                    styles: {'.MathJax_Display': {\"margin\": 4}}\n",
        "                }\n",
        "        });\n",
        "</script>\n"
       ],
       "metadata": {},
       "output_type": "pyout",
       "prompt_number": 1,
       "text": [
        "<IPython.core.display.HTML at 0x516d6a0>"
       ]
      }
     ],
     "prompt_number": 1
    },
    {
     "cell_type": "code",
     "collapsed": false,
     "input": [],
     "language": "python",
     "metadata": {},
     "outputs": []
    }
   ],
   "metadata": {}
  }
 ]
}