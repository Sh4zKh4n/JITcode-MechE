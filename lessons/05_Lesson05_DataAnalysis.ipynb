{
 "metadata": {
  "name": ""
 },
 "nbformat": 3,
 "nbformat_minor": 0,
 "worksheets": [
  {
   "cells": [
    {
     "cell_type": "raw",
     "metadata": {},
     "source": [
      "Content provided under a Creative Commons Attribution license, CC-BY 4.0. (c) Lorena A. Barba, 2014. Thanks: A. Ahmadia, G. Forsyth, and NSF for support via CAREER award #1149784."
     ]
    },
    {
     "cell_type": "heading",
     "level": 5,
     "metadata": {},
     "source": [
      "Version 0.3 -- March 2014"
     ]
    },
    {
     "cell_type": "heading",
     "level": 1,
     "metadata": {},
     "source": [
      "JIT module 1, lesson 5"
     ]
    },
    {
     "cell_type": "markdown",
     "metadata": {},
     "source": [
      "This is Lesson 4 of the first *Just-in-Time (JIT) module* for teaching computing to engineers, in context. The first module lays the foundations for building computational skills. It is not meant to support a particular engineering course, so it can be used by freshman students. The context problems should be interesting to any science-minded student.\n",
      "\n",
      "Lesson 4 builds competency in these basic skills:\n",
      "\n",
      "* Array Operations\n",
      "* Data analysis techniques\n"
     ]
    },
    {
     "cell_type": "heading",
     "level": 1,
     "metadata": {},
     "source": [
      "Context \u2014 Mars Base Location"
     ]
    },
    {
     "cell_type": "markdown",
     "metadata": {},
     "source": [
      "The last few lessons taught us about looping operations, and ended with a simple way to explore a bounded region.  In this lesson, we're going to say that during the exploration, Rover gathered some information.  We'll then do some data analysis on the information that we gather, like removing outliers and finding regions of interest.\n",
      "\n",
      "Lets say, for example, that we've got a large array of data describing whether or not Rover found any water in a region. The array looks like this:\n"
     ]
    },
    {
     "cell_type": "code",
     "collapsed": false,
     "input": [
      "import numpy as np\n",
      "from marswater import iswater\n"
     ],
     "language": "python",
     "metadata": {},
     "outputs": [],
     "prompt_number": 10
    },
    {
     "cell_type": "code",
     "collapsed": false,
     "input": [
      "water = iswater()\n",
      "print(water)"
     ],
     "language": "python",
     "metadata": {},
     "outputs": [
      {
       "output_type": "stream",
       "stream": "stdout",
       "text": [
        "[[ 0.          0.          0.          2.65375304  2.89690504  0.\n",
        "   1.36285621  0.          0.          0.        ]\n",
        " [ 0.          0.          0.42635487  0.          0.          0.          0.\n",
        "   2.19130583  0.          0.        ]\n",
        " [ 0.          0.          0.          0.          0.          0.          0.\n",
        "   0.          0.          2.86623047]\n",
        " [ 2.55504982  0.          2.04841042  0.          0.          0.27276821\n",
        "   0.          0.          1.96230414  0.        ]\n",
        " [ 0.          2.37688599  0.          2.37787014  0.          0.          0.\n",
        "   0.          0.          0.        ]\n",
        " [ 0.09283076  0.          0.          0.          2.23269694  0.\n",
        "   0.97438686  0.          0.          1.16346687]\n",
        " [ 1.80420699  0.47077151  0.          2.46387735  0.          2.71052634\n",
        "   2.34837864  0.          0.          0.        ]\n",
        " [ 0.          0.          2.14348392  0.          0.          0.          0.\n",
        "   0.          0.          0.        ]\n",
        " [ 0.          0.          0.          0.          0.          0.\n",
        "   1.61486157  0.          0.          0.        ]\n",
        " [ 0.          0.          0.          0.          0.48843622  0.          0.\n",
        "   2.92700407  0.          0.        ]]\n"
       ]
      }
     ],
     "prompt_number": 11
    },
    {
     "cell_type": "markdown",
     "metadata": {},
     "source": [
      "Not the prettiest set of data, is it?  Let's do some basic statistics on it, like finding the average and range of the data."
     ]
    }
   ],
   "metadata": {}
  }
 ]
}