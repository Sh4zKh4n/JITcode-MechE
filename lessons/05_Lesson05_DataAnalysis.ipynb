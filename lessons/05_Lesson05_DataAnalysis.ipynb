{
 "metadata": {
  "name": ""
 },
 "nbformat": 3,
 "nbformat_minor": 0,
 "worksheets": [
  {
   "cells": [
    {
     "cell_type": "raw",
     "metadata": {},
     "source": [
      "Content provided under a Creative Commons Attribution license, CC-BY 4.0. (c) Lorena A. Barba, 2014. Thanks: A. Ahmadia, G. Forsyth, and NSF for support via CAREER award #1149784."
     ]
    },
    {
     "cell_type": "heading",
     "level": 5,
     "metadata": {},
     "source": [
      "Version 0.3 -- March 2014"
     ]
    },
    {
     "cell_type": "heading",
     "level": 1,
     "metadata": {},
     "source": [
      "JIT module 1, lesson 5"
     ]
    },
    {
     "cell_type": "markdown",
     "metadata": {},
     "source": [
      "This is Lesson 4 of the first *Just-in-Time (JIT) module* for teaching computing to engineers, in context. The first module lays the foundations for building computational skills. It is not meant to support a particular engineering course, so it can be used by freshman students. The context problems should be interesting to any science-minded student.\n",
      "\n",
      "Lesson 4 builds competency in these basic skills:\n",
      "\n",
      "* Array Operations\n",
      "* Data analysis techniques\n"
     ]
    },
    {
     "cell_type": "heading",
     "level": 1,
     "metadata": {},
     "source": [
      "Context \u2014 Mars Base Location"
     ]
    },
    {
     "cell_type": "markdown",
     "metadata": {},
     "source": [
      "The last few lessons taught us about looping operations, and ended with a simple way to explore a bounded region.  In this lesson, we're going to say that during the exploration, Rover gathered some information.  We'll then do some data analysis on the information that we gather, like removing outliers and finding regions of interest.\n",
      "\n",
      "Lets say, for example, that we've got a large array of data describing whether or not Rover found any water in a region. The array looks like this:\n"
     ]
    },
    {
     "cell_type": "code",
     "collapsed": false,
     "input": [
      "import numpy as np\n",
      "from marswater import iswater\n"
     ],
     "language": "python",
     "metadata": {},
     "outputs": [],
     "prompt_number": 2
    },
    {
     "cell_type": "code",
     "collapsed": false,
     "input": [
      "water = iswater()\n",
      "print(water)"
     ],
     "language": "python",
     "metadata": {},
     "outputs": [
      {
       "output_type": "stream",
       "stream": "stdout",
       "text": [
        "[[ 0.          0.          0.          2.48519503  0.          0.          0.\n",
        "   0.          0.          0.          0.          0.          0.          0.\n",
        "   0.79867188]\n",
        " [ 0.85495166  0.          0.          0.          0.          0.          0.\n",
        "   0.          0.          0.          0.          0.          0.          0.\n",
        "   0.        ]\n",
        " [ 0.          0.          0.53043159  0.          0.          0.          0.\n",
        "   0.          0.23731289  0.          0.          0.          1.56597242\n",
        "   0.          0.        ]\n",
        " [ 0.          0.          0.          0.          0.          0.60217126\n",
        "   0.345952    0.          0.          0.          0.          0.\n",
        "   2.40821825  0.          0.39477827]\n",
        " [ 1.09903727  0.          0.          0.          0.58522563  0.          0.\n",
        "   0.          0.          0.          0.          0.          0.          0.\n",
        "   0.        ]\n",
        " [ 0.          0.          0.          0.          0.          0.          0.\n",
        "   0.          0.          0.5578391   0.          0.          0.          0.\n",
        "   0.        ]\n",
        " [ 0.          0.          0.04509249  0.          1.81010974  0.          0.\n",
        "   0.          0.          0.          0.          2.9911709   0.          0.\n",
        "   0.        ]\n",
        " [ 1.14380821  0.          0.          0.          0.          0.          0.\n",
        "   0.          0.          0.          0.          0.          0.          0.\n",
        "   0.        ]\n",
        " [ 1.8335173   2.34458345  0.          0.          0.          1.61813581\n",
        "   0.          0.          0.          0.          0.          0.          0.\n",
        "   1.61656055  0.21056084]\n",
        " [ 0.          2.30988915  2.20306606  2.00438802  0.          0.\n",
        "   2.67680176  0.          0.          0.          0.          0.          0.\n",
        "   1.68906845  0.        ]\n",
        " [ 0.          0.          0.          0.          2.50745076  0.\n",
        "   1.44660118  0.          0.          0.          0.          0.          0.\n",
        "   0.          0.19255666]\n",
        " [ 0.          0.          0.          0.          0.          0.          0.\n",
        "   0.          0.          0.          0.          0.          1.23743427\n",
        "   0.          2.22771877]\n",
        " [ 2.39899873  0.          0.          0.          1.68647506  1.15098136\n",
        "   0.          0.60031417  0.          0.          0.          0.          0.\n",
        "   0.          0.81054407]\n",
        " [ 0.          0.          0.          2.58575902  2.79384005  0.          0.\n",
        "   0.          0.          0.          0.          0.77980496  0.          0.\n",
        "   1.90922815]\n",
        " [ 0.26970181  0.          0.          0.          0.44476949  0.          0.\n",
        "   0.          0.          0.          0.          0.          0.          0.\n",
        "   0.        ]]\n"
       ]
      }
     ],
     "prompt_number": 3
    },
    {
     "cell_type": "markdown",
     "metadata": {},
     "source": [
      "Not the prettiest set of data, is it?  Let's do some basic statistics on it, like finding the average and range of the data."
     ]
    },
    {
     "cell_type": "code",
     "collapsed": false,
     "input": [
      "mean = np.mean(water)\n",
      "min = np.min(water)\n",
      "max = np.max(water)\n",
      "std = np.std(water)\n",
      "print(\"mean =\" + str(mean))\n",
      "print(\"range =\" + str(max-min))\n",
      "print(\"standard deviation =\" + str(std))"
     ],
     "language": "python",
     "metadata": {},
     "outputs": [
      {
       "output_type": "stream",
       "stream": "stdout",
       "text": [
        "mean =0.266687504581\n",
        "range =2.99117089929\n",
        "standard deviation =0.664641365744\n"
       ]
      }
     ],
     "prompt_number": 13
    }
   ],
   "metadata": {}
  }
 ]
}