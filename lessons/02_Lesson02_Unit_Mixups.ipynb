{
 "metadata": {
  "name": "",
  "signature": "sha256:4081bd9256beec0e84a1a4cba054a170ab3356f608df4c7014bacf5ec2f86f2d"
 },
 "nbformat": 3,
 "nbformat_minor": 0,
 "worksheets": [
  {
   "cells": [
    {
     "cell_type": "raw",
     "metadata": {},
     "source": [
      "Content provided under a Creative Commons Attribution license, CC-BY 4.0; code under MIT license.\n",
      "(c)2014 L.Barba, A.Wickenheiser (The George Washington University). Thanks: A. Ahmadia, G. Forsyth, A. Golding; NSF for support via CAREER award #1149784 to LAB; the GW Office and Teaching and Learning for seed grant to LAB and AMW."
     ]
    },
    {
     "cell_type": "heading",
     "level": 5,
     "metadata": {},
     "source": [
      "Version 0.1 -- March 2014"
     ]
    },
    {
     "cell_type": "heading",
     "level": 1,
     "metadata": {},
     "source": [
      "JITcode 1, lesson 2"
     ]
    },
    {
     "cell_type": "markdown",
     "metadata": {},
     "source": [
      "The first *Just-in-Time (JIT) module* for teaching computing to engineers, in context, lays the foundations for building computational skills. \n",
      "\n",
      "Did you complete [lesson 1](http://nbviewer.ipython.org/github/barbagroup/JITcode-MechE/blob/master/lessons/01_Lesson01_ReadAndPlot.ipynb)? If so, you now know how to read a data file, make some plots to study the data, and do some basic data analysis. These are all very useful skills! You will likely soon have a lab report to do where you can apply them.\n",
      "\n",
      "What next? There are so many choices! Let's do something creative. In this lesson, you will learn to *create your own functions*!\n",
      "\n",
      "What can you do with functions that you create? Anything, really. Watch this funky video for an introducton to creating functions."
     ]
    },
    {
     "cell_type": "code",
     "collapsed": false,
     "input": [
      "from IPython.display import YouTubeVideo\n",
      "YouTubeVideo('gTwU8JPgu5E')"
     ],
     "language": "python",
     "metadata": {},
     "outputs": [
      {
       "html": [
        "\n",
        "        <iframe\n",
        "            width=\"400\"\n",
        "            height=300\"\n",
        "            src=\"https://www.youtube.com/embed/gTwU8JPgu5E\"\n",
        "            frameborder=\"0\"\n",
        "            allowfullscreen\n",
        "        ></iframe>\n",
        "        "
       ],
       "metadata": {},
       "output_type": "pyout",
       "prompt_number": 1,
       "text": [
        "<IPython.lib.display.YouTubeVideo at 0x165a3d0>"
       ]
      }
     ],
     "prompt_number": 1
    },
    {
     "cell_type": "heading",
     "level": 2,
     "metadata": {},
     "source": [
      "Context \u2014 Unit Conversions"
     ]
    },
    {
     "cell_type": "markdown",
     "metadata": {},
     "source": [
      "Did you know that the [Mars Climate Orbiter](http://en.wikipedia.org/wiki/Mars_Climate_Orbiter) was lost due to a units mixup? In September 1999, the spacecraft de-orbited accidentally and disintegrated in the Mars atmosphere.\n",
      "\n",
      "The Orbiter was supposed to insert itself in orbit around Mars, but it ended up at a much lower altitude than intended. Why? The \"trajectory correction maneuver\" (TCM) that had been planned for the spacecraft went terribly wrong, because the spacecraft was hundreds of kilometers off-course. \n",
      "\n",
      "Here is a diagram showing the intended orbital trajectory, and the actual trajectory that led to disaster."
     ]
    },
    {
     "cell_type": "code",
     "collapsed": false,
     "input": [
      "from IPython.display import Image\n",
      "Image(url='http://upload.wikimedia.org/wikipedia/commons/8/83/Mars_Climate_Orbiter_-_mishap_diagram.png')"
     ],
     "language": "python",
     "metadata": {},
     "outputs": [
      {
       "html": [
        "<img src=\"http://upload.wikimedia.org/wikipedia/commons/8/83/Mars_Climate_Orbiter_-_mishap_diagram.png\"/>"
       ],
       "metadata": {},
       "output_type": "pyout",
       "prompt_number": 2,
       "text": [
        "<IPython.core.display.Image at 0x1658c10>"
       ]
      }
     ],
     "prompt_number": 2
    },
    {
     "cell_type": "markdown",
     "metadata": {},
     "source": [
      "What happened? The software that calculated the total impulse produced by the thrusters gave its result in pound-seconds, but the software that used this result to compute the trajectory expected the data in newton-seconds! So in each trajectory correction maneuver done since launch, the spacecraft accumulated more error in its position. Big oops.\n",
      "\n",
      "In fact, NASA had decided to use the metric system for all units of measurement years before. But at the time of the loss of the Mars Climate Orbiter, some argued, lack of funds had prevented NASA from fully making the switch. Even 10 years later in 2009, a New Scientist article reported that [\"NASA still can't make the jump to metric.\"](http://www.newscientist.com/article/dn17350-nasa-criticised-for-sticking-to-imperial-units.html) \n",
      "\n",
      "NASA also works with various contractors that still may use English units. In the case of the ill-fated orbiter, the contractor that built the spacecraft (Lockheed Martin) wrote the software that provided the navigation commands for the thrusters: it worked in pound-seconds.\n",
      "\n",
      "A newton (N) is the force that will accelerate $1 \\rm{kg}$ of mass at a rate of $1 \\rm{m/s^2}$.\n",
      "The traditional English unit is pounds of force (lbf), and the conversions are:\n",
      "\n",
      "$$1 \\rm{N} = 0.225 \\rm{lbf}$$  or \n",
      "\n",
      "$$1 \\rm{lbf} = 4.45 \\rm{N}$$"
     ]
    },
    {
     "cell_type": "heading",
     "level": 2,
     "metadata": {},
     "source": [
      "Create a function"
     ]
    },
    {
     "cell_type": "markdown",
     "metadata": {},
     "source": [
      "Can we create a function that will make the conversion from English to metric units of force? Sure! First, decide what you will call it ... how about `PoundsForceToNewton`? That would work, but the lazy among us might prefer something shorter, like `lbf2N`. Hmmm... that name will look awfully confusing stuck in the middle of a piece of code that uses our newly created function. Let's go for the long name. \n",
      "\n",
      "Next, we decide what the input and output of our function will be, and we use the `def` command to create it. The input goes in parenthesis next to the function name, and the definition line has to end with a colon:"
     ]
    },
    {
     "cell_type": "code",
     "collapsed": false,
     "input": [
      "def PoundsForceToNewton(F_lbf):\n",
      "    return F_lbf*4.45"
     ],
     "language": "python",
     "metadata": {},
     "outputs": [],
     "prompt_number": 50
    },
    {
     "cell_type": "markdown",
     "metadata": {},
     "source": [
      "Our function takes a number, representing the force in pounds-force, multiplies it by the conversion factor to units of newton ($4.45$), and returns the result. Notice that the `return` command is indented inside the function definition. Let's use it now:"
     ]
    },
    {
     "cell_type": "code",
     "collapsed": false,
     "input": [
      "print PoundsForceToNewton(1)"
     ],
     "language": "python",
     "metadata": {},
     "outputs": [
      {
       "output_type": "stream",
       "stream": "stdout",
       "text": [
        "4.45\n"
       ]
      }
     ],
     "prompt_number": 4
    },
    {
     "cell_type": "markdown",
     "metadata": {},
     "source": [
      "It works: we give it the value $1$ and it returns $4.45$, like it should. What if we wanted to convert an array of values? We will need our favorite Python library, NumPy, for using arrays."
     ]
    },
    {
     "cell_type": "code",
     "collapsed": false,
     "input": [
      "import numpy"
     ],
     "language": "python",
     "metadata": {},
     "outputs": [],
     "prompt_number": 5
    },
    {
     "cell_type": "markdown",
     "metadata": {},
     "source": [
      "Let's create an array of numbers to test our function. Say, the numbers from 0 to 10. The built-in [`arange()`](http://docs.scipy.org/doc/numpy/reference/generated/numpy.arange.html) function is useful for this: it creates a sequence of values (equally spaced) and returns them in a NumPy array. You give it a start and end value, and an optional step. For example:"
     ]
    },
    {
     "cell_type": "code",
     "collapsed": false,
     "input": [
      "myForces = numpy.arange(0,10.0)\n",
      "print myForces"
     ],
     "language": "python",
     "metadata": {},
     "outputs": [
      {
       "output_type": "stream",
       "stream": "stdout",
       "text": [
        "[ 0.  1.  2.  3.  4.  5.  6.  7.  8.  9.]\n"
       ]
      }
     ],
     "prompt_number": 6
    },
    {
     "cell_type": "markdown",
     "metadata": {},
     "source": [
      "Notice that it does not include the end value: it stops right before it. Let's convert these values from pounds-force to newton?"
     ]
    },
    {
     "cell_type": "code",
     "collapsed": false,
     "input": [
      "myMetricForces = PoundsForceToNewton(myForces)\n",
      "print myMetricForces"
     ],
     "language": "python",
     "metadata": {},
     "outputs": [
      {
       "output_type": "stream",
       "stream": "stdout",
       "text": [
        "[  0.     4.45   8.9   13.35  17.8   22.25  26.7   31.15  35.6   40.05]\n"
       ]
      }
     ],
     "prompt_number": 7
    },
    {
     "cell_type": "markdown",
     "metadata": {},
     "source": [
      "It works like it should. Are you surprised? We didn't tell our function to expect a single float value as input, or an array as input. It just works with either. If you studied our \"lesson zero\" [Python Crash Course](http://nbviewer.ipython.org/github/barbagroup/JITcode-MechE/blob/master/lessons/00_Lesson00_QuickPythonIntro.ipynb), you'll remember the idea of \"duck typing\": \n",
      "\n",
      "_If it walks like a duck, and quacks like a duck, it must be a duck._ \n",
      "\n",
      "This means that in Python, you know the type of a variable by the way functions act on it. If you get the behavior of an array, it means that the variable is an array. Python knows what to do with it. In this case, we can use a float or an array \u2014for which the multiplication operator `*` works inside the function. (If you used a string variable, the function will throw an error, because the operator `*` is not defined for strings.)"
     ]
    },
    {
     "cell_type": "heading",
     "level": 2,
     "metadata": {},
     "source": [
      "Function composition"
     ]
    },
    {
     "cell_type": "markdown",
     "metadata": {},
     "source": [
      "Like in mathematics, we can compose functions. To demonstrate this, let's define a function that does the opposite unit conversion, from newtons to pounds-force, and then try it on our array of values, `myMetricForces`."
     ]
    },
    {
     "cell_type": "code",
     "collapsed": false,
     "input": [
      "def NewtonToPoundsForce(F_N):\n",
      "    return F_N/4.45"
     ],
     "language": "python",
     "metadata": {},
     "outputs": [],
     "prompt_number": 8
    },
    {
     "cell_type": "code",
     "collapsed": false,
     "input": [
      "myarray = NewtonToPoundsForce(myMetricForces)\n",
      "print myarray"
     ],
     "language": "python",
     "metadata": {},
     "outputs": [
      {
       "output_type": "stream",
       "stream": "stdout",
       "text": [
        "[ 0.  1.  2.  3.  4.  5.  6.  7.  8.  9.]\n"
       ]
      }
     ],
     "prompt_number": 9
    },
    {
     "cell_type": "markdown",
     "metadata": {},
     "source": [
      "And, we're back to the original values we started with, as expected. What happens if we compose these functions?"
     ]
    },
    {
     "cell_type": "code",
     "collapsed": false,
     "input": [
      "print NewtonToPoundsForce(PoundsForceToNewton(1.0))"
     ],
     "language": "python",
     "metadata": {},
     "outputs": [
      {
       "output_type": "stream",
       "stream": "stdout",
       "text": [
        "1.0\n"
       ]
      }
     ],
     "prompt_number": 10
    },
    {
     "cell_type": "markdown",
     "metadata": {},
     "source": [
      "You guessed it: nothing. The effects of the functions cancel each other out.\n",
      "\n",
      "But we could compose our conversion function with, say, the built-in `arange()` function of NumPy."
     ]
    },
    {
     "cell_type": "code",
     "collapsed": false,
     "input": [
      "print NewtonToPoundsForce(numpy.arange(0,5,0.5))"
     ],
     "language": "python",
     "metadata": {},
     "outputs": [
      {
       "output_type": "stream",
       "stream": "stdout",
       "text": [
        "[ 0.          0.11235955  0.2247191   0.33707865  0.4494382   0.56179775\n",
        "  0.6741573   0.78651685  0.8988764   1.01123596]\n"
       ]
      }
     ],
     "prompt_number": 11
    },
    {
     "cell_type": "markdown",
     "metadata": {},
     "source": [
      "We can pass other expressions to our functions. Suppose we have a set of values for acceleration in $\\rm{m/s^2}$ that we need to multiply by an object's mass, before converting the resulting force from metric to English units. Say, the object's mass is 75 kg, and the acceleration values go from $0$ to $5$ in steps of $0.5$:"
     ]
    },
    {
     "cell_type": "code",
     "collapsed": false,
     "input": [
      "print NewtonToPoundsForce(numpy.arange(0,5,0.5)*75)"
     ],
     "language": "python",
     "metadata": {},
     "outputs": [
      {
       "output_type": "stream",
       "stream": "stdout",
       "text": [
        "[  0.           8.42696629  16.85393258  25.28089888  33.70786517\n",
        "  42.13483146  50.56179775  58.98876404  67.41573034  75.84269663]\n"
       ]
      }
     ],
     "prompt_number": 12
    },
    {
     "cell_type": "markdown",
     "metadata": {},
     "source": [
      "You get the idea. Functions are flexible and very useful."
     ]
    },
    {
     "cell_type": "markdown",
     "metadata": {},
     "source": [
      "##\"Fixing\" large datasets"
     ]
    },
    {
     "cell_type": "markdown",
     "metadata": {},
     "source": [
      "In Lesson 1, we analyzed a large dataset of the global mean temperature difference to investigate trends in global warming.  These large datasets are gathered from a very large number of measuring stations all over the world (as you might expect) and since a few stubborn countries refuse to adopt the metric system (Liberia, Myanmar and the US), the data might be in mixed units.  \n",
      "\n",
      "Generally, the scientific community uses metric and that's true in the US, as well, but if the Mars Rover mixup has taught us anything, it's that it never hurts to check.  "
     ]
    },
    {
     "cell_type": "markdown",
     "metadata": {},
     "source": [
      "We can start by defining a few simple temperature conversion functions, just like we did for force conversion above.  We'll use a simple naming scheme, like `FtoC` for converting from Fahrenheit to Celsius."
     ]
    },
    {
     "cell_type": "code",
     "collapsed": false,
     "input": [
      "def FtoC(temp):\n",
      "    return (temp - 32) * 5./9"
     ],
     "language": "python",
     "metadata": {},
     "outputs": [],
     "prompt_number": 2
    },
    {
     "cell_type": "markdown",
     "metadata": {},
     "source": [
      "Let's try it out.  Water boils at 212 $^{\\circ}$F at sea level which should correspond to 100$^{\\circ}$ C"
     ]
    },
    {
     "cell_type": "code",
     "collapsed": false,
     "input": [
      "FtoC(212)"
     ],
     "language": "python",
     "metadata": {},
     "outputs": [
      {
       "metadata": {},
       "output_type": "pyout",
       "prompt_number": 3,
       "text": [
        "100.0"
       ]
      }
     ],
     "prompt_number": 3
    },
    {
     "cell_type": "markdown",
     "metadata": {},
     "source": [
      "It works!  And again, just as with our force conversion functions, we can pass an array of values to the function instead of a single value."
     ]
    },
    {
     "cell_type": "code",
     "collapsed": false,
     "input": [
      "FtoC(numpy.arange(32,212,20))"
     ],
     "language": "python",
     "metadata": {},
     "outputs": [
      {
       "metadata": {},
       "output_type": "pyout",
       "prompt_number": 14,
       "text": [
        "array([  0.        ,  11.11111111,  22.22222222,  33.33333333,\n",
        "        44.44444444,  55.55555556,  66.66666667,  77.77777778,  88.88888889])"
       ]
      }
     ],
     "prompt_number": 14
    },
    {
     "cell_type": "code",
     "collapsed": false,
     "input": [
      "x = {'f':1, 'c':2,'c':3}"
     ],
     "language": "python",
     "metadata": {},
     "outputs": [],
     "prompt_number": 37
    },
    {
     "cell_type": "code",
     "collapsed": false,
     "input": [
      "x"
     ],
     "language": "python",
     "metadata": {},
     "outputs": [
      {
       "metadata": {},
       "output_type": "pyout",
       "prompt_number": 38,
       "text": [
        "{'c': 3, 'f': 1}"
       ]
      }
     ],
     "prompt_number": 38
    },
    {
     "cell_type": "markdown",
     "metadata": {},
     "source": [
      "Given a large data-set of temperature values (or velocity values?) with both magnitude and units.  Before feeding this in to our data analysis routine, need to make sure that all the units are the same.  Further, do we want all of the units to be in F? or do we want them to be in C?  or in K?\n",
      "\n",
      "so we do a\n",
      "\n",
      "if want 'F':\n",
      "    return 'C' in vals\n",
      "    \n",
      "if want 'C':\n",
      "    return 'F' in vals\n",
      "    \n",
      "then, next step can be introducing loops as a method of going through all of these data points and only converting those that require it"
     ]
    },
    {
     "cell_type": "markdown",
     "metadata": {},
     "source": [
      "##Dictionaries for fixing data"
     ]
    },
    {
     "cell_type": "markdown",
     "metadata": {},
     "source": [
      "##Well, shit...\n",
      "\n",
      "Maybe instead of conditionals first, go to loops first --\n",
      "\n",
      "try importing data as in lesson 1 into numpy where it will throw an error because of the units column\n",
      "\n",
      "then introduce for loops and dictionaries as a way to deal with it."
     ]
    },
    {
     "cell_type": "code",
     "collapsed": false,
     "input": [
      "import csv\n",
      "reader = csv.reader(open(\"data.csv\",\"rb\"))"
     ],
     "language": "python",
     "metadata": {},
     "outputs": [],
     "prompt_number": 45
    },
    {
     "cell_type": "code",
     "collapsed": false,
     "input": [
      "data = dict(reader)\n",
      "data"
     ],
     "language": "python",
     "metadata": {},
     "outputs": [
      {
       "metadata": {},
       "output_type": "pyout",
       "prompt_number": 46,
       "text": [
        "{'0': 'C',\n",
        " '12': 'C',\n",
        " '13': 'F',\n",
        " '14': 'F',\n",
        " '15': 'F',\n",
        " '24': 'F',\n",
        " '3': 'C',\n",
        " 'temp': 'units'}"
       ]
      }
     ],
     "prompt_number": 46
    },
    {
     "cell_type": "code",
     "collapsed": false,
     "input": [
      "data.pop('0')"
     ],
     "language": "python",
     "metadata": {},
     "outputs": [
      {
       "metadata": {},
       "output_type": "pyout",
       "prompt_number": 38,
       "text": [
        "'C'"
       ]
      }
     ],
     "prompt_number": 38
    },
    {
     "cell_type": "code",
     "collapsed": false,
     "input": [
      "data = csv.DictReader(open('data.csv','rb'))"
     ],
     "language": "python",
     "metadata": {},
     "outputs": [],
     "prompt_number": 47
    },
    {
     "cell_type": "code",
     "collapsed": false,
     "input": [
      "for row in data:\n",
      "    print row"
     ],
     "language": "python",
     "metadata": {},
     "outputs": [
      {
       "output_type": "stream",
       "stream": "stdout",
       "text": [
        "{'units': 'F', 'temp': '13'}\n",
        "{'units': 'F', 'temp': '14'}\n",
        "{'units': 'F', 'temp': '15'}\n",
        "{'units': 'F', 'temp': '12'}\n",
        "{'units': 'C', 'temp': '12'}\n",
        "{'units': 'C', 'temp': '12'}\n",
        "{'units': 'C', 'temp': '0'}\n",
        "{'units': 'C', 'temp': '3'}\n",
        "{'units': 'F', 'temp': '24'}\n"
       ]
      }
     ],
     "prompt_number": 48
    },
    {
     "cell_type": "code",
     "collapsed": false,
     "input": [
      "print data.fieldnames.sort()"
     ],
     "language": "python",
     "metadata": {},
     "outputs": [
      {
       "output_type": "stream",
       "stream": "stdout",
       "text": [
        "None\n"
       ]
      }
     ],
     "prompt_number": 52
    },
    {
     "cell_type": "code",
     "collapsed": false,
     "input": [
      "for row in data:\n",
      "    print row"
     ],
     "language": "python",
     "metadata": {},
     "outputs": [],
     "prompt_number": 56
    },
    {
     "cell_type": "code",
     "collapsed": false,
     "input": [
      "ldata = list(reader)"
     ],
     "language": "python",
     "metadata": {},
     "outputs": [],
     "prompt_number": 40
    },
    {
     "cell_type": "code",
     "collapsed": false,
     "input": [
      "ldata"
     ],
     "language": "python",
     "metadata": {},
     "outputs": [
      {
       "metadata": {},
       "output_type": "pyout",
       "prompt_number": 41,
       "text": [
        "[['temp', 'units'],\n",
        " ['13', 'F'],\n",
        " ['14', 'F'],\n",
        " ['15', 'F'],\n",
        " ['12', 'C'],\n",
        " ['0', 'C'],\n",
        " ['3', 'C'],\n",
        " ['24', 'F']]"
       ]
      }
     ],
     "prompt_number": 41
    },
    {
     "cell_type": "code",
     "collapsed": false,
     "input": [
      "ldata[0][0]"
     ],
     "language": "python",
     "metadata": {},
     "outputs": [
      {
       "metadata": {},
       "output_type": "pyout",
       "prompt_number": 44,
       "text": [
        "'temp'"
       ]
      }
     ],
     "prompt_number": 44
    },
    {
     "cell_type": "code",
     "collapsed": false,
     "input": [],
     "language": "python",
     "metadata": {},
     "outputs": []
    },
    {
     "cell_type": "code",
     "collapsed": false,
     "input": [],
     "language": "python",
     "metadata": {},
     "outputs": []
    },
    {
     "cell_type": "code",
     "collapsed": false,
     "input": [],
     "language": "python",
     "metadata": {},
     "outputs": []
    },
    {
     "cell_type": "code",
     "collapsed": false,
     "input": [],
     "language": "python",
     "metadata": {},
     "outputs": []
    },
    {
     "cell_type": "markdown",
     "metadata": {},
     "source": [
      "---"
     ]
    },
    {
     "cell_type": "raw",
     "metadata": {},
     "source": [
      "Please ignore the code below. It just loads a style."
     ]
    },
    {
     "cell_type": "code",
     "collapsed": false,
     "input": [
      "from IPython.core.display import HTML\n",
      "def css_styling():\n",
      "    styles = open(\"../styles/custom.css\", \"r\").read()\n",
      "    return HTML(styles)\n",
      "css_styling()"
     ],
     "language": "python",
     "metadata": {},
     "outputs": [
      {
       "html": [
        "<link href='http://fonts.googleapis.com/css?family=Fenix' rel='stylesheet' type='text/css'>\n",
        "<link href='http://fonts.googleapis.com/css?family=Alegreya+Sans:100,300,400,500,700,800,900,100italic,300italic,400italic,500italic,700italic,800italic,900italic' rel='stylesheet' type='text/css'>\n",
        "<link href='http://fonts.googleapis.com/css?family=Source+Code+Pro:300,400' rel='stylesheet' type='text/css'>\n",
        "<style>\n",
        "    @font-face {\n",
        "        font-family: \"Computer Modern\";\n",
        "        src: url('http://mirrors.ctan.org/fonts/cm-unicode/fonts/otf/cmunss.otf');\n",
        "    }\n",
        "    div.cell{\n",
        "        width:800px;\n",
        "        margin-left:16% !important;\n",
        "        margin-right:auto;\n",
        "    }\n",
        "    h1 {\n",
        "        font-family: 'Alegreya Sans', sans-serif;\n",
        "    }\n",
        "    h2 {\n",
        "        font-family: 'Fenix', serif;\n",
        "    }\n",
        "    h3{\n",
        "\t\tfont-family: 'Fenix', serif;\n",
        "        margin-top:12px;\n",
        "        margin-bottom: 3px;\n",
        "       }\n",
        "\th4{\n",
        "\t\tfont-family: 'Fenix', serif;\n",
        "       }\n",
        "    h5 {\n",
        "        font-family: 'Alegreya Sans', sans-serif;\n",
        "    }\t   \n",
        "    div.text_cell_render{\n",
        "        font-family: 'Alegreya Sans',Computer Modern, \"Helvetica Neue\", Arial, Helvetica, Geneva, sans-serif;\n",
        "        line-height: 135%;\n",
        "        font-size: 120%;\n",
        "        width:600px;\n",
        "        margin-left:auto;\n",
        "        margin-right:auto;\n",
        "    }\n",
        "    .CodeMirror{\n",
        "            font-family: \"Source Code Pro\";\n",
        "\t\t\tfont-size: 90%;\n",
        "    }\n",
        "/*    .prompt{\n",
        "        display: None;\n",
        "    }*/\n",
        "    .text_cell_render h1 {\n",
        "        font-weight: 200;\n",
        "        font-size: 50pt;\n",
        "\t\tline-height: 100%;\n",
        "        color:#CD2305;\n",
        "        margin-bottom: 0.5em;\n",
        "        margin-top: 0.5em;\n",
        "        display: block;\n",
        "    }\t\n",
        "    .text_cell_render h5 {\n",
        "        font-weight: 300;\n",
        "        font-size: 16pt;\n",
        "        color: #CD2305;\n",
        "        font-style: italic;\n",
        "        margin-bottom: .5em;\n",
        "        margin-top: 0.5em;\n",
        "        display: block;\n",
        "    }\n",
        "    \n",
        "    .warning{\n",
        "        color: rgb( 240, 20, 20 )\n",
        "        }  \n",
        "</style>\n",
        "<script>\n",
        "    MathJax.Hub.Config({\n",
        "                        TeX: {\n",
        "                           extensions: [\"AMSmath.js\"]\n",
        "                           },\n",
        "                tex2jax: {\n",
        "                    inlineMath: [ ['$','$'], [\"\\\\(\",\"\\\\)\"] ],\n",
        "                    displayMath: [ ['$$','$$'], [\"\\\\[\",\"\\\\]\"] ]\n",
        "                },\n",
        "                displayAlign: 'center', // Change this to 'center' to center equations.\n",
        "                \"HTML-CSS\": {\n",
        "                    styles: {'.MathJax_Display': {\"margin\": 4}}\n",
        "                }\n",
        "        });\n",
        "</script>\n"
       ],
       "metadata": {},
       "output_type": "pyout",
       "prompt_number": 13,
       "text": [
        "<IPython.core.display.HTML at 0x1bfab50>"
       ]
      }
     ],
     "prompt_number": 13
    }
   ],
   "metadata": {}
  }
 ]
}