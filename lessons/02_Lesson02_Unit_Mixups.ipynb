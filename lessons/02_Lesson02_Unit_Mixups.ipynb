{
 "metadata": {
  "name": "",
  "signature": "sha256:dfbf780213814695bccf78428bbb97c50875b6d12bde5018af09eb8703f27191"
 },
 "nbformat": 3,
 "nbformat_minor": 0,
 "worksheets": [
  {
   "cells": [
    {
     "cell_type": "raw",
     "metadata": {},
     "source": [
      "Content provided under a Creative Commons Attribution license, CC-BY 4.0; code under MIT license.\n",
      "(c)2014 L.Barba, A.Wickenheiser (The George Washington University). Thanks: A. Ahmadia, G. Forsyth, A. Golding; NSF for support via CAREER award #1149784 to LAB; the GW Office and Teaching and Learning for seed grant to LAB and AMW."
     ]
    },
    {
     "cell_type": "heading",
     "level": 5,
     "metadata": {},
     "source": [
      "Version 0.1 -- March 2014"
     ]
    },
    {
     "cell_type": "heading",
     "level": 1,
     "metadata": {},
     "source": [
      "JITcode 1, lesson 2"
     ]
    },
    {
     "cell_type": "markdown",
     "metadata": {},
     "source": [
      "The first *Just-in-Time (JIT) module* for teaching computing to engineers, in context, lays the foundations for building computational skills. \n",
      "\n",
      "Did you complete [lesson 1](http://nbviewer.ipython.org/github/barbagroup/JITcode-MechE/blob/master/lessons/01_Lesson01_ReadAndPlot.ipynb)? If so, you now know how to read a data file, make some plots to study the data, and do some basic data analysis. These are all very useful skills! You will likely soon have a lab report to do where you can apply them.\n",
      "\n",
      "What next? There are so many choices! Let's do something creative. In this lesson, you will learn to *create your own functions*!\n",
      "\n",
      "What can you do with functions that you create? Anything, really. Watch this funky video for an introducton to creating functions."
     ]
    },
    {
     "cell_type": "code",
     "collapsed": false,
     "input": [
      "from IPython.display import YouTubeVideo\n",
      "YouTubeVideo('gTwU8JPgu5E')"
     ],
     "language": "python",
     "metadata": {},
     "outputs": [
      {
       "html": [
        "\n",
        "        <iframe\n",
        "            width=\"400\"\n",
        "            height=300\"\n",
        "            src=\"https://www.youtube.com/embed/gTwU8JPgu5E\"\n",
        "            frameborder=\"0\"\n",
        "            allowfullscreen\n",
        "        ></iframe>\n",
        "        "
       ],
       "metadata": {},
       "output_type": "pyout",
       "prompt_number": 1,
       "text": [
        "<IPython.lib.display.YouTubeVideo at 0x165a3d0>"
       ]
      }
     ],
     "prompt_number": 1
    },
    {
     "cell_type": "heading",
     "level": 2,
     "metadata": {},
     "source": [
      "Context \u2014 Unit Conversions"
     ]
    },
    {
     "cell_type": "markdown",
     "metadata": {},
     "source": [
      "Did you know that the [Mars Climate Orbiter](http://en.wikipedia.org/wiki/Mars_Climate_Orbiter) was lost due to a units mixup? In September 1999, the spacecraft de-orbited accidentally and disintegrated in the Mars atmosphere.\n",
      "\n",
      "The Orbiter was supposed to insert itself in orbit around Mars, but it ended up at a much lower altitude than intended. Why? The \"trajectory correction maneuver\" (TCM) that had been planned for the spacecraft went terribly wrong, because the spacecraft was hundreds of kilometers off-course. \n",
      "\n",
      "Here is a diagram showing the intended orbital trajectory, and the actual trajectory that led to disaster."
     ]
    },
    {
     "cell_type": "code",
     "collapsed": false,
     "input": [
      "from IPython.display import Image\n",
      "Image(url='http://upload.wikimedia.org/wikipedia/commons/8/83/Mars_Climate_Orbiter_-_mishap_diagram.png')"
     ],
     "language": "python",
     "metadata": {},
     "outputs": [
      {
       "html": [
        "<img src=\"http://upload.wikimedia.org/wikipedia/commons/8/83/Mars_Climate_Orbiter_-_mishap_diagram.png\"/>"
       ],
       "metadata": {},
       "output_type": "pyout",
       "prompt_number": 2,
       "text": [
        "<IPython.core.display.Image at 0x1658c10>"
       ]
      }
     ],
     "prompt_number": 2
    },
    {
     "cell_type": "markdown",
     "metadata": {},
     "source": [
      "What happened? The software that calculated the total impulse produced by the thrusters gave its result in pound-seconds, but the software that used this result to compute the trajectory expected the data in newton-seconds! So in each trajectory correction maneuver done since launch, the spacecraft accumulated more error in its position. Big oops.\n",
      "\n",
      "In fact, NASA had decided to use the metric system for all units of measurement years before. But at the time of the loss of the Mars Climate Orbiter, some argued, lack of funds had prevented NASA from fully making the switch. Even 10 years later in 2009, a New Scientist article reported that [\"NASA still can't make the jump to metric.\"](http://www.newscientist.com/article/dn17350-nasa-criticised-for-sticking-to-imperial-units.html) \n",
      "\n",
      "NASA also works with various contractors that still may use English units. In the case of the ill-fated orbiter, the contractor that built the spacecraft (Lockheed Martin) wrote the software that provided the navigation commands for the thrusters: it worked in pound-seconds.\n",
      "\n",
      "A newton (N) is the force that will accelerate $1 \\rm{kg}$ of mass at a rate of $1 \\rm{m/s^2}$.\n",
      "The traditional English unit is pounds of force (lbf), and the conversions are:\n",
      "\n",
      "$$1 \\rm{N} = 0.225 \\rm{lbf}$$  or \n",
      "\n",
      "$$1 \\rm{lbf} = 4.45 \\rm{N}$$"
     ]
    },
    {
     "cell_type": "heading",
     "level": 2,
     "metadata": {},
     "source": [
      "Create a function"
     ]
    },
    {
     "cell_type": "markdown",
     "metadata": {},
     "source": [
      "Can we create a function that will make the conversion from English to metric units of force? Sure! First, decide what you will call it ... how about `PoundsForceToNewton`? That would work, but the lazy among us might prefer something shorter, like `lbf2N`. Hmmm... that name will look awfully confusing stuck in the middle of a piece of code that uses our newly created function. Let's go for the long name. \n",
      "\n",
      "Next, we decide what the input and output of our function will be, and we use the `def` command to create it. The input goes in parenthesis next to the function name, and the definition line has to end with a colon:"
     ]
    },
    {
     "cell_type": "code",
     "collapsed": false,
     "input": [
      "def PoundsForceToNewton(F_lbf):\n",
      "    return F_lbf*4.45"
     ],
     "language": "python",
     "metadata": {},
     "outputs": [],
     "prompt_number": 50
    },
    {
     "cell_type": "markdown",
     "metadata": {},
     "source": [
      "Our function takes a number, representing the force in pounds-force, multiplies it by the conversion factor to units of newton ($4.45$), and returns the result. Notice that the `return` command is indented inside the function definition. Let's use it now:"
     ]
    },
    {
     "cell_type": "code",
     "collapsed": false,
     "input": [
      "print PoundsForceToNewton(1)"
     ],
     "language": "python",
     "metadata": {},
     "outputs": [
      {
       "output_type": "stream",
       "stream": "stdout",
       "text": [
        "4.45\n"
       ]
      }
     ],
     "prompt_number": 4
    },
    {
     "cell_type": "markdown",
     "metadata": {},
     "source": [
      "It works: we give it the value $1$ and it returns $4.45$, like it should. What if we wanted to convert an array of values? We will need our favorite Python library, NumPy, for using arrays."
     ]
    },
    {
     "cell_type": "code",
     "collapsed": false,
     "input": [
      "import numpy"
     ],
     "language": "python",
     "metadata": {},
     "outputs": [],
     "prompt_number": 5
    },
    {
     "cell_type": "markdown",
     "metadata": {},
     "source": [
      "Let's create an array of numbers to test our function. Say, the numbers from 0 to 10. The built-in [`arange()`](http://docs.scipy.org/doc/numpy/reference/generated/numpy.arange.html) function is useful for this: it creates a sequence of values (equally spaced) and returns them in a NumPy array. You give it a start and end value, and an optional step. For example:"
     ]
    },
    {
     "cell_type": "code",
     "collapsed": false,
     "input": [
      "myForces = numpy.arange(0,10.0)\n",
      "print myForces"
     ],
     "language": "python",
     "metadata": {},
     "outputs": [
      {
       "output_type": "stream",
       "stream": "stdout",
       "text": [
        "[ 0.  1.  2.  3.  4.  5.  6.  7.  8.  9.]\n"
       ]
      }
     ],
     "prompt_number": 6
    },
    {
     "cell_type": "markdown",
     "metadata": {},
     "source": [
      "Notice that it does not include the end value: it stops right before it. Let's convert these values from pounds-force to newton?"
     ]
    },
    {
     "cell_type": "code",
     "collapsed": false,
     "input": [
      "myMetricForces = PoundsForceToNewton(myForces)\n",
      "print myMetricForces"
     ],
     "language": "python",
     "metadata": {},
     "outputs": [
      {
       "output_type": "stream",
       "stream": "stdout",
       "text": [
        "[  0.     4.45   8.9   13.35  17.8   22.25  26.7   31.15  35.6   40.05]\n"
       ]
      }
     ],
     "prompt_number": 7
    },
    {
     "cell_type": "markdown",
     "metadata": {},
     "source": [
      "It works like it should. Are you surprised? We didn't tell our function to expect a single float value as input, or an array as input. It just works with either. If you studied our \"lesson zero\" [Python Crash Course](http://nbviewer.ipython.org/github/barbagroup/JITcode-MechE/blob/master/lessons/00_Lesson00_QuickPythonIntro.ipynb), you'll remember the idea of \"duck typing\": \n",
      "\n",
      "_If it walks like a duck, and quacks like a duck, it must be a duck._ \n",
      "\n",
      "This means that in Python, you know the type of a variable by the way functions act on it. If you get the behavior of an array, it means that the variable is an array. Python knows what to do with it. In this case, we can use a float or an array \u2014for which the multiplication operator `*` works inside the function. (If you used a string variable, the function will throw an error, because the operator `*` is not defined for strings.)"
     ]
    },
    {
     "cell_type": "heading",
     "level": 2,
     "metadata": {},
     "source": [
      "Function composition"
     ]
    },
    {
     "cell_type": "markdown",
     "metadata": {},
     "source": [
      "Like in mathematics, we can compose functions. To demonstrate this, let's define a function that does the opposite unit conversion, from newtons to pounds-force, and then try it on our array of values, `myMetricForces`."
     ]
    },
    {
     "cell_type": "code",
     "collapsed": false,
     "input": [
      "def NewtonToPoundsForce(F_N):\n",
      "    return F_N/4.45"
     ],
     "language": "python",
     "metadata": {},
     "outputs": [],
     "prompt_number": 8
    },
    {
     "cell_type": "code",
     "collapsed": false,
     "input": [
      "myarray = NewtonToPoundsForce(myMetricForces)\n",
      "print myarray"
     ],
     "language": "python",
     "metadata": {},
     "outputs": [
      {
       "output_type": "stream",
       "stream": "stdout",
       "text": [
        "[ 0.  1.  2.  3.  4.  5.  6.  7.  8.  9.]\n"
       ]
      }
     ],
     "prompt_number": 9
    },
    {
     "cell_type": "markdown",
     "metadata": {},
     "source": [
      "And, we're back to the original values we started with, as expected. What happens if we compose these functions?"
     ]
    },
    {
     "cell_type": "code",
     "collapsed": false,
     "input": [
      "print NewtonToPoundsForce(PoundsForceToNewton(1.0))"
     ],
     "language": "python",
     "metadata": {},
     "outputs": [
      {
       "output_type": "stream",
       "stream": "stdout",
       "text": [
        "1.0\n"
       ]
      }
     ],
     "prompt_number": 10
    },
    {
     "cell_type": "markdown",
     "metadata": {},
     "source": [
      "You guessed it: nothing. The effects of the functions cancel each other out.\n",
      "\n",
      "But we could compose our conversion function with, say, the built-in `arange()` function of NumPy."
     ]
    },
    {
     "cell_type": "code",
     "collapsed": false,
     "input": [
      "print NewtonToPoundsForce(numpy.arange(0,5,0.5))"
     ],
     "language": "python",
     "metadata": {},
     "outputs": [
      {
       "output_type": "stream",
       "stream": "stdout",
       "text": [
        "[ 0.          0.11235955  0.2247191   0.33707865  0.4494382   0.56179775\n",
        "  0.6741573   0.78651685  0.8988764   1.01123596]\n"
       ]
      }
     ],
     "prompt_number": 11
    },
    {
     "cell_type": "markdown",
     "metadata": {},
     "source": [
      "We can pass other expressions to our functions. Suppose we have a set of values for acceleration in $\\rm{m/s^2}$ that we need to multiply by an object's mass, before converting the resulting force from metric to English units. Say, the object's mass is 75 kg, and the acceleration values go from $0$ to $5$ in steps of $0.5$:"
     ]
    },
    {
     "cell_type": "code",
     "collapsed": false,
     "input": [
      "print NewtonToPoundsForce(numpy.arange(0,5,0.5)*75)"
     ],
     "language": "python",
     "metadata": {},
     "outputs": [
      {
       "output_type": "stream",
       "stream": "stdout",
       "text": [
        "[  0.           8.42696629  16.85393258  25.28089888  33.70786517\n",
        "  42.13483146  50.56179775  58.98876404  67.41573034  75.84269663]\n"
       ]
      }
     ],
     "prompt_number": 12
    },
    {
     "cell_type": "markdown",
     "metadata": {},
     "source": [
      "You get the idea. Functions are flexible and very useful."
     ]
    },
    {
     "cell_type": "markdown",
     "metadata": {},
     "source": [
      "##\"Fixing\" large datasets"
     ]
    },
    {
     "cell_type": "markdown",
     "metadata": {},
     "source": [
      "###New idea\n",
      "\n",
      "wind speed data\n",
      "\n",
      "several data sets\n",
      "\n",
      "maybe filename gives indication of units used? (m/s vs knots vs mph)\n",
      "\n",
      "goal is to find best site for turbine (overall good wind speed, windy the most without exceeding maximum allowable wind speed)\n",
      "\n",
      "first, create functions to convert from mph -> m/s and knots -> m/s\n",
      "\n",
      "then... what?  \n",
      "\n",
      "using glob to find files in winddata directory\n",
      "send filename to function that contains:\n",
      "*  if statement to check if filename ends in kt, mph or ms?\n",
      "*  loads data file, \n",
      "*  converts to ms, \n",
      "*  saves new data to new file with appropriate suffix\n",
      "\n",
      "\n",
      "suggest that students compare two datasets in particular, plot both of them along with lines for max wind power (determined by turbine data sheet) as well as plotting the average windspeed for both datasets, so plot will have\n",
      "*  max wind speed line\n",
      "*  data set 1\n",
      "*  data set 1 avg\n",
      "*  data set 2\n",
      "*  data set 2 avg\n"
     ]
    },
    {
     "cell_type": "code",
     "collapsed": false,
     "input": [
      "import numpy"
     ],
     "language": "python",
     "metadata": {},
     "outputs": [],
     "prompt_number": 1
    },
    {
     "cell_type": "code",
     "collapsed": false,
     "input": [
      "numpy.random.random?"
     ],
     "language": "python",
     "metadata": {},
     "outputs": [],
     "prompt_number": 9
    },
    {
     "cell_type": "code",
     "collapsed": false,
     "input": [
      "30*numpy.random.random(1000)"
     ],
     "language": "python",
     "metadata": {},
     "outputs": [
      {
       "metadata": {},
       "output_type": "pyout",
       "prompt_number": 11,
       "text": [
        "array([  7.35028464e-01,   1.18971356e+01,   3.03691483e+00,\n",
        "         1.29687295e+01,   9.70784265e+00,   6.11754617e+00,\n",
        "         1.32144451e+01,   1.60379810e+01,   1.10099986e+01,\n",
        "         1.45487037e+00,   2.00742117e+00,   1.50106331e+01,\n",
        "         2.30116532e+01,   2.36738280e+01,   1.18471819e+00,\n",
        "         5.20817660e+00,   6.26123395e+00,   4.12528983e+00,\n",
        "         2.46028732e+00,   2.18381827e+01,   2.53291095e+01,\n",
        "         1.63749907e+00,   1.51438724e+00,   4.91030799e+00,\n",
        "         9.70320974e+00,   1.78462712e+01,   2.32608569e+01,\n",
        "         2.00246330e+01,   1.24516001e+00,   2.23814375e+01,\n",
        "         7.69973996e+00,   1.19975380e+01,   1.41314151e+01,\n",
        "         1.84938218e+01,   4.12392940e+00,   4.48783203e+00,\n",
        "         2.29586714e+01,   2.72403837e+01,   2.66432453e+01,\n",
        "         2.22194278e+01,   2.61691457e+01,   2.90225547e+01,\n",
        "         2.02593883e+01,   2.52278055e+01,   8.92814871e-01,\n",
        "         1.58948299e+01,   2.51804443e+01,   1.03619468e+01,\n",
        "         2.45168777e+01,   2.32117453e+01,   2.48970812e+01,\n",
        "         3.35700921e+00,   1.50271705e+01,   8.54808987e+00,\n",
        "         2.20071224e+01,   1.72597135e+01,   1.61806100e+01,\n",
        "         1.83716241e+00,   2.41800681e+01,   1.73384309e+01,\n",
        "         1.08051090e+01,   1.36546963e+01,   2.81606771e+01,\n",
        "         1.70102863e+01,   2.30514472e+01,   2.39859902e+01,\n",
        "         6.83590132e+00,   2.83620064e+01,   2.19033410e+01,\n",
        "         2.15933442e+01,   1.87938144e+01,   2.70852707e+01,\n",
        "         2.29893674e+01,   2.93113429e+01,   1.44147837e+01,\n",
        "         6.04392797e+00,   1.94741759e+01,   2.31413195e+01,\n",
        "         1.33851942e+01,   1.60017507e+01,   5.47664706e+00,\n",
        "         6.24839945e+00,   2.69295275e+01,   2.76813815e+01,\n",
        "         1.36148947e+01,   3.83993301e-01,   1.27353296e+01,\n",
        "         1.16221983e+01,   1.09512000e+01,   2.26758943e+01,\n",
        "         8.73102175e+00,   2.42979813e+01,   2.65069391e+01,\n",
        "         8.61158496e+00,   3.85470658e-01,   1.30089986e+00,\n",
        "         1.83156618e+01,   1.25770283e+01,   1.55897685e+01,\n",
        "         1.17396486e+01,   6.49824297e+00,   2.29699126e+01,\n",
        "         8.07299481e+00,   1.04227037e+01,   2.39608285e+01,\n",
        "         2.87727976e+01,   8.00102079e-01,   8.35750496e+00,\n",
        "         1.12456017e+01,   2.67576207e+01,   1.67676010e+01,\n",
        "         2.48137471e+01,   8.89280941e+00,   1.89627473e+00,\n",
        "         7.14183300e-01,   4.64793118e+00,   1.01878203e+01,\n",
        "         6.48197880e+00,   2.28932925e+01,   1.73480562e+00,\n",
        "         2.85017447e+01,   1.29553929e+01,   2.42432094e+01,\n",
        "         1.32629476e+01,   9.05886568e+00,   2.54851810e+01,\n",
        "         1.37967198e+01,   1.39340805e+01,   3.45211780e+00,\n",
        "         1.96239988e+01,   2.16867883e+01,   8.21651084e+00,\n",
        "         1.07141965e+01,   1.87006579e+01,   2.60878884e+00,\n",
        "         5.09697432e-01,   9.71390989e+00,   7.38312278e+00,\n",
        "         1.70683826e+01,   1.27834504e+01,   2.41346152e+01,\n",
        "         1.52103930e+01,   1.67636849e+01,   5.40171028e+00,\n",
        "         1.48807069e+01,   1.70223513e+01,   2.62665114e+01,\n",
        "         1.01582922e+01,   4.33959272e+00,   3.42651006e+00,\n",
        "         1.32915644e+01,   2.14526922e+01,   1.45377994e+00,\n",
        "         6.02195109e+00,   1.25783890e+00,   4.33804633e+00,\n",
        "         2.58497838e+01,   1.80742219e+01,   2.93546478e+01,\n",
        "         5.21328067e+00,   1.18572264e+01,   2.89020916e+01,\n",
        "         1.40871831e+01,   3.23561763e+00,   9.04220089e-01,\n",
        "         3.01251976e+00,   2.81931989e+01,   2.73875982e+01,\n",
        "         1.22423275e+00,   1.34897877e+01,   2.59148871e+01,\n",
        "         2.08090095e+00,   1.27004209e+01,   1.16534872e+01,\n",
        "         2.96246756e+00,   1.79472969e+01,   5.41712152e+00,\n",
        "         2.36016871e+01,   4.22061798e+00,   3.23491463e+00,\n",
        "         2.30156161e+00,   2.41881276e+01,   8.18857251e+00,\n",
        "         4.19240248e-01,   2.95566437e+01,   7.32839992e+00,\n",
        "         1.12575280e+01,   2.87874411e+01,   2.28350421e+01,\n",
        "         2.70096230e+01,   2.89989683e+01,   1.00525568e-01,\n",
        "         1.79434846e+01,   9.43465683e+00,   5.93566234e+00,\n",
        "         2.43637594e+00,   2.64437020e+01,   4.90879042e-01,\n",
        "         1.04798094e+01,   4.74280948e+00,   1.01256252e+01,\n",
        "         1.94419062e+01,   2.76479503e+01,   1.16976318e+01,\n",
        "         6.59581305e+00,   1.47007216e+01,   8.78648064e+00,\n",
        "         1.31760199e+01,   6.33034187e-01,   3.84146355e+00,\n",
        "         2.33768443e+01,   1.82993361e+01,   1.52470971e+01,\n",
        "         9.63470956e+00,   9.50847295e+00,   2.98388718e+01,\n",
        "         3.49689187e+00,   1.45377528e+00,   2.70997393e+01,\n",
        "         5.22966640e+00,   2.27288328e+01,   1.63399038e+01,\n",
        "         9.79731295e+00,   2.11289617e+01,   1.92852827e+00,\n",
        "         1.78782795e+01,   2.35030867e+01,   2.67787755e+01,\n",
        "         8.79022701e+00,   7.00464686e+00,   1.10710595e+01,\n",
        "         3.85812590e+00,   1.89263875e+01,   1.73777128e+01,\n",
        "         4.41358009e+00,   2.77081191e+01,   2.33791301e+01,\n",
        "         2.37332738e+01,   9.27178908e+00,   1.13713410e+01,\n",
        "         7.04547203e+00,   4.35945726e+00,   2.30827915e+01,\n",
        "         1.47718888e+01,   1.20401109e+01,   1.59196037e+01,\n",
        "         2.85964265e+01,   2.41550562e+01,   1.73613752e+01,\n",
        "         2.24577860e+01,   1.66199666e+01,   1.36421887e+00,\n",
        "         4.30390397e-01,   1.81212538e+01,   2.95050851e+01,\n",
        "         2.94214115e+01,   1.06562768e+01,   2.19331314e+01,\n",
        "         2.08756626e-01,   2.94241671e+01,   2.83267608e+01,\n",
        "         2.66108180e+01,   1.43083970e+00,   1.80598988e+01,\n",
        "         1.74973925e+01,   2.91459034e+01,   8.04727212e+00,\n",
        "         2.00366642e+01,   1.96696857e-02,   1.07694624e+01,\n",
        "         1.29059195e+01,   2.96325321e+01,   2.13034183e+01,\n",
        "         5.74346857e+00,   5.30730546e-01,   6.41648117e+00,\n",
        "         2.05931671e+01,   1.26772082e+01,   8.86067533e+00,\n",
        "         2.77563621e+01,   1.05048064e+01,   1.94465775e+01,\n",
        "         2.48185666e+01,   1.81982054e+01,   1.53180589e+01,\n",
        "         7.66284311e+00,   1.62704188e+01,   8.60098480e+00,\n",
        "         2.58252953e+01,   6.96722753e+00,   2.18996552e+00,\n",
        "         2.46471960e+00,   1.40112371e+01,   1.97134014e+00,\n",
        "         1.28023493e+01,   1.33768647e+01,   1.15428410e+01,\n",
        "         1.90025128e+00,   2.09638482e+01,   7.31277692e+00,\n",
        "         7.05079579e+00,   1.02942604e+01,   2.44802475e+01,\n",
        "         9.07750364e+00,   1.32161056e+01,   1.12693123e+00,\n",
        "         2.58275398e+01,   2.32278247e+01,   1.10052844e+01,\n",
        "         1.83374161e+01,   1.59461265e+01,   2.11039251e+01,\n",
        "         9.24018557e+00,   1.34710129e+01,   2.29389136e+00,\n",
        "         5.48586814e+00,   5.14579671e-01,   2.11628707e+01,\n",
        "         5.39812423e+00,   1.25523690e+01,   6.35220107e+00,\n",
        "         3.32288688e+00,   1.31399770e+01,   2.77671190e+01,\n",
        "         2.44558879e+01,   2.54231014e+01,   2.88609380e+01,\n",
        "         8.82066784e+00,   2.77496341e+01,   2.97168510e-01,\n",
        "         2.89950511e+01,   1.65275886e+01,   6.09578314e+00,\n",
        "         2.21650763e+01,   5.93964762e+00,   2.32803072e+00,\n",
        "         2.69261565e+01,   2.51465272e+01,   5.60999418e+00,\n",
        "         8.91820933e+00,   2.14603786e+01,   1.10255578e+01,\n",
        "         2.93854177e+01,   4.75309272e+00,   2.70348599e+00,\n",
        "         2.52976203e+01,   2.36619030e+01,   1.83837391e+01,\n",
        "         1.95586685e+00,   2.11440948e+01,   2.74736488e+01,\n",
        "         2.25715534e+01,   1.71850226e+00,   2.84862079e+01,\n",
        "         8.61556707e+00,   2.01183615e+01,   1.07939895e+01,\n",
        "         6.01754772e+00,   3.82472792e+00,   2.75329305e+01,\n",
        "         1.42476983e+01,   1.42714813e+01,   2.98195340e+01,\n",
        "         1.02067952e+01,   2.37046070e+01,   7.70189975e+00,\n",
        "         2.83356443e+01,   2.72245735e+00,   9.48591328e+00,\n",
        "         2.00654307e+01,   6.19110011e+00,   6.57269022e-01,\n",
        "         1.38529502e+01,   2.29303035e+01,   4.27754154e+00,\n",
        "         5.56699103e+00,   4.81418942e+00,   3.73289790e+00,\n",
        "         1.95395054e+01,   1.00585985e+01,   5.19252959e+00,\n",
        "         1.20912215e+01,   2.90359089e+00,   2.14972344e+01,\n",
        "         4.44165548e+00,   1.89010547e+01,   2.42706665e+01,\n",
        "         7.63526680e+00,   2.62508373e+01,   1.88484034e+01,\n",
        "         2.52950706e+01,   1.97769610e+01,   2.68328226e+01,\n",
        "         4.76384560e+00,   2.74110263e+01,   1.26016918e+01,\n",
        "         2.76311203e+01,   9.73414026e+00,   2.68162479e+01,\n",
        "         6.26426911e+00,   3.01509356e+00,   1.49923398e+01,\n",
        "         1.28705354e+01,   7.28222898e+00,   1.62419745e+01,\n",
        "         2.94193247e+01,   2.80559549e+01,   1.90225179e+01,\n",
        "         1.03553032e+01,   1.92323581e+00,   1.59166071e+01,\n",
        "         2.86085459e+01,   2.77087587e+00,   9.38220266e+00,\n",
        "         2.08056585e+01,   8.12477791e+00,   1.85102394e+01,\n",
        "         1.69096075e+01,   2.81485921e+01,   4.43707007e+00,\n",
        "         8.15300688e+00,   2.98088666e+01,   5.65828798e+00,\n",
        "         1.31962051e+01,   1.70034153e+01,   2.81015178e+01,\n",
        "         7.53651706e+00,   2.25263788e+01,   2.04109508e+01,\n",
        "         2.54760074e+01,   1.86187462e+01,   1.71475288e+01,\n",
        "         5.26575316e+00,   7.17797341e+00,   8.14816424e+00,\n",
        "         2.07859053e+01,   2.92684447e+01,   5.19135129e+00,\n",
        "         2.23874747e+01,   2.22561013e+01,   1.88823349e+01,\n",
        "         8.77499567e+00,   2.02590901e+01,   1.55281044e+01,\n",
        "         1.02517753e+01,   1.50148023e+01,   2.95743902e+01,\n",
        "         1.68047624e+01,   6.74717295e+00,   3.76499671e+00,\n",
        "         1.42243995e+01,   2.67780996e+01,   1.32301554e+01,\n",
        "         2.96023202e+01,   1.11235057e+01,   1.26969102e+01,\n",
        "         5.24917101e+00,   2.23278541e+00,   1.15451112e+01,\n",
        "         2.32947694e+00,   1.38339140e+01,   7.18684776e+00,\n",
        "         1.57791039e+01,   2.56540302e+01,   1.98771725e+01,\n",
        "         5.33013912e+00,   6.46828029e+00,   6.46713397e+00,\n",
        "         2.31029515e+01,   2.82159341e+01,   2.95320593e+00,\n",
        "         2.50086010e+01,   7.35520364e+00,   7.45835023e+00,\n",
        "         8.66716151e+00,   2.84077035e+01,   5.62433879e+00,\n",
        "         2.41126715e+01,   2.73371076e+01,   1.08745044e+01,\n",
        "         4.57181762e+00,   5.21234922e+00,   9.14831404e+00,\n",
        "         1.82753375e+01,   2.47023809e+01,   2.58256075e+01,\n",
        "         1.60322118e+01,   2.83889913e+01,   1.46298382e+00,\n",
        "         2.81506306e+01,   1.90803677e+01,   2.96424835e+01,\n",
        "         1.31483702e-01,   8.85938791e+00,   9.27955246e+00,\n",
        "         2.64064258e+01,   2.89739698e+01,   6.77555076e+00,\n",
        "         1.55690814e+01,   3.79372517e+00,   3.94503935e+00,\n",
        "         2.25641669e+01,   2.58591242e+01,   1.84061839e+01,\n",
        "         2.00651582e+01,   1.34205480e+01,   5.16463688e+00,\n",
        "         1.73108760e+01,   9.19375739e+00,   2.05269375e+01,\n",
        "         1.61752157e+01,   1.00427594e+00,   1.55448052e+01,\n",
        "         2.85311987e+00,   7.58550016e-01,   6.49800624e+00,\n",
        "         2.45200518e+01,   2.53387702e+01,   2.46271602e+01,\n",
        "         8.66281344e+00,   1.66302174e+01,   1.83463112e+01,\n",
        "         1.88750860e+01,   2.56418757e+01,   2.13376874e+01,\n",
        "         5.47764344e+00,   3.20407715e+00,   2.64149758e+01,\n",
        "         1.98281888e+01,   6.06325525e+00,   2.54791497e+01,\n",
        "         2.90545035e+01,   2.61595654e+01,   2.67275286e+01,\n",
        "         1.73663186e+01,   4.20033511e+00,   2.05502803e+01,\n",
        "         1.55309870e+01,   1.80415116e+01,   1.19620212e+01,\n",
        "         3.27727285e+00,   3.33527115e+00,   2.86370976e+01,\n",
        "         1.73919437e+01,   6.85132982e+00,   1.35538814e+01,\n",
        "         1.00562870e+01,   1.23410391e+01,   7.62570006e+00,\n",
        "         9.97240843e+00,   5.00207949e+00,   1.45088110e+01,\n",
        "         9.13927467e+00,   1.89297057e+01,   2.39855291e+01,\n",
        "         1.14455873e+01,   1.88995690e+01,   2.77026377e+00,\n",
        "         2.90527044e+01,   2.15671892e+01,   2.70735212e+01,\n",
        "         2.97368965e+00,   1.12803439e+01,   2.26783602e+01,\n",
        "         2.25336582e+01,   6.13764634e+00,   2.27826116e+01,\n",
        "         4.94572628e+00,   1.06708841e+01,   2.27686140e+01,\n",
        "         1.25734845e+01,   8.33313990e+00,   1.62506931e+00,\n",
        "         2.44000035e+01,   1.48019349e+01,   2.02836663e+01,\n",
        "         1.12689913e+01,   8.69345294e+00,   9.54607985e+00,\n",
        "         2.80464333e+01,   2.81008237e+01,   1.23181405e+01,\n",
        "         7.35328133e+00,   2.07439730e+01,   2.90225693e+01,\n",
        "         4.03398234e+00,   1.11826213e+01,   8.65612887e-01,\n",
        "         1.07771503e+01,   2.87281849e+01,   2.17533780e+01,\n",
        "         2.78194873e+01,   1.08738620e+01,   2.44371928e+01,\n",
        "         1.29922775e+01,   3.30591317e+00,   2.59008584e+00,\n",
        "         6.73960856e+00,   2.64650769e+01,   1.62425374e+01,\n",
        "         1.33751433e+01,   1.04137098e+01,   2.90391669e+01,\n",
        "         2.14661109e+01,   2.85078134e+01,   2.50793528e+01,\n",
        "         4.40974151e+00,   1.69458565e+00,   6.14855314e+00,\n",
        "         7.03168818e+00,   8.18363700e+00,   2.91447142e+01,\n",
        "         1.16855368e+01,   6.47628121e+00,   1.45880478e+01,\n",
        "         2.39231252e+01,   2.72795372e+01,   1.46277740e+01,\n",
        "         6.12111930e+00,   2.19741688e+01,   2.29615796e+01,\n",
        "         1.65511027e+01,   2.35108086e+01,   1.23674446e+01,\n",
        "         1.52201921e+01,   4.18468974e+00,   1.90005634e+01,\n",
        "         2.05927922e+01,   1.34194254e+01,   2.66245466e+01,\n",
        "         2.32750266e+01,   2.32965470e+00,   2.68612115e+01,\n",
        "         2.62783500e+01,   2.69349836e+01,   1.38460544e+01,\n",
        "         1.74346988e+01,   5.76609288e+00,   1.36916694e+01,\n",
        "         6.29717183e+00,   2.78341811e+01,   2.76094857e+01,\n",
        "         1.12801407e+01,   2.15906484e+01,   1.55427005e+01,\n",
        "         2.08693540e+01,   2.51420971e+01,   2.44919008e+01,\n",
        "         7.33220626e+00,   2.11290169e+01,   2.04188620e+01,\n",
        "         2.79528366e+00,   2.71326241e+01,   1.36969975e+01,\n",
        "         2.12908811e+01,   1.78009830e+01,   6.72674358e+00,\n",
        "         2.40818711e+01,   1.78563939e+01,   1.55942563e+01,\n",
        "         1.62671074e+01,   2.68017071e+00,   2.37843803e+01,\n",
        "         1.00010383e+01,   3.81068119e+00,   1.98294785e+01,\n",
        "         1.16533533e+01,   1.63598418e+01,   8.03803474e-01,\n",
        "         1.87365133e+01,   2.74169645e+00,   2.72470585e+01,\n",
        "         2.39470680e+01,   1.63453908e+01,   1.32218909e+01,\n",
        "         2.34667272e+01,   2.28985074e+01,   2.81305385e+01,\n",
        "         1.24768112e+01,   2.83201221e+01,   1.28606392e+00,\n",
        "         2.26871680e+01,   1.62113486e+01,   1.93039500e+01,\n",
        "         2.31115811e+00,   1.78295353e+01,   1.07050045e+01,\n",
        "         1.65616177e+01,   1.22879539e+01,   2.26148655e+01,\n",
        "         6.73638578e+00,   2.33919334e+01,   1.52295406e+01,\n",
        "         1.15517688e+00,   8.98476511e+00,   2.99237342e+01,\n",
        "         2.98853783e+01,   1.33376682e+01,   2.29796310e+01,\n",
        "         2.46981764e+01,   4.17216149e+00,   2.87967851e+01,\n",
        "         1.15488724e+01,   5.72627563e+00,   1.62112595e+01,\n",
        "         2.35787382e+01,   2.48034514e+01,   1.21279064e+01,\n",
        "         2.07875610e+01,   2.46526545e+01,   2.80838363e+01,\n",
        "         2.73432013e+01,   2.36038449e+01,   8.92400641e+00,\n",
        "         1.20289719e+01,   2.51796446e+01,   6.58412958e+00,\n",
        "         2.87189271e+01,   1.57959833e+01,   3.96945249e+00,\n",
        "         1.16253836e+01,   1.18617569e+01,   2.52269448e+01,\n",
        "         2.87424862e+01,   2.22885191e+00,   2.87691947e+01,\n",
        "         3.92835854e-01,   2.23192424e+01,   6.18007469e+00,\n",
        "         2.51497368e+01,   2.17201424e+01,   2.31740738e+01,\n",
        "         1.82707080e+01,   2.38406597e+01,   4.87005038e+00,\n",
        "         1.66041458e+01,   2.13527395e+01,   1.99691839e+01,\n",
        "         1.85346587e+01,   1.50890544e+01,   1.48050045e+00,\n",
        "         2.25224969e+01,   2.84380117e+00,   1.66991552e+01,\n",
        "         2.92887486e+01,   2.12031892e+01,   1.60103106e+01,\n",
        "         8.76661476e+00,   1.10616413e+01,   1.64790786e+01,\n",
        "         1.24619962e+01,   2.43488720e+01,   1.60406988e+01,\n",
        "         9.97435782e+00,   2.36243577e+01,   1.09236216e+01,\n",
        "         1.04630657e+01,   2.96515149e+01,   1.41035670e+01,\n",
        "         7.02702238e+00,   2.19554098e+01,   1.62179005e+01,\n",
        "         1.42354012e+01,   2.16924371e+00,   1.64324580e+01,\n",
        "         2.14486258e+01,   8.25345536e+00,   2.71089590e+01,\n",
        "         2.74211838e+00,   9.28093545e+00,   1.49525715e+01,\n",
        "         2.60090071e+00,   2.02846853e+01,   1.09665337e+00,\n",
        "         1.70215068e+01,   2.22282544e+01,   1.28133968e+01,\n",
        "         2.57972402e+01,   2.69280916e-01,   8.14758644e+00,\n",
        "         2.24118776e+01,   2.17189195e+01,   2.65122243e+01,\n",
        "         7.67508206e+00,   2.65658241e+01,   4.46149718e+00,\n",
        "         9.66545824e+00,   1.45006378e+01,   1.61198587e+01,\n",
        "         2.95987177e+00,   1.95368474e+01,   2.03408553e+01,\n",
        "         9.74331674e+00,   2.64013502e+01,   6.70233611e+00,\n",
        "         8.22426180e+00,   1.07977026e+01,   1.59528179e+01,\n",
        "         2.54613583e+01,   2.45002323e+01,   2.25523732e+01,\n",
        "         2.75027574e+01,   1.67831828e+01,   2.99400199e+01,\n",
        "         2.76569161e+01,   2.48572875e+01,   6.46905086e-02,\n",
        "         4.77280772e+00,   5.07551617e+00,   7.06130357e+00,\n",
        "         9.44794068e+00,   2.42093652e+01,   2.05249304e+01,\n",
        "         3.04052072e+00,   4.93277292e+00,   1.42187547e+01,\n",
        "         2.17923959e+01,   9.15354903e+00,   1.47821029e+01,\n",
        "         9.97618543e+00,   2.51239342e+01,   1.68742636e+01,\n",
        "         2.97432760e+01,   1.78774478e+01,   4.63439177e+00,\n",
        "         8.03069219e+00,   6.01343728e+00,   1.55080676e+01,\n",
        "         2.40728457e+01,   2.20434512e+00,   2.70643542e+01,\n",
        "         1.87466312e+01,   4.82090836e+00,   2.07476865e+01,\n",
        "         1.55787068e-02,   4.09543798e+00,   1.95484995e+01,\n",
        "         1.31526301e+01,   1.20064325e+01,   2.89381343e+01,\n",
        "         2.96623458e+01,   2.17735265e+01,   4.72671154e+00,\n",
        "         1.56527545e+01,   2.83648302e+01,   2.16513559e+01,\n",
        "         1.04959820e+01,   2.02589836e+01,   1.20136261e+01,\n",
        "         3.43243318e+00,   7.91318024e+00,   7.60854173e+00,\n",
        "         5.96749326e+00,   1.22583287e+01,   3.73952645e+00,\n",
        "         7.68605775e+00,   2.37198165e+01,   1.59890913e+01,\n",
        "         2.32318600e+01,   2.78198966e+01,   1.54505254e+01,\n",
        "         1.78126124e+01,   1.58307664e+01,   1.33900750e+00,\n",
        "         1.05868008e+01,   6.67026278e+00,   8.73884251e+00,\n",
        "         2.98368938e+01,   8.02829830e+00,   1.28909599e+01,\n",
        "         1.98003796e+01,   9.13801942e+00,   1.89023950e+01,\n",
        "         1.07949640e+01,   1.99997284e+01,   1.88405459e+01,\n",
        "         1.75834256e+01,   6.37946298e+00,   1.12324439e+01,\n",
        "         1.27226332e+01,   3.34551391e+00,   4.04745282e+00,\n",
        "         1.31914533e+01,   1.68773041e+01,   2.24190369e+01,\n",
        "         7.66695569e+00,   7.56252329e-01,   2.89196432e+01,\n",
        "         2.83746368e+01,   1.53133001e+01,   9.21142357e+00,\n",
        "         2.11141432e+01,   5.96570236e+00,   2.43762925e+01,\n",
        "         1.84679426e+00,   2.43791329e+01,   4.04413681e+00,\n",
        "         2.02983481e+01,   2.97792792e+01,   2.44317496e+01,\n",
        "         2.91218910e+01,   5.09921838e+00,   2.56798192e+01,\n",
        "         2.27693962e+01,   1.19823505e+01,   3.88672254e+00,\n",
        "         7.14650642e+00,   1.32331886e+01,   1.76051157e+01,\n",
        "         2.99882722e+00,   5.06935013e+00,   2.19616414e+01,\n",
        "         2.49912462e+01,   2.81450309e+01,   1.28439570e+01,\n",
        "         7.90511493e+00,   2.00017183e+01,   2.27574880e+01,\n",
        "         1.80727170e+01,   2.53686935e+01,   2.14075189e+00,\n",
        "         1.27113132e+01,   8.83706469e+00,   1.95593094e+01,\n",
        "         1.06209536e+01,   1.32113018e+01,   4.63234309e+00,\n",
        "         1.87853944e+01,   5.91660051e+00,   1.03225635e+01,\n",
        "         1.82525226e+01,   2.27264157e+01,   2.60830305e+01,\n",
        "         2.89497841e+00,   2.92204009e+01,   1.87570965e+01,\n",
        "         2.09823913e+01,   2.98846573e+01,   2.96113125e+01,\n",
        "         8.48202741e+00,   7.86970958e+00,   1.24221949e+01,\n",
        "         1.80723057e+01,   2.56193731e+01,   8.60411961e+00,\n",
        "         2.03812056e+01,   9.88001455e+00,   2.13656950e+01,\n",
        "         2.05560698e+01,   2.87934384e+01,   2.87178644e+01,\n",
        "         1.82540059e+01,   2.29795618e+01,   1.21750506e+01,\n",
        "         4.54381401e+00,   1.21004444e+01,   1.83035192e+01,\n",
        "         1.61866062e+01,   2.46443869e+01,   2.81882819e+01,\n",
        "         5.02730041e-02,   6.81051511e+00,   1.56446583e+00,\n",
        "         2.43752923e+01,   1.52163920e+01,   2.32233875e+01,\n",
        "         1.82083635e+01,   5.02444044e+00,   2.18318554e+01,\n",
        "         4.62282230e+00,   2.35641452e+01,   6.84812846e-01,\n",
        "         2.16506194e+01,   2.45036517e+01,   2.45174031e+01,\n",
        "         9.27778243e+00,   3.68280517e+00,   2.28399488e+01,\n",
        "         4.82829407e+00,   2.95472111e+01,   2.82276719e+00,\n",
        "         3.16205019e-01,   1.27596982e+01,   3.23516873e+00,\n",
        "         2.55295276e+01,   6.27405942e-01,   1.01122510e+01,\n",
        "         4.82872665e+00,   2.23593760e+01,   2.44853225e+01,\n",
        "         3.86768732e+00,   5.20954205e+00,   1.21660942e+01,\n",
        "         1.31480396e+01,   2.69179958e+01,   7.59680648e+00,\n",
        "         2.52718335e+01,   1.13163441e+01,   2.60429611e+01,\n",
        "         1.45696628e+00])"
       ]
      }
     ],
     "prompt_number": 11
    },
    {
     "cell_type": "code",
     "collapsed": false,
     "input": [],
     "language": "python",
     "metadata": {},
     "outputs": []
    },
    {
     "cell_type": "markdown",
     "metadata": {},
     "source": [
      "---"
     ]
    },
    {
     "cell_type": "raw",
     "metadata": {},
     "source": [
      "Please ignore the code below. It just loads a style."
     ]
    },
    {
     "cell_type": "code",
     "collapsed": false,
     "input": [
      "from IPython.core.display import HTML\n",
      "def css_styling():\n",
      "    styles = open(\"../styles/custom.css\", \"r\").read()\n",
      "    return HTML(styles)\n",
      "css_styling()"
     ],
     "language": "python",
     "metadata": {},
     "outputs": [
      {
       "html": [
        "<link href='http://fonts.googleapis.com/css?family=Fenix' rel='stylesheet' type='text/css'>\n",
        "<link href='http://fonts.googleapis.com/css?family=Alegreya+Sans:100,300,400,500,700,800,900,100italic,300italic,400italic,500italic,700italic,800italic,900italic' rel='stylesheet' type='text/css'>\n",
        "<link href='http://fonts.googleapis.com/css?family=Source+Code+Pro:300,400' rel='stylesheet' type='text/css'>\n",
        "<style>\n",
        "    @font-face {\n",
        "        font-family: \"Computer Modern\";\n",
        "        src: url('http://mirrors.ctan.org/fonts/cm-unicode/fonts/otf/cmunss.otf');\n",
        "    }\n",
        "    div.cell{\n",
        "        width:800px;\n",
        "        margin-left:16% !important;\n",
        "        margin-right:auto;\n",
        "    }\n",
        "    h1 {\n",
        "        font-family: 'Alegreya Sans', sans-serif;\n",
        "    }\n",
        "    h2 {\n",
        "        font-family: 'Fenix', serif;\n",
        "    }\n",
        "    h3{\n",
        "\t\tfont-family: 'Fenix', serif;\n",
        "        margin-top:12px;\n",
        "        margin-bottom: 3px;\n",
        "       }\n",
        "\th4{\n",
        "\t\tfont-family: 'Fenix', serif;\n",
        "       }\n",
        "    h5 {\n",
        "        font-family: 'Alegreya Sans', sans-serif;\n",
        "    }\t   \n",
        "    div.text_cell_render{\n",
        "        font-family: 'Alegreya Sans',Computer Modern, \"Helvetica Neue\", Arial, Helvetica, Geneva, sans-serif;\n",
        "        line-height: 135%;\n",
        "        font-size: 120%;\n",
        "        width:600px;\n",
        "        margin-left:auto;\n",
        "        margin-right:auto;\n",
        "    }\n",
        "    .CodeMirror{\n",
        "            font-family: \"Source Code Pro\";\n",
        "\t\t\tfont-size: 90%;\n",
        "    }\n",
        "/*    .prompt{\n",
        "        display: None;\n",
        "    }*/\n",
        "    .text_cell_render h1 {\n",
        "        font-weight: 200;\n",
        "        font-size: 50pt;\n",
        "\t\tline-height: 100%;\n",
        "        color:#CD2305;\n",
        "        margin-bottom: 0.5em;\n",
        "        margin-top: 0.5em;\n",
        "        display: block;\n",
        "    }\t\n",
        "    .text_cell_render h5 {\n",
        "        font-weight: 300;\n",
        "        font-size: 16pt;\n",
        "        color: #CD2305;\n",
        "        font-style: italic;\n",
        "        margin-bottom: .5em;\n",
        "        margin-top: 0.5em;\n",
        "        display: block;\n",
        "    }\n",
        "    \n",
        "    .warning{\n",
        "        color: rgb( 240, 20, 20 )\n",
        "        }  \n",
        "</style>\n",
        "<script>\n",
        "    MathJax.Hub.Config({\n",
        "                        TeX: {\n",
        "                           extensions: [\"AMSmath.js\"]\n",
        "                           },\n",
        "                tex2jax: {\n",
        "                    inlineMath: [ ['$','$'], [\"\\\\(\",\"\\\\)\"] ],\n",
        "                    displayMath: [ ['$$','$$'], [\"\\\\[\",\"\\\\]\"] ]\n",
        "                },\n",
        "                displayAlign: 'center', // Change this to 'center' to center equations.\n",
        "                \"HTML-CSS\": {\n",
        "                    styles: {'.MathJax_Display': {\"margin\": 4}}\n",
        "                }\n",
        "        });\n",
        "</script>\n"
       ],
       "metadata": {},
       "output_type": "pyout",
       "prompt_number": 13,
       "text": [
        "<IPython.core.display.HTML at 0x1bfab50>"
       ]
      }
     ],
     "prompt_number": 13
    }
   ],
   "metadata": {}
  }
 ]
}